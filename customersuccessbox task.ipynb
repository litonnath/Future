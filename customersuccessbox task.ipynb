{
 "cells": [
  {
   "cell_type": "markdown",
   "metadata": {},
   "source": [
    "<center><h2>classification problem</h2></center>"
   ]
  },
  {
   "cell_type": "code",
   "execution_count": 1,
   "metadata": {},
   "outputs": [],
   "source": [
    "import pandas  as pd\n",
    "import matplotlib.pyplot as plt\n",
    "dateparse = lambda dates: pd.datetime.strptime(dates, '%Y-%m-%d')"
   ]
  },
  {
   "cell_type": "markdown",
   "metadata": {},
   "source": [
    "<h3>convert my week start date to date format</h3>"
   ]
  },
  {
   "cell_type": "code",
   "execution_count": 2,
   "metadata": {},
   "outputs": [
    {
     "name": "stderr",
     "output_type": "stream",
     "text": [
      "C:\\Users\\welcome\\anaconda3\\lib\\site-packages\\ipykernel_launcher.py:3: FutureWarning: The pandas.datetime class is deprecated and will be removed from pandas in a future version. Import from datetime module instead.\n",
      "  This is separate from the ipykernel package so we can avoid doing imports until\n"
     ]
    }
   ],
   "source": [
    "train=pd.read_csv(\"C:\\\\Users\\\\welcome\\\\Desktop\\\\Train_Set.csv\",parse_dates=[\"week_start_date\"],date_parser=dateparse)\n",
    "test=pd.read_csv(\"C:\\\\Users\\\\welcome\\\\Desktop\\\\Test_Set.csv\",parse_dates=[\"week_start_date\"],date_parser=dateparse)"
   ]
  },
  {
   "cell_type": "code",
   "execution_count": 3,
   "metadata": {},
   "outputs": [],
   "source": [
    "#sort date  for both train,test\n",
    "train=train.sort_values(by=[\"week_start_date\"])\n",
    "test=test.sort_values(by=[\"week_start_date\"])"
   ]
  },
  {
   "cell_type": "code",
   "execution_count": 4,
   "metadata": {},
   "outputs": [],
   "source": [
    "train.index=range(train.shape[0])\n"
   ]
  },
  {
   "cell_type": "code",
   "execution_count": 5,
   "metadata": {},
   "outputs": [],
   "source": [
    "test.index=range(test.shape[0])"
   ]
  },
  {
   "cell_type": "code",
   "execution_count": 6,
   "metadata": {},
   "outputs": [
    {
     "data": {
      "text/html": [
       "<div>\n",
       "<style scoped>\n",
       "    .dataframe tbody tr th:only-of-type {\n",
       "        vertical-align: middle;\n",
       "    }\n",
       "\n",
       "    .dataframe tbody tr th {\n",
       "        vertical-align: top;\n",
       "    }\n",
       "\n",
       "    .dataframe thead th {\n",
       "        text-align: right;\n",
       "    }\n",
       "</style>\n",
       "<table border=\"1\" class=\"dataframe\">\n",
       "  <thead>\n",
       "    <tr style=\"text-align: right;\">\n",
       "      <th></th>\n",
       "      <th>account_id</th>\n",
       "      <th>week_start_date</th>\n",
       "      <th>feature1</th>\n",
       "      <th>feature2</th>\n",
       "      <th>feature3</th>\n",
       "      <th>feature4</th>\n",
       "      <th>feature5</th>\n",
       "      <th>feature6</th>\n",
       "      <th>feature7</th>\n",
       "      <th>feature8</th>\n",
       "      <th>...</th>\n",
       "      <th>feature54</th>\n",
       "      <th>feature55</th>\n",
       "      <th>feature56</th>\n",
       "      <th>feature57</th>\n",
       "      <th>feature58</th>\n",
       "      <th>feature59</th>\n",
       "      <th>feature60</th>\n",
       "      <th>feature61</th>\n",
       "      <th>feature62</th>\n",
       "      <th>Label</th>\n",
       "    </tr>\n",
       "  </thead>\n",
       "  <tbody>\n",
       "    <tr>\n",
       "      <th>0</th>\n",
       "      <td>100559.0</td>\n",
       "      <td>2018-09-03</td>\n",
       "      <td>0.0</td>\n",
       "      <td>0.0</td>\n",
       "      <td>0.000000</td>\n",
       "      <td>0.0</td>\n",
       "      <td>0.0</td>\n",
       "      <td>0.0</td>\n",
       "      <td>0.0</td>\n",
       "      <td>0.0</td>\n",
       "      <td>...</td>\n",
       "      <td>0.0</td>\n",
       "      <td>0.000000</td>\n",
       "      <td>0.000000</td>\n",
       "      <td>0.0</td>\n",
       "      <td>0.0</td>\n",
       "      <td>0.0</td>\n",
       "      <td>0.0</td>\n",
       "      <td>0.0</td>\n",
       "      <td>0.0</td>\n",
       "      <td>0</td>\n",
       "    </tr>\n",
       "    <tr>\n",
       "      <th>1</th>\n",
       "      <td>103339.0</td>\n",
       "      <td>2018-09-03</td>\n",
       "      <td>0.0</td>\n",
       "      <td>0.0</td>\n",
       "      <td>0.000000</td>\n",
       "      <td>0.0</td>\n",
       "      <td>0.0</td>\n",
       "      <td>0.0</td>\n",
       "      <td>0.0</td>\n",
       "      <td>0.0</td>\n",
       "      <td>...</td>\n",
       "      <td>0.0</td>\n",
       "      <td>0.000000</td>\n",
       "      <td>0.000000</td>\n",
       "      <td>0.0</td>\n",
       "      <td>0.0</td>\n",
       "      <td>0.0</td>\n",
       "      <td>0.0</td>\n",
       "      <td>0.0</td>\n",
       "      <td>0.0</td>\n",
       "      <td>0</td>\n",
       "    </tr>\n",
       "    <tr>\n",
       "      <th>2</th>\n",
       "      <td>105319.0</td>\n",
       "      <td>2018-09-03</td>\n",
       "      <td>0.0</td>\n",
       "      <td>0.0</td>\n",
       "      <td>0.000000</td>\n",
       "      <td>0.0</td>\n",
       "      <td>0.0</td>\n",
       "      <td>0.0</td>\n",
       "      <td>0.0</td>\n",
       "      <td>0.0</td>\n",
       "      <td>...</td>\n",
       "      <td>0.0</td>\n",
       "      <td>0.000000</td>\n",
       "      <td>0.000000</td>\n",
       "      <td>0.0</td>\n",
       "      <td>0.0</td>\n",
       "      <td>0.0</td>\n",
       "      <td>0.0</td>\n",
       "      <td>0.0</td>\n",
       "      <td>0.0</td>\n",
       "      <td>0</td>\n",
       "    </tr>\n",
       "    <tr>\n",
       "      <th>3</th>\n",
       "      <td>107387.0</td>\n",
       "      <td>2018-09-03</td>\n",
       "      <td>0.0</td>\n",
       "      <td>0.0</td>\n",
       "      <td>0.000000</td>\n",
       "      <td>0.0</td>\n",
       "      <td>0.0</td>\n",
       "      <td>0.0</td>\n",
       "      <td>0.0</td>\n",
       "      <td>0.0</td>\n",
       "      <td>...</td>\n",
       "      <td>0.0</td>\n",
       "      <td>0.000000</td>\n",
       "      <td>0.000000</td>\n",
       "      <td>0.0</td>\n",
       "      <td>0.0</td>\n",
       "      <td>0.0</td>\n",
       "      <td>0.0</td>\n",
       "      <td>0.0</td>\n",
       "      <td>0.0</td>\n",
       "      <td>0</td>\n",
       "    </tr>\n",
       "    <tr>\n",
       "      <th>4</th>\n",
       "      <td>100450.0</td>\n",
       "      <td>2018-09-03</td>\n",
       "      <td>0.0</td>\n",
       "      <td>0.0</td>\n",
       "      <td>124.666667</td>\n",
       "      <td>0.0</td>\n",
       "      <td>0.0</td>\n",
       "      <td>0.0</td>\n",
       "      <td>0.0</td>\n",
       "      <td>0.0</td>\n",
       "      <td>...</td>\n",
       "      <td>0.0</td>\n",
       "      <td>0.000000</td>\n",
       "      <td>0.000000</td>\n",
       "      <td>0.0</td>\n",
       "      <td>0.0</td>\n",
       "      <td>0.0</td>\n",
       "      <td>0.0</td>\n",
       "      <td>0.0</td>\n",
       "      <td>0.0</td>\n",
       "      <td>0</td>\n",
       "    </tr>\n",
       "    <tr>\n",
       "      <th>...</th>\n",
       "      <td>...</td>\n",
       "      <td>...</td>\n",
       "      <td>...</td>\n",
       "      <td>...</td>\n",
       "      <td>...</td>\n",
       "      <td>...</td>\n",
       "      <td>...</td>\n",
       "      <td>...</td>\n",
       "      <td>...</td>\n",
       "      <td>...</td>\n",
       "      <td>...</td>\n",
       "      <td>...</td>\n",
       "      <td>...</td>\n",
       "      <td>...</td>\n",
       "      <td>...</td>\n",
       "      <td>...</td>\n",
       "      <td>...</td>\n",
       "      <td>...</td>\n",
       "      <td>...</td>\n",
       "      <td>...</td>\n",
       "      <td>...</td>\n",
       "    </tr>\n",
       "    <tr>\n",
       "      <th>114701</th>\n",
       "      <td>221945.0</td>\n",
       "      <td>2020-03-30</td>\n",
       "      <td>0.0</td>\n",
       "      <td>0.0</td>\n",
       "      <td>0.000000</td>\n",
       "      <td>0.0</td>\n",
       "      <td>0.0</td>\n",
       "      <td>0.0</td>\n",
       "      <td>0.0</td>\n",
       "      <td>0.0</td>\n",
       "      <td>...</td>\n",
       "      <td>0.0</td>\n",
       "      <td>0.000000</td>\n",
       "      <td>0.000000</td>\n",
       "      <td>0.0</td>\n",
       "      <td>0.0</td>\n",
       "      <td>0.0</td>\n",
       "      <td>0.0</td>\n",
       "      <td>0.0</td>\n",
       "      <td>0.0</td>\n",
       "      <td>0</td>\n",
       "    </tr>\n",
       "    <tr>\n",
       "      <th>114702</th>\n",
       "      <td>201547.0</td>\n",
       "      <td>2020-03-30</td>\n",
       "      <td>0.0</td>\n",
       "      <td>0.0</td>\n",
       "      <td>2.724138</td>\n",
       "      <td>0.0</td>\n",
       "      <td>0.0</td>\n",
       "      <td>0.0</td>\n",
       "      <td>5.4</td>\n",
       "      <td>0.0</td>\n",
       "      <td>...</td>\n",
       "      <td>0.0</td>\n",
       "      <td>5.782609</td>\n",
       "      <td>-0.076923</td>\n",
       "      <td>0.0</td>\n",
       "      <td>0.0</td>\n",
       "      <td>0.0</td>\n",
       "      <td>0.0</td>\n",
       "      <td>0.0</td>\n",
       "      <td>0.0</td>\n",
       "      <td>0</td>\n",
       "    </tr>\n",
       "    <tr>\n",
       "      <th>114703</th>\n",
       "      <td>198212.0</td>\n",
       "      <td>2020-03-30</td>\n",
       "      <td>0.0</td>\n",
       "      <td>0.0</td>\n",
       "      <td>0.000000</td>\n",
       "      <td>0.0</td>\n",
       "      <td>0.0</td>\n",
       "      <td>0.0</td>\n",
       "      <td>0.0</td>\n",
       "      <td>0.0</td>\n",
       "      <td>...</td>\n",
       "      <td>0.0</td>\n",
       "      <td>0.000000</td>\n",
       "      <td>0.000000</td>\n",
       "      <td>0.0</td>\n",
       "      <td>0.0</td>\n",
       "      <td>0.0</td>\n",
       "      <td>0.0</td>\n",
       "      <td>0.0</td>\n",
       "      <td>0.0</td>\n",
       "      <td>0</td>\n",
       "    </tr>\n",
       "    <tr>\n",
       "      <th>114704</th>\n",
       "      <td>179895.0</td>\n",
       "      <td>2020-03-30</td>\n",
       "      <td>0.0</td>\n",
       "      <td>0.0</td>\n",
       "      <td>0.000000</td>\n",
       "      <td>0.0</td>\n",
       "      <td>0.0</td>\n",
       "      <td>0.0</td>\n",
       "      <td>0.0</td>\n",
       "      <td>0.0</td>\n",
       "      <td>...</td>\n",
       "      <td>0.0</td>\n",
       "      <td>0.000000</td>\n",
       "      <td>0.000000</td>\n",
       "      <td>0.0</td>\n",
       "      <td>0.0</td>\n",
       "      <td>0.0</td>\n",
       "      <td>0.0</td>\n",
       "      <td>0.0</td>\n",
       "      <td>0.0</td>\n",
       "      <td>0</td>\n",
       "    </tr>\n",
       "    <tr>\n",
       "      <th>114705</th>\n",
       "      <td>101817.0</td>\n",
       "      <td>2020-03-30</td>\n",
       "      <td>0.0</td>\n",
       "      <td>0.0</td>\n",
       "      <td>0.000000</td>\n",
       "      <td>0.0</td>\n",
       "      <td>0.0</td>\n",
       "      <td>0.0</td>\n",
       "      <td>0.0</td>\n",
       "      <td>0.0</td>\n",
       "      <td>...</td>\n",
       "      <td>0.0</td>\n",
       "      <td>0.000000</td>\n",
       "      <td>0.000000</td>\n",
       "      <td>0.0</td>\n",
       "      <td>0.0</td>\n",
       "      <td>0.0</td>\n",
       "      <td>0.0</td>\n",
       "      <td>0.0</td>\n",
       "      <td>0.0</td>\n",
       "      <td>0</td>\n",
       "    </tr>\n",
       "  </tbody>\n",
       "</table>\n",
       "<p>114706 rows × 65 columns</p>\n",
       "</div>"
      ],
      "text/plain": [
       "        account_id week_start_date  feature1  feature2    feature3  feature4  \\\n",
       "0         100559.0      2018-09-03       0.0       0.0    0.000000       0.0   \n",
       "1         103339.0      2018-09-03       0.0       0.0    0.000000       0.0   \n",
       "2         105319.0      2018-09-03       0.0       0.0    0.000000       0.0   \n",
       "3         107387.0      2018-09-03       0.0       0.0    0.000000       0.0   \n",
       "4         100450.0      2018-09-03       0.0       0.0  124.666667       0.0   \n",
       "...            ...             ...       ...       ...         ...       ...   \n",
       "114701    221945.0      2020-03-30       0.0       0.0    0.000000       0.0   \n",
       "114702    201547.0      2020-03-30       0.0       0.0    2.724138       0.0   \n",
       "114703    198212.0      2020-03-30       0.0       0.0    0.000000       0.0   \n",
       "114704    179895.0      2020-03-30       0.0       0.0    0.000000       0.0   \n",
       "114705    101817.0      2020-03-30       0.0       0.0    0.000000       0.0   \n",
       "\n",
       "        feature5  feature6  feature7  feature8  ...  feature54  feature55  \\\n",
       "0            0.0       0.0       0.0       0.0  ...        0.0   0.000000   \n",
       "1            0.0       0.0       0.0       0.0  ...        0.0   0.000000   \n",
       "2            0.0       0.0       0.0       0.0  ...        0.0   0.000000   \n",
       "3            0.0       0.0       0.0       0.0  ...        0.0   0.000000   \n",
       "4            0.0       0.0       0.0       0.0  ...        0.0   0.000000   \n",
       "...          ...       ...       ...       ...  ...        ...        ...   \n",
       "114701       0.0       0.0       0.0       0.0  ...        0.0   0.000000   \n",
       "114702       0.0       0.0       5.4       0.0  ...        0.0   5.782609   \n",
       "114703       0.0       0.0       0.0       0.0  ...        0.0   0.000000   \n",
       "114704       0.0       0.0       0.0       0.0  ...        0.0   0.000000   \n",
       "114705       0.0       0.0       0.0       0.0  ...        0.0   0.000000   \n",
       "\n",
       "        feature56  feature57  feature58  feature59  feature60  feature61  \\\n",
       "0        0.000000        0.0        0.0        0.0        0.0        0.0   \n",
       "1        0.000000        0.0        0.0        0.0        0.0        0.0   \n",
       "2        0.000000        0.0        0.0        0.0        0.0        0.0   \n",
       "3        0.000000        0.0        0.0        0.0        0.0        0.0   \n",
       "4        0.000000        0.0        0.0        0.0        0.0        0.0   \n",
       "...           ...        ...        ...        ...        ...        ...   \n",
       "114701   0.000000        0.0        0.0        0.0        0.0        0.0   \n",
       "114702  -0.076923        0.0        0.0        0.0        0.0        0.0   \n",
       "114703   0.000000        0.0        0.0        0.0        0.0        0.0   \n",
       "114704   0.000000        0.0        0.0        0.0        0.0        0.0   \n",
       "114705   0.000000        0.0        0.0        0.0        0.0        0.0   \n",
       "\n",
       "        feature62  Label  \n",
       "0             0.0      0  \n",
       "1             0.0      0  \n",
       "2             0.0      0  \n",
       "3             0.0      0  \n",
       "4             0.0      0  \n",
       "...           ...    ...  \n",
       "114701        0.0      0  \n",
       "114702        0.0      0  \n",
       "114703        0.0      0  \n",
       "114704        0.0      0  \n",
       "114705        0.0      0  \n",
       "\n",
       "[114706 rows x 65 columns]"
      ]
     },
     "execution_count": 6,
     "metadata": {},
     "output_type": "execute_result"
    }
   ],
   "source": [
    "train"
   ]
  },
  {
   "cell_type": "code",
   "execution_count": 7,
   "metadata": {},
   "outputs": [],
   "source": [
    "import matplotlib.pyplot as plt\n",
    "\n"
   ]
  },
  {
   "cell_type": "code",
   "execution_count": 8,
   "metadata": {},
   "outputs": [],
   "source": [
    "One_account=train[train[\"account_id\"]==100559.0]"
   ]
  },
  {
   "cell_type": "code",
   "execution_count": 9,
   "metadata": {},
   "outputs": [
    {
     "data": {
      "text/html": [
       "<div>\n",
       "<style scoped>\n",
       "    .dataframe tbody tr th:only-of-type {\n",
       "        vertical-align: middle;\n",
       "    }\n",
       "\n",
       "    .dataframe tbody tr th {\n",
       "        vertical-align: top;\n",
       "    }\n",
       "\n",
       "    .dataframe thead th {\n",
       "        text-align: right;\n",
       "    }\n",
       "</style>\n",
       "<table border=\"1\" class=\"dataframe\">\n",
       "  <thead>\n",
       "    <tr style=\"text-align: right;\">\n",
       "      <th></th>\n",
       "      <th>account_id</th>\n",
       "      <th>week_start_date</th>\n",
       "      <th>feature1</th>\n",
       "      <th>feature2</th>\n",
       "      <th>feature3</th>\n",
       "      <th>feature4</th>\n",
       "      <th>feature5</th>\n",
       "      <th>feature6</th>\n",
       "      <th>feature7</th>\n",
       "      <th>feature8</th>\n",
       "      <th>...</th>\n",
       "      <th>feature54</th>\n",
       "      <th>feature55</th>\n",
       "      <th>feature56</th>\n",
       "      <th>feature57</th>\n",
       "      <th>feature58</th>\n",
       "      <th>feature59</th>\n",
       "      <th>feature60</th>\n",
       "      <th>feature61</th>\n",
       "      <th>feature62</th>\n",
       "      <th>Label</th>\n",
       "    </tr>\n",
       "  </thead>\n",
       "  <tbody>\n",
       "    <tr>\n",
       "      <th>0</th>\n",
       "      <td>100559.0</td>\n",
       "      <td>2018-09-03</td>\n",
       "      <td>0.0</td>\n",
       "      <td>0.0</td>\n",
       "      <td>0.0</td>\n",
       "      <td>0.0</td>\n",
       "      <td>0.0</td>\n",
       "      <td>0.0</td>\n",
       "      <td>0.0</td>\n",
       "      <td>0.0</td>\n",
       "      <td>...</td>\n",
       "      <td>0.0</td>\n",
       "      <td>0.0</td>\n",
       "      <td>0.0</td>\n",
       "      <td>0.0</td>\n",
       "      <td>0.0</td>\n",
       "      <td>0.0</td>\n",
       "      <td>0.0</td>\n",
       "      <td>0.0</td>\n",
       "      <td>0.0</td>\n",
       "      <td>0</td>\n",
       "    </tr>\n",
       "    <tr>\n",
       "      <th>560</th>\n",
       "      <td>100559.0</td>\n",
       "      <td>2018-09-03</td>\n",
       "      <td>0.0</td>\n",
       "      <td>0.0</td>\n",
       "      <td>0.0</td>\n",
       "      <td>0.0</td>\n",
       "      <td>0.0</td>\n",
       "      <td>0.0</td>\n",
       "      <td>0.0</td>\n",
       "      <td>0.0</td>\n",
       "      <td>...</td>\n",
       "      <td>0.0</td>\n",
       "      <td>0.0</td>\n",
       "      <td>0.0</td>\n",
       "      <td>0.0</td>\n",
       "      <td>0.0</td>\n",
       "      <td>0.0</td>\n",
       "      <td>0.0</td>\n",
       "      <td>0.0</td>\n",
       "      <td>0.0</td>\n",
       "      <td>0</td>\n",
       "    </tr>\n",
       "  </tbody>\n",
       "</table>\n",
       "<p>2 rows × 65 columns</p>\n",
       "</div>"
      ],
      "text/plain": [
       "     account_id week_start_date  feature1  feature2  feature3  feature4  \\\n",
       "0      100559.0      2018-09-03       0.0       0.0       0.0       0.0   \n",
       "560    100559.0      2018-09-03       0.0       0.0       0.0       0.0   \n",
       "\n",
       "     feature5  feature6  feature7  feature8  ...  feature54  feature55  \\\n",
       "0         0.0       0.0       0.0       0.0  ...        0.0        0.0   \n",
       "560       0.0       0.0       0.0       0.0  ...        0.0        0.0   \n",
       "\n",
       "     feature56  feature57  feature58  feature59  feature60  feature61  \\\n",
       "0          0.0        0.0        0.0        0.0        0.0        0.0   \n",
       "560        0.0        0.0        0.0        0.0        0.0        0.0   \n",
       "\n",
       "     feature62  Label  \n",
       "0          0.0      0  \n",
       "560        0.0      0  \n",
       "\n",
       "[2 rows x 65 columns]"
      ]
     },
     "execution_count": 9,
     "metadata": {},
     "output_type": "execute_result"
    }
   ],
   "source": [
    "One_account"
   ]
  },
  {
   "cell_type": "code",
   "execution_count": 10,
   "metadata": {},
   "outputs": [
    {
     "data": {
      "text/html": [
       "<div>\n",
       "<style scoped>\n",
       "    .dataframe tbody tr th:only-of-type {\n",
       "        vertical-align: middle;\n",
       "    }\n",
       "\n",
       "    .dataframe tbody tr th {\n",
       "        vertical-align: top;\n",
       "    }\n",
       "\n",
       "    .dataframe thead th {\n",
       "        text-align: right;\n",
       "    }\n",
       "</style>\n",
       "<table border=\"1\" class=\"dataframe\">\n",
       "  <thead>\n",
       "    <tr style=\"text-align: right;\">\n",
       "      <th></th>\n",
       "      <th>account_id</th>\n",
       "      <th>week_start_date</th>\n",
       "      <th>feature1</th>\n",
       "      <th>feature2</th>\n",
       "      <th>feature3</th>\n",
       "      <th>feature4</th>\n",
       "      <th>feature5</th>\n",
       "      <th>feature6</th>\n",
       "      <th>feature7</th>\n",
       "      <th>feature8</th>\n",
       "      <th>...</th>\n",
       "      <th>feature54</th>\n",
       "      <th>feature55</th>\n",
       "      <th>feature56</th>\n",
       "      <th>feature57</th>\n",
       "      <th>feature58</th>\n",
       "      <th>feature59</th>\n",
       "      <th>feature60</th>\n",
       "      <th>feature61</th>\n",
       "      <th>feature62</th>\n",
       "      <th>Label</th>\n",
       "    </tr>\n",
       "  </thead>\n",
       "  <tbody>\n",
       "    <tr>\n",
       "      <th>0</th>\n",
       "      <td>105049</td>\n",
       "      <td>2018-09-03</td>\n",
       "      <td>0.0</td>\n",
       "      <td>0.0</td>\n",
       "      <td>0.0</td>\n",
       "      <td>0.0</td>\n",
       "      <td>0.0</td>\n",
       "      <td>0.0</td>\n",
       "      <td>0.0</td>\n",
       "      <td>0.0</td>\n",
       "      <td>...</td>\n",
       "      <td>0.0</td>\n",
       "      <td>0.000000</td>\n",
       "      <td>0.0</td>\n",
       "      <td>0.0</td>\n",
       "      <td>0.0</td>\n",
       "      <td>0.0</td>\n",
       "      <td>0.0</td>\n",
       "      <td>0.0</td>\n",
       "      <td>0.0</td>\n",
       "      <td>0</td>\n",
       "    </tr>\n",
       "    <tr>\n",
       "      <th>1</th>\n",
       "      <td>100230</td>\n",
       "      <td>2018-09-03</td>\n",
       "      <td>0.0</td>\n",
       "      <td>0.0</td>\n",
       "      <td>2.0</td>\n",
       "      <td>0.0</td>\n",
       "      <td>0.0</td>\n",
       "      <td>0.0</td>\n",
       "      <td>0.0</td>\n",
       "      <td>0.0</td>\n",
       "      <td>...</td>\n",
       "      <td>0.0</td>\n",
       "      <td>0.333333</td>\n",
       "      <td>0.0</td>\n",
       "      <td>0.0</td>\n",
       "      <td>0.0</td>\n",
       "      <td>0.0</td>\n",
       "      <td>0.0</td>\n",
       "      <td>0.0</td>\n",
       "      <td>0.0</td>\n",
       "      <td>0</td>\n",
       "    </tr>\n",
       "    <tr>\n",
       "      <th>2</th>\n",
       "      <td>100230</td>\n",
       "      <td>2018-09-03</td>\n",
       "      <td>0.0</td>\n",
       "      <td>0.0</td>\n",
       "      <td>0.0</td>\n",
       "      <td>0.0</td>\n",
       "      <td>0.0</td>\n",
       "      <td>0.0</td>\n",
       "      <td>0.0</td>\n",
       "      <td>0.0</td>\n",
       "      <td>...</td>\n",
       "      <td>0.0</td>\n",
       "      <td>0.000000</td>\n",
       "      <td>0.0</td>\n",
       "      <td>0.0</td>\n",
       "      <td>0.0</td>\n",
       "      <td>0.0</td>\n",
       "      <td>0.0</td>\n",
       "      <td>0.0</td>\n",
       "      <td>0.0</td>\n",
       "      <td>0</td>\n",
       "    </tr>\n",
       "    <tr>\n",
       "      <th>3</th>\n",
       "      <td>101699</td>\n",
       "      <td>2018-09-03</td>\n",
       "      <td>0.0</td>\n",
       "      <td>0.0</td>\n",
       "      <td>0.0</td>\n",
       "      <td>0.0</td>\n",
       "      <td>0.0</td>\n",
       "      <td>0.0</td>\n",
       "      <td>0.0</td>\n",
       "      <td>0.0</td>\n",
       "      <td>...</td>\n",
       "      <td>0.0</td>\n",
       "      <td>0.000000</td>\n",
       "      <td>0.0</td>\n",
       "      <td>0.0</td>\n",
       "      <td>0.0</td>\n",
       "      <td>0.0</td>\n",
       "      <td>0.0</td>\n",
       "      <td>0.0</td>\n",
       "      <td>0.0</td>\n",
       "      <td>0</td>\n",
       "    </tr>\n",
       "    <tr>\n",
       "      <th>4</th>\n",
       "      <td>101581</td>\n",
       "      <td>2018-09-03</td>\n",
       "      <td>0.0</td>\n",
       "      <td>0.0</td>\n",
       "      <td>0.0</td>\n",
       "      <td>0.0</td>\n",
       "      <td>0.0</td>\n",
       "      <td>0.0</td>\n",
       "      <td>0.0</td>\n",
       "      <td>0.0</td>\n",
       "      <td>...</td>\n",
       "      <td>0.0</td>\n",
       "      <td>0.000000</td>\n",
       "      <td>0.0</td>\n",
       "      <td>0.0</td>\n",
       "      <td>0.0</td>\n",
       "      <td>0.0</td>\n",
       "      <td>0.0</td>\n",
       "      <td>0.0</td>\n",
       "      <td>0.0</td>\n",
       "      <td>0</td>\n",
       "    </tr>\n",
       "    <tr>\n",
       "      <th>...</th>\n",
       "      <td>...</td>\n",
       "      <td>...</td>\n",
       "      <td>...</td>\n",
       "      <td>...</td>\n",
       "      <td>...</td>\n",
       "      <td>...</td>\n",
       "      <td>...</td>\n",
       "      <td>...</td>\n",
       "      <td>...</td>\n",
       "      <td>...</td>\n",
       "      <td>...</td>\n",
       "      <td>...</td>\n",
       "      <td>...</td>\n",
       "      <td>...</td>\n",
       "      <td>...</td>\n",
       "      <td>...</td>\n",
       "      <td>...</td>\n",
       "      <td>...</td>\n",
       "      <td>...</td>\n",
       "      <td>...</td>\n",
       "      <td>...</td>\n",
       "    </tr>\n",
       "    <tr>\n",
       "      <th>29615</th>\n",
       "      <td>101391</td>\n",
       "      <td>2020-03-30</td>\n",
       "      <td>0.0</td>\n",
       "      <td>0.0</td>\n",
       "      <td>0.0</td>\n",
       "      <td>0.0</td>\n",
       "      <td>0.0</td>\n",
       "      <td>0.0</td>\n",
       "      <td>0.0</td>\n",
       "      <td>0.0</td>\n",
       "      <td>...</td>\n",
       "      <td>0.0</td>\n",
       "      <td>0.333333</td>\n",
       "      <td>0.0</td>\n",
       "      <td>0.0</td>\n",
       "      <td>0.0</td>\n",
       "      <td>0.0</td>\n",
       "      <td>0.0</td>\n",
       "      <td>0.0</td>\n",
       "      <td>0.0</td>\n",
       "      <td>0</td>\n",
       "    </tr>\n",
       "    <tr>\n",
       "      <th>29616</th>\n",
       "      <td>100740</td>\n",
       "      <td>2020-03-30</td>\n",
       "      <td>0.0</td>\n",
       "      <td>0.0</td>\n",
       "      <td>0.0</td>\n",
       "      <td>0.0</td>\n",
       "      <td>0.0</td>\n",
       "      <td>0.0</td>\n",
       "      <td>0.0</td>\n",
       "      <td>0.0</td>\n",
       "      <td>...</td>\n",
       "      <td>0.0</td>\n",
       "      <td>0.600000</td>\n",
       "      <td>0.0</td>\n",
       "      <td>0.0</td>\n",
       "      <td>0.0</td>\n",
       "      <td>0.0</td>\n",
       "      <td>0.0</td>\n",
       "      <td>0.0</td>\n",
       "      <td>0.0</td>\n",
       "      <td>0</td>\n",
       "    </tr>\n",
       "    <tr>\n",
       "      <th>29617</th>\n",
       "      <td>193889</td>\n",
       "      <td>2020-03-30</td>\n",
       "      <td>0.0</td>\n",
       "      <td>0.0</td>\n",
       "      <td>0.0</td>\n",
       "      <td>0.0</td>\n",
       "      <td>0.0</td>\n",
       "      <td>0.0</td>\n",
       "      <td>2.0</td>\n",
       "      <td>0.0</td>\n",
       "      <td>...</td>\n",
       "      <td>0.0</td>\n",
       "      <td>0.500000</td>\n",
       "      <td>0.0</td>\n",
       "      <td>0.0</td>\n",
       "      <td>0.0</td>\n",
       "      <td>0.0</td>\n",
       "      <td>0.0</td>\n",
       "      <td>0.0</td>\n",
       "      <td>0.0</td>\n",
       "      <td>0</td>\n",
       "    </tr>\n",
       "    <tr>\n",
       "      <th>29618</th>\n",
       "      <td>197940</td>\n",
       "      <td>2020-03-30</td>\n",
       "      <td>0.0</td>\n",
       "      <td>0.0</td>\n",
       "      <td>0.0</td>\n",
       "      <td>0.0</td>\n",
       "      <td>0.0</td>\n",
       "      <td>0.0</td>\n",
       "      <td>0.0</td>\n",
       "      <td>0.0</td>\n",
       "      <td>...</td>\n",
       "      <td>0.0</td>\n",
       "      <td>0.000000</td>\n",
       "      <td>0.0</td>\n",
       "      <td>0.0</td>\n",
       "      <td>0.0</td>\n",
       "      <td>0.0</td>\n",
       "      <td>0.0</td>\n",
       "      <td>0.0</td>\n",
       "      <td>0.0</td>\n",
       "      <td>0</td>\n",
       "    </tr>\n",
       "    <tr>\n",
       "      <th>29619</th>\n",
       "      <td>239722</td>\n",
       "      <td>2020-03-30</td>\n",
       "      <td>0.0</td>\n",
       "      <td>0.0</td>\n",
       "      <td>0.0</td>\n",
       "      <td>0.0</td>\n",
       "      <td>0.0</td>\n",
       "      <td>0.0</td>\n",
       "      <td>0.0</td>\n",
       "      <td>0.0</td>\n",
       "      <td>...</td>\n",
       "      <td>0.0</td>\n",
       "      <td>0.000000</td>\n",
       "      <td>0.0</td>\n",
       "      <td>0.0</td>\n",
       "      <td>0.0</td>\n",
       "      <td>0.0</td>\n",
       "      <td>0.0</td>\n",
       "      <td>0.0</td>\n",
       "      <td>0.0</td>\n",
       "      <td>0</td>\n",
       "    </tr>\n",
       "  </tbody>\n",
       "</table>\n",
       "<p>29620 rows × 65 columns</p>\n",
       "</div>"
      ],
      "text/plain": [
       "       account_id week_start_date  feature1  feature2  feature3  feature4  \\\n",
       "0          105049      2018-09-03       0.0       0.0       0.0       0.0   \n",
       "1          100230      2018-09-03       0.0       0.0       2.0       0.0   \n",
       "2          100230      2018-09-03       0.0       0.0       0.0       0.0   \n",
       "3          101699      2018-09-03       0.0       0.0       0.0       0.0   \n",
       "4          101581      2018-09-03       0.0       0.0       0.0       0.0   \n",
       "...           ...             ...       ...       ...       ...       ...   \n",
       "29615      101391      2020-03-30       0.0       0.0       0.0       0.0   \n",
       "29616      100740      2020-03-30       0.0       0.0       0.0       0.0   \n",
       "29617      193889      2020-03-30       0.0       0.0       0.0       0.0   \n",
       "29618      197940      2020-03-30       0.0       0.0       0.0       0.0   \n",
       "29619      239722      2020-03-30       0.0       0.0       0.0       0.0   \n",
       "\n",
       "       feature5  feature6  feature7  feature8  ...  feature54  feature55  \\\n",
       "0           0.0       0.0       0.0       0.0  ...        0.0   0.000000   \n",
       "1           0.0       0.0       0.0       0.0  ...        0.0   0.333333   \n",
       "2           0.0       0.0       0.0       0.0  ...        0.0   0.000000   \n",
       "3           0.0       0.0       0.0       0.0  ...        0.0   0.000000   \n",
       "4           0.0       0.0       0.0       0.0  ...        0.0   0.000000   \n",
       "...         ...       ...       ...       ...  ...        ...        ...   \n",
       "29615       0.0       0.0       0.0       0.0  ...        0.0   0.333333   \n",
       "29616       0.0       0.0       0.0       0.0  ...        0.0   0.600000   \n",
       "29617       0.0       0.0       2.0       0.0  ...        0.0   0.500000   \n",
       "29618       0.0       0.0       0.0       0.0  ...        0.0   0.000000   \n",
       "29619       0.0       0.0       0.0       0.0  ...        0.0   0.000000   \n",
       "\n",
       "       feature56  feature57  feature58  feature59  feature60  feature61  \\\n",
       "0            0.0        0.0        0.0        0.0        0.0        0.0   \n",
       "1            0.0        0.0        0.0        0.0        0.0        0.0   \n",
       "2            0.0        0.0        0.0        0.0        0.0        0.0   \n",
       "3            0.0        0.0        0.0        0.0        0.0        0.0   \n",
       "4            0.0        0.0        0.0        0.0        0.0        0.0   \n",
       "...          ...        ...        ...        ...        ...        ...   \n",
       "29615        0.0        0.0        0.0        0.0        0.0        0.0   \n",
       "29616        0.0        0.0        0.0        0.0        0.0        0.0   \n",
       "29617        0.0        0.0        0.0        0.0        0.0        0.0   \n",
       "29618        0.0        0.0        0.0        0.0        0.0        0.0   \n",
       "29619        0.0        0.0        0.0        0.0        0.0        0.0   \n",
       "\n",
       "       feature62  Label  \n",
       "0            0.0      0  \n",
       "1            0.0      0  \n",
       "2            0.0      0  \n",
       "3            0.0      0  \n",
       "4            0.0      0  \n",
       "...          ...    ...  \n",
       "29615        0.0      0  \n",
       "29616        0.0      0  \n",
       "29617        0.0      0  \n",
       "29618        0.0      0  \n",
       "29619        0.0      0  \n",
       "\n",
       "[29620 rows x 65 columns]"
      ]
     },
     "execution_count": 10,
     "metadata": {},
     "output_type": "execute_result"
    }
   ],
   "source": [
    "test"
   ]
  },
  {
   "cell_type": "code",
   "execution_count": 11,
   "metadata": {},
   "outputs": [
    {
     "data": {
      "text/html": [
       "<div>\n",
       "<style scoped>\n",
       "    .dataframe tbody tr th:only-of-type {\n",
       "        vertical-align: middle;\n",
       "    }\n",
       "\n",
       "    .dataframe tbody tr th {\n",
       "        vertical-align: top;\n",
       "    }\n",
       "\n",
       "    .dataframe thead th {\n",
       "        text-align: right;\n",
       "    }\n",
       "</style>\n",
       "<table border=\"1\" class=\"dataframe\">\n",
       "  <thead>\n",
       "    <tr style=\"text-align: right;\">\n",
       "      <th></th>\n",
       "      <th>account_id</th>\n",
       "      <th>feature1</th>\n",
       "      <th>feature2</th>\n",
       "      <th>feature3</th>\n",
       "      <th>feature4</th>\n",
       "      <th>feature5</th>\n",
       "      <th>feature6</th>\n",
       "      <th>feature7</th>\n",
       "      <th>feature8</th>\n",
       "      <th>feature9</th>\n",
       "      <th>...</th>\n",
       "      <th>feature54</th>\n",
       "      <th>feature55</th>\n",
       "      <th>feature56</th>\n",
       "      <th>feature57</th>\n",
       "      <th>feature58</th>\n",
       "      <th>feature59</th>\n",
       "      <th>feature60</th>\n",
       "      <th>feature61</th>\n",
       "      <th>feature62</th>\n",
       "      <th>Label</th>\n",
       "    </tr>\n",
       "  </thead>\n",
       "  <tbody>\n",
       "    <tr>\n",
       "      <th>account_id</th>\n",
       "      <td>1.000000</td>\n",
       "      <td>0.024191</td>\n",
       "      <td>0.006319</td>\n",
       "      <td>-0.010782</td>\n",
       "      <td>0.007860</td>\n",
       "      <td>0.005884</td>\n",
       "      <td>0.008138</td>\n",
       "      <td>0.021627</td>\n",
       "      <td>0.011357</td>\n",
       "      <td>0.009017</td>\n",
       "      <td>...</td>\n",
       "      <td>0.000223</td>\n",
       "      <td>0.016765</td>\n",
       "      <td>0.020749</td>\n",
       "      <td>0.003832</td>\n",
       "      <td>0.010261</td>\n",
       "      <td>0.007628</td>\n",
       "      <td>-0.004430</td>\n",
       "      <td>0.007510</td>\n",
       "      <td>-0.001049</td>\n",
       "      <td>-0.028785</td>\n",
       "    </tr>\n",
       "    <tr>\n",
       "      <th>feature1</th>\n",
       "      <td>0.024191</td>\n",
       "      <td>1.000000</td>\n",
       "      <td>0.042400</td>\n",
       "      <td>0.014451</td>\n",
       "      <td>0.018342</td>\n",
       "      <td>-0.000242</td>\n",
       "      <td>0.049549</td>\n",
       "      <td>0.164275</td>\n",
       "      <td>0.111887</td>\n",
       "      <td>0.010251</td>\n",
       "      <td>...</td>\n",
       "      <td>0.263576</td>\n",
       "      <td>0.284016</td>\n",
       "      <td>0.090694</td>\n",
       "      <td>0.015750</td>\n",
       "      <td>0.018634</td>\n",
       "      <td>0.016720</td>\n",
       "      <td>0.109753</td>\n",
       "      <td>0.073332</td>\n",
       "      <td>0.035087</td>\n",
       "      <td>-0.003648</td>\n",
       "    </tr>\n",
       "    <tr>\n",
       "      <th>feature2</th>\n",
       "      <td>0.006319</td>\n",
       "      <td>0.042400</td>\n",
       "      <td>1.000000</td>\n",
       "      <td>0.000989</td>\n",
       "      <td>-0.000035</td>\n",
       "      <td>-0.000032</td>\n",
       "      <td>0.040588</td>\n",
       "      <td>0.013781</td>\n",
       "      <td>0.028974</td>\n",
       "      <td>0.011609</td>\n",
       "      <td>...</td>\n",
       "      <td>0.131245</td>\n",
       "      <td>0.037580</td>\n",
       "      <td>0.054795</td>\n",
       "      <td>-0.003755</td>\n",
       "      <td>0.000100</td>\n",
       "      <td>0.001852</td>\n",
       "      <td>0.003170</td>\n",
       "      <td>0.125494</td>\n",
       "      <td>0.000087</td>\n",
       "      <td>-0.000574</td>\n",
       "    </tr>\n",
       "    <tr>\n",
       "      <th>feature3</th>\n",
       "      <td>-0.010782</td>\n",
       "      <td>0.014451</td>\n",
       "      <td>0.000989</td>\n",
       "      <td>1.000000</td>\n",
       "      <td>0.004127</td>\n",
       "      <td>-0.000197</td>\n",
       "      <td>0.009483</td>\n",
       "      <td>0.004333</td>\n",
       "      <td>0.002116</td>\n",
       "      <td>0.001540</td>\n",
       "      <td>...</td>\n",
       "      <td>0.008117</td>\n",
       "      <td>0.088894</td>\n",
       "      <td>0.003844</td>\n",
       "      <td>0.001949</td>\n",
       "      <td>0.020198</td>\n",
       "      <td>0.004925</td>\n",
       "      <td>0.032468</td>\n",
       "      <td>0.003998</td>\n",
       "      <td>0.014928</td>\n",
       "      <td>0.000565</td>\n",
       "    </tr>\n",
       "    <tr>\n",
       "      <th>feature4</th>\n",
       "      <td>0.007860</td>\n",
       "      <td>0.018342</td>\n",
       "      <td>-0.000035</td>\n",
       "      <td>0.004127</td>\n",
       "      <td>1.000000</td>\n",
       "      <td>-0.000031</td>\n",
       "      <td>0.003893</td>\n",
       "      <td>-0.000144</td>\n",
       "      <td>-0.000059</td>\n",
       "      <td>0.002317</td>\n",
       "      <td>...</td>\n",
       "      <td>-0.000034</td>\n",
       "      <td>-0.007431</td>\n",
       "      <td>-0.000421</td>\n",
       "      <td>-0.004913</td>\n",
       "      <td>0.003248</td>\n",
       "      <td>0.019648</td>\n",
       "      <td>0.001718</td>\n",
       "      <td>-0.000078</td>\n",
       "      <td>0.002396</td>\n",
       "      <td>0.021444</td>\n",
       "    </tr>\n",
       "    <tr>\n",
       "      <th>...</th>\n",
       "      <td>...</td>\n",
       "      <td>...</td>\n",
       "      <td>...</td>\n",
       "      <td>...</td>\n",
       "      <td>...</td>\n",
       "      <td>...</td>\n",
       "      <td>...</td>\n",
       "      <td>...</td>\n",
       "      <td>...</td>\n",
       "      <td>...</td>\n",
       "      <td>...</td>\n",
       "      <td>...</td>\n",
       "      <td>...</td>\n",
       "      <td>...</td>\n",
       "      <td>...</td>\n",
       "      <td>...</td>\n",
       "      <td>...</td>\n",
       "      <td>...</td>\n",
       "      <td>...</td>\n",
       "      <td>...</td>\n",
       "      <td>...</td>\n",
       "    </tr>\n",
       "    <tr>\n",
       "      <th>feature59</th>\n",
       "      <td>0.007628</td>\n",
       "      <td>0.016720</td>\n",
       "      <td>0.001852</td>\n",
       "      <td>0.004925</td>\n",
       "      <td>0.019648</td>\n",
       "      <td>-0.005117</td>\n",
       "      <td>0.055294</td>\n",
       "      <td>0.002769</td>\n",
       "      <td>0.055774</td>\n",
       "      <td>-0.003498</td>\n",
       "      <td>...</td>\n",
       "      <td>-0.002837</td>\n",
       "      <td>0.048488</td>\n",
       "      <td>0.001543</td>\n",
       "      <td>0.066490</td>\n",
       "      <td>0.006475</td>\n",
       "      <td>1.000000</td>\n",
       "      <td>0.016499</td>\n",
       "      <td>0.004058</td>\n",
       "      <td>0.007428</td>\n",
       "      <td>-0.002845</td>\n",
       "    </tr>\n",
       "    <tr>\n",
       "      <th>feature60</th>\n",
       "      <td>-0.004430</td>\n",
       "      <td>0.109753</td>\n",
       "      <td>0.003170</td>\n",
       "      <td>0.032468</td>\n",
       "      <td>0.001718</td>\n",
       "      <td>-0.000111</td>\n",
       "      <td>0.003658</td>\n",
       "      <td>0.034433</td>\n",
       "      <td>-0.000759</td>\n",
       "      <td>0.004113</td>\n",
       "      <td>...</td>\n",
       "      <td>0.024607</td>\n",
       "      <td>0.258235</td>\n",
       "      <td>0.015719</td>\n",
       "      <td>0.000634</td>\n",
       "      <td>0.005803</td>\n",
       "      <td>0.016499</td>\n",
       "      <td>1.000000</td>\n",
       "      <td>0.036336</td>\n",
       "      <td>0.004322</td>\n",
       "      <td>0.005042</td>\n",
       "    </tr>\n",
       "    <tr>\n",
       "      <th>feature61</th>\n",
       "      <td>0.007510</td>\n",
       "      <td>0.073332</td>\n",
       "      <td>0.125494</td>\n",
       "      <td>0.003998</td>\n",
       "      <td>-0.000078</td>\n",
       "      <td>-0.000072</td>\n",
       "      <td>-0.002975</td>\n",
       "      <td>0.049177</td>\n",
       "      <td>0.030199</td>\n",
       "      <td>0.004798</td>\n",
       "      <td>...</td>\n",
       "      <td>0.011741</td>\n",
       "      <td>0.065553</td>\n",
       "      <td>0.067327</td>\n",
       "      <td>-0.002182</td>\n",
       "      <td>-0.001112</td>\n",
       "      <td>0.004058</td>\n",
       "      <td>0.036336</td>\n",
       "      <td>1.000000</td>\n",
       "      <td>-0.000365</td>\n",
       "      <td>-0.000883</td>\n",
       "    </tr>\n",
       "    <tr>\n",
       "      <th>feature62</th>\n",
       "      <td>-0.001049</td>\n",
       "      <td>0.035087</td>\n",
       "      <td>0.000087</td>\n",
       "      <td>0.014928</td>\n",
       "      <td>0.002396</td>\n",
       "      <td>0.000367</td>\n",
       "      <td>0.003934</td>\n",
       "      <td>0.076345</td>\n",
       "      <td>0.007616</td>\n",
       "      <td>0.003868</td>\n",
       "      <td>...</td>\n",
       "      <td>-0.000108</td>\n",
       "      <td>0.014031</td>\n",
       "      <td>0.002124</td>\n",
       "      <td>0.008870</td>\n",
       "      <td>0.068270</td>\n",
       "      <td>0.007428</td>\n",
       "      <td>0.004322</td>\n",
       "      <td>-0.000365</td>\n",
       "      <td>1.000000</td>\n",
       "      <td>-0.002276</td>\n",
       "    </tr>\n",
       "    <tr>\n",
       "      <th>Label</th>\n",
       "      <td>-0.028785</td>\n",
       "      <td>-0.003648</td>\n",
       "      <td>-0.000574</td>\n",
       "      <td>0.000565</td>\n",
       "      <td>0.021444</td>\n",
       "      <td>-0.000523</td>\n",
       "      <td>-0.002490</td>\n",
       "      <td>-0.002390</td>\n",
       "      <td>-0.000982</td>\n",
       "      <td>-0.000986</td>\n",
       "      <td>...</td>\n",
       "      <td>0.003276</td>\n",
       "      <td>0.002876</td>\n",
       "      <td>-0.001521</td>\n",
       "      <td>0.001060</td>\n",
       "      <td>-0.001381</td>\n",
       "      <td>-0.002845</td>\n",
       "      <td>0.005042</td>\n",
       "      <td>-0.000883</td>\n",
       "      <td>-0.002276</td>\n",
       "      <td>1.000000</td>\n",
       "    </tr>\n",
       "  </tbody>\n",
       "</table>\n",
       "<p>64 rows × 64 columns</p>\n",
       "</div>"
      ],
      "text/plain": [
       "            account_id  feature1  feature2  feature3  feature4  feature5  \\\n",
       "account_id    1.000000  0.024191  0.006319 -0.010782  0.007860  0.005884   \n",
       "feature1      0.024191  1.000000  0.042400  0.014451  0.018342 -0.000242   \n",
       "feature2      0.006319  0.042400  1.000000  0.000989 -0.000035 -0.000032   \n",
       "feature3     -0.010782  0.014451  0.000989  1.000000  0.004127 -0.000197   \n",
       "feature4      0.007860  0.018342 -0.000035  0.004127  1.000000 -0.000031   \n",
       "...                ...       ...       ...       ...       ...       ...   \n",
       "feature59     0.007628  0.016720  0.001852  0.004925  0.019648 -0.005117   \n",
       "feature60    -0.004430  0.109753  0.003170  0.032468  0.001718 -0.000111   \n",
       "feature61     0.007510  0.073332  0.125494  0.003998 -0.000078 -0.000072   \n",
       "feature62    -0.001049  0.035087  0.000087  0.014928  0.002396  0.000367   \n",
       "Label        -0.028785 -0.003648 -0.000574  0.000565  0.021444 -0.000523   \n",
       "\n",
       "            feature6  feature7  feature8  feature9  ...  feature54  feature55  \\\n",
       "account_id  0.008138  0.021627  0.011357  0.009017  ...   0.000223   0.016765   \n",
       "feature1    0.049549  0.164275  0.111887  0.010251  ...   0.263576   0.284016   \n",
       "feature2    0.040588  0.013781  0.028974  0.011609  ...   0.131245   0.037580   \n",
       "feature3    0.009483  0.004333  0.002116  0.001540  ...   0.008117   0.088894   \n",
       "feature4    0.003893 -0.000144 -0.000059  0.002317  ...  -0.000034  -0.007431   \n",
       "...              ...       ...       ...       ...  ...        ...        ...   \n",
       "feature59   0.055294  0.002769  0.055774 -0.003498  ...  -0.002837   0.048488   \n",
       "feature60   0.003658  0.034433 -0.000759  0.004113  ...   0.024607   0.258235   \n",
       "feature61  -0.002975  0.049177  0.030199  0.004798  ...   0.011741   0.065553   \n",
       "feature62   0.003934  0.076345  0.007616  0.003868  ...  -0.000108   0.014031   \n",
       "Label      -0.002490 -0.002390 -0.000982 -0.000986  ...   0.003276   0.002876   \n",
       "\n",
       "            feature56  feature57  feature58  feature59  feature60  feature61  \\\n",
       "account_id   0.020749   0.003832   0.010261   0.007628  -0.004430   0.007510   \n",
       "feature1     0.090694   0.015750   0.018634   0.016720   0.109753   0.073332   \n",
       "feature2     0.054795  -0.003755   0.000100   0.001852   0.003170   0.125494   \n",
       "feature3     0.003844   0.001949   0.020198   0.004925   0.032468   0.003998   \n",
       "feature4    -0.000421  -0.004913   0.003248   0.019648   0.001718  -0.000078   \n",
       "...               ...        ...        ...        ...        ...        ...   \n",
       "feature59    0.001543   0.066490   0.006475   1.000000   0.016499   0.004058   \n",
       "feature60    0.015719   0.000634   0.005803   0.016499   1.000000   0.036336   \n",
       "feature61    0.067327  -0.002182  -0.001112   0.004058   0.036336   1.000000   \n",
       "feature62    0.002124   0.008870   0.068270   0.007428   0.004322  -0.000365   \n",
       "Label       -0.001521   0.001060  -0.001381  -0.002845   0.005042  -0.000883   \n",
       "\n",
       "            feature62     Label  \n",
       "account_id  -0.001049 -0.028785  \n",
       "feature1     0.035087 -0.003648  \n",
       "feature2     0.000087 -0.000574  \n",
       "feature3     0.014928  0.000565  \n",
       "feature4     0.002396  0.021444  \n",
       "...               ...       ...  \n",
       "feature59    0.007428 -0.002845  \n",
       "feature60    0.004322  0.005042  \n",
       "feature61   -0.000365 -0.000883  \n",
       "feature62    1.000000 -0.002276  \n",
       "Label       -0.002276  1.000000  \n",
       "\n",
       "[64 rows x 64 columns]"
      ]
     },
     "execution_count": 11,
     "metadata": {},
     "output_type": "execute_result"
    }
   ],
   "source": [
    "train.corr()"
   ]
  },
  {
   "cell_type": "markdown",
   "metadata": {},
   "source": [
    "<h3>split data for training and testing</h3>"
   ]
  },
  {
   "cell_type": "code",
   "execution_count": 12,
   "metadata": {},
   "outputs": [],
   "source": [
    "\n",
    "x_train=train.drop(\"Label\",axis=1)\n",
    "y_train=train[\"Label\"]"
   ]
  },
  {
   "cell_type": "code",
   "execution_count": 13,
   "metadata": {},
   "outputs": [],
   "source": [
    "x_test=test.drop(\"Label\",axis=1)\n",
    "y_test=test[\"Label\"]"
   ]
  },
  {
   "cell_type": "code",
   "execution_count": 14,
   "metadata": {},
   "outputs": [
    {
     "name": "stdout",
     "output_type": "stream",
     "text": [
      "(114706, 64)\n",
      "(114706,)\n"
     ]
    }
   ],
   "source": [
    "print(x_train.shape)\n",
    "print(y_train.shape)"
   ]
  },
  {
   "cell_type": "code",
   "execution_count": 15,
   "metadata": {},
   "outputs": [
    {
     "name": "stdout",
     "output_type": "stream",
     "text": [
      "(29620, 64)\n",
      "(29620,)\n"
     ]
    }
   ],
   "source": [
    "print(x_test.shape)\n",
    "print(y_test.shape)"
   ]
  },
  {
   "cell_type": "code",
   "execution_count": 16,
   "metadata": {},
   "outputs": [
    {
     "name": "stdout",
     "output_type": "stream",
     "text": [
      "<class 'pandas.core.frame.DataFrame'>\n",
      "RangeIndex: 114706 entries, 0 to 114705\n",
      "Data columns (total 65 columns):\n",
      " #   Column           Non-Null Count   Dtype         \n",
      "---  ------           --------------   -----         \n",
      " 0   account_id       114706 non-null  float64       \n",
      " 1   week_start_date  114706 non-null  datetime64[ns]\n",
      " 2   feature1         114706 non-null  float64       \n",
      " 3   feature2         114706 non-null  float64       \n",
      " 4   feature3         114706 non-null  float64       \n",
      " 5   feature4         114706 non-null  float64       \n",
      " 6   feature5         114706 non-null  float64       \n",
      " 7   feature6         114706 non-null  float64       \n",
      " 8   feature7         114706 non-null  float64       \n",
      " 9   feature8         114706 non-null  float64       \n",
      " 10  feature9         114706 non-null  float64       \n",
      " 11  feature10        114706 non-null  float64       \n",
      " 12  feature11        114706 non-null  float64       \n",
      " 13  feature12        114706 non-null  float64       \n",
      " 14  feature13        114706 non-null  float64       \n",
      " 15  feature14        114706 non-null  float64       \n",
      " 16  feature15        114706 non-null  float64       \n",
      " 17  feature16        114706 non-null  float64       \n",
      " 18  feature17        114706 non-null  float64       \n",
      " 19  feature18        114706 non-null  float64       \n",
      " 20  feature19        114706 non-null  float64       \n",
      " 21  feature20        114706 non-null  float64       \n",
      " 22  feature21        114706 non-null  float64       \n",
      " 23  feature22        114706 non-null  float64       \n",
      " 24  feature23        114706 non-null  float64       \n",
      " 25  feature24        114706 non-null  float64       \n",
      " 26  feature25        114706 non-null  float64       \n",
      " 27  feature26        114706 non-null  float64       \n",
      " 28  feature27        114706 non-null  float64       \n",
      " 29  feature28        114706 non-null  float64       \n",
      " 30  feature29        114706 non-null  float64       \n",
      " 31  feature30        114706 non-null  float64       \n",
      " 32  feature31        114706 non-null  float64       \n",
      " 33  feature32        114706 non-null  float64       \n",
      " 34  feature33        114706 non-null  float64       \n",
      " 35  feature34        114706 non-null  float64       \n",
      " 36  feature35        114706 non-null  float64       \n",
      " 37  feature36        114706 non-null  float64       \n",
      " 38  feature37        114706 non-null  float64       \n",
      " 39  feature38        114706 non-null  float64       \n",
      " 40  feature39        114706 non-null  float64       \n",
      " 41  feature40        114706 non-null  float64       \n",
      " 42  feature41        114706 non-null  float64       \n",
      " 43  feature42        114706 non-null  float64       \n",
      " 44  feature43        114706 non-null  float64       \n",
      " 45  feature44        114706 non-null  float64       \n",
      " 46  feature45        114706 non-null  float64       \n",
      " 47  feature46        114706 non-null  float64       \n",
      " 48  feature47        114706 non-null  float64       \n",
      " 49  feature48        114706 non-null  float64       \n",
      " 50  feature49        114706 non-null  float64       \n",
      " 51  feature50        114706 non-null  float64       \n",
      " 52  feature51        114706 non-null  float64       \n",
      " 53  feature52        114706 non-null  float64       \n",
      " 54  feature53        114706 non-null  float64       \n",
      " 55  feature54        114706 non-null  float64       \n",
      " 56  feature55        114706 non-null  float64       \n",
      " 57  feature56        114706 non-null  float64       \n",
      " 58  feature57        114706 non-null  float64       \n",
      " 59  feature58        114706 non-null  float64       \n",
      " 60  feature59        114706 non-null  float64       \n",
      " 61  feature60        114706 non-null  float64       \n",
      " 62  feature61        114706 non-null  float64       \n",
      " 63  feature62        114706 non-null  float64       \n",
      " 64  Label            114706 non-null  int64         \n",
      "dtypes: datetime64[ns](1), float64(63), int64(1)\n",
      "memory usage: 56.9 MB\n"
     ]
    }
   ],
   "source": [
    "train.info()"
   ]
  },
  {
   "cell_type": "code",
   "execution_count": 17,
   "metadata": {},
   "outputs": [
    {
     "data": {
      "text/plain": [
       "0         0\n",
       "1         0\n",
       "2         0\n",
       "3         0\n",
       "4         0\n",
       "         ..\n",
       "114701    0\n",
       "114702    0\n",
       "114703    0\n",
       "114704    0\n",
       "114705    0\n",
       "Name: Label, Length: 114706, dtype: int64"
      ]
     },
     "execution_count": 17,
     "metadata": {},
     "output_type": "execute_result"
    }
   ],
   "source": [
    "train[\"Label\"]"
   ]
  },
  {
   "cell_type": "code",
   "execution_count": 18,
   "metadata": {},
   "outputs": [],
   "source": [
    "import seaborn as sn"
   ]
  },
  {
   "cell_type": "markdown",
   "metadata": {},
   "source": [
    "<h3>check target data is balanced or not </h3>"
   ]
  },
  {
   "cell_type": "code",
   "execution_count": 19,
   "metadata": {},
   "outputs": [
    {
     "data": {
      "text/plain": [
       "<matplotlib.axes._subplots.AxesSubplot at 0x1a863011f48>"
      ]
     },
     "execution_count": 19,
     "metadata": {},
     "output_type": "execute_result"
    },
    {
     "data": {
      "image/png": "[encoded data removed]",
      "text/plain": [
       "<Figure size 432x288 with 1 Axes>"
      ]
     },
     "metadata": {
      "needs_background": "light"
     },
     "output_type": "display_data"
    }
   ],
   "source": [
    "sn.countplot(x=\"Label\",data=train)"
   ]
  },
  {
   "cell_type": "code",
   "execution_count": 20,
   "metadata": {},
   "outputs": [
    {
     "data": {
      "text/plain": [
       "<matplotlib.axes._subplots.AxesSubplot at 0x1a8630c3b08>"
      ]
     },
     "execution_count": 20,
     "metadata": {},
     "output_type": "execute_result"
    },
    {
     "data": {
      "image/png": "[encoded data removed]",
      "text/plain": [
       "<Figure size 432x288 with 1 Axes>"
      ]
     },
     "metadata": {
      "needs_background": "light"
     },
     "output_type": "display_data"
    }
   ],
   "source": [
    "sn.countplot(x=\"Label\",data=test)"
   ]
  },
  {
   "cell_type": "code",
   "execution_count": 21,
   "metadata": {},
   "outputs": [],
   "source": [
    "#imbalanced datasets"
   ]
  },
  {
   "cell_type": "markdown",
   "metadata": {},
   "source": [
    "<h3>count imbalanced data for 0 and 1</h3>"
   ]
  },
  {
   "cell_type": "code",
   "execution_count": 22,
   "metadata": {},
   "outputs": [
    {
     "data": {
      "text/plain": [
       "0    113630\n",
       "1      1076\n",
       "Name: Label, dtype: int64"
      ]
     },
     "execution_count": 22,
     "metadata": {},
     "output_type": "execute_result"
    }
   ],
   "source": [
    "train['Label'].value_counts()"
   ]
  },
  {
   "cell_type": "code",
   "execution_count": 23,
   "metadata": {},
   "outputs": [
    {
     "data": {
      "text/plain": [
       "0    29343\n",
       "1      277\n",
       "Name: Label, dtype: int64"
      ]
     },
     "execution_count": 23,
     "metadata": {},
     "output_type": "execute_result"
    }
   ],
   "source": [
    "test['Label'].value_counts()"
   ]
  },
  {
   "cell_type": "code",
   "execution_count": 24,
   "metadata": {},
   "outputs": [],
   "source": [
    "#it is case of oversampling i will use smote ,to deal with this imbalanced datasets"
   ]
  },
  {
   "cell_type": "code",
   "execution_count": 25,
   "metadata": {},
   "outputs": [],
   "source": [
    "neg=train[train[\"Label\"]==0]\n",
    "post=train[train[\"Label\"]==1]"
   ]
  },
  {
   "cell_type": "code",
   "execution_count": 26,
   "metadata": {},
   "outputs": [
    {
     "name": "stdout",
     "output_type": "stream",
     "text": [
      "(113630, 65) (1076, 65)\n"
     ]
    }
   ],
   "source": [
    "print(neg.shape,post.shape)"
   ]
  },
  {
   "cell_type": "code",
   "execution_count": 27,
   "metadata": {},
   "outputs": [],
   "source": [
    "negtest=test[test[\"Label\"]==0]\n",
    "posttest=test[test[\"Label\"]==1]"
   ]
  },
  {
   "cell_type": "code",
   "execution_count": 28,
   "metadata": {},
   "outputs": [
    {
     "name": "stdout",
     "output_type": "stream",
     "text": [
      "(29343, 65) (277, 65)\n"
     ]
    }
   ],
   "source": [
    "print(negtest.shape,posttest.shape)"
   ]
  },
  {
   "cell_type": "code",
   "execution_count": 29,
   "metadata": {},
   "outputs": [],
   "source": [
    "from datetime import datetime"
   ]
  },
  {
   "cell_type": "markdown",
   "metadata": {},
   "source": [
    "<h3>convert date to milisecond </h3>"
   ]
  },
  {
   "cell_type": "code",
   "execution_count": 30,
   "metadata": {},
   "outputs": [],
   "source": [
    "# x.drop(\"week_start_date\",inplace=True,axis=1)\n",
    "import numpy as np\n",
    "def mili(d):\n",
    "    s=d.timestamp()*1000\n",
    "    return round(s,2)"
   ]
  },
  {
   "cell_type": "code",
   "execution_count": 31,
   "metadata": {},
   "outputs": [],
   "source": [
    "#training"
   ]
  },
  {
   "cell_type": "code",
   "execution_count": 32,
   "metadata": {},
   "outputs": [],
   "source": [
    "x_train.week_start_date=x_train[\"week_start_date\"].apply(mili)"
   ]
  },
  {
   "cell_type": "code",
   "execution_count": 33,
   "metadata": {},
   "outputs": [],
   "source": [
    "x_train[\"week_start_date\"]=x_train[\"week_start_date\"].astype(\"float\")"
   ]
  },
  {
   "cell_type": "code",
   "execution_count": 34,
   "metadata": {},
   "outputs": [],
   "source": [
    "#testing"
   ]
  },
  {
   "cell_type": "code",
   "execution_count": 35,
   "metadata": {},
   "outputs": [],
   "source": [
    "x_test[\"week_start_date\"]=x_test[\"week_start_date\"].apply(mili)\n",
    "x_test[\"week_start_date\"]=x_test[\"week_start_date\"].astype(\"float\")"
   ]
  },
  {
   "cell_type": "markdown",
   "metadata": {},
   "source": [
    "<h3>Apply oversampling method SMOTE to balanced dataset</h3>"
   ]
  },
  {
   "cell_type": "code",
   "execution_count": 36,
   "metadata": {},
   "outputs": [],
   "source": [
    "from imblearn.over_sampling import SMOTE"
   ]
  },
  {
   "cell_type": "code",
   "execution_count": 37,
   "metadata": {},
   "outputs": [
    {
     "data": {
      "text/html": [
       "<div>\n",
       "<style scoped>\n",
       "    .dataframe tbody tr th:only-of-type {\n",
       "        vertical-align: middle;\n",
       "    }\n",
       "\n",
       "    .dataframe tbody tr th {\n",
       "        vertical-align: top;\n",
       "    }\n",
       "\n",
       "    .dataframe thead th {\n",
       "        text-align: right;\n",
       "    }\n",
       "</style>\n",
       "<table border=\"1\" class=\"dataframe\">\n",
       "  <thead>\n",
       "    <tr style=\"text-align: right;\">\n",
       "      <th></th>\n",
       "      <th>account_id</th>\n",
       "      <th>week_start_date</th>\n",
       "      <th>feature1</th>\n",
       "      <th>feature2</th>\n",
       "      <th>feature3</th>\n",
       "      <th>feature4</th>\n",
       "      <th>feature5</th>\n",
       "      <th>feature6</th>\n",
       "      <th>feature7</th>\n",
       "      <th>feature8</th>\n",
       "      <th>...</th>\n",
       "      <th>feature53</th>\n",
       "      <th>feature54</th>\n",
       "      <th>feature55</th>\n",
       "      <th>feature56</th>\n",
       "      <th>feature57</th>\n",
       "      <th>feature58</th>\n",
       "      <th>feature59</th>\n",
       "      <th>feature60</th>\n",
       "      <th>feature61</th>\n",
       "      <th>feature62</th>\n",
       "    </tr>\n",
       "  </thead>\n",
       "  <tbody>\n",
       "    <tr>\n",
       "      <th>0</th>\n",
       "      <td>100559.0</td>\n",
       "      <td>1.535933e+12</td>\n",
       "      <td>0.0</td>\n",
       "      <td>0.0</td>\n",
       "      <td>0.000000</td>\n",
       "      <td>0.0</td>\n",
       "      <td>0.0</td>\n",
       "      <td>0.0</td>\n",
       "      <td>0.0</td>\n",
       "      <td>0.0</td>\n",
       "      <td>...</td>\n",
       "      <td>0.000000</td>\n",
       "      <td>0.0</td>\n",
       "      <td>0.000000</td>\n",
       "      <td>0.000000</td>\n",
       "      <td>0.0</td>\n",
       "      <td>0.0</td>\n",
       "      <td>0.0</td>\n",
       "      <td>0.0</td>\n",
       "      <td>0.0</td>\n",
       "      <td>0.0</td>\n",
       "    </tr>\n",
       "    <tr>\n",
       "      <th>1</th>\n",
       "      <td>103339.0</td>\n",
       "      <td>1.535933e+12</td>\n",
       "      <td>0.0</td>\n",
       "      <td>0.0</td>\n",
       "      <td>0.000000</td>\n",
       "      <td>0.0</td>\n",
       "      <td>0.0</td>\n",
       "      <td>0.0</td>\n",
       "      <td>0.0</td>\n",
       "      <td>0.0</td>\n",
       "      <td>...</td>\n",
       "      <td>0.000000</td>\n",
       "      <td>0.0</td>\n",
       "      <td>0.000000</td>\n",
       "      <td>0.000000</td>\n",
       "      <td>0.0</td>\n",
       "      <td>0.0</td>\n",
       "      <td>0.0</td>\n",
       "      <td>0.0</td>\n",
       "      <td>0.0</td>\n",
       "      <td>0.0</td>\n",
       "    </tr>\n",
       "    <tr>\n",
       "      <th>2</th>\n",
       "      <td>105319.0</td>\n",
       "      <td>1.535933e+12</td>\n",
       "      <td>0.0</td>\n",
       "      <td>0.0</td>\n",
       "      <td>0.000000</td>\n",
       "      <td>0.0</td>\n",
       "      <td>0.0</td>\n",
       "      <td>0.0</td>\n",
       "      <td>0.0</td>\n",
       "      <td>0.0</td>\n",
       "      <td>...</td>\n",
       "      <td>0.000000</td>\n",
       "      <td>0.0</td>\n",
       "      <td>0.000000</td>\n",
       "      <td>0.000000</td>\n",
       "      <td>0.0</td>\n",
       "      <td>0.0</td>\n",
       "      <td>0.0</td>\n",
       "      <td>0.0</td>\n",
       "      <td>0.0</td>\n",
       "      <td>0.0</td>\n",
       "    </tr>\n",
       "    <tr>\n",
       "      <th>3</th>\n",
       "      <td>107387.0</td>\n",
       "      <td>1.535933e+12</td>\n",
       "      <td>0.0</td>\n",
       "      <td>0.0</td>\n",
       "      <td>0.000000</td>\n",
       "      <td>0.0</td>\n",
       "      <td>0.0</td>\n",
       "      <td>0.0</td>\n",
       "      <td>0.0</td>\n",
       "      <td>0.0</td>\n",
       "      <td>...</td>\n",
       "      <td>0.000000</td>\n",
       "      <td>0.0</td>\n",
       "      <td>0.000000</td>\n",
       "      <td>0.000000</td>\n",
       "      <td>0.0</td>\n",
       "      <td>0.0</td>\n",
       "      <td>0.0</td>\n",
       "      <td>0.0</td>\n",
       "      <td>0.0</td>\n",
       "      <td>0.0</td>\n",
       "    </tr>\n",
       "    <tr>\n",
       "      <th>4</th>\n",
       "      <td>100450.0</td>\n",
       "      <td>1.535933e+12</td>\n",
       "      <td>0.0</td>\n",
       "      <td>0.0</td>\n",
       "      <td>124.666667</td>\n",
       "      <td>0.0</td>\n",
       "      <td>0.0</td>\n",
       "      <td>0.0</td>\n",
       "      <td>0.0</td>\n",
       "      <td>0.0</td>\n",
       "      <td>...</td>\n",
       "      <td>30.666667</td>\n",
       "      <td>0.0</td>\n",
       "      <td>0.000000</td>\n",
       "      <td>0.000000</td>\n",
       "      <td>0.0</td>\n",
       "      <td>0.0</td>\n",
       "      <td>0.0</td>\n",
       "      <td>0.0</td>\n",
       "      <td>0.0</td>\n",
       "      <td>0.0</td>\n",
       "    </tr>\n",
       "    <tr>\n",
       "      <th>...</th>\n",
       "      <td>...</td>\n",
       "      <td>...</td>\n",
       "      <td>...</td>\n",
       "      <td>...</td>\n",
       "      <td>...</td>\n",
       "      <td>...</td>\n",
       "      <td>...</td>\n",
       "      <td>...</td>\n",
       "      <td>...</td>\n",
       "      <td>...</td>\n",
       "      <td>...</td>\n",
       "      <td>...</td>\n",
       "      <td>...</td>\n",
       "      <td>...</td>\n",
       "      <td>...</td>\n",
       "      <td>...</td>\n",
       "      <td>...</td>\n",
       "      <td>...</td>\n",
       "      <td>...</td>\n",
       "      <td>...</td>\n",
       "      <td>...</td>\n",
       "    </tr>\n",
       "    <tr>\n",
       "      <th>114701</th>\n",
       "      <td>221945.0</td>\n",
       "      <td>1.585526e+12</td>\n",
       "      <td>0.0</td>\n",
       "      <td>0.0</td>\n",
       "      <td>0.000000</td>\n",
       "      <td>0.0</td>\n",
       "      <td>0.0</td>\n",
       "      <td>0.0</td>\n",
       "      <td>0.0</td>\n",
       "      <td>0.0</td>\n",
       "      <td>...</td>\n",
       "      <td>0.000000</td>\n",
       "      <td>0.0</td>\n",
       "      <td>0.000000</td>\n",
       "      <td>0.000000</td>\n",
       "      <td>0.0</td>\n",
       "      <td>0.0</td>\n",
       "      <td>0.0</td>\n",
       "      <td>0.0</td>\n",
       "      <td>0.0</td>\n",
       "      <td>0.0</td>\n",
       "    </tr>\n",
       "    <tr>\n",
       "      <th>114702</th>\n",
       "      <td>201547.0</td>\n",
       "      <td>1.585526e+12</td>\n",
       "      <td>0.0</td>\n",
       "      <td>0.0</td>\n",
       "      <td>2.724138</td>\n",
       "      <td>0.0</td>\n",
       "      <td>0.0</td>\n",
       "      <td>0.0</td>\n",
       "      <td>5.4</td>\n",
       "      <td>0.0</td>\n",
       "      <td>...</td>\n",
       "      <td>4.943925</td>\n",
       "      <td>0.0</td>\n",
       "      <td>5.782609</td>\n",
       "      <td>-0.076923</td>\n",
       "      <td>0.0</td>\n",
       "      <td>0.0</td>\n",
       "      <td>0.0</td>\n",
       "      <td>0.0</td>\n",
       "      <td>0.0</td>\n",
       "      <td>0.0</td>\n",
       "    </tr>\n",
       "    <tr>\n",
       "      <th>114703</th>\n",
       "      <td>198212.0</td>\n",
       "      <td>1.585526e+12</td>\n",
       "      <td>0.0</td>\n",
       "      <td>0.0</td>\n",
       "      <td>0.000000</td>\n",
       "      <td>0.0</td>\n",
       "      <td>0.0</td>\n",
       "      <td>0.0</td>\n",
       "      <td>0.0</td>\n",
       "      <td>0.0</td>\n",
       "      <td>...</td>\n",
       "      <td>0.000000</td>\n",
       "      <td>0.0</td>\n",
       "      <td>0.000000</td>\n",
       "      <td>0.000000</td>\n",
       "      <td>0.0</td>\n",
       "      <td>0.0</td>\n",
       "      <td>0.0</td>\n",
       "      <td>0.0</td>\n",
       "      <td>0.0</td>\n",
       "      <td>0.0</td>\n",
       "    </tr>\n",
       "    <tr>\n",
       "      <th>114704</th>\n",
       "      <td>179895.0</td>\n",
       "      <td>1.585526e+12</td>\n",
       "      <td>0.0</td>\n",
       "      <td>0.0</td>\n",
       "      <td>0.000000</td>\n",
       "      <td>0.0</td>\n",
       "      <td>0.0</td>\n",
       "      <td>0.0</td>\n",
       "      <td>0.0</td>\n",
       "      <td>0.0</td>\n",
       "      <td>...</td>\n",
       "      <td>0.000000</td>\n",
       "      <td>0.0</td>\n",
       "      <td>0.000000</td>\n",
       "      <td>0.000000</td>\n",
       "      <td>0.0</td>\n",
       "      <td>0.0</td>\n",
       "      <td>0.0</td>\n",
       "      <td>0.0</td>\n",
       "      <td>0.0</td>\n",
       "      <td>0.0</td>\n",
       "    </tr>\n",
       "    <tr>\n",
       "      <th>114705</th>\n",
       "      <td>101817.0</td>\n",
       "      <td>1.585526e+12</td>\n",
       "      <td>0.0</td>\n",
       "      <td>0.0</td>\n",
       "      <td>0.000000</td>\n",
       "      <td>0.0</td>\n",
       "      <td>0.0</td>\n",
       "      <td>0.0</td>\n",
       "      <td>0.0</td>\n",
       "      <td>0.0</td>\n",
       "      <td>...</td>\n",
       "      <td>0.000000</td>\n",
       "      <td>0.0</td>\n",
       "      <td>0.000000</td>\n",
       "      <td>0.000000</td>\n",
       "      <td>0.0</td>\n",
       "      <td>0.0</td>\n",
       "      <td>0.0</td>\n",
       "      <td>0.0</td>\n",
       "      <td>0.0</td>\n",
       "      <td>0.0</td>\n",
       "    </tr>\n",
       "  </tbody>\n",
       "</table>\n",
       "<p>114706 rows × 64 columns</p>\n",
       "</div>"
      ],
      "text/plain": [
       "        account_id  week_start_date  feature1  feature2    feature3  feature4  \\\n",
       "0         100559.0     1.535933e+12       0.0       0.0    0.000000       0.0   \n",
       "1         103339.0     1.535933e+12       0.0       0.0    0.000000       0.0   \n",
       "2         105319.0     1.535933e+12       0.0       0.0    0.000000       0.0   \n",
       "3         107387.0     1.535933e+12       0.0       0.0    0.000000       0.0   \n",
       "4         100450.0     1.535933e+12       0.0       0.0  124.666667       0.0   \n",
       "...            ...              ...       ...       ...         ...       ...   \n",
       "114701    221945.0     1.585526e+12       0.0       0.0    0.000000       0.0   \n",
       "114702    201547.0     1.585526e+12       0.0       0.0    2.724138       0.0   \n",
       "114703    198212.0     1.585526e+12       0.0       0.0    0.000000       0.0   \n",
       "114704    179895.0     1.585526e+12       0.0       0.0    0.000000       0.0   \n",
       "114705    101817.0     1.585526e+12       0.0       0.0    0.000000       0.0   \n",
       "\n",
       "        feature5  feature6  feature7  feature8  ...  feature53  feature54  \\\n",
       "0            0.0       0.0       0.0       0.0  ...   0.000000        0.0   \n",
       "1            0.0       0.0       0.0       0.0  ...   0.000000        0.0   \n",
       "2            0.0       0.0       0.0       0.0  ...   0.000000        0.0   \n",
       "3            0.0       0.0       0.0       0.0  ...   0.000000        0.0   \n",
       "4            0.0       0.0       0.0       0.0  ...  30.666667        0.0   \n",
       "...          ...       ...       ...       ...  ...        ...        ...   \n",
       "114701       0.0       0.0       0.0       0.0  ...   0.000000        0.0   \n",
       "114702       0.0       0.0       5.4       0.0  ...   4.943925        0.0   \n",
       "114703       0.0       0.0       0.0       0.0  ...   0.000000        0.0   \n",
       "114704       0.0       0.0       0.0       0.0  ...   0.000000        0.0   \n",
       "114705       0.0       0.0       0.0       0.0  ...   0.000000        0.0   \n",
       "\n",
       "        feature55  feature56  feature57  feature58  feature59  feature60  \\\n",
       "0        0.000000   0.000000        0.0        0.0        0.0        0.0   \n",
       "1        0.000000   0.000000        0.0        0.0        0.0        0.0   \n",
       "2        0.000000   0.000000        0.0        0.0        0.0        0.0   \n",
       "3        0.000000   0.000000        0.0        0.0        0.0        0.0   \n",
       "4        0.000000   0.000000        0.0        0.0        0.0        0.0   \n",
       "...           ...        ...        ...        ...        ...        ...   \n",
       "114701   0.000000   0.000000        0.0        0.0        0.0        0.0   \n",
       "114702   5.782609  -0.076923        0.0        0.0        0.0        0.0   \n",
       "114703   0.000000   0.000000        0.0        0.0        0.0        0.0   \n",
       "114704   0.000000   0.000000        0.0        0.0        0.0        0.0   \n",
       "114705   0.000000   0.000000        0.0        0.0        0.0        0.0   \n",
       "\n",
       "        feature61  feature62  \n",
       "0             0.0        0.0  \n",
       "1             0.0        0.0  \n",
       "2             0.0        0.0  \n",
       "3             0.0        0.0  \n",
       "4             0.0        0.0  \n",
       "...           ...        ...  \n",
       "114701        0.0        0.0  \n",
       "114702        0.0        0.0  \n",
       "114703        0.0        0.0  \n",
       "114704        0.0        0.0  \n",
       "114705        0.0        0.0  \n",
       "\n",
       "[114706 rows x 64 columns]"
      ]
     },
     "execution_count": 37,
     "metadata": {},
     "output_type": "execute_result"
    }
   ],
   "source": [
    "x_train"
   ]
  },
  {
   "cell_type": "code",
   "execution_count": 38,
   "metadata": {},
   "outputs": [
    {
     "data": {
      "text/html": [
       "<div>\n",
       "<style scoped>\n",
       "    .dataframe tbody tr th:only-of-type {\n",
       "        vertical-align: middle;\n",
       "    }\n",
       "\n",
       "    .dataframe tbody tr th {\n",
       "        vertical-align: top;\n",
       "    }\n",
       "\n",
       "    .dataframe thead th {\n",
       "        text-align: right;\n",
       "    }\n",
       "</style>\n",
       "<table border=\"1\" class=\"dataframe\">\n",
       "  <thead>\n",
       "    <tr style=\"text-align: right;\">\n",
       "      <th></th>\n",
       "      <th>account_id</th>\n",
       "      <th>week_start_date</th>\n",
       "      <th>feature1</th>\n",
       "      <th>feature2</th>\n",
       "      <th>feature3</th>\n",
       "      <th>feature4</th>\n",
       "      <th>feature5</th>\n",
       "      <th>feature6</th>\n",
       "      <th>feature7</th>\n",
       "      <th>feature8</th>\n",
       "      <th>...</th>\n",
       "      <th>feature53</th>\n",
       "      <th>feature54</th>\n",
       "      <th>feature55</th>\n",
       "      <th>feature56</th>\n",
       "      <th>feature57</th>\n",
       "      <th>feature58</th>\n",
       "      <th>feature59</th>\n",
       "      <th>feature60</th>\n",
       "      <th>feature61</th>\n",
       "      <th>feature62</th>\n",
       "    </tr>\n",
       "  </thead>\n",
       "  <tbody>\n",
       "    <tr>\n",
       "      <th>0</th>\n",
       "      <td>105049</td>\n",
       "      <td>1.535933e+12</td>\n",
       "      <td>0.0</td>\n",
       "      <td>0.0</td>\n",
       "      <td>0.0</td>\n",
       "      <td>0.0</td>\n",
       "      <td>0.0</td>\n",
       "      <td>0.0</td>\n",
       "      <td>0.0</td>\n",
       "      <td>0.0</td>\n",
       "      <td>...</td>\n",
       "      <td>0.000000</td>\n",
       "      <td>0.0</td>\n",
       "      <td>0.000000</td>\n",
       "      <td>0.0</td>\n",
       "      <td>0.0</td>\n",
       "      <td>0.0</td>\n",
       "      <td>0.0</td>\n",
       "      <td>0.0</td>\n",
       "      <td>0.0</td>\n",
       "      <td>0.0</td>\n",
       "    </tr>\n",
       "    <tr>\n",
       "      <th>1</th>\n",
       "      <td>100230</td>\n",
       "      <td>1.535933e+12</td>\n",
       "      <td>0.0</td>\n",
       "      <td>0.0</td>\n",
       "      <td>2.0</td>\n",
       "      <td>0.0</td>\n",
       "      <td>0.0</td>\n",
       "      <td>0.0</td>\n",
       "      <td>0.0</td>\n",
       "      <td>0.0</td>\n",
       "      <td>...</td>\n",
       "      <td>1.000000</td>\n",
       "      <td>0.0</td>\n",
       "      <td>0.333333</td>\n",
       "      <td>0.0</td>\n",
       "      <td>0.0</td>\n",
       "      <td>0.0</td>\n",
       "      <td>0.0</td>\n",
       "      <td>0.0</td>\n",
       "      <td>0.0</td>\n",
       "      <td>0.0</td>\n",
       "    </tr>\n",
       "    <tr>\n",
       "      <th>2</th>\n",
       "      <td>100230</td>\n",
       "      <td>1.535933e+12</td>\n",
       "      <td>0.0</td>\n",
       "      <td>0.0</td>\n",
       "      <td>0.0</td>\n",
       "      <td>0.0</td>\n",
       "      <td>0.0</td>\n",
       "      <td>0.0</td>\n",
       "      <td>0.0</td>\n",
       "      <td>0.0</td>\n",
       "      <td>...</td>\n",
       "      <td>0.000000</td>\n",
       "      <td>0.0</td>\n",
       "      <td>0.000000</td>\n",
       "      <td>0.0</td>\n",
       "      <td>0.0</td>\n",
       "      <td>0.0</td>\n",
       "      <td>0.0</td>\n",
       "      <td>0.0</td>\n",
       "      <td>0.0</td>\n",
       "      <td>0.0</td>\n",
       "    </tr>\n",
       "    <tr>\n",
       "      <th>3</th>\n",
       "      <td>101699</td>\n",
       "      <td>1.535933e+12</td>\n",
       "      <td>0.0</td>\n",
       "      <td>0.0</td>\n",
       "      <td>0.0</td>\n",
       "      <td>0.0</td>\n",
       "      <td>0.0</td>\n",
       "      <td>0.0</td>\n",
       "      <td>0.0</td>\n",
       "      <td>0.0</td>\n",
       "      <td>...</td>\n",
       "      <td>0.000000</td>\n",
       "      <td>0.0</td>\n",
       "      <td>0.000000</td>\n",
       "      <td>0.0</td>\n",
       "      <td>0.0</td>\n",
       "      <td>0.0</td>\n",
       "      <td>0.0</td>\n",
       "      <td>0.0</td>\n",
       "      <td>0.0</td>\n",
       "      <td>0.0</td>\n",
       "    </tr>\n",
       "    <tr>\n",
       "      <th>4</th>\n",
       "      <td>101581</td>\n",
       "      <td>1.535933e+12</td>\n",
       "      <td>0.0</td>\n",
       "      <td>0.0</td>\n",
       "      <td>0.0</td>\n",
       "      <td>0.0</td>\n",
       "      <td>0.0</td>\n",
       "      <td>0.0</td>\n",
       "      <td>0.0</td>\n",
       "      <td>0.0</td>\n",
       "      <td>...</td>\n",
       "      <td>0.000000</td>\n",
       "      <td>0.0</td>\n",
       "      <td>0.000000</td>\n",
       "      <td>0.0</td>\n",
       "      <td>0.0</td>\n",
       "      <td>0.0</td>\n",
       "      <td>0.0</td>\n",
       "      <td>0.0</td>\n",
       "      <td>0.0</td>\n",
       "      <td>0.0</td>\n",
       "    </tr>\n",
       "    <tr>\n",
       "      <th>...</th>\n",
       "      <td>...</td>\n",
       "      <td>...</td>\n",
       "      <td>...</td>\n",
       "      <td>...</td>\n",
       "      <td>...</td>\n",
       "      <td>...</td>\n",
       "      <td>...</td>\n",
       "      <td>...</td>\n",
       "      <td>...</td>\n",
       "      <td>...</td>\n",
       "      <td>...</td>\n",
       "      <td>...</td>\n",
       "      <td>...</td>\n",
       "      <td>...</td>\n",
       "      <td>...</td>\n",
       "      <td>...</td>\n",
       "      <td>...</td>\n",
       "      <td>...</td>\n",
       "      <td>...</td>\n",
       "      <td>...</td>\n",
       "      <td>...</td>\n",
       "    </tr>\n",
       "    <tr>\n",
       "      <th>29615</th>\n",
       "      <td>101391</td>\n",
       "      <td>1.585526e+12</td>\n",
       "      <td>0.0</td>\n",
       "      <td>0.0</td>\n",
       "      <td>0.0</td>\n",
       "      <td>0.0</td>\n",
       "      <td>0.0</td>\n",
       "      <td>0.0</td>\n",
       "      <td>0.0</td>\n",
       "      <td>0.0</td>\n",
       "      <td>...</td>\n",
       "      <td>0.000000</td>\n",
       "      <td>0.0</td>\n",
       "      <td>0.333333</td>\n",
       "      <td>0.0</td>\n",
       "      <td>0.0</td>\n",
       "      <td>0.0</td>\n",
       "      <td>0.0</td>\n",
       "      <td>0.0</td>\n",
       "      <td>0.0</td>\n",
       "      <td>0.0</td>\n",
       "    </tr>\n",
       "    <tr>\n",
       "      <th>29616</th>\n",
       "      <td>100740</td>\n",
       "      <td>1.585526e+12</td>\n",
       "      <td>0.0</td>\n",
       "      <td>0.0</td>\n",
       "      <td>0.0</td>\n",
       "      <td>0.0</td>\n",
       "      <td>0.0</td>\n",
       "      <td>0.0</td>\n",
       "      <td>0.0</td>\n",
       "      <td>0.0</td>\n",
       "      <td>...</td>\n",
       "      <td>0.000000</td>\n",
       "      <td>0.0</td>\n",
       "      <td>0.600000</td>\n",
       "      <td>0.0</td>\n",
       "      <td>0.0</td>\n",
       "      <td>0.0</td>\n",
       "      <td>0.0</td>\n",
       "      <td>0.0</td>\n",
       "      <td>0.0</td>\n",
       "      <td>0.0</td>\n",
       "    </tr>\n",
       "    <tr>\n",
       "      <th>29617</th>\n",
       "      <td>193889</td>\n",
       "      <td>1.585526e+12</td>\n",
       "      <td>0.0</td>\n",
       "      <td>0.0</td>\n",
       "      <td>0.0</td>\n",
       "      <td>0.0</td>\n",
       "      <td>0.0</td>\n",
       "      <td>0.0</td>\n",
       "      <td>2.0</td>\n",
       "      <td>0.0</td>\n",
       "      <td>...</td>\n",
       "      <td>0.764706</td>\n",
       "      <td>0.0</td>\n",
       "      <td>0.500000</td>\n",
       "      <td>0.0</td>\n",
       "      <td>0.0</td>\n",
       "      <td>0.0</td>\n",
       "      <td>0.0</td>\n",
       "      <td>0.0</td>\n",
       "      <td>0.0</td>\n",
       "      <td>0.0</td>\n",
       "    </tr>\n",
       "    <tr>\n",
       "      <th>29618</th>\n",
       "      <td>197940</td>\n",
       "      <td>1.585526e+12</td>\n",
       "      <td>0.0</td>\n",
       "      <td>0.0</td>\n",
       "      <td>0.0</td>\n",
       "      <td>0.0</td>\n",
       "      <td>0.0</td>\n",
       "      <td>0.0</td>\n",
       "      <td>0.0</td>\n",
       "      <td>0.0</td>\n",
       "      <td>...</td>\n",
       "      <td>0.000000</td>\n",
       "      <td>0.0</td>\n",
       "      <td>0.000000</td>\n",
       "      <td>0.0</td>\n",
       "      <td>0.0</td>\n",
       "      <td>0.0</td>\n",
       "      <td>0.0</td>\n",
       "      <td>0.0</td>\n",
       "      <td>0.0</td>\n",
       "      <td>0.0</td>\n",
       "    </tr>\n",
       "    <tr>\n",
       "      <th>29619</th>\n",
       "      <td>239722</td>\n",
       "      <td>1.585526e+12</td>\n",
       "      <td>0.0</td>\n",
       "      <td>0.0</td>\n",
       "      <td>0.0</td>\n",
       "      <td>0.0</td>\n",
       "      <td>0.0</td>\n",
       "      <td>0.0</td>\n",
       "      <td>0.0</td>\n",
       "      <td>0.0</td>\n",
       "      <td>...</td>\n",
       "      <td>0.000000</td>\n",
       "      <td>0.0</td>\n",
       "      <td>0.000000</td>\n",
       "      <td>0.0</td>\n",
       "      <td>0.0</td>\n",
       "      <td>0.0</td>\n",
       "      <td>0.0</td>\n",
       "      <td>0.0</td>\n",
       "      <td>0.0</td>\n",
       "      <td>0.0</td>\n",
       "    </tr>\n",
       "  </tbody>\n",
       "</table>\n",
       "<p>29620 rows × 64 columns</p>\n",
       "</div>"
      ],
      "text/plain": [
       "       account_id  week_start_date  feature1  feature2  feature3  feature4  \\\n",
       "0          105049     1.535933e+12       0.0       0.0       0.0       0.0   \n",
       "1          100230     1.535933e+12       0.0       0.0       2.0       0.0   \n",
       "2          100230     1.535933e+12       0.0       0.0       0.0       0.0   \n",
       "3          101699     1.535933e+12       0.0       0.0       0.0       0.0   \n",
       "4          101581     1.535933e+12       0.0       0.0       0.0       0.0   \n",
       "...           ...              ...       ...       ...       ...       ...   \n",
       "29615      101391     1.585526e+12       0.0       0.0       0.0       0.0   \n",
       "29616      100740     1.585526e+12       0.0       0.0       0.0       0.0   \n",
       "29617      193889     1.585526e+12       0.0       0.0       0.0       0.0   \n",
       "29618      197940     1.585526e+12       0.0       0.0       0.0       0.0   \n",
       "29619      239722     1.585526e+12       0.0       0.0       0.0       0.0   \n",
       "\n",
       "       feature5  feature6  feature7  feature8  ...  feature53  feature54  \\\n",
       "0           0.0       0.0       0.0       0.0  ...   0.000000        0.0   \n",
       "1           0.0       0.0       0.0       0.0  ...   1.000000        0.0   \n",
       "2           0.0       0.0       0.0       0.0  ...   0.000000        0.0   \n",
       "3           0.0       0.0       0.0       0.0  ...   0.000000        0.0   \n",
       "4           0.0       0.0       0.0       0.0  ...   0.000000        0.0   \n",
       "...         ...       ...       ...       ...  ...        ...        ...   \n",
       "29615       0.0       0.0       0.0       0.0  ...   0.000000        0.0   \n",
       "29616       0.0       0.0       0.0       0.0  ...   0.000000        0.0   \n",
       "29617       0.0       0.0       2.0       0.0  ...   0.764706        0.0   \n",
       "29618       0.0       0.0       0.0       0.0  ...   0.000000        0.0   \n",
       "29619       0.0       0.0       0.0       0.0  ...   0.000000        0.0   \n",
       "\n",
       "       feature55  feature56  feature57  feature58  feature59  feature60  \\\n",
       "0       0.000000        0.0        0.0        0.0        0.0        0.0   \n",
       "1       0.333333        0.0        0.0        0.0        0.0        0.0   \n",
       "2       0.000000        0.0        0.0        0.0        0.0        0.0   \n",
       "3       0.000000        0.0        0.0        0.0        0.0        0.0   \n",
       "4       0.000000        0.0        0.0        0.0        0.0        0.0   \n",
       "...          ...        ...        ...        ...        ...        ...   \n",
       "29615   0.333333        0.0        0.0        0.0        0.0        0.0   \n",
       "29616   0.600000        0.0        0.0        0.0        0.0        0.0   \n",
       "29617   0.500000        0.0        0.0        0.0        0.0        0.0   \n",
       "29618   0.000000        0.0        0.0        0.0        0.0        0.0   \n",
       "29619   0.000000        0.0        0.0        0.0        0.0        0.0   \n",
       "\n",
       "       feature61  feature62  \n",
       "0            0.0        0.0  \n",
       "1            0.0        0.0  \n",
       "2            0.0        0.0  \n",
       "3            0.0        0.0  \n",
       "4            0.0        0.0  \n",
       "...          ...        ...  \n",
       "29615        0.0        0.0  \n",
       "29616        0.0        0.0  \n",
       "29617        0.0        0.0  \n",
       "29618        0.0        0.0  \n",
       "29619        0.0        0.0  \n",
       "\n",
       "[29620 rows x 64 columns]"
      ]
     },
     "execution_count": 38,
     "metadata": {},
     "output_type": "execute_result"
    }
   ],
   "source": [
    "x_test"
   ]
  },
  {
   "cell_type": "code",
   "execution_count": 39,
   "metadata": {},
   "outputs": [],
   "source": [
    "S=SMOTE()"
   ]
  },
  {
   "cell_type": "code",
   "execution_count": 40,
   "metadata": {},
   "outputs": [],
   "source": [
    "# x.drop(\"week_start_date\",inplace=True,axis=1)"
   ]
  },
  {
   "cell_type": "code",
   "execution_count": 41,
   "metadata": {},
   "outputs": [],
   "source": [
    "X_train,Y_train=S.fit_resample(x_train,y_train)"
   ]
  },
  {
   "cell_type": "code",
   "execution_count": 42,
   "metadata": {},
   "outputs": [
    {
     "data": {
      "text/plain": [
       "(227260, 64)"
      ]
     },
     "execution_count": 42,
     "metadata": {},
     "output_type": "execute_result"
    }
   ],
   "source": [
    "X_train.shape"
   ]
  },
  {
   "cell_type": "code",
   "execution_count": 43,
   "metadata": {},
   "outputs": [
    {
     "data": {
      "text/html": [
       "<div>\n",
       "<style scoped>\n",
       "    .dataframe tbody tr th:only-of-type {\n",
       "        vertical-align: middle;\n",
       "    }\n",
       "\n",
       "    .dataframe tbody tr th {\n",
       "        vertical-align: top;\n",
       "    }\n",
       "\n",
       "    .dataframe thead th {\n",
       "        text-align: right;\n",
       "    }\n",
       "</style>\n",
       "<table border=\"1\" class=\"dataframe\">\n",
       "  <thead>\n",
       "    <tr style=\"text-align: right;\">\n",
       "      <th></th>\n",
       "      <th>account_id</th>\n",
       "      <th>week_start_date</th>\n",
       "      <th>feature1</th>\n",
       "      <th>feature2</th>\n",
       "      <th>feature3</th>\n",
       "      <th>feature4</th>\n",
       "      <th>feature5</th>\n",
       "      <th>feature6</th>\n",
       "      <th>feature7</th>\n",
       "      <th>feature8</th>\n",
       "      <th>...</th>\n",
       "      <th>feature53</th>\n",
       "      <th>feature54</th>\n",
       "      <th>feature55</th>\n",
       "      <th>feature56</th>\n",
       "      <th>feature57</th>\n",
       "      <th>feature58</th>\n",
       "      <th>feature59</th>\n",
       "      <th>feature60</th>\n",
       "      <th>feature61</th>\n",
       "      <th>feature62</th>\n",
       "    </tr>\n",
       "  </thead>\n",
       "  <tbody>\n",
       "    <tr>\n",
       "      <th>0</th>\n",
       "      <td>100559.000000</td>\n",
       "      <td>1.535933e+12</td>\n",
       "      <td>0.0</td>\n",
       "      <td>0.0</td>\n",
       "      <td>0.000000</td>\n",
       "      <td>0.0</td>\n",
       "      <td>0.0</td>\n",
       "      <td>0.0</td>\n",
       "      <td>0.0</td>\n",
       "      <td>0.0</td>\n",
       "      <td>...</td>\n",
       "      <td>0.000000</td>\n",
       "      <td>0.0</td>\n",
       "      <td>0.000000</td>\n",
       "      <td>0.0</td>\n",
       "      <td>0.0</td>\n",
       "      <td>0.0</td>\n",
       "      <td>0.0</td>\n",
       "      <td>0.000000</td>\n",
       "      <td>0.0</td>\n",
       "      <td>0.0</td>\n",
       "    </tr>\n",
       "    <tr>\n",
       "      <th>1</th>\n",
       "      <td>103339.000000</td>\n",
       "      <td>1.535933e+12</td>\n",
       "      <td>0.0</td>\n",
       "      <td>0.0</td>\n",
       "      <td>0.000000</td>\n",
       "      <td>0.0</td>\n",
       "      <td>0.0</td>\n",
       "      <td>0.0</td>\n",
       "      <td>0.0</td>\n",
       "      <td>0.0</td>\n",
       "      <td>...</td>\n",
       "      <td>0.000000</td>\n",
       "      <td>0.0</td>\n",
       "      <td>0.000000</td>\n",
       "      <td>0.0</td>\n",
       "      <td>0.0</td>\n",
       "      <td>0.0</td>\n",
       "      <td>0.0</td>\n",
       "      <td>0.000000</td>\n",
       "      <td>0.0</td>\n",
       "      <td>0.0</td>\n",
       "    </tr>\n",
       "    <tr>\n",
       "      <th>2</th>\n",
       "      <td>105319.000000</td>\n",
       "      <td>1.535933e+12</td>\n",
       "      <td>0.0</td>\n",
       "      <td>0.0</td>\n",
       "      <td>0.000000</td>\n",
       "      <td>0.0</td>\n",
       "      <td>0.0</td>\n",
       "      <td>0.0</td>\n",
       "      <td>0.0</td>\n",
       "      <td>0.0</td>\n",
       "      <td>...</td>\n",
       "      <td>0.000000</td>\n",
       "      <td>0.0</td>\n",
       "      <td>0.000000</td>\n",
       "      <td>0.0</td>\n",
       "      <td>0.0</td>\n",
       "      <td>0.0</td>\n",
       "      <td>0.0</td>\n",
       "      <td>0.000000</td>\n",
       "      <td>0.0</td>\n",
       "      <td>0.0</td>\n",
       "    </tr>\n",
       "    <tr>\n",
       "      <th>3</th>\n",
       "      <td>107387.000000</td>\n",
       "      <td>1.535933e+12</td>\n",
       "      <td>0.0</td>\n",
       "      <td>0.0</td>\n",
       "      <td>0.000000</td>\n",
       "      <td>0.0</td>\n",
       "      <td>0.0</td>\n",
       "      <td>0.0</td>\n",
       "      <td>0.0</td>\n",
       "      <td>0.0</td>\n",
       "      <td>...</td>\n",
       "      <td>0.000000</td>\n",
       "      <td>0.0</td>\n",
       "      <td>0.000000</td>\n",
       "      <td>0.0</td>\n",
       "      <td>0.0</td>\n",
       "      <td>0.0</td>\n",
       "      <td>0.0</td>\n",
       "      <td>0.000000</td>\n",
       "      <td>0.0</td>\n",
       "      <td>0.0</td>\n",
       "    </tr>\n",
       "    <tr>\n",
       "      <th>4</th>\n",
       "      <td>100450.000000</td>\n",
       "      <td>1.535933e+12</td>\n",
       "      <td>0.0</td>\n",
       "      <td>0.0</td>\n",
       "      <td>124.666667</td>\n",
       "      <td>0.0</td>\n",
       "      <td>0.0</td>\n",
       "      <td>0.0</td>\n",
       "      <td>0.0</td>\n",
       "      <td>0.0</td>\n",
       "      <td>...</td>\n",
       "      <td>30.666667</td>\n",
       "      <td>0.0</td>\n",
       "      <td>0.000000</td>\n",
       "      <td>0.0</td>\n",
       "      <td>0.0</td>\n",
       "      <td>0.0</td>\n",
       "      <td>0.0</td>\n",
       "      <td>0.000000</td>\n",
       "      <td>0.0</td>\n",
       "      <td>0.0</td>\n",
       "    </tr>\n",
       "    <tr>\n",
       "      <th>...</th>\n",
       "      <td>...</td>\n",
       "      <td>...</td>\n",
       "      <td>...</td>\n",
       "      <td>...</td>\n",
       "      <td>...</td>\n",
       "      <td>...</td>\n",
       "      <td>...</td>\n",
       "      <td>...</td>\n",
       "      <td>...</td>\n",
       "      <td>...</td>\n",
       "      <td>...</td>\n",
       "      <td>...</td>\n",
       "      <td>...</td>\n",
       "      <td>...</td>\n",
       "      <td>...</td>\n",
       "      <td>...</td>\n",
       "      <td>...</td>\n",
       "      <td>...</td>\n",
       "      <td>...</td>\n",
       "      <td>...</td>\n",
       "      <td>...</td>\n",
       "    </tr>\n",
       "    <tr>\n",
       "      <th>227255</th>\n",
       "      <td>166854.515736</td>\n",
       "      <td>1.577664e+12</td>\n",
       "      <td>0.0</td>\n",
       "      <td>0.0</td>\n",
       "      <td>0.000000</td>\n",
       "      <td>0.0</td>\n",
       "      <td>0.0</td>\n",
       "      <td>0.0</td>\n",
       "      <td>0.0</td>\n",
       "      <td>0.0</td>\n",
       "      <td>...</td>\n",
       "      <td>0.000000</td>\n",
       "      <td>0.0</td>\n",
       "      <td>0.000000</td>\n",
       "      <td>0.0</td>\n",
       "      <td>0.0</td>\n",
       "      <td>0.0</td>\n",
       "      <td>0.0</td>\n",
       "      <td>0.000000</td>\n",
       "      <td>0.0</td>\n",
       "      <td>0.0</td>\n",
       "    </tr>\n",
       "    <tr>\n",
       "      <th>227256</th>\n",
       "      <td>102953.761187</td>\n",
       "      <td>1.561334e+12</td>\n",
       "      <td>0.0</td>\n",
       "      <td>0.0</td>\n",
       "      <td>0.000000</td>\n",
       "      <td>0.0</td>\n",
       "      <td>0.0</td>\n",
       "      <td>0.0</td>\n",
       "      <td>0.0</td>\n",
       "      <td>0.0</td>\n",
       "      <td>...</td>\n",
       "      <td>0.000000</td>\n",
       "      <td>0.0</td>\n",
       "      <td>0.000000</td>\n",
       "      <td>0.0</td>\n",
       "      <td>0.0</td>\n",
       "      <td>0.0</td>\n",
       "      <td>0.0</td>\n",
       "      <td>0.000000</td>\n",
       "      <td>0.0</td>\n",
       "      <td>0.0</td>\n",
       "    </tr>\n",
       "    <tr>\n",
       "      <th>227257</th>\n",
       "      <td>102206.231758</td>\n",
       "      <td>1.560730e+12</td>\n",
       "      <td>0.0</td>\n",
       "      <td>0.0</td>\n",
       "      <td>-0.121130</td>\n",
       "      <td>0.0</td>\n",
       "      <td>0.0</td>\n",
       "      <td>0.0</td>\n",
       "      <td>0.0</td>\n",
       "      <td>0.0</td>\n",
       "      <td>...</td>\n",
       "      <td>0.000000</td>\n",
       "      <td>0.0</td>\n",
       "      <td>0.040882</td>\n",
       "      <td>0.0</td>\n",
       "      <td>0.0</td>\n",
       "      <td>0.0</td>\n",
       "      <td>0.0</td>\n",
       "      <td>-0.113884</td>\n",
       "      <td>0.0</td>\n",
       "      <td>0.0</td>\n",
       "    </tr>\n",
       "    <tr>\n",
       "      <th>227258</th>\n",
       "      <td>105931.844159</td>\n",
       "      <td>1.544400e+12</td>\n",
       "      <td>0.0</td>\n",
       "      <td>0.0</td>\n",
       "      <td>4.822129</td>\n",
       "      <td>0.0</td>\n",
       "      <td>0.0</td>\n",
       "      <td>0.0</td>\n",
       "      <td>0.0</td>\n",
       "      <td>0.0</td>\n",
       "      <td>...</td>\n",
       "      <td>0.192885</td>\n",
       "      <td>0.0</td>\n",
       "      <td>0.000000</td>\n",
       "      <td>0.0</td>\n",
       "      <td>0.0</td>\n",
       "      <td>0.0</td>\n",
       "      <td>0.0</td>\n",
       "      <td>0.000000</td>\n",
       "      <td>0.0</td>\n",
       "      <td>0.0</td>\n",
       "    </tr>\n",
       "    <tr>\n",
       "      <th>227259</th>\n",
       "      <td>162544.414301</td>\n",
       "      <td>1.555286e+12</td>\n",
       "      <td>0.0</td>\n",
       "      <td>0.0</td>\n",
       "      <td>-0.610580</td>\n",
       "      <td>0.0</td>\n",
       "      <td>0.0</td>\n",
       "      <td>0.0</td>\n",
       "      <td>0.0</td>\n",
       "      <td>0.0</td>\n",
       "      <td>...</td>\n",
       "      <td>0.000000</td>\n",
       "      <td>0.0</td>\n",
       "      <td>0.000000</td>\n",
       "      <td>0.0</td>\n",
       "      <td>0.0</td>\n",
       "      <td>0.0</td>\n",
       "      <td>0.0</td>\n",
       "      <td>0.000000</td>\n",
       "      <td>0.0</td>\n",
       "      <td>0.0</td>\n",
       "    </tr>\n",
       "  </tbody>\n",
       "</table>\n",
       "<p>227260 rows × 64 columns</p>\n",
       "</div>"
      ],
      "text/plain": [
       "           account_id  week_start_date  feature1  feature2    feature3  \\\n",
       "0       100559.000000     1.535933e+12       0.0       0.0    0.000000   \n",
       "1       103339.000000     1.535933e+12       0.0       0.0    0.000000   \n",
       "2       105319.000000     1.535933e+12       0.0       0.0    0.000000   \n",
       "3       107387.000000     1.535933e+12       0.0       0.0    0.000000   \n",
       "4       100450.000000     1.535933e+12       0.0       0.0  124.666667   \n",
       "...               ...              ...       ...       ...         ...   \n",
       "227255  166854.515736     1.577664e+12       0.0       0.0    0.000000   \n",
       "227256  102953.761187     1.561334e+12       0.0       0.0    0.000000   \n",
       "227257  102206.231758     1.560730e+12       0.0       0.0   -0.121130   \n",
       "227258  105931.844159     1.544400e+12       0.0       0.0    4.822129   \n",
       "227259  162544.414301     1.555286e+12       0.0       0.0   -0.610580   \n",
       "\n",
       "        feature4  feature5  feature6  feature7  feature8  ...  feature53  \\\n",
       "0            0.0       0.0       0.0       0.0       0.0  ...   0.000000   \n",
       "1            0.0       0.0       0.0       0.0       0.0  ...   0.000000   \n",
       "2            0.0       0.0       0.0       0.0       0.0  ...   0.000000   \n",
       "3            0.0       0.0       0.0       0.0       0.0  ...   0.000000   \n",
       "4            0.0       0.0       0.0       0.0       0.0  ...  30.666667   \n",
       "...          ...       ...       ...       ...       ...  ...        ...   \n",
       "227255       0.0       0.0       0.0       0.0       0.0  ...   0.000000   \n",
       "227256       0.0       0.0       0.0       0.0       0.0  ...   0.000000   \n",
       "227257       0.0       0.0       0.0       0.0       0.0  ...   0.000000   \n",
       "227258       0.0       0.0       0.0       0.0       0.0  ...   0.192885   \n",
       "227259       0.0       0.0       0.0       0.0       0.0  ...   0.000000   \n",
       "\n",
       "        feature54  feature55  feature56  feature57  feature58  feature59  \\\n",
       "0             0.0   0.000000        0.0        0.0        0.0        0.0   \n",
       "1             0.0   0.000000        0.0        0.0        0.0        0.0   \n",
       "2             0.0   0.000000        0.0        0.0        0.0        0.0   \n",
       "3             0.0   0.000000        0.0        0.0        0.0        0.0   \n",
       "4             0.0   0.000000        0.0        0.0        0.0        0.0   \n",
       "...           ...        ...        ...        ...        ...        ...   \n",
       "227255        0.0   0.000000        0.0        0.0        0.0        0.0   \n",
       "227256        0.0   0.000000        0.0        0.0        0.0        0.0   \n",
       "227257        0.0   0.040882        0.0        0.0        0.0        0.0   \n",
       "227258        0.0   0.000000        0.0        0.0        0.0        0.0   \n",
       "227259        0.0   0.000000        0.0        0.0        0.0        0.0   \n",
       "\n",
       "        feature60  feature61  feature62  \n",
       "0        0.000000        0.0        0.0  \n",
       "1        0.000000        0.0        0.0  \n",
       "2        0.000000        0.0        0.0  \n",
       "3        0.000000        0.0        0.0  \n",
       "4        0.000000        0.0        0.0  \n",
       "...           ...        ...        ...  \n",
       "227255   0.000000        0.0        0.0  \n",
       "227256   0.000000        0.0        0.0  \n",
       "227257  -0.113884        0.0        0.0  \n",
       "227258   0.000000        0.0        0.0  \n",
       "227259   0.000000        0.0        0.0  \n",
       "\n",
       "[227260 rows x 64 columns]"
      ]
     },
     "execution_count": 43,
     "metadata": {},
     "output_type": "execute_result"
    }
   ],
   "source": [
    "X_train"
   ]
  },
  {
   "cell_type": "code",
   "execution_count": 44,
   "metadata": {},
   "outputs": [
    {
     "data": {
      "text/plain": [
       "(227260,)"
      ]
     },
     "execution_count": 44,
     "metadata": {},
     "output_type": "execute_result"
    }
   ],
   "source": [
    "Y_train.shape"
   ]
  },
  {
   "cell_type": "code",
   "execution_count": 45,
   "metadata": {},
   "outputs": [],
   "source": [
    "from collections import Counter"
   ]
  },
  {
   "cell_type": "markdown",
   "metadata": {},
   "source": [
    "<h3>our imbalanced target datset</h3>"
   ]
  },
  {
   "cell_type": "code",
   "execution_count": 46,
   "metadata": {},
   "outputs": [
    {
     "data": {
      "text/plain": [
       "Counter({0: 113630, 1: 1076})"
      ]
     },
     "execution_count": 46,
     "metadata": {},
     "output_type": "execute_result"
    }
   ],
   "source": [
    "Counter(y_train)"
   ]
  },
  {
   "cell_type": "markdown",
   "metadata": {},
   "source": [
    "<h3>Now our imbalanced datset has changed into balanced datasets</h3>"
   ]
  },
  {
   "cell_type": "code",
   "execution_count": 47,
   "metadata": {},
   "outputs": [
    {
     "data": {
      "text/plain": [
       "Counter({0: 113630, 1: 113630})"
      ]
     },
     "execution_count": 47,
     "metadata": {},
     "output_type": "execute_result"
    }
   ],
   "source": [
    "Counter(Y_train)"
   ]
  },
  {
   "cell_type": "code",
   "execution_count": 48,
   "metadata": {},
   "outputs": [],
   "source": [
    "Yt=pd.DataFrame(Y_train,columns=[\"Label\"])"
   ]
  },
  {
   "cell_type": "markdown",
   "metadata": {},
   "source": [
    "<h3>now check the balanced data</h3>"
   ]
  },
  {
   "cell_type": "code",
   "execution_count": 49,
   "metadata": {},
   "outputs": [
    {
     "data": {
      "text/plain": [
       "<matplotlib.axes._subplots.AxesSubplot at 0x1a868045608>"
      ]
     },
     "execution_count": 49,
     "metadata": {},
     "output_type": "execute_result"
    },
    {
     "data": {
      "image/png": "[encoded data removed]",
      "text/plain": [
       "<Figure size 432x288 with 1 Axes>"
      ]
     },
     "metadata": {
      "needs_background": "light"
     },
     "output_type": "display_data"
    }
   ],
   "source": [
    "sn.countplot(x=\"Label\",data=Yt)"
   ]
  },
  {
   "cell_type": "code",
   "execution_count": 50,
   "metadata": {},
   "outputs": [
    {
     "data": {
      "text/html": [
       "<div>\n",
       "<style scoped>\n",
       "    .dataframe tbody tr th:only-of-type {\n",
       "        vertical-align: middle;\n",
       "    }\n",
       "\n",
       "    .dataframe tbody tr th {\n",
       "        vertical-align: top;\n",
       "    }\n",
       "\n",
       "    .dataframe thead th {\n",
       "        text-align: right;\n",
       "    }\n",
       "</style>\n",
       "<table border=\"1\" class=\"dataframe\">\n",
       "  <thead>\n",
       "    <tr style=\"text-align: right;\">\n",
       "      <th></th>\n",
       "      <th>Label</th>\n",
       "    </tr>\n",
       "  </thead>\n",
       "  <tbody>\n",
       "    <tr>\n",
       "      <th>0</th>\n",
       "      <td>0</td>\n",
       "    </tr>\n",
       "    <tr>\n",
       "      <th>1</th>\n",
       "      <td>0</td>\n",
       "    </tr>\n",
       "    <tr>\n",
       "      <th>2</th>\n",
       "      <td>0</td>\n",
       "    </tr>\n",
       "    <tr>\n",
       "      <th>3</th>\n",
       "      <td>0</td>\n",
       "    </tr>\n",
       "    <tr>\n",
       "      <th>4</th>\n",
       "      <td>0</td>\n",
       "    </tr>\n",
       "    <tr>\n",
       "      <th>...</th>\n",
       "      <td>...</td>\n",
       "    </tr>\n",
       "    <tr>\n",
       "      <th>227255</th>\n",
       "      <td>1</td>\n",
       "    </tr>\n",
       "    <tr>\n",
       "      <th>227256</th>\n",
       "      <td>1</td>\n",
       "    </tr>\n",
       "    <tr>\n",
       "      <th>227257</th>\n",
       "      <td>1</td>\n",
       "    </tr>\n",
       "    <tr>\n",
       "      <th>227258</th>\n",
       "      <td>1</td>\n",
       "    </tr>\n",
       "    <tr>\n",
       "      <th>227259</th>\n",
       "      <td>1</td>\n",
       "    </tr>\n",
       "  </tbody>\n",
       "</table>\n",
       "<p>227260 rows × 1 columns</p>\n",
       "</div>"
      ],
      "text/plain": [
       "        Label\n",
       "0           0\n",
       "1           0\n",
       "2           0\n",
       "3           0\n",
       "4           0\n",
       "...       ...\n",
       "227255      1\n",
       "227256      1\n",
       "227257      1\n",
       "227258      1\n",
       "227259      1\n",
       "\n",
       "[227260 rows x 1 columns]"
      ]
     },
     "execution_count": 50,
     "metadata": {},
     "output_type": "execute_result"
    }
   ],
   "source": [
    "Yt"
   ]
  },
  {
   "cell_type": "code",
   "execution_count": 51,
   "metadata": {},
   "outputs": [],
   "source": [
    "X_test,Y_test=S.fit_resample(x_test,y_test)"
   ]
  },
  {
   "cell_type": "code",
   "execution_count": 52,
   "metadata": {},
   "outputs": [
    {
     "data": {
      "text/plain": [
       "(58686, 64)"
      ]
     },
     "execution_count": 52,
     "metadata": {},
     "output_type": "execute_result"
    }
   ],
   "source": [
    "X_test.shape"
   ]
  },
  {
   "cell_type": "code",
   "execution_count": 53,
   "metadata": {},
   "outputs": [
    {
     "data": {
      "text/html": [
       "<div>\n",
       "<style scoped>\n",
       "    .dataframe tbody tr th:only-of-type {\n",
       "        vertical-align: middle;\n",
       "    }\n",
       "\n",
       "    .dataframe tbody tr th {\n",
       "        vertical-align: top;\n",
       "    }\n",
       "\n",
       "    .dataframe thead th {\n",
       "        text-align: right;\n",
       "    }\n",
       "</style>\n",
       "<table border=\"1\" class=\"dataframe\">\n",
       "  <thead>\n",
       "    <tr style=\"text-align: right;\">\n",
       "      <th></th>\n",
       "      <th>account_id</th>\n",
       "      <th>week_start_date</th>\n",
       "      <th>feature1</th>\n",
       "      <th>feature2</th>\n",
       "      <th>feature3</th>\n",
       "      <th>feature4</th>\n",
       "      <th>feature5</th>\n",
       "      <th>feature6</th>\n",
       "      <th>feature7</th>\n",
       "      <th>feature8</th>\n",
       "      <th>...</th>\n",
       "      <th>feature53</th>\n",
       "      <th>feature54</th>\n",
       "      <th>feature55</th>\n",
       "      <th>feature56</th>\n",
       "      <th>feature57</th>\n",
       "      <th>feature58</th>\n",
       "      <th>feature59</th>\n",
       "      <th>feature60</th>\n",
       "      <th>feature61</th>\n",
       "      <th>feature62</th>\n",
       "    </tr>\n",
       "  </thead>\n",
       "  <tbody>\n",
       "    <tr>\n",
       "      <th>0</th>\n",
       "      <td>105049</td>\n",
       "      <td>1.535933e+12</td>\n",
       "      <td>0.0</td>\n",
       "      <td>0.0</td>\n",
       "      <td>0.000000</td>\n",
       "      <td>0.0</td>\n",
       "      <td>0.0</td>\n",
       "      <td>0.0</td>\n",
       "      <td>0.0</td>\n",
       "      <td>0.0</td>\n",
       "      <td>...</td>\n",
       "      <td>0.000000</td>\n",
       "      <td>0.0</td>\n",
       "      <td>0.000000</td>\n",
       "      <td>0.0</td>\n",
       "      <td>0.0</td>\n",
       "      <td>0.000000</td>\n",
       "      <td>0.0</td>\n",
       "      <td>0.0</td>\n",
       "      <td>0.0</td>\n",
       "      <td>0.000000</td>\n",
       "    </tr>\n",
       "    <tr>\n",
       "      <th>1</th>\n",
       "      <td>100230</td>\n",
       "      <td>1.535933e+12</td>\n",
       "      <td>0.0</td>\n",
       "      <td>0.0</td>\n",
       "      <td>2.000000</td>\n",
       "      <td>0.0</td>\n",
       "      <td>0.0</td>\n",
       "      <td>0.0</td>\n",
       "      <td>0.0</td>\n",
       "      <td>0.0</td>\n",
       "      <td>...</td>\n",
       "      <td>1.000000</td>\n",
       "      <td>0.0</td>\n",
       "      <td>0.333333</td>\n",
       "      <td>0.0</td>\n",
       "      <td>0.0</td>\n",
       "      <td>0.000000</td>\n",
       "      <td>0.0</td>\n",
       "      <td>0.0</td>\n",
       "      <td>0.0</td>\n",
       "      <td>0.000000</td>\n",
       "    </tr>\n",
       "    <tr>\n",
       "      <th>2</th>\n",
       "      <td>100230</td>\n",
       "      <td>1.535933e+12</td>\n",
       "      <td>0.0</td>\n",
       "      <td>0.0</td>\n",
       "      <td>0.000000</td>\n",
       "      <td>0.0</td>\n",
       "      <td>0.0</td>\n",
       "      <td>0.0</td>\n",
       "      <td>0.0</td>\n",
       "      <td>0.0</td>\n",
       "      <td>...</td>\n",
       "      <td>0.000000</td>\n",
       "      <td>0.0</td>\n",
       "      <td>0.000000</td>\n",
       "      <td>0.0</td>\n",
       "      <td>0.0</td>\n",
       "      <td>0.000000</td>\n",
       "      <td>0.0</td>\n",
       "      <td>0.0</td>\n",
       "      <td>0.0</td>\n",
       "      <td>0.000000</td>\n",
       "    </tr>\n",
       "    <tr>\n",
       "      <th>3</th>\n",
       "      <td>101699</td>\n",
       "      <td>1.535933e+12</td>\n",
       "      <td>0.0</td>\n",
       "      <td>0.0</td>\n",
       "      <td>0.000000</td>\n",
       "      <td>0.0</td>\n",
       "      <td>0.0</td>\n",
       "      <td>0.0</td>\n",
       "      <td>0.0</td>\n",
       "      <td>0.0</td>\n",
       "      <td>...</td>\n",
       "      <td>0.000000</td>\n",
       "      <td>0.0</td>\n",
       "      <td>0.000000</td>\n",
       "      <td>0.0</td>\n",
       "      <td>0.0</td>\n",
       "      <td>0.000000</td>\n",
       "      <td>0.0</td>\n",
       "      <td>0.0</td>\n",
       "      <td>0.0</td>\n",
       "      <td>0.000000</td>\n",
       "    </tr>\n",
       "    <tr>\n",
       "      <th>4</th>\n",
       "      <td>101581</td>\n",
       "      <td>1.535933e+12</td>\n",
       "      <td>0.0</td>\n",
       "      <td>0.0</td>\n",
       "      <td>0.000000</td>\n",
       "      <td>0.0</td>\n",
       "      <td>0.0</td>\n",
       "      <td>0.0</td>\n",
       "      <td>0.0</td>\n",
       "      <td>0.0</td>\n",
       "      <td>...</td>\n",
       "      <td>0.000000</td>\n",
       "      <td>0.0</td>\n",
       "      <td>0.000000</td>\n",
       "      <td>0.0</td>\n",
       "      <td>0.0</td>\n",
       "      <td>0.000000</td>\n",
       "      <td>0.0</td>\n",
       "      <td>0.0</td>\n",
       "      <td>0.0</td>\n",
       "      <td>0.000000</td>\n",
       "    </tr>\n",
       "    <tr>\n",
       "      <th>...</th>\n",
       "      <td>...</td>\n",
       "      <td>...</td>\n",
       "      <td>...</td>\n",
       "      <td>...</td>\n",
       "      <td>...</td>\n",
       "      <td>...</td>\n",
       "      <td>...</td>\n",
       "      <td>...</td>\n",
       "      <td>...</td>\n",
       "      <td>...</td>\n",
       "      <td>...</td>\n",
       "      <td>...</td>\n",
       "      <td>...</td>\n",
       "      <td>...</td>\n",
       "      <td>...</td>\n",
       "      <td>...</td>\n",
       "      <td>...</td>\n",
       "      <td>...</td>\n",
       "      <td>...</td>\n",
       "      <td>...</td>\n",
       "      <td>...</td>\n",
       "    </tr>\n",
       "    <tr>\n",
       "      <th>58681</th>\n",
       "      <td>107797</td>\n",
       "      <td>1.537142e+12</td>\n",
       "      <td>0.0</td>\n",
       "      <td>0.0</td>\n",
       "      <td>0.000000</td>\n",
       "      <td>0.0</td>\n",
       "      <td>0.0</td>\n",
       "      <td>0.0</td>\n",
       "      <td>0.0</td>\n",
       "      <td>0.0</td>\n",
       "      <td>...</td>\n",
       "      <td>0.000000</td>\n",
       "      <td>0.0</td>\n",
       "      <td>0.000000</td>\n",
       "      <td>0.0</td>\n",
       "      <td>0.0</td>\n",
       "      <td>0.000000</td>\n",
       "      <td>0.0</td>\n",
       "      <td>0.0</td>\n",
       "      <td>0.0</td>\n",
       "      <td>0.000000</td>\n",
       "    </tr>\n",
       "    <tr>\n",
       "      <th>58682</th>\n",
       "      <td>102969</td>\n",
       "      <td>1.546819e+12</td>\n",
       "      <td>0.0</td>\n",
       "      <td>0.0</td>\n",
       "      <td>0.000000</td>\n",
       "      <td>0.0</td>\n",
       "      <td>0.0</td>\n",
       "      <td>0.0</td>\n",
       "      <td>0.0</td>\n",
       "      <td>0.0</td>\n",
       "      <td>...</td>\n",
       "      <td>0.000000</td>\n",
       "      <td>0.0</td>\n",
       "      <td>0.000000</td>\n",
       "      <td>0.0</td>\n",
       "      <td>0.0</td>\n",
       "      <td>0.000000</td>\n",
       "      <td>0.0</td>\n",
       "      <td>0.0</td>\n",
       "      <td>0.0</td>\n",
       "      <td>0.000000</td>\n",
       "    </tr>\n",
       "    <tr>\n",
       "      <th>58683</th>\n",
       "      <td>108078</td>\n",
       "      <td>1.537747e+12</td>\n",
       "      <td>0.0</td>\n",
       "      <td>0.0</td>\n",
       "      <td>0.000000</td>\n",
       "      <td>0.0</td>\n",
       "      <td>0.0</td>\n",
       "      <td>0.0</td>\n",
       "      <td>0.0</td>\n",
       "      <td>0.0</td>\n",
       "      <td>...</td>\n",
       "      <td>0.000000</td>\n",
       "      <td>0.0</td>\n",
       "      <td>0.000000</td>\n",
       "      <td>0.0</td>\n",
       "      <td>0.0</td>\n",
       "      <td>0.000000</td>\n",
       "      <td>0.0</td>\n",
       "      <td>0.0</td>\n",
       "      <td>0.0</td>\n",
       "      <td>0.000000</td>\n",
       "    </tr>\n",
       "    <tr>\n",
       "      <th>58684</th>\n",
       "      <td>181335</td>\n",
       "      <td>1.568362e+12</td>\n",
       "      <td>0.0</td>\n",
       "      <td>0.0</td>\n",
       "      <td>-0.028093</td>\n",
       "      <td>0.0</td>\n",
       "      <td>0.0</td>\n",
       "      <td>0.0</td>\n",
       "      <td>0.0</td>\n",
       "      <td>0.0</td>\n",
       "      <td>...</td>\n",
       "      <td>116.867747</td>\n",
       "      <td>0.0</td>\n",
       "      <td>0.335155</td>\n",
       "      <td>0.0</td>\n",
       "      <td>0.0</td>\n",
       "      <td>0.802768</td>\n",
       "      <td>0.0</td>\n",
       "      <td>0.0</td>\n",
       "      <td>0.0</td>\n",
       "      <td>1.325201</td>\n",
       "    </tr>\n",
       "    <tr>\n",
       "      <th>58685</th>\n",
       "      <td>103253</td>\n",
       "      <td>1.561334e+12</td>\n",
       "      <td>0.0</td>\n",
       "      <td>0.0</td>\n",
       "      <td>0.000000</td>\n",
       "      <td>0.0</td>\n",
       "      <td>0.0</td>\n",
       "      <td>0.0</td>\n",
       "      <td>0.0</td>\n",
       "      <td>0.0</td>\n",
       "      <td>...</td>\n",
       "      <td>0.000000</td>\n",
       "      <td>0.0</td>\n",
       "      <td>0.000000</td>\n",
       "      <td>0.0</td>\n",
       "      <td>0.0</td>\n",
       "      <td>0.000000</td>\n",
       "      <td>0.0</td>\n",
       "      <td>0.0</td>\n",
       "      <td>0.0</td>\n",
       "      <td>0.000000</td>\n",
       "    </tr>\n",
       "  </tbody>\n",
       "</table>\n",
       "<p>58686 rows × 64 columns</p>\n",
       "</div>"
      ],
      "text/plain": [
       "       account_id  week_start_date  feature1  feature2  feature3  feature4  \\\n",
       "0          105049     1.535933e+12       0.0       0.0  0.000000       0.0   \n",
       "1          100230     1.535933e+12       0.0       0.0  2.000000       0.0   \n",
       "2          100230     1.535933e+12       0.0       0.0  0.000000       0.0   \n",
       "3          101699     1.535933e+12       0.0       0.0  0.000000       0.0   \n",
       "4          101581     1.535933e+12       0.0       0.0  0.000000       0.0   \n",
       "...           ...              ...       ...       ...       ...       ...   \n",
       "58681      107797     1.537142e+12       0.0       0.0  0.000000       0.0   \n",
       "58682      102969     1.546819e+12       0.0       0.0  0.000000       0.0   \n",
       "58683      108078     1.537747e+12       0.0       0.0  0.000000       0.0   \n",
       "58684      181335     1.568362e+12       0.0       0.0 -0.028093       0.0   \n",
       "58685      103253     1.561334e+12       0.0       0.0  0.000000       0.0   \n",
       "\n",
       "       feature5  feature6  feature7  feature8  ...   feature53  feature54  \\\n",
       "0           0.0       0.0       0.0       0.0  ...    0.000000        0.0   \n",
       "1           0.0       0.0       0.0       0.0  ...    1.000000        0.0   \n",
       "2           0.0       0.0       0.0       0.0  ...    0.000000        0.0   \n",
       "3           0.0       0.0       0.0       0.0  ...    0.000000        0.0   \n",
       "4           0.0       0.0       0.0       0.0  ...    0.000000        0.0   \n",
       "...         ...       ...       ...       ...  ...         ...        ...   \n",
       "58681       0.0       0.0       0.0       0.0  ...    0.000000        0.0   \n",
       "58682       0.0       0.0       0.0       0.0  ...    0.000000        0.0   \n",
       "58683       0.0       0.0       0.0       0.0  ...    0.000000        0.0   \n",
       "58684       0.0       0.0       0.0       0.0  ...  116.867747        0.0   \n",
       "58685       0.0       0.0       0.0       0.0  ...    0.000000        0.0   \n",
       "\n",
       "       feature55  feature56  feature57  feature58  feature59  feature60  \\\n",
       "0       0.000000        0.0        0.0   0.000000        0.0        0.0   \n",
       "1       0.333333        0.0        0.0   0.000000        0.0        0.0   \n",
       "2       0.000000        0.0        0.0   0.000000        0.0        0.0   \n",
       "3       0.000000        0.0        0.0   0.000000        0.0        0.0   \n",
       "4       0.000000        0.0        0.0   0.000000        0.0        0.0   \n",
       "...          ...        ...        ...        ...        ...        ...   \n",
       "58681   0.000000        0.0        0.0   0.000000        0.0        0.0   \n",
       "58682   0.000000        0.0        0.0   0.000000        0.0        0.0   \n",
       "58683   0.000000        0.0        0.0   0.000000        0.0        0.0   \n",
       "58684   0.335155        0.0        0.0   0.802768        0.0        0.0   \n",
       "58685   0.000000        0.0        0.0   0.000000        0.0        0.0   \n",
       "\n",
       "       feature61  feature62  \n",
       "0            0.0   0.000000  \n",
       "1            0.0   0.000000  \n",
       "2            0.0   0.000000  \n",
       "3            0.0   0.000000  \n",
       "4            0.0   0.000000  \n",
       "...          ...        ...  \n",
       "58681        0.0   0.000000  \n",
       "58682        0.0   0.000000  \n",
       "58683        0.0   0.000000  \n",
       "58684        0.0   1.325201  \n",
       "58685        0.0   0.000000  \n",
       "\n",
       "[58686 rows x 64 columns]"
      ]
     },
     "execution_count": 53,
     "metadata": {},
     "output_type": "execute_result"
    }
   ],
   "source": [
    "X_test"
   ]
  },
  {
   "cell_type": "code",
   "execution_count": 54,
   "metadata": {},
   "outputs": [
    {
     "data": {
      "text/plain": [
       "Counter({0: 29343, 1: 277})"
      ]
     },
     "execution_count": 54,
     "metadata": {},
     "output_type": "execute_result"
    }
   ],
   "source": [
    "Counter(y_test)"
   ]
  },
  {
   "cell_type": "code",
   "execution_count": 55,
   "metadata": {},
   "outputs": [
    {
     "data": {
      "text/plain": [
       "Counter({0: 29343, 1: 29343})"
      ]
     },
     "execution_count": 55,
     "metadata": {},
     "output_type": "execute_result"
    }
   ],
   "source": [
    "Counter(Y_test)"
   ]
  },
  {
   "cell_type": "code",
   "execution_count": 56,
   "metadata": {},
   "outputs": [],
   "source": [
    "Ytest=pd.DataFrame(Y_test,columns=[\"Label\"])"
   ]
  },
  {
   "cell_type": "code",
   "execution_count": 57,
   "metadata": {},
   "outputs": [
    {
     "data": {
      "text/plain": [
       "<matplotlib.axes._subplots.AxesSubplot at 0x1a85b420388>"
      ]
     },
     "execution_count": 57,
     "metadata": {},
     "output_type": "execute_result"
    },
    {
     "data": {
      "image/png": "[encoded data removed]",
      "text/plain": [
       "<Figure size 432x288 with 1 Axes>"
      ]
     },
     "metadata": {
      "needs_background": "light"
     },
     "output_type": "display_data"
    }
   ],
   "source": [
    "sn.countplot(x=\"Label\",data=Ytest)"
   ]
  },
  {
   "cell_type": "code",
   "execution_count": 58,
   "metadata": {},
   "outputs": [
    {
     "data": {
      "text/html": [
       "<div>\n",
       "<style scoped>\n",
       "    .dataframe tbody tr th:only-of-type {\n",
       "        vertical-align: middle;\n",
       "    }\n",
       "\n",
       "    .dataframe tbody tr th {\n",
       "        vertical-align: top;\n",
       "    }\n",
       "\n",
       "    .dataframe thead th {\n",
       "        text-align: right;\n",
       "    }\n",
       "</style>\n",
       "<table border=\"1\" class=\"dataframe\">\n",
       "  <thead>\n",
       "    <tr style=\"text-align: right;\">\n",
       "      <th></th>\n",
       "      <th>Label</th>\n",
       "    </tr>\n",
       "  </thead>\n",
       "  <tbody>\n",
       "    <tr>\n",
       "      <th>0</th>\n",
       "      <td>0</td>\n",
       "    </tr>\n",
       "    <tr>\n",
       "      <th>1</th>\n",
       "      <td>0</td>\n",
       "    </tr>\n",
       "    <tr>\n",
       "      <th>2</th>\n",
       "      <td>0</td>\n",
       "    </tr>\n",
       "    <tr>\n",
       "      <th>3</th>\n",
       "      <td>0</td>\n",
       "    </tr>\n",
       "    <tr>\n",
       "      <th>4</th>\n",
       "      <td>0</td>\n",
       "    </tr>\n",
       "    <tr>\n",
       "      <th>...</th>\n",
       "      <td>...</td>\n",
       "    </tr>\n",
       "    <tr>\n",
       "      <th>58681</th>\n",
       "      <td>1</td>\n",
       "    </tr>\n",
       "    <tr>\n",
       "      <th>58682</th>\n",
       "      <td>1</td>\n",
       "    </tr>\n",
       "    <tr>\n",
       "      <th>58683</th>\n",
       "      <td>1</td>\n",
       "    </tr>\n",
       "    <tr>\n",
       "      <th>58684</th>\n",
       "      <td>1</td>\n",
       "    </tr>\n",
       "    <tr>\n",
       "      <th>58685</th>\n",
       "      <td>1</td>\n",
       "    </tr>\n",
       "  </tbody>\n",
       "</table>\n",
       "<p>58686 rows × 1 columns</p>\n",
       "</div>"
      ],
      "text/plain": [
       "       Label\n",
       "0          0\n",
       "1          0\n",
       "2          0\n",
       "3          0\n",
       "4          0\n",
       "...      ...\n",
       "58681      1\n",
       "58682      1\n",
       "58683      1\n",
       "58684      1\n",
       "58685      1\n",
       "\n",
       "[58686 rows x 1 columns]"
      ]
     },
     "execution_count": 58,
     "metadata": {},
     "output_type": "execute_result"
    }
   ],
   "source": [
    "Ytest"
   ]
  },
  {
   "cell_type": "markdown",
   "metadata": {},
   "source": [
    " <h3>encoding data</h3>"
   ]
  },
  {
   "cell_type": "code",
   "execution_count": 59,
   "metadata": {},
   "outputs": [],
   "source": [
    "# encoding data\n",
    "from sklearn import preprocessing\n",
    "encoder=preprocessing.LabelEncoder()\n",
    "for i in x_train.columns:\n",
    "    if isinstance(x_train[i][0],str):\n",
    "        x_train[i]=encoder.fit_transform(x_train[i])"
   ]
  },
  {
   "cell_type": "code",
   "execution_count": 60,
   "metadata": {},
   "outputs": [],
   "source": [
    "# encoding to test data\n",
    "from sklearn import preprocessing\n",
    "encoder=preprocessing.LabelEncoder()\n",
    "for i in x_test.columns:\n",
    "    if isinstance(x_test[i][0],str):\n",
    "        x_test[i]=encoder.fit_transform(x_test[i])"
   ]
  },
  {
   "cell_type": "code",
   "execution_count": 61,
   "metadata": {},
   "outputs": [
    {
     "data": {
      "text/html": [
       "<div>\n",
       "<style scoped>\n",
       "    .dataframe tbody tr th:only-of-type {\n",
       "        vertical-align: middle;\n",
       "    }\n",
       "\n",
       "    .dataframe tbody tr th {\n",
       "        vertical-align: top;\n",
       "    }\n",
       "\n",
       "    .dataframe thead th {\n",
       "        text-align: right;\n",
       "    }\n",
       "</style>\n",
       "<table border=\"1\" class=\"dataframe\">\n",
       "  <thead>\n",
       "    <tr style=\"text-align: right;\">\n",
       "      <th></th>\n",
       "      <th>account_id</th>\n",
       "      <th>week_start_date</th>\n",
       "      <th>feature1</th>\n",
       "      <th>feature2</th>\n",
       "      <th>feature3</th>\n",
       "      <th>feature4</th>\n",
       "      <th>feature5</th>\n",
       "      <th>feature6</th>\n",
       "      <th>feature7</th>\n",
       "      <th>feature8</th>\n",
       "      <th>...</th>\n",
       "      <th>feature53</th>\n",
       "      <th>feature54</th>\n",
       "      <th>feature55</th>\n",
       "      <th>feature56</th>\n",
       "      <th>feature57</th>\n",
       "      <th>feature58</th>\n",
       "      <th>feature59</th>\n",
       "      <th>feature60</th>\n",
       "      <th>feature61</th>\n",
       "      <th>feature62</th>\n",
       "    </tr>\n",
       "  </thead>\n",
       "  <tbody>\n",
       "    <tr>\n",
       "      <th>0</th>\n",
       "      <td>100559.0</td>\n",
       "      <td>1.535933e+12</td>\n",
       "      <td>0.0</td>\n",
       "      <td>0.0</td>\n",
       "      <td>0.000000</td>\n",
       "      <td>0.0</td>\n",
       "      <td>0.0</td>\n",
       "      <td>0.0</td>\n",
       "      <td>0.0</td>\n",
       "      <td>0.0</td>\n",
       "      <td>...</td>\n",
       "      <td>0.000000</td>\n",
       "      <td>0.0</td>\n",
       "      <td>0.000000</td>\n",
       "      <td>0.000000</td>\n",
       "      <td>0.0</td>\n",
       "      <td>0.0</td>\n",
       "      <td>0.0</td>\n",
       "      <td>0.0</td>\n",
       "      <td>0.0</td>\n",
       "      <td>0.0</td>\n",
       "    </tr>\n",
       "    <tr>\n",
       "      <th>1</th>\n",
       "      <td>103339.0</td>\n",
       "      <td>1.535933e+12</td>\n",
       "      <td>0.0</td>\n",
       "      <td>0.0</td>\n",
       "      <td>0.000000</td>\n",
       "      <td>0.0</td>\n",
       "      <td>0.0</td>\n",
       "      <td>0.0</td>\n",
       "      <td>0.0</td>\n",
       "      <td>0.0</td>\n",
       "      <td>...</td>\n",
       "      <td>0.000000</td>\n",
       "      <td>0.0</td>\n",
       "      <td>0.000000</td>\n",
       "      <td>0.000000</td>\n",
       "      <td>0.0</td>\n",
       "      <td>0.0</td>\n",
       "      <td>0.0</td>\n",
       "      <td>0.0</td>\n",
       "      <td>0.0</td>\n",
       "      <td>0.0</td>\n",
       "    </tr>\n",
       "    <tr>\n",
       "      <th>2</th>\n",
       "      <td>105319.0</td>\n",
       "      <td>1.535933e+12</td>\n",
       "      <td>0.0</td>\n",
       "      <td>0.0</td>\n",
       "      <td>0.000000</td>\n",
       "      <td>0.0</td>\n",
       "      <td>0.0</td>\n",
       "      <td>0.0</td>\n",
       "      <td>0.0</td>\n",
       "      <td>0.0</td>\n",
       "      <td>...</td>\n",
       "      <td>0.000000</td>\n",
       "      <td>0.0</td>\n",
       "      <td>0.000000</td>\n",
       "      <td>0.000000</td>\n",
       "      <td>0.0</td>\n",
       "      <td>0.0</td>\n",
       "      <td>0.0</td>\n",
       "      <td>0.0</td>\n",
       "      <td>0.0</td>\n",
       "      <td>0.0</td>\n",
       "    </tr>\n",
       "    <tr>\n",
       "      <th>3</th>\n",
       "      <td>107387.0</td>\n",
       "      <td>1.535933e+12</td>\n",
       "      <td>0.0</td>\n",
       "      <td>0.0</td>\n",
       "      <td>0.000000</td>\n",
       "      <td>0.0</td>\n",
       "      <td>0.0</td>\n",
       "      <td>0.0</td>\n",
       "      <td>0.0</td>\n",
       "      <td>0.0</td>\n",
       "      <td>...</td>\n",
       "      <td>0.000000</td>\n",
       "      <td>0.0</td>\n",
       "      <td>0.000000</td>\n",
       "      <td>0.000000</td>\n",
       "      <td>0.0</td>\n",
       "      <td>0.0</td>\n",
       "      <td>0.0</td>\n",
       "      <td>0.0</td>\n",
       "      <td>0.0</td>\n",
       "      <td>0.0</td>\n",
       "    </tr>\n",
       "    <tr>\n",
       "      <th>4</th>\n",
       "      <td>100450.0</td>\n",
       "      <td>1.535933e+12</td>\n",
       "      <td>0.0</td>\n",
       "      <td>0.0</td>\n",
       "      <td>124.666667</td>\n",
       "      <td>0.0</td>\n",
       "      <td>0.0</td>\n",
       "      <td>0.0</td>\n",
       "      <td>0.0</td>\n",
       "      <td>0.0</td>\n",
       "      <td>...</td>\n",
       "      <td>30.666667</td>\n",
       "      <td>0.0</td>\n",
       "      <td>0.000000</td>\n",
       "      <td>0.000000</td>\n",
       "      <td>0.0</td>\n",
       "      <td>0.0</td>\n",
       "      <td>0.0</td>\n",
       "      <td>0.0</td>\n",
       "      <td>0.0</td>\n",
       "      <td>0.0</td>\n",
       "    </tr>\n",
       "    <tr>\n",
       "      <th>...</th>\n",
       "      <td>...</td>\n",
       "      <td>...</td>\n",
       "      <td>...</td>\n",
       "      <td>...</td>\n",
       "      <td>...</td>\n",
       "      <td>...</td>\n",
       "      <td>...</td>\n",
       "      <td>...</td>\n",
       "      <td>...</td>\n",
       "      <td>...</td>\n",
       "      <td>...</td>\n",
       "      <td>...</td>\n",
       "      <td>...</td>\n",
       "      <td>...</td>\n",
       "      <td>...</td>\n",
       "      <td>...</td>\n",
       "      <td>...</td>\n",
       "      <td>...</td>\n",
       "      <td>...</td>\n",
       "      <td>...</td>\n",
       "      <td>...</td>\n",
       "    </tr>\n",
       "    <tr>\n",
       "      <th>114701</th>\n",
       "      <td>221945.0</td>\n",
       "      <td>1.585526e+12</td>\n",
       "      <td>0.0</td>\n",
       "      <td>0.0</td>\n",
       "      <td>0.000000</td>\n",
       "      <td>0.0</td>\n",
       "      <td>0.0</td>\n",
       "      <td>0.0</td>\n",
       "      <td>0.0</td>\n",
       "      <td>0.0</td>\n",
       "      <td>...</td>\n",
       "      <td>0.000000</td>\n",
       "      <td>0.0</td>\n",
       "      <td>0.000000</td>\n",
       "      <td>0.000000</td>\n",
       "      <td>0.0</td>\n",
       "      <td>0.0</td>\n",
       "      <td>0.0</td>\n",
       "      <td>0.0</td>\n",
       "      <td>0.0</td>\n",
       "      <td>0.0</td>\n",
       "    </tr>\n",
       "    <tr>\n",
       "      <th>114702</th>\n",
       "      <td>201547.0</td>\n",
       "      <td>1.585526e+12</td>\n",
       "      <td>0.0</td>\n",
       "      <td>0.0</td>\n",
       "      <td>2.724138</td>\n",
       "      <td>0.0</td>\n",
       "      <td>0.0</td>\n",
       "      <td>0.0</td>\n",
       "      <td>5.4</td>\n",
       "      <td>0.0</td>\n",
       "      <td>...</td>\n",
       "      <td>4.943925</td>\n",
       "      <td>0.0</td>\n",
       "      <td>5.782609</td>\n",
       "      <td>-0.076923</td>\n",
       "      <td>0.0</td>\n",
       "      <td>0.0</td>\n",
       "      <td>0.0</td>\n",
       "      <td>0.0</td>\n",
       "      <td>0.0</td>\n",
       "      <td>0.0</td>\n",
       "    </tr>\n",
       "    <tr>\n",
       "      <th>114703</th>\n",
       "      <td>198212.0</td>\n",
       "      <td>1.585526e+12</td>\n",
       "      <td>0.0</td>\n",
       "      <td>0.0</td>\n",
       "      <td>0.000000</td>\n",
       "      <td>0.0</td>\n",
       "      <td>0.0</td>\n",
       "      <td>0.0</td>\n",
       "      <td>0.0</td>\n",
       "      <td>0.0</td>\n",
       "      <td>...</td>\n",
       "      <td>0.000000</td>\n",
       "      <td>0.0</td>\n",
       "      <td>0.000000</td>\n",
       "      <td>0.000000</td>\n",
       "      <td>0.0</td>\n",
       "      <td>0.0</td>\n",
       "      <td>0.0</td>\n",
       "      <td>0.0</td>\n",
       "      <td>0.0</td>\n",
       "      <td>0.0</td>\n",
       "    </tr>\n",
       "    <tr>\n",
       "      <th>114704</th>\n",
       "      <td>179895.0</td>\n",
       "      <td>1.585526e+12</td>\n",
       "      <td>0.0</td>\n",
       "      <td>0.0</td>\n",
       "      <td>0.000000</td>\n",
       "      <td>0.0</td>\n",
       "      <td>0.0</td>\n",
       "      <td>0.0</td>\n",
       "      <td>0.0</td>\n",
       "      <td>0.0</td>\n",
       "      <td>...</td>\n",
       "      <td>0.000000</td>\n",
       "      <td>0.0</td>\n",
       "      <td>0.000000</td>\n",
       "      <td>0.000000</td>\n",
       "      <td>0.0</td>\n",
       "      <td>0.0</td>\n",
       "      <td>0.0</td>\n",
       "      <td>0.0</td>\n",
       "      <td>0.0</td>\n",
       "      <td>0.0</td>\n",
       "    </tr>\n",
       "    <tr>\n",
       "      <th>114705</th>\n",
       "      <td>101817.0</td>\n",
       "      <td>1.585526e+12</td>\n",
       "      <td>0.0</td>\n",
       "      <td>0.0</td>\n",
       "      <td>0.000000</td>\n",
       "      <td>0.0</td>\n",
       "      <td>0.0</td>\n",
       "      <td>0.0</td>\n",
       "      <td>0.0</td>\n",
       "      <td>0.0</td>\n",
       "      <td>...</td>\n",
       "      <td>0.000000</td>\n",
       "      <td>0.0</td>\n",
       "      <td>0.000000</td>\n",
       "      <td>0.000000</td>\n",
       "      <td>0.0</td>\n",
       "      <td>0.0</td>\n",
       "      <td>0.0</td>\n",
       "      <td>0.0</td>\n",
       "      <td>0.0</td>\n",
       "      <td>0.0</td>\n",
       "    </tr>\n",
       "  </tbody>\n",
       "</table>\n",
       "<p>114706 rows × 64 columns</p>\n",
       "</div>"
      ],
      "text/plain": [
       "        account_id  week_start_date  feature1  feature2    feature3  feature4  \\\n",
       "0         100559.0     1.535933e+12       0.0       0.0    0.000000       0.0   \n",
       "1         103339.0     1.535933e+12       0.0       0.0    0.000000       0.0   \n",
       "2         105319.0     1.535933e+12       0.0       0.0    0.000000       0.0   \n",
       "3         107387.0     1.535933e+12       0.0       0.0    0.000000       0.0   \n",
       "4         100450.0     1.535933e+12       0.0       0.0  124.666667       0.0   \n",
       "...            ...              ...       ...       ...         ...       ...   \n",
       "114701    221945.0     1.585526e+12       0.0       0.0    0.000000       0.0   \n",
       "114702    201547.0     1.585526e+12       0.0       0.0    2.724138       0.0   \n",
       "114703    198212.0     1.585526e+12       0.0       0.0    0.000000       0.0   \n",
       "114704    179895.0     1.585526e+12       0.0       0.0    0.000000       0.0   \n",
       "114705    101817.0     1.585526e+12       0.0       0.0    0.000000       0.0   \n",
       "\n",
       "        feature5  feature6  feature7  feature8  ...  feature53  feature54  \\\n",
       "0            0.0       0.0       0.0       0.0  ...   0.000000        0.0   \n",
       "1            0.0       0.0       0.0       0.0  ...   0.000000        0.0   \n",
       "2            0.0       0.0       0.0       0.0  ...   0.000000        0.0   \n",
       "3            0.0       0.0       0.0       0.0  ...   0.000000        0.0   \n",
       "4            0.0       0.0       0.0       0.0  ...  30.666667        0.0   \n",
       "...          ...       ...       ...       ...  ...        ...        ...   \n",
       "114701       0.0       0.0       0.0       0.0  ...   0.000000        0.0   \n",
       "114702       0.0       0.0       5.4       0.0  ...   4.943925        0.0   \n",
       "114703       0.0       0.0       0.0       0.0  ...   0.000000        0.0   \n",
       "114704       0.0       0.0       0.0       0.0  ...   0.000000        0.0   \n",
       "114705       0.0       0.0       0.0       0.0  ...   0.000000        0.0   \n",
       "\n",
       "        feature55  feature56  feature57  feature58  feature59  feature60  \\\n",
       "0        0.000000   0.000000        0.0        0.0        0.0        0.0   \n",
       "1        0.000000   0.000000        0.0        0.0        0.0        0.0   \n",
       "2        0.000000   0.000000        0.0        0.0        0.0        0.0   \n",
       "3        0.000000   0.000000        0.0        0.0        0.0        0.0   \n",
       "4        0.000000   0.000000        0.0        0.0        0.0        0.0   \n",
       "...           ...        ...        ...        ...        ...        ...   \n",
       "114701   0.000000   0.000000        0.0        0.0        0.0        0.0   \n",
       "114702   5.782609  -0.076923        0.0        0.0        0.0        0.0   \n",
       "114703   0.000000   0.000000        0.0        0.0        0.0        0.0   \n",
       "114704   0.000000   0.000000        0.0        0.0        0.0        0.0   \n",
       "114705   0.000000   0.000000        0.0        0.0        0.0        0.0   \n",
       "\n",
       "        feature61  feature62  \n",
       "0             0.0        0.0  \n",
       "1             0.0        0.0  \n",
       "2             0.0        0.0  \n",
       "3             0.0        0.0  \n",
       "4             0.0        0.0  \n",
       "...           ...        ...  \n",
       "114701        0.0        0.0  \n",
       "114702        0.0        0.0  \n",
       "114703        0.0        0.0  \n",
       "114704        0.0        0.0  \n",
       "114705        0.0        0.0  \n",
       "\n",
       "[114706 rows x 64 columns]"
      ]
     },
     "execution_count": 61,
     "metadata": {},
     "output_type": "execute_result"
    }
   ],
   "source": [
    "x_train"
   ]
  },
  {
   "cell_type": "code",
   "execution_count": 62,
   "metadata": {},
   "outputs": [],
   "source": [
    "# import datetime\n",
    "# def conv(date):\n",
    "#     s=datetime.datetime.fromtimestamp(date/1000.0)\n",
    "#     return s"
   ]
  },
  {
   "cell_type": "code",
   "execution_count": 63,
   "metadata": {},
   "outputs": [],
   "source": [
    "# X_train[\"week_start_date\"]=X_train[\"week_start_date\"].apply(conv)\n",
    "# X_test[\"week_start_date\"]=X_test[\"week_start_date\"].apply(conv)\n"
   ]
  },
  {
   "cell_type": "markdown",
   "metadata": {},
   "source": [
    "# decision_tree_classifier"
   ]
  },
  {
   "cell_type": "code",
   "execution_count": 64,
   "metadata": {},
   "outputs": [],
   "source": [
    "from sklearn.tree import DecisionTreeClassifier"
   ]
  },
  {
   "cell_type": "code",
   "execution_count": 65,
   "metadata": {},
   "outputs": [],
   "source": [
    "classifytree=DecisionTreeClassifier(max_depth=5)"
   ]
  },
  {
   "cell_type": "code",
   "execution_count": 66,
   "metadata": {},
   "outputs": [
    {
     "data": {
      "text/plain": [
       "DecisionTreeClassifier(ccp_alpha=0.0, class_weight=None, criterion='gini',\n",
       "                       max_depth=5, max_features=None, max_leaf_nodes=None,\n",
       "                       min_impurity_decrease=0.0, min_impurity_split=None,\n",
       "                       min_samples_leaf=1, min_samples_split=2,\n",
       "                       min_weight_fraction_leaf=0.0, presort='deprecated',\n",
       "                       random_state=None, splitter='best')"
      ]
     },
     "execution_count": 66,
     "metadata": {},
     "output_type": "execute_result"
    }
   ],
   "source": [
    "classifytree.fit(X_train,Y_train)"
   ]
  },
  {
   "cell_type": "code",
   "execution_count": 67,
   "metadata": {},
   "outputs": [],
   "source": [
    "#prediction \n",
    "prediction=classifytree.predict(X_test)\n",
    "from sklearn.metrics import classification_report\n",
    "report=classification_report(Y_test,prediction)"
   ]
  },
  {
   "cell_type": "code",
   "execution_count": 68,
   "metadata": {},
   "outputs": [
    {
     "data": {
      "text/plain": [
       "0.8632315409662941"
      ]
     },
     "execution_count": 68,
     "metadata": {},
     "output_type": "execute_result"
    }
   ],
   "source": [
    "#score of training\n",
    "classifytree.score(X_train,Y_train)"
   ]
  },
  {
   "cell_type": "code",
   "execution_count": 69,
   "metadata": {},
   "outputs": [
    {
     "data": {
      "text/plain": [
       "0.8844698906042326"
      ]
     },
     "execution_count": 69,
     "metadata": {},
     "output_type": "execute_result"
    }
   ],
   "source": [
    "#score of testing\n",
    "classifytree.score(X_test,Y_test)"
   ]
  },
  {
   "cell_type": "code",
   "execution_count": 70,
   "metadata": {},
   "outputs": [
    {
     "name": "stdout",
     "output_type": "stream",
     "text": [
      "              precision    recall  f1-score   support\n",
      "\n",
      "           0       0.82      0.99      0.90     29343\n",
      "           1       0.99      0.77      0.87     29343\n",
      "\n",
      "    accuracy                           0.88     58686\n",
      "   macro avg       0.90      0.88      0.88     58686\n",
      "weighted avg       0.90      0.88      0.88     58686\n"
     ]
    }
   ],
   "source": [
    "print(report,end=\"\")"
   ]
  },
  {
   "cell_type": "code",
   "execution_count": 71,
   "metadata": {},
   "outputs": [],
   "source": [
    "#probability of predicition\n",
    "predictionprob1=classifytree.predict_proba(X_test)\n",
    "predictionprob2=pd.DataFrame(predictionprob1)\n",
    "predictionproba3=predictionprob2.iloc[:,1]\n",
    "\n"
   ]
  },
  {
   "cell_type": "code",
   "execution_count": 72,
   "metadata": {},
   "outputs": [],
   "source": [
    "#precision recall value\n",
    "from sklearn.metrics import accuracy_score,confusion_matrix,precision_recall_curve\n",
    "prec12,recal12,thresh12=precision_recall_curve(Y_test,predictionproba3)"
   ]
  },
  {
   "cell_type": "code",
   "execution_count": 73,
   "metadata": {},
   "outputs": [],
   "source": [
    "#accuracy"
   ]
  },
  {
   "cell_type": "code",
   "execution_count": 74,
   "metadata": {},
   "outputs": [
    {
     "data": {
      "text/plain": [
       "0.8844698906042326"
      ]
     },
     "execution_count": 74,
     "metadata": {},
     "output_type": "execute_result"
    }
   ],
   "source": [
    "treeacc=accuracy_score(Y_test,prediction)\n",
    "treeacc"
   ]
  },
  {
   "cell_type": "code",
   "execution_count": 75,
   "metadata": {},
   "outputs": [
    {
     "data": {
      "text/plain": [
       "array([[29175,   168],\n",
       "       [ 6612, 22731]], dtype=int64)"
      ]
     },
     "execution_count": 75,
     "metadata": {},
     "output_type": "execute_result"
    }
   ],
   "source": [
    "#confusion matrix\n",
    "confusion=confusion_matrix(Y_test,prediction)\n",
    "confusion"
   ]
  },
  {
   "cell_type": "code",
   "execution_count": 154,
   "metadata": {},
   "outputs": [
    {
     "data": {
      "text/plain": [
       "Text(83.40000000000006, 0.5, 'Model prediction')"
      ]
     },
     "execution_count": 154,
     "metadata": {},
     "output_type": "execute_result"
    },
    {
     "data": {
      "image/png": "[encoded data removed]",
      "text/plain": [
       "<Figure size 432x288 with 2 Axes>"
      ]
     },
     "metadata": {
      "needs_background": "light"
     },
     "output_type": "display_data"
    }
   ],
   "source": [
    "import seaborn as sn\n",
    "axes1=sn.heatmap(confusion,square=True,annot=True,fmt='d',cbar=True,cmap=plt.cm.GnBu)\n",
    "\n",
    "axes1.set_xlabel('Actual')\n",
    "axes1.set_ylabel('Model prediction')"
   ]
  },
  {
   "cell_type": "code",
   "execution_count": 76,
   "metadata": {},
   "outputs": [
    {
     "data": {
      "text/plain": [
       "Text(0.5, 1.0, 'precision recall curve')"
      ]
     },
     "execution_count": 76,
     "metadata": {},
     "output_type": "execute_result"
    },
    {
     "data": {
      "image/png": "[encoded data removed]",
      "text/plain": [
       "<Figure size 432x288 with 1 Axes>"
      ]
     },
     "metadata": {
      "needs_background": "light"
     },
     "output_type": "display_data"
    }
   ],
   "source": [
    "plt.plot(recal12,prec12)\n",
    "\n",
    "plt.xlabel(\"Recall\")\n",
    "plt.ylabel(\"Precision\")\n",
    "\n",
    "plt.title(\"precision recall curve\")"
   ]
  },
  {
   "cell_type": "code",
   "execution_count": 77,
   "metadata": {},
   "outputs": [
    {
     "data": {
      "text/plain": [
       "array([0], dtype=int64)"
      ]
     },
     "execution_count": 77,
     "metadata": {},
     "output_type": "execute_result"
    }
   ],
   "source": [
    "test2=classifytree.predict(X_test.iloc[0:1,:])\n",
    "test2"
   ]
  },
  {
   "cell_type": "markdown",
   "metadata": {},
   "source": [
    "# random_forest_classifier"
   ]
  },
  {
   "cell_type": "code",
   "execution_count": 78,
   "metadata": {},
   "outputs": [],
   "source": [
    "from sklearn.ensemble import RandomForestClassifier"
   ]
  },
  {
   "cell_type": "code",
   "execution_count": 79,
   "metadata": {},
   "outputs": [],
   "source": [
    "classify=RandomForestClassifier(max_depth=5,n_estimators=200)\n"
   ]
  },
  {
   "cell_type": "code",
   "execution_count": 80,
   "metadata": {},
   "outputs": [
    {
     "data": {
      "text/plain": [
       "RandomForestClassifier(bootstrap=True, ccp_alpha=0.0, class_weight=None,\n",
       "                       criterion='gini', max_depth=5, max_features='auto',\n",
       "                       max_leaf_nodes=None, max_samples=None,\n",
       "                       min_impurity_decrease=0.0, min_impurity_split=None,\n",
       "                       min_samples_leaf=1, min_samples_split=2,\n",
       "                       min_weight_fraction_leaf=0.0, n_estimators=200,\n",
       "                       n_jobs=None, oob_score=False, random_state=None,\n",
       "                       verbose=0, warm_start=False)"
      ]
     },
     "execution_count": 80,
     "metadata": {},
     "output_type": "execute_result"
    }
   ],
   "source": [
    "classify.fit(X_train,Y_train)"
   ]
  },
  {
   "cell_type": "code",
   "execution_count": 81,
   "metadata": {},
   "outputs": [],
   "source": [
    "pred=classify.predict(X_test)\n",
    "from sklearn.metrics import classification_report\n",
    "cl=classification_report(Y_test,pred)"
   ]
  },
  {
   "cell_type": "code",
   "execution_count": 82,
   "metadata": {},
   "outputs": [
    {
     "data": {
      "text/plain": [
       "0.8623602921763619"
      ]
     },
     "execution_count": 82,
     "metadata": {},
     "output_type": "execute_result"
    }
   ],
   "source": [
    "classify.score(X_train,Y_train)"
   ]
  },
  {
   "cell_type": "code",
   "execution_count": 83,
   "metadata": {},
   "outputs": [
    {
     "data": {
      "text/plain": [
       "0.8801588113008213"
      ]
     },
     "execution_count": 83,
     "metadata": {},
     "output_type": "execute_result"
    }
   ],
   "source": [
    "classify.score(X_test,Y_test)"
   ]
  },
  {
   "cell_type": "markdown",
   "metadata": {},
   "source": [
    "<h4>report </h4>"
   ]
  },
  {
   "cell_type": "code",
   "execution_count": 84,
   "metadata": {},
   "outputs": [
    {
     "name": "stdout",
     "output_type": "stream",
     "text": [
      "              precision    recall  f1-score   support\n",
      "\n",
      "           0       0.81      0.99      0.89     29343\n",
      "           1       0.99      0.77      0.87     29343\n",
      "\n",
      "    accuracy                           0.88     58686\n",
      "   macro avg       0.90      0.88      0.88     58686\n",
      "weighted avg       0.90      0.88      0.88     58686\n"
     ]
    }
   ],
   "source": [
    "print(cl,end=\"\")"
   ]
  },
  {
   "cell_type": "markdown",
   "metadata": {},
   "source": [
    "<h4>prediction</h4>"
   ]
  },
  {
   "cell_type": "code",
   "execution_count": 85,
   "metadata": {},
   "outputs": [
    {
     "data": {
      "text/plain": [
       "array([0, 0, 0, ..., 1, 1, 1], dtype=int64)"
      ]
     },
     "execution_count": 85,
     "metadata": {},
     "output_type": "execute_result"
    }
   ],
   "source": [
    "pred"
   ]
  },
  {
   "cell_type": "markdown",
   "metadata": {},
   "source": [
    "<h4>probability of prediction</h4>"
   ]
  },
  {
   "cell_type": "code",
   "execution_count": 86,
   "metadata": {},
   "outputs": [],
   "source": [
    "predprob=classify.predict_proba(X_test)"
   ]
  },
  {
   "cell_type": "code",
   "execution_count": 87,
   "metadata": {},
   "outputs": [],
   "source": [
    "predproba=pd.DataFrame(predprob)"
   ]
  },
  {
   "cell_type": "code",
   "execution_count": 88,
   "metadata": {},
   "outputs": [],
   "source": [
    "predproba=predproba.iloc[:,1]\n"
   ]
  },
  {
   "cell_type": "code",
   "execution_count": 89,
   "metadata": {},
   "outputs": [],
   "source": [
    "from sklearn.metrics import roc_auc_score,roc_curve"
   ]
  },
  {
   "cell_type": "code",
   "execution_count": 90,
   "metadata": {},
   "outputs": [],
   "source": [
    "#we will  get two values for 1 ,0 \n",
    "fpr,tpr,threshold=roc_curve(Y_test,predproba)\n"
   ]
  },
  {
   "cell_type": "code",
   "execution_count": 91,
   "metadata": {},
   "outputs": [],
   "source": [
    "from sklearn.metrics import accuracy_score,confusion_matrix,precision_recall_curve"
   ]
  },
  {
   "cell_type": "markdown",
   "metadata": {},
   "source": [
    "precision=(tp/(tp+fp))<br>\n",
    "recall=(tp/(tp+fn))<br>"
   ]
  },
  {
   "cell_type": "code",
   "execution_count": 92,
   "metadata": {},
   "outputs": [],
   "source": [
    "prec,recal,thresh=precision_recall_curve(Y_test,predproba)"
   ]
  },
  {
   "cell_type": "code",
   "execution_count": 93,
   "metadata": {},
   "outputs": [
    {
     "data": {
      "text/plain": [
       "Text(0.5, 1.0, 'precision recall curve')"
      ]
     },
     "execution_count": 93,
     "metadata": {},
     "output_type": "execute_result"
    },
    {
     "data": {
      "image/png": "[encoded data removed]",
      "text/plain": [
       "<Figure size 432x288 with 1 Axes>"
      ]
     },
     "metadata": {
      "needs_background": "light"
     },
     "output_type": "display_data"
    }
   ],
   "source": [
    "plt.plot(recal,prec)\n",
    "plt.xlabel(\"Recall\")\n",
    "plt.ylabel(\"Precision\")\n",
    "\n",
    "plt.title(\"precision recall curve\")"
   ]
  },
  {
   "cell_type": "markdown",
   "metadata": {},
   "source": [
    "my recall is close to 1 ,this is why precision"
   ]
  },
  {
   "cell_type": "code",
   "execution_count": 94,
   "metadata": {},
   "outputs": [],
   "source": [
    "acc=accuracy_score(pred,Y_test)"
   ]
  },
  {
   "cell_type": "markdown",
   "metadata": {},
   "source": [
    "# Accuracy"
   ]
  },
  {
   "cell_type": "code",
   "execution_count": 95,
   "metadata": {},
   "outputs": [
    {
     "data": {
      "text/plain": [
       "0.8801588113008213"
      ]
     },
     "execution_count": 95,
     "metadata": {},
     "output_type": "execute_result"
    }
   ],
   "source": [
    "acc"
   ]
  },
  {
   "cell_type": "code",
   "execution_count": 96,
   "metadata": {},
   "outputs": [],
   "source": [
    "confus=confusion_matrix(Y_test,pred)"
   ]
  },
  {
   "cell_type": "code",
   "execution_count": 153,
   "metadata": {},
   "outputs": [
    {
     "data": {
      "text/plain": [
       "Text(83.40000000000006, 0.5, 'Model prediction')"
      ]
     },
     "execution_count": 153,
     "metadata": {},
     "output_type": "execute_result"
    },
    {
     "data": {
      "image/png": "[encoded data removed]",
      "text/plain": [
       "<Figure size 432x288 with 2 Axes>"
      ]
     },
     "metadata": {
      "needs_background": "light"
     },
     "output_type": "display_data"
    }
   ],
   "source": [
    "axes=sn.heatmap(confus,square=True,annot=True,fmt='d',cbar=True,cmap=plt.cm.GnBu)\n",
    "axes.set_xlabel('Actual')\n",
    "axes.set_ylabel('Model prediction')"
   ]
  },
  {
   "cell_type": "markdown",
   "metadata": {},
   "source": [
    "RealTime my accuracy is 29065/29065+6767=29065/35832=81%<br>\n",
    "my tn(truenegative) is 22576 ,truepositive(tp) is 29065<br>\n",
    "fn(falsenegative) is 6767<br>\n",
    "fp(falsepostive) is 278<br>\n"
   ]
  },
  {
   "cell_type": "markdown",
   "metadata": {},
   "source": []
  },
  {
   "cell_type": "markdown",
   "metadata": {},
   "source": [
    "# prediction of test data "
   ]
  },
  {
   "cell_type": "code",
   "execution_count": 98,
   "metadata": {},
   "outputs": [],
   "source": [
    "test=classify.predict(X_test.iloc[0:1,:])"
   ]
  },
  {
   "cell_type": "code",
   "execution_count": 99,
   "metadata": {},
   "outputs": [
    {
     "data": {
      "text/plain": [
       "array([0], dtype=int64)"
      ]
     },
     "execution_count": 99,
     "metadata": {},
     "output_type": "execute_result"
    }
   ],
   "source": [
    "test"
   ]
  },
  {
   "cell_type": "markdown",
   "metadata": {},
   "source": [
    "# xgboost classifier"
   ]
  },
  {
   "cell_type": "code",
   "execution_count": 100,
   "metadata": {},
   "outputs": [],
   "source": [
    "from xgboost import XGBClassifier"
   ]
  },
  {
   "cell_type": "code",
   "execution_count": 101,
   "metadata": {},
   "outputs": [],
   "source": [
    "xg=XGBClassifier()"
   ]
  },
  {
   "cell_type": "code",
   "execution_count": 102,
   "metadata": {},
   "outputs": [
    {
     "data": {
      "text/plain": [
       "XGBClassifier(base_score=0.5, booster='gbtree', colsample_bylevel=1,\n",
       "              colsample_bynode=1, colsample_bytree=1, gamma=0, gpu_id=-1,\n",
       "              importance_type='gain', interaction_constraints='',\n",
       "              learning_rate=0.300000012, max_delta_step=0, max_depth=6,\n",
       "              min_child_weight=1, missing=nan, monotone_constraints='()',\n",
       "              n_estimators=100, n_jobs=0, num_parallel_tree=1,\n",
       "              objective='binary:logistic', random_state=0, reg_alpha=0,\n",
       "              reg_lambda=1, scale_pos_weight=1, subsample=1,\n",
       "              tree_method='exact', validate_parameters=1, verbosity=None)"
      ]
     },
     "execution_count": 102,
     "metadata": {},
     "output_type": "execute_result"
    }
   ],
   "source": [
    "xg.fit(X_train,Y_train)"
   ]
  },
  {
   "cell_type": "code",
   "execution_count": 103,
   "metadata": {},
   "outputs": [
    {
     "data": {
      "text/plain": [
       "0.9646880225292617"
      ]
     },
     "execution_count": 103,
     "metadata": {},
     "output_type": "execute_result"
    }
   ],
   "source": [
    "xg.score(X_train,Y_train)"
   ]
  },
  {
   "cell_type": "code",
   "execution_count": 104,
   "metadata": {},
   "outputs": [
    {
     "data": {
      "text/plain": [
       "0.9392018539344988"
      ]
     },
     "execution_count": 104,
     "metadata": {},
     "output_type": "execute_result"
    }
   ],
   "source": [
    "xg.score(X_test,Y_test)"
   ]
  },
  {
   "cell_type": "code",
   "execution_count": 105,
   "metadata": {},
   "outputs": [],
   "source": [
    "pred2=xg.predict(X_test)\n",
    "from sklearn.metrics import classification_report\n",
    "cl2=classification_report(Y_test,pred2)"
   ]
  },
  {
   "cell_type": "code",
   "execution_count": 106,
   "metadata": {},
   "outputs": [
    {
     "name": "stdout",
     "output_type": "stream",
     "text": [
      "              precision    recall  f1-score   support\n",
      "\n",
      "           0       0.91      0.98      0.94     29343\n",
      "           1       0.98      0.90      0.94     29343\n",
      "\n",
      "    accuracy                           0.94     58686\n",
      "   macro avg       0.94      0.94      0.94     58686\n",
      "weighted avg       0.94      0.94      0.94     58686\n"
     ]
    }
   ],
   "source": [
    "print(cl2,end=\"\")"
   ]
  },
  {
   "cell_type": "code",
   "execution_count": 107,
   "metadata": {},
   "outputs": [],
   "source": [
    "predprob2=xg.predict_proba(X_test)"
   ]
  },
  {
   "cell_type": "code",
   "execution_count": 108,
   "metadata": {},
   "outputs": [],
   "source": [
    "predproba2=pd.DataFrame(predprob2)\n",
    "predproba3=predproba2.iloc[:,1]\n",
    "\n"
   ]
  },
  {
   "cell_type": "code",
   "execution_count": 109,
   "metadata": {},
   "outputs": [],
   "source": [
    "from sklearn.metrics import accuracy_score,confusion_matrix,precision_recall_curve"
   ]
  },
  {
   "cell_type": "code",
   "execution_count": 110,
   "metadata": {},
   "outputs": [],
   "source": [
    "prec2,recal2,thresh2=precision_recall_curve(Y_test,predproba3)"
   ]
  },
  {
   "cell_type": "code",
   "execution_count": null,
   "metadata": {},
   "outputs": [],
   "source": []
  },
  {
   "cell_type": "code",
   "execution_count": 111,
   "metadata": {},
   "outputs": [
    {
     "data": {
      "text/plain": [
       "array([0.5046348 , 0.50462629, 0.50463496, ..., 1.        , 1.        ,\n",
       "       1.        ])"
      ]
     },
     "execution_count": 111,
     "metadata": {},
     "output_type": "execute_result"
    }
   ],
   "source": [
    "prec2"
   ]
  },
  {
   "cell_type": "code",
   "execution_count": 112,
   "metadata": {},
   "outputs": [
    {
     "data": {
      "text/plain": [
       "Text(0.5, 1.0, 'precision recall curve')"
      ]
     },
     "execution_count": 112,
     "metadata": {},
     "output_type": "execute_result"
    },
    {
     "data": {
      "image/png": "[encoded data removed]",
      "text/plain": [
       "<Figure size 432x288 with 1 Axes>"
      ]
     },
     "metadata": {
      "needs_background": "light"
     },
     "output_type": "display_data"
    }
   ],
   "source": [
    "plt.plot(recal2,prec2)\n",
    "plt.xlabel(\"Recall\")\n",
    "plt.ylabel(\"Precision\")\n",
    "\n",
    "plt.title(\"precision recall curve\")"
   ]
  },
  {
   "cell_type": "code",
   "execution_count": 113,
   "metadata": {},
   "outputs": [],
   "source": [
    "confus2=confusion_matrix(Y_test,pred2)"
   ]
  },
  {
   "cell_type": "code",
   "execution_count": 156,
   "metadata": {},
   "outputs": [
    {
     "data": {
      "text/plain": [
       "Text(83.40000000000006, 0.5, 'Model prediction')"
      ]
     },
     "execution_count": 156,
     "metadata": {},
     "output_type": "execute_result"
    },
    {
     "data": {
      "image/png": "[encoded data removed]",
      "text/plain": [
       "<Figure size 432x288 with 2 Axes>"
      ]
     },
     "metadata": {
      "needs_background": "light"
     },
     "output_type": "display_data"
    }
   ],
   "source": [
    "axes3=sn.heatmap(confus2,square=True,annot=True,fmt='d',cbar=True,cmap=plt.cm.GnBu)\n",
    "axes3.set_xlabel('Actual')\n",
    "axes3.set_ylabel('Model prediction')"
   ]
  },
  {
   "cell_type": "code",
   "execution_count": 115,
   "metadata": {},
   "outputs": [],
   "source": [
    "#accuracy"
   ]
  },
  {
   "cell_type": "code",
   "execution_count": 116,
   "metadata": {},
   "outputs": [
    {
     "data": {
      "text/plain": [
       "0.9392018539344988"
      ]
     },
     "execution_count": 116,
     "metadata": {},
     "output_type": "execute_result"
    }
   ],
   "source": [
    "xgacc=accuracy_score(pred2,Y_test)\n",
    "xgacc"
   ]
  },
  {
   "cell_type": "code",
   "execution_count": null,
   "metadata": {},
   "outputs": [],
   "source": []
  },
  {
   "cell_type": "markdown",
   "metadata": {},
   "source": [
    "xgboost works well it gives me better accuracy "
   ]
  },
  {
   "cell_type": "code",
   "execution_count": 117,
   "metadata": {},
   "outputs": [
    {
     "data": {
      "text/plain": [
       "array([1], dtype=int64)"
      ]
     },
     "execution_count": 117,
     "metadata": {},
     "output_type": "execute_result"
    }
   ],
   "source": [
    "w=xg.predict(X_test.iloc[0:1,:])\n",
    "w"
   ]
  },
  {
   "cell_type": "markdown",
   "metadata": {},
   "source": [
    "<h3>KNN (Know Nearest Neighbours)</h3>"
   ]
  },
  {
   "cell_type": "code",
   "execution_count": 118,
   "metadata": {},
   "outputs": [],
   "source": [
    "from sklearn.neighbors import KNeighborsClassifier"
   ]
  },
  {
   "cell_type": "code",
   "execution_count": 119,
   "metadata": {},
   "outputs": [],
   "source": [
    "knn=KNeighborsClassifier(n_neighbors=4)"
   ]
  },
  {
   "cell_type": "code",
   "execution_count": 120,
   "metadata": {},
   "outputs": [
    {
     "data": {
      "text/plain": [
       "KNeighborsClassifier(algorithm='auto', leaf_size=30, metric='minkowski',\n",
       "                     metric_params=None, n_jobs=None, n_neighbors=4, p=2,\n",
       "                     weights='uniform')"
      ]
     },
     "execution_count": 120,
     "metadata": {},
     "output_type": "execute_result"
    }
   ],
   "source": [
    "knn.fit(X_train,Y_train)"
   ]
  },
  {
   "cell_type": "code",
   "execution_count": 121,
   "metadata": {},
   "outputs": [
    {
     "data": {
      "text/plain": [
       "0.8931444160873009"
      ]
     },
     "execution_count": 121,
     "metadata": {},
     "output_type": "execute_result"
    }
   ],
   "source": [
    "knn.score(X_train,Y_train)"
   ]
  },
  {
   "cell_type": "code",
   "execution_count": 122,
   "metadata": {},
   "outputs": [
    {
     "data": {
      "text/plain": [
       "0.7225573390587193"
      ]
     },
     "execution_count": 122,
     "metadata": {},
     "output_type": "execute_result"
    }
   ],
   "source": [
    "knn.score(X_test,Y_test)"
   ]
  },
  {
   "cell_type": "code",
   "execution_count": 123,
   "metadata": {},
   "outputs": [],
   "source": [
    "predknn=knn.predict(X_test)\n",
    "knnacc=accuracy_score(predknn,Y_test)"
   ]
  },
  {
   "cell_type": "code",
   "execution_count": 124,
   "metadata": {},
   "outputs": [
    {
     "name": "stdout",
     "output_type": "stream",
     "text": [
      "              precision    recall  f1-score   support\n",
      "\n",
      "           0       0.67      0.88      0.76     29343\n",
      "           1       0.83      0.56      0.67     29343\n",
      "\n",
      "    accuracy                           0.72     58686\n",
      "   macro avg       0.75      0.72      0.72     58686\n",
      "weighted avg       0.75      0.72      0.72     58686\n",
      " "
     ]
    }
   ],
   "source": [
    "clknn=classification_report(Y_test,predknn)\n",
    "print(clknn,end=\" \")"
   ]
  },
  {
   "cell_type": "code",
   "execution_count": 125,
   "metadata": {},
   "outputs": [],
   "source": [
    "predprobknn=knn.predict_proba(X_test)"
   ]
  },
  {
   "cell_type": "code",
   "execution_count": 126,
   "metadata": {},
   "outputs": [],
   "source": [
    "predproba21=pd.DataFrame(predprobknn)\n",
    "predproba31=predproba21.iloc[:,1]\n",
    "\n"
   ]
  },
  {
   "cell_type": "code",
   "execution_count": 127,
   "metadata": {},
   "outputs": [],
   "source": [
    "prec22,recal22,thresh22=precision_recall_curve(Y_test,predproba31)"
   ]
  },
  {
   "cell_type": "code",
   "execution_count": 128,
   "metadata": {},
   "outputs": [
    {
     "data": {
      "text/plain": [
       "Text(0.5, 1.0, 'precision recall curve')"
      ]
     },
     "execution_count": 128,
     "metadata": {},
     "output_type": "execute_result"
    },
    {
     "data": {
      "image/png": "[encoded data removed]",
      "text/plain": [
       "<Figure size 432x288 with 1 Axes>"
      ]
     },
     "metadata": {
      "needs_background": "light"
     },
     "output_type": "display_data"
    }
   ],
   "source": [
    "plt.plot(recal22,prec22)\n",
    "plt.xlabel(\"Recall\")\n",
    "plt.ylabel(\"Precision\")\n",
    "\n",
    "plt.title(\"precision recall curve\")"
   ]
  },
  {
   "cell_type": "code",
   "execution_count": 129,
   "metadata": {},
   "outputs": [],
   "source": [
    "confus222=confusion_matrix(Y_test,predknn)"
   ]
  },
  {
   "cell_type": "code",
   "execution_count": 157,
   "metadata": {},
   "outputs": [
    {
     "data": {
      "text/plain": [
       "Text(83.40000000000006, 0.5, 'Model prediction')"
      ]
     },
     "execution_count": 157,
     "metadata": {},
     "output_type": "execute_result"
    },
    {
     "data": {
      "image/png": "[encoded data removed]",
      "text/plain": [
       "<Figure size 432x288 with 2 Axes>"
      ]
     },
     "metadata": {
      "needs_background": "light"
     },
     "output_type": "display_data"
    }
   ],
   "source": [
    "axes4=sn.heatmap(confus222,square=True,annot=True,fmt='d',cbar=True,cmap=plt.cm.GnBu)\n",
    "axes4.set_xlabel('Actual')\n",
    "axes4.set_ylabel('Model prediction')"
   ]
  },
  {
   "cell_type": "markdown",
   "metadata": {},
   "source": [
    "# precision recall curve "
   ]
  },
  {
   "cell_type": "code",
   "execution_count": 149,
   "metadata": {},
   "outputs": [
    {
     "data": {
      "text/plain": [
       "Text(0.5, 1.0, 'precision recall curve')"
      ]
     },
     "execution_count": 149,
     "metadata": {},
     "output_type": "execute_result"
    },
    {
     "data": {
      "image/png": "[encoded data removed]",
      "text/plain": [
       "<Figure size 432x288 with 1 Axes>"
      ]
     },
     "metadata": {
      "needs_background": "light"
     },
     "output_type": "display_data"
    }
   ],
   "source": [
    "plt.plot(recal12,prec12,label=\"Decision tree\")\n",
    "plt.plot(recal,prec,label=\"Random forest\")\n",
    "plt.plot(recal2,prec2,label=\"XGboost\")\n",
    "plt.plot(recal22,prec22,label=\"KNN\")\n",
    "plt.xlabel(\"Recall\")\n",
    "plt.ylabel(\"Precision\")\n",
    "plt.legend(loc=\"lower left\")\n",
    "\n",
    "plt.title(\"precision recall curve\")"
   ]
  },
  {
   "cell_type": "markdown",
   "metadata": {},
   "source": [
    "# Accuracy"
   ]
  },
  {
   "cell_type": "code",
   "execution_count": 131,
   "metadata": {},
   "outputs": [
    {
     "data": {
      "text/plain": [
       "[<matplotlib.lines.Line2D at 0x1a8079cbd08>]"
      ]
     },
     "execution_count": 131,
     "metadata": {},
     "output_type": "execute_result"
    },
    {
     "data": {
      "image/png": "[encoded data removed]",
      "text/plain": [
       "<Figure size 432x288 with 1 Axes>"
      ]
     },
     "metadata": {
      "needs_background": "light"
     },
     "output_type": "display_data"
    }
   ],
   "source": [
    "plt.plot([\"Decision tree \",\"Random forest\",\" KNN\",\"XGBoost\"],[treeacc,acc,knnacc,xgacc])"
   ]
  },
  {
   "cell_type": "code",
   "execution_count": 142,
   "metadata": {},
   "outputs": [],
   "source": [
    "import numpy as np\n",
    "ResultsAccuracy=[treeacc*100,acc*100,knnacc*100,xgacc*100]\n",
    "Algo=np.arange(len((\"Decision tree \",\"Random forest\",\" KNN\",\"XGBoost\")))\n"
   ]
  },
  {
   "cell_type": "code",
   "execution_count": 146,
   "metadata": {},
   "outputs": [
    {
     "data": {
      "text/plain": [
       "Text(0.5, 1.0, 'Compare model accuracy')"
      ]
     },
     "execution_count": 146,
     "metadata": {},
     "output_type": "execute_result"
    },
    {
     "data": {
      "image/png": "[encoded data removed]",
      "text/plain": [
       "<Figure size 432x288 with 1 Axes>"
      ]
     },
     "metadata": {
      "needs_background": "light"
     },
     "output_type": "display_data"
    }
   ],
   "source": [
    "plt.bar(Algo,ResultsAccuracy,align=\"center\",alpha=0.5)\n",
    "plt.xticks(Algo,(\"Decision tree \",\"Random forest\",\" KNN\",\"XGBoost\"))\n",
    "plt.ylabel('Accuracy of model')\n",
    "plt.title('Compare model accuracy')"
   ]
  },
  {
   "cell_type": "code",
   "execution_count": null,
   "metadata": {},
   "outputs": [],
   "source": []
  }
 ],
 "metadata": {
  "kernelspec": {
   "display_name": "Python 3",
   "language": "python",
   "name": "python3"
  },
  "language_info": {
   "codemirror_mode": {
    "name": "ipython",
    "version": 3
   },
   "file_extension": ".py",
   "mimetype": "text/x-python",
   "name": "python",
   "nbconvert_exporter": "python",
   "pygments_lexer": "ipython3",
   "version": "3.7.6"
  }
 },
 "nbformat": 4,
 "nbformat_minor": 4
}
