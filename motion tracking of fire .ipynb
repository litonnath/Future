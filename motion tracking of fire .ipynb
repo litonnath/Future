{
 "cells": [
  {
   "cell_type": "code",
   "execution_count": 27,
   "metadata": {},
   "outputs": [],
   "source": [
    "# import cv2\n",
    "# cap = cv2.VideoCapture(0)\n",
    "\n",
    "# while (cap.isOpened()):\n",
    "#     ret , frame = cap.read()\n",
    "    \n",
    "#     if ret:\n",
    "#         gray = cv2.cvtColor(frame,cv2.COLOR_RGB2GRAY)\n",
    "#         cv2.imshow('frame', gray)\n",
    "        \n",
    "#     if cv2.waitKey(1) & 0xFF == ord('q'):\n",
    "#         break\n",
    "# cap.release()\n",
    "# cv2.destroyAllWindows()\n",
    "    "
   ]
  },
  {
   "cell_type": "code",
   "execution_count": 28,
   "metadata": {},
   "outputs": [],
   "source": [
    "# import cv2\n",
    "# import numpy as np\n",
    "\n",
    "# faceDetect=cv2.CascadeClassifier('haarcascade_frontalface_alt.xml')\n",
    "# cam = cv2.VideoCapture(0)\n",
    "\n",
    "# while True:\n",
    "#     ret,img = cam.read()\n",
    "#     gray = cv2.cvtColor(img,cv2.COLOR_RGB2GRAY)\n",
    "    \n",
    "#     faces = faceDetect.detectMultiScale(gray,\n",
    "#                                         scaleFactor=1.3,\n",
    "#                                         minNeighbors=5,\n",
    "#                                         minSize=(30,30),\n",
    "#                                         )\n",
    "   \n",
    "#     for (x,y,w,h) in faces:\n",
    "#         cv2.rectangle(img,(x,y),(x+w,y+h),(0,255,255),2)\n",
    "#     cv2.imshow(\"Faces\",img)\n",
    "#     if (cv2.waitKey(1)== ord('q')):\n",
    "#         break\n",
    "\n",
    "# cam.release()\n",
    "# cv2.destroyAllWindows()"
   ]
  },
  {
   "cell_type": "code",
   "execution_count": 2,
   "metadata": {},
   "outputs": [
    {
     "name": "stdout",
     "output_type": "stream",
     "text": [
      "Note: you may need to restart the kernel to use updated packages.\n"
     ]
    },
    {
     "name": "stderr",
     "output_type": "stream",
     "text": [
      "ERROR: Could not find a version that satisfies the requirement cv2 (from versions: none)\n",
      "ERROR: No matching distribution found for cv2\n"
     ]
    }
   ],
   "source": [
    "pip install cv2"
   ]
  },
  {
   "cell_type": "code",
   "execution_count": null,
   "metadata": {},
   "outputs": [],
   "source": [
    "#motion tracking of fire"
   ]
  },
  {
   "cell_type": "code",
   "execution_count": 26,
   "metadata": {},
   "outputs": [
    {
     "ename": "KeyboardInterrupt",
     "evalue": "",
     "output_type": "error",
     "traceback": [
      "\u001b[1;31m---------------------------------------------------------------------------\u001b[0m",
      "\u001b[1;31mKeyboardInterrupt\u001b[0m                         Traceback (most recent call last)",
      "\u001b[1;32m<ipython-input-26-522ea3b34d9f>\u001b[0m in \u001b[0;36m<module>\u001b[1;34m\u001b[0m\n\u001b[0;32m      7\u001b[0m     \u001b[1;32mif\u001b[0m \u001b[1;32mnot\u001b[0m \u001b[0mret\u001b[0m\u001b[1;33m:\u001b[0m\u001b[1;33m\u001b[0m\u001b[1;33m\u001b[0m\u001b[0m\n\u001b[0;32m      8\u001b[0m         \u001b[1;32mbreak\u001b[0m\u001b[1;33m\u001b[0m\u001b[1;33m\u001b[0m\u001b[0m\n\u001b[1;32m----> 9\u001b[1;33m     \u001b[0mblur\u001b[0m\u001b[1;33m=\u001b[0m\u001b[0mcv2\u001b[0m\u001b[1;33m.\u001b[0m\u001b[0mGaussianBlur\u001b[0m\u001b[1;33m(\u001b[0m\u001b[0mframe\u001b[0m\u001b[1;33m,\u001b[0m\u001b[1;33m(\u001b[0m\u001b[1;36m21\u001b[0m\u001b[1;33m,\u001b[0m\u001b[1;36m21\u001b[0m\u001b[1;33m)\u001b[0m\u001b[1;33m,\u001b[0m\u001b[1;36m0\u001b[0m\u001b[1;33m)\u001b[0m\u001b[1;33m\u001b[0m\u001b[1;33m\u001b[0m\u001b[0m\n\u001b[0m\u001b[0;32m     10\u001b[0m     \u001b[0mgray\u001b[0m\u001b[1;33m=\u001b[0m\u001b[0mcv2\u001b[0m\u001b[1;33m.\u001b[0m\u001b[0mcvtColor\u001b[0m\u001b[1;33m(\u001b[0m\u001b[0mblur\u001b[0m\u001b[1;33m,\u001b[0m\u001b[0mcv2\u001b[0m\u001b[1;33m.\u001b[0m\u001b[0mCOLOR_BGR2HSV\u001b[0m\u001b[1;33m)\u001b[0m\u001b[1;33m\u001b[0m\u001b[1;33m\u001b[0m\u001b[0m\n\u001b[0;32m     11\u001b[0m \u001b[1;33m\u001b[0m\u001b[0m\n",
      "\u001b[1;31mKeyboardInterrupt\u001b[0m: "
     ]
    }
   ],
   "source": [
    "import cv2\n",
    "import numpy as np\n",
    "video=cv2.VideoCapture(\"C:\\\\Users\\\\welcome\\\\Downloads\\\\videoplayback.mp4\")\n",
    "while True:\n",
    "    ret,frame=video.read()\n",
    "    \n",
    "    if not ret:\n",
    "        break\n",
    "    blur=cv2.GaussianBlur(frame,(21,21),0)\n",
    "    gray=cv2.cvtColor(blur,cv2.COLOR_BGR2HSV)\n",
    "    \n",
    "    #this is for red \n",
    "    \n",
    "    lower1=[0,120,70]\n",
    "    upper1=[10,255,255]\n",
    "   \n",
    "    \n",
    "    lower1=np.array(lower1,dtype=\"uint8\")\n",
    "    upper1=np.array(upper1,dtype=\"uint8\")\n",
    "    #select the combination of lower color and upper color\n",
    "    mask1=cv2.inRange(gray,lower1,upper1)\n",
    "     \n",
    "#     lower2=[170,120,70]\n",
    "#     upper2=[180,255,255]\n",
    "   \n",
    "    \n",
    "#     lower2=np.array(lower2,dtype=\"uint8\")\n",
    "#     upper2=np.array(upper2,dtype=\"uint8\")\n",
    "#     #select the combination of lower color and upper color\n",
    "#     mask2=cv2.inRange(gray,lower2,upper2)\n",
    "    \n",
    "    lower3=[0,100,100]\n",
    "    upper3=[0,255,255]\n",
    "   \n",
    "    \n",
    "    lower3=np.array(lower3,dtype=\"uint8\")\n",
    "    upper3=np.array(upper3,dtype=\"uint8\")\n",
    "    #select the combination of lower color and upper color\n",
    "    mask3=cv2.inRange(gray,lower3,upper3)\n",
    "    mask_red=mask1+mask3\n",
    "    \n",
    "    #mask width and heigh ,extracting image by frame by frame\n",
    "    ouput=cv2.bitwise_and(frame,gray,mask=mask_red)\n",
    "    \n",
    "    redcnts,_=cv2.findContours(mask_red.copy(),cv2.RETR_EXTERNAL,cv2.CHAIN_APPROX_SIMPLE)\n",
    "#     for contor in redcnts:\n",
    "#         (xg,yg,wg,hg)=cv2.boundingRect(contor)\n",
    "#         if cv2.contourArea(contor)<1000:\n",
    "#             continue\n",
    "        #image,coordinate,color,thickness\n",
    "#         cv2.rectangle(frame1,(x,y),(x+w,y+h),(0,255,0),2)\n",
    "\n",
    "    #Below is used for creating box with threshold greater than 50 . \n",
    "    if len(redcnts)>50:\n",
    "        red=max(redcnts,key=cv2.contourArea)\n",
    "        (xg,yg,wg,hg)=cv2.boundingRect(red)\n",
    "        \n",
    "        cv2.rectangle(frame,(xg,yg),(xg+wg,yg+hg),(0,255,0),2)\n",
    "        \n",
    "    \n",
    "    cv2.imshow(\"frame\",frame)\n",
    "    #it is used  for counting the non zero pixel\n",
    "    no_red=cv2.countNonZero(mask)\n",
    "    \n",
    "    \n",
    "  \n",
    "        \n",
    "     \n",
    "    if (cv2.waitKey(1)== ord('q')):\n",
    "        break\n",
    "\n",
    "video.release()\n",
    "cv2.destroyAllWindows()\n",
    "        "
   ]
  },
  {
   "cell_type": "code",
   "execution_count": null,
   "metadata": {},
   "outputs": [],
   "source": []
  },
  {
   "cell_type": "code",
   "execution_count": null,
   "metadata": {},
   "outputs": [],
   "source": []
  }
 ],
 "metadata": {
  "kernelspec": {
   "display_name": "Python 3",
   "language": "python",
   "name": "python3"
  },
  "language_info": {
   "codemirror_mode": {
    "name": "ipython",
    "version": 3
   },
   "file_extension": ".py",
   "mimetype": "text/x-python",
   "name": "python",
   "nbconvert_exporter": "python",
   "pygments_lexer": "ipython3",
   "version": "3.7.6"
  }
 },
 "nbformat": 4,
 "nbformat_minor": 2
}
