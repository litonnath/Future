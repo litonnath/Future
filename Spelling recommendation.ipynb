{
 "cells": [
  {
   "cell_type": "code",
   "execution_count": 297,
   "metadata": {},
   "outputs": [],
   "source": [
    "import nltk\n",
    "from bs4 import BeautifulSoup as soup\n",
    "import requests"
   ]
  },
  {
   "cell_type": "code",
   "execution_count": 298,
   "metadata": {},
   "outputs": [],
   "source": [
    "# #my text file for getting probabilities of random text occurances\n",
    "# url=\"https://norvig.com/big.txt\"\n",
    "# req=requests.get(url)\n",
    "# page_soup=soup(req.content,\"html.parser\")"
   ]
  },
  {
   "cell_type": "code",
   "execution_count": 299,
   "metadata": {},
   "outputs": [],
   "source": [
    "# gutenberg is a library of text file\n",
    "from nltk.corpus import gutenberg\n",
    "from nltk.tokenize import word_tokenize"
   ]
  },
  {
   "cell_type": "code",
   "execution_count": 300,
   "metadata": {},
   "outputs": [
    {
     "name": "stderr",
     "output_type": "stream",
     "text": [
      "[nltk_data] Downloading package gutenberg to\n",
      "[nltk_data]     C:\\Users\\welcome\\AppData\\Roaming\\nltk_data...\n",
      "[nltk_data]   Package gutenberg is already up-to-date!\n",
      "[nltk_data] Downloading package punkt to\n",
      "[nltk_data]     C:\\Users\\welcome\\AppData\\Roaming\\nltk_data...\n",
      "[nltk_data]   Package punkt is already up-to-date!\n"
     ]
    },
    {
     "data": {
      "text/plain": [
       "True"
      ]
     },
     "execution_count": 300,
     "metadata": {},
     "output_type": "execute_result"
    }
   ],
   "source": [
    "import nltk\n",
    "nltk.download('gutenberg')\n",
    "nltk.download('punkt')"
   ]
  },
  {
   "cell_type": "code",
   "execution_count": 301,
   "metadata": {},
   "outputs": [],
   "source": [
    "#text file \n",
    "tt=gutenberg.raw('bible-kjv.txt')\n",
    " \n",
    "txt=word_tokenize(tt)"
   ]
  },
  {
   "cell_type": "code",
   "execution_count": 302,
   "metadata": {},
   "outputs": [],
   "source": [
    " #here i used levistian distance\n",
    "def correct(word):\n",
    "    \n",
    "    #this will help me to split my word into left and right\n",
    "    splits=[]\n",
    "    #len(word)+1 is used to take space\n",
    "    for i in range(len(word)+1):\n",
    "        splits.append((word[:i],word[i:]))\n",
    "    #this will delete my first value in right word\n",
    "    deletes1=[]\n",
    "    for L,R in splits :\n",
    "        if R:\n",
    "            deletes1.append((L+R[1:]))\n",
    "    #this will swap first value and second value in Rigt word\n",
    "    transpose=[]\n",
    "    for L,R in splits :\n",
    "        if len(R)>1:\n",
    "            transpose.append((L + R[1] + R[0] + R[2:]))\n",
    "    #this will replace replace value with letters  placed in every single place ,just for making combination\n",
    "    replaces=[]\n",
    "    letters    = 'abcdefghijklmnopqrstuvwxyz' \n",
    "    for L,R in splits:\n",
    "        for c in letters:\n",
    "            replaces.append((L + c + R[1:]  ))\n",
    "    #insert value in  random moving letters placed in every single place ,just for making combination\n",
    "    inserts=[]\n",
    "    for L,R in splits:\n",
    "        for c in letters:\n",
    "            inserts.append((L + c + R  ))\n",
    "    \n",
    "    return set(inserts+deletes1+transpose+replaces+inserts)"
   ]
  },
  {
   "cell_type": "code",
   "execution_count": 311,
   "metadata": {},
   "outputs": [],
   "source": [
    "# # #cr is a list of correct and incorrect alphabets\n",
    "# # # enter=input(\"Enter the Word\")\n",
    "#This is the wrong word i will enter here \n",
    "enter=\"lv\"\n",
    "cr = correct(enter)"
   ]
  },
  {
   "cell_type": "code",
   "execution_count": 312,
   "metadata": {},
   "outputs": [],
   "source": [
    "# Here in cr we will get our randomly value after generation"
   ]
  },
  {
   "cell_type": "code",
   "execution_count": null,
   "metadata": {},
   "outputs": [],
   "source": []
  },
  {
   "cell_type": "code",
   "execution_count": null,
   "metadata": {},
   "outputs": [],
   "source": []
  },
  {
   "cell_type": "code",
   "execution_count": 305,
   "metadata": {},
   "outputs": [],
   "source": [
    "# import time\n",
    "# start = time.time()\n",
    "\n",
    "# t=en('hmg')\n",
    "# time.sleep(1)\n",
    "# end = time.time()\n",
    "# print(f\"Runtime of the program is {end - start}\")"
   ]
  },
  {
   "cell_type": "code",
   "execution_count": 306,
   "metadata": {},
   "outputs": [],
   "source": [
    "# # g=en('gft')\n",
    "# # time.sleep(1)\n",
    "# # print(g[0])\n",
    "# t"
   ]
  },
  {
   "cell_type": "code",
   "execution_count": 307,
   "metadata": {},
   "outputs": [],
   "source": [
    "#probability of occurances and similar word in my text file with wrong word\n",
    "prob = {}\n",
    "for i in cr:\n",
    "    prob[i] = txt.count(i)/len(txt)"
   ]
  },
  {
   "cell_type": "code",
   "execution_count": 308,
   "metadata": {},
   "outputs": [
    {
     "data": {
      "text/plain": [
       "{'wv': 0.0,\n",
       " 'lt': 0.0,\n",
       " 'lvl': 0.0,\n",
       " 'ylv': 0.0,\n",
       " 'ev': 0.0,\n",
       " 'bv': 0.0,\n",
       " 'lvh': 0.0,\n",
       " 'lp': 0.0,\n",
       " 'lo': 0.0001235725782943182,\n",
       " 'yv': 0.0,\n",
       " 'zv': 0.0,\n",
       " 'ulv': 0.0,\n",
       " 'xv': 0.0,\n",
       " 'lav': 0.0,\n",
       " 'clv': 0.0,\n",
       " 'tlv': 0.0,\n",
       " 'lvu': 0.0,\n",
       " 'hv': 0.0,\n",
       " 'lhv': 0.0,\n",
       " 'lvd': 0.0,\n",
       " 'mv': 0.0,\n",
       " 'jlv': 0.0,\n",
       " 'lvo': 0.0,\n",
       " 'pv': 0.0,\n",
       " 'lu': 0.0,\n",
       " 'ldv': 0.0,\n",
       " 'lcv': 0.0,\n",
       " 'iv': 0.0,\n",
       " 'lov': 0.0,\n",
       " 'lvc': 0.0,\n",
       " 'lvx': 0.0,\n",
       " 'dlv': 0.0,\n",
       " 'slv': 0.0,\n",
       " 'le': 0.0,\n",
       " 'tv': 0.0,\n",
       " 'll': 0.0,\n",
       " 'xlv': 0.0,\n",
       " 'glv': 0.0,\n",
       " 'fv': 0.0,\n",
       " 'lkv': 0.0,\n",
       " 'lvq': 0.0,\n",
       " 'lxv': 0.0,\n",
       " 'li': 0.0,\n",
       " 'lva': 0.0,\n",
       " 'flv': 0.0,\n",
       " 'klv': 0.0,\n",
       " 'lvw': 0.0,\n",
       " 'lvs': 0.0,\n",
       " 'liv': 0.0,\n",
       " 'ly': 0.0,\n",
       " 'kv': 0.0,\n",
       " 'lzv': 0.0,\n",
       " 'ilv': 0.0,\n",
       " 'cv': 0.0,\n",
       " 'jv': 0.0,\n",
       " 'plv': 0.0,\n",
       " 'blv': 0.0,\n",
       " 'wlv': 0.0,\n",
       " 'lrv': 0.0,\n",
       " 'lwv': 0.0,\n",
       " 'lqv': 0.0,\n",
       " 'lv': 0.0,\n",
       " 'ld': 0.0,\n",
       " 'lh': 0.0,\n",
       " 'lvj': 0.0,\n",
       " 'lyv': 0.0,\n",
       " 'lmv': 0.0,\n",
       " 'gv': 0.0,\n",
       " 'lpv': 0.0,\n",
       " 'lvr': 0.0,\n",
       " 'hlv': 0.0,\n",
       " 'lvk': 0.0,\n",
       " 'nlv': 0.0,\n",
       " 'lvv': 0.0,\n",
       " 'lvb': 0.0,\n",
       " 'ltv': 0.0,\n",
       " 'lvm': 0.0,\n",
       " 'luv': 0.0,\n",
       " 'lf': 0.0,\n",
       " 'llv': 0.0,\n",
       " 'qlv': 0.0,\n",
       " 'rlv': 0.0,\n",
       " 'lq': 0.0,\n",
       " 'alv': 0.0,\n",
       " 'lvf': 0.0,\n",
       " 'lx': 0.0,\n",
       " 'lvp': 0.0,\n",
       " 'lsv': 0.0,\n",
       " 'lr': 0.0,\n",
       " 'olv': 0.0,\n",
       " 'vlv': 0.0,\n",
       " 'rv': 0.0,\n",
       " 'av': 0.0,\n",
       " 'lvn': 0.0,\n",
       " 'lnv': 0.0,\n",
       " 'lb': 0.0,\n",
       " 'lvt': 0.0,\n",
       " 'lg': 0.0,\n",
       " 'lev': 0.0,\n",
       " 'qv': 0.0,\n",
       " 'vl': 0.0,\n",
       " 'lm': 0.0,\n",
       " 'lw': 0.0,\n",
       " 'uv': 0.0,\n",
       " 'lc': 0.0,\n",
       " 'lvy': 0.0,\n",
       " 'lvg': 0.0,\n",
       " 'zlv': 0.0,\n",
       " 'l': 0.0,\n",
       " 'v': 0.0,\n",
       " 'ljv': 0.0,\n",
       " 'lvz': 0.0,\n",
       " 'mlv': 0.0,\n",
       " 'lve': 0.0,\n",
       " 'ov': 0.0,\n",
       " 'lj': 0.0,\n",
       " 'nv': 0.0,\n",
       " 'sv': 0.0,\n",
       " 'lgv': 0.0,\n",
       " 'lz': 0.0,\n",
       " 'ls': 0.0,\n",
       " 'dv': 0.0,\n",
       " 'vv': 0.0,\n",
       " 'la': 0.0,\n",
       " 'lk': 0.0,\n",
       " 'elv': 0.0,\n",
       " 'lvi': 0.0,\n",
       " 'lbv': 0.0,\n",
       " 'lfv': 0.0,\n",
       " 'ln': 0.0}"
      ]
     },
     "execution_count": 308,
     "metadata": {},
     "output_type": "execute_result"
    }
   ],
   "source": [
    "prob"
   ]
  },
  {
   "cell_type": "code",
   "execution_count": 309,
   "metadata": {},
   "outputs": [],
   "source": [
    "#here we get our recommended word from wrong word\n",
    "prob_words=[]\n",
    "words=[]\n",
    "output=[]\n",
    "for word,probability in prob.items():\n",
    "    words.append(word)\n",
    "    prob_words.append(probability)\n",
    "for i in range(len(prob_words)):\n",
    "    if prob_words[i]>0:\n",
    "        for j in range(len(words)):\n",
    "            if i==j:\n",
    "                output.append(words[i])"
   ]
  },
  {
   "cell_type": "code",
   "execution_count": 310,
   "metadata": {},
   "outputs": [
    {
     "data": {
      "text/plain": [
       "['lo']"
      ]
     },
     "execution_count": 310,
     "metadata": {},
     "output_type": "execute_result"
    }
   ],
   "source": [
    "output"
   ]
  },
  {
   "cell_type": "code",
   "execution_count": 215,
   "metadata": {},
   "outputs": [],
   "source": [
    "# en('mi')"
   ]
  },
  {
   "cell_type": "code",
   "execution_count": 229,
   "metadata": {},
   "outputs": [],
   "source": [
    "import numpy as np\n",
    "from flask_ngrok import run_with_ngrok\n",
    "from flask import Flask,request,jsonify,render_template\n",
    "\n"
   ]
  },
  {
   "cell_type": "code",
   "execution_count": 255,
   "metadata": {},
   "outputs": [],
   "source": [
    "# pip install flask-ngrok\n",
    "import os\n",
    "tmdir=os.path.abspath('C:\\\\Users\\\\welcome\\\\Desktop')\n",
    "app=Flask(__name__,template_folder=tmdir)\n",
    "run_with_ngrok(app)"
   ]
  },
  {
   "cell_type": "code",
   "execution_count": 256,
   "metadata": {},
   "outputs": [],
   "source": [
    "# en('lt')\n",
    "import time"
   ]
  },
  {
   "cell_type": "code",
   "execution_count": 258,
   "metadata": {},
   "outputs": [],
   "source": [
    "@app.route('/')\n",
    "def correct():\n",
    "    return render_template('correct.html')\n",
    "#     return 'hello'\n",
    "# time.sleep(1)\n",
    "@app.route('/',methods=['POST'])\n",
    "#<form  action=\"{{ url_for('getvalue') }}\" method=\"post\">\n",
    "#action is in html form used to get url from this form\n",
    "def getvalue():\n",
    "    val=request.form['name1']\n",
    "\n",
    "    \n",
    "\n",
    "    return render_template('correct.html',v=val)\n",
    "\n",
    "\n",
    "\n",
    "if __name__=='__main__':\n",
    "    app.run() "
   ]
  },
  {
   "cell_type": "code",
   "execution_count": null,
   "metadata": {},
   "outputs": [],
   "source": []
  }
 ],
 "metadata": {
  "kernelspec": {
   "display_name": "Python 3",
   "language": "python",
   "name": "python3"
  },
  "language_info": {
   "codemirror_mode": {
    "name": "ipython",
    "version": 3
   },
   "file_extension": ".py",
   "mimetype": "text/x-python",
   "name": "python",
   "nbconvert_exporter": "python",
   "pygments_lexer": "ipython3",
   "version": "3.7.6"
  }
 },
 "nbformat": 4,
 "nbformat_minor": 4
}
