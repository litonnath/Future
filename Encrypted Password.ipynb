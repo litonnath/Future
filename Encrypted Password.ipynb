{
 "cells": [
  {
   "cell_type": "code",
   "execution_count": 34,
   "metadata": {},
   "outputs": [],
   "source": [
    "def Strong_Password_Generator(Password):\n",
    "    list1=list(Password)\n",
    "    n=len(list1)+1\n",
    "    i=0\n",
    "    while(i<=n):\n",
    "        if list1[i].islower() and list1[i+1].isupper():\n",
    "            list1[i],list1[i+1]=list1[i+1],list1[i]\n",
    "            list1.insert(i+2,'*')\n",
    "            i+=2\n",
    "        elif list1[i].isupper() and list1[i+1].islower():\n",
    "            list1[i],list1[i+1]=list1[i+1],list1[i]\n",
    "            list1.insert(i+2,'*')\n",
    "            i+=2\n",
    "        elif list1[i].islower() and list1[i+1].islower():\n",
    "            list1[i],list1[i+2]=list1[i+2],list1[i]\n",
    "            list1.insert(i+2,'*')\n",
    "            i+=2\n",
    "        elif list1[i].isdigit():\n",
    "            org=list1[i]\n",
    "            list1[i]=\"0\"\n",
    "            list1.insert(0,org)\n",
    "            i+=1\n",
    "        elif i>=len(list1):\n",
    "            break\n",
    "        else:\n",
    "            i+=1\n",
    "        i+=1\n",
    "\n",
    "    str1=\" \"\n",
    "    for i in list1:\n",
    "        str1+=i\n",
    "    return str1"
   ]
  },
  {
   "cell_type": "code",
   "execution_count": 35,
   "metadata": {},
   "outputs": [
    {
     "data": {
      "text/plain": [
       "' 21iL*no*t@003'"
      ]
     },
     "execution_count": 35,
     "metadata": {},
     "output_type": "execute_result"
    }
   ],
   "source": [
    "Strong_Password_Generator('Liton@123')"
   ]
  },
  {
   "cell_type": "code",
   "execution_count": 40,
   "metadata": {},
   "outputs": [],
   "source": [
    "import numpy as np\n",
    "from flask_ngrok import run_with_ngrok\n",
    "from flask import Flask,request,jsonify,render_template\n"
   ]
  },
  {
   "cell_type": "code",
   "execution_count": 41,
   "metadata": {},
   "outputs": [],
   "source": [
    "import os\n",
    "tmdir=os.path.abspath('C:\\\\Users\\\\welcome\\\\Desktop')\n",
    "app=Flask(__name__,template_folder=tmdir)\n",
    "run_with_ngrok(app)"
   ]
  },
  {
   "cell_type": "code",
   "execution_count": 42,
   "metadata": {},
   "outputs": [
    {
     "name": "stdout",
     "output_type": "stream",
     "text": [
      " * Serving Flask app \"__main__\" (lazy loading)\n",
      " * Environment: production\n",
      "   WARNING: This is a development server. Do not use it in a production deployment.\n",
      "   Use a production WSGI server instead.\n",
      " * Debug mode: off\n"
     ]
    },
    {
     "name": "stderr",
     "output_type": "stream",
     "text": [
      " * Running on http://127.0.0.1:5000/ (Press CTRL+C to quit)\n",
      "127.0.0.1 - - [14/Dec/2020 17:25:00] \"\u001b[37mGET / HTTP/1.1\u001b[0m\" 200 -\n"
     ]
    },
    {
     "name": "stdout",
     "output_type": "stream",
     "text": [
      " * Running on http://7ed095f08818.ngrok.io\n",
      " * Traffic stats available on http://127.0.0.1:4040\n"
     ]
    },
    {
     "name": "stderr",
     "output_type": "stream",
     "text": [
      "127.0.0.1 - - [14/Dec/2020 17:25:32] \"\u001b[37mPOST / HTTP/1.1\u001b[0m\" 200 -\n"
     ]
    }
   ],
   "source": [
    "@app.route('/')\n",
    "def correct():\n",
    "    return render_template('password.html')\n",
    "#     return 'hello'\n",
    "# time.sleep(1)\n",
    "@app.route('/',methods=['POST'])\n",
    "#<form  action=\"{{ url_for('getvalue') }}\" method=\"post\">\n",
    "#action is in html form used to get url from this form\n",
    "def getvalue():\n",
    "    val=request.form['name1']\n",
    "    password=Strong_Password_Generator(str(val))\n",
    "    \n",
    "\n",
    "    return render_template('password.html',t=password)\n",
    "\n",
    "\n",
    "if __name__=='__main__':\n",
    "    app.run() "
   ]
  },
  {
   "cell_type": "code",
   "execution_count": null,
   "metadata": {},
   "outputs": [],
   "source": [
    "# s=\"liTon@123\"\n",
    "\n",
    "# F=[]\n",
    "# S=[]\n",
    "# for j in range(0,len(s)):\n",
    "    \n",
    "#     F.append(s[j])\n",
    "\n",
    "# for I in range(0,len(F)-1):\n",
    "#     if (F[I].islower()==True)and (F[I+1].isupper()==True):\n",
    "#         F[I],F[I+1]=F[I+1],F[I]\n",
    "#         F.insert(I+2,'*')\n",
    "#         I+=2\n",
    "   \n",
    "#     elif F[I].isdigit()==True:\n",
    "#         Tp=F[I]\n",
    "    \n",
    "     \n",
    "#         S.append(Tp)\n",
    "#         F[I]= '0'\n",
    "  \n",
    "#         I+=1\n",
    "#     else:\n",
    "#         I+=1\n",
    " \n",
    "# S.reverse()    \n",
    "    \n",
    "    \n",
    "# print(str(''.join(S))+str(''.join(F)))"
   ]
  },
  {
   "cell_type": "code",
   "execution_count": null,
   "metadata": {},
   "outputs": [],
   "source": [
    "# list1=list('LiTon@123')\n",
    "# n=len(list1)+1\n",
    "# i=0\n",
    "# while(i<=n):\n",
    "#     if list1[i].islower() and list1[i+1].isupper():\n",
    "#         list1[i],list1[i+1]=list1[i+1],list1[i]\n",
    "#         list1.insert(i+2,'*')\n",
    "#         i+=2\n",
    "#     elif list1[i].isupper() and list1[i+1].islower():\n",
    "#         list1[i],list1[i+1]=list1[i+1],list1[i]\n",
    "#         list1.insert(i+2,'*')\n",
    "#         i+=2\n",
    "#     elif list1[i].isdigit():\n",
    "#         org=list1[i]\n",
    "#         list1[i]=\"0\"\n",
    "#         list1.insert(0,org)\n",
    "#         i+=1\n",
    "#     elif i>=len(list1):\n",
    "#         break\n",
    "#     else:\n",
    "#         i+=1\n",
    "#     i+=1\n",
    "\n",
    "# str1=\" \"\n",
    "# for i in list1:\n",
    "#     str1+=i\n",
    "# print(str1)"
   ]
  }
 ],
 "metadata": {
  "kernelspec": {
   "display_name": "Python 3",
   "language": "python",
   "name": "python3"
  },
  "language_info": {
   "codemirror_mode": {
    "name": "ipython",
    "version": 3
   },
   "file_extension": ".py",
   "mimetype": "text/x-python",
   "name": "python",
   "nbconvert_exporter": "python",
   "pygments_lexer": "ipython3",
   "version": "3.7.6"
  }
 },
 "nbformat": 4,
 "nbformat_minor": 4
}
