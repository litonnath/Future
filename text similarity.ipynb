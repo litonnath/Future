{
 "cells": [
  {
   "cell_type": "code",
   "execution_count": 1,
   "metadata": {},
   "outputs": [],
   "source": [
    "import pandas as pd "
   ]
  },
  {
   "cell_type": "markdown",
   "metadata": {},
   "source": [
    "# import data"
   ]
  },
  {
   "cell_type": "code",
   "execution_count": 2,
   "metadata": {},
   "outputs": [],
   "source": [
    "data=pd.read_csv(\"C:\\\\Users\\\\welcome\\\\company task\\\\Precily Assessment\\\\Text_Similarity_Dataset.csv\")"
   ]
  },
  {
   "cell_type": "code",
   "execution_count": 3,
   "metadata": {},
   "outputs": [
    {
     "data": {
      "text/html": [
       "<div>\n",
       "<style scoped>\n",
       "    .dataframe tbody tr th:only-of-type {\n",
       "        vertical-align: middle;\n",
       "    }\n",
       "\n",
       "    .dataframe tbody tr th {\n",
       "        vertical-align: top;\n",
       "    }\n",
       "\n",
       "    .dataframe thead th {\n",
       "        text-align: right;\n",
       "    }\n",
       "</style>\n",
       "<table border=\"1\" class=\"dataframe\">\n",
       "  <thead>\n",
       "    <tr style=\"text-align: right;\">\n",
       "      <th></th>\n",
       "      <th>Unique_ID</th>\n",
       "      <th>text1</th>\n",
       "      <th>text2</th>\n",
       "    </tr>\n",
       "  </thead>\n",
       "  <tbody>\n",
       "    <tr>\n",
       "      <td>0</td>\n",
       "      <td>0</td>\n",
       "      <td>savvy searchers fail to spot ads internet sear...</td>\n",
       "      <td>newcastle 2-1 bolton kieron dyer smashed home ...</td>\n",
       "    </tr>\n",
       "    <tr>\n",
       "      <td>1</td>\n",
       "      <td>1</td>\n",
       "      <td>millions to miss out on the net by 2025  40% o...</td>\n",
       "      <td>nasdaq planning $100m share sale the owner of ...</td>\n",
       "    </tr>\n",
       "    <tr>\n",
       "      <td>2</td>\n",
       "      <td>2</td>\n",
       "      <td>young debut cut short by ginepri fifteen-year-...</td>\n",
       "      <td>ruddock backs yapp s credentials wales coach m...</td>\n",
       "    </tr>\n",
       "    <tr>\n",
       "      <td>3</td>\n",
       "      <td>3</td>\n",
       "      <td>diageo to buy us wine firm diageo  the world s...</td>\n",
       "      <td>mci shares climb on takeover bid shares in us ...</td>\n",
       "    </tr>\n",
       "    <tr>\n",
       "      <td>4</td>\n",
       "      <td>4</td>\n",
       "      <td>be careful how you code a new european directi...</td>\n",
       "      <td>media gadgets get moving pocket-sized devices ...</td>\n",
       "    </tr>\n",
       "    <tr>\n",
       "      <td>5</td>\n",
       "      <td>5</td>\n",
       "      <td>india seeks to boost construction india has cl...</td>\n",
       "      <td>music mogul fuller sells company pop idol supr...</td>\n",
       "    </tr>\n",
       "    <tr>\n",
       "      <td>6</td>\n",
       "      <td>6</td>\n",
       "      <td>podcasters  look to net money nasa is doing it...</td>\n",
       "      <td>ukip outspent labour on eu poll the uk indepen...</td>\n",
       "    </tr>\n",
       "  </tbody>\n",
       "</table>\n",
       "</div>"
      ],
      "text/plain": [
       "   Unique_ID                                              text1  \\\n",
       "0          0  savvy searchers fail to spot ads internet sear...   \n",
       "1          1  millions to miss out on the net by 2025  40% o...   \n",
       "2          2  young debut cut short by ginepri fifteen-year-...   \n",
       "3          3  diageo to buy us wine firm diageo  the world s...   \n",
       "4          4  be careful how you code a new european directi...   \n",
       "5          5  india seeks to boost construction india has cl...   \n",
       "6          6  podcasters  look to net money nasa is doing it...   \n",
       "\n",
       "                                               text2  \n",
       "0  newcastle 2-1 bolton kieron dyer smashed home ...  \n",
       "1  nasdaq planning $100m share sale the owner of ...  \n",
       "2  ruddock backs yapp s credentials wales coach m...  \n",
       "3  mci shares climb on takeover bid shares in us ...  \n",
       "4  media gadgets get moving pocket-sized devices ...  \n",
       "5  music mogul fuller sells company pop idol supr...  \n",
       "6  ukip outspent labour on eu poll the uk indepen...  "
      ]
     },
     "execution_count": 3,
     "metadata": {},
     "output_type": "execute_result"
    }
   ],
   "source": [
    "data.head(7)"
   ]
  },
  {
   "cell_type": "code",
   "execution_count": 4,
   "metadata": {},
   "outputs": [
    {
     "data": {
      "text/plain": [
       "(4023, 3)"
      ]
     },
     "execution_count": 4,
     "metadata": {},
     "output_type": "execute_result"
    }
   ],
   "source": [
    "data.shape"
   ]
  },
  {
   "cell_type": "code",
   "execution_count": null,
   "metadata": {},
   "outputs": [],
   "source": []
  },
  {
   "cell_type": "markdown",
   "metadata": {},
   "source": [
    "# you can also create word to vector through this word embedding"
   ]
  },
  {
   "cell_type": "code",
   "execution_count": 5,
   "metadata": {},
   "outputs": [],
   "source": [
    "from gensim.models import Word2Vec"
   ]
  },
  {
   "cell_type": "code",
   "execution_count": 6,
   "metadata": {},
   "outputs": [
    {
     "data": {
      "text/plain": [
       "(4023,)"
      ]
     },
     "execution_count": 6,
     "metadata": {},
     "output_type": "execute_result"
    }
   ],
   "source": [
    "data[\"text1\"].shape"
   ]
  },
  {
   "cell_type": "markdown",
   "metadata": {},
   "source": [
    "# word_tokenize to split data into words"
   ]
  },
  {
   "cell_type": "code",
   "execution_count": 7,
   "metadata": {},
   "outputs": [],
   "source": [
    "from nltk.tokenize import word_tokenize"
   ]
  },
  {
   "cell_type": "code",
   "execution_count": 8,
   "metadata": {},
   "outputs": [
    {
     "data": {
      "text/plain": [
       "(4023,)"
      ]
     },
     "execution_count": 8,
     "metadata": {},
     "output_type": "execute_result"
    }
   ],
   "source": [
    "data[\"text2\"].shape"
   ]
  },
  {
   "cell_type": "markdown",
   "metadata": {},
   "source": [
    "# cosine similarity for getting value inbetween  0 and 1 ,compare data and tells how your text is similar or dissimilar"
   ]
  },
  {
   "cell_type": "code",
   "execution_count": 9,
   "metadata": {},
   "outputs": [],
   "source": [
    "from sklearn.metrics.pairwise import cosine_similarity\n",
    "from nltk.stem  import WordNetLemmatizer\n"
   ]
  },
  {
   "cell_type": "markdown",
   "metadata": {},
   "source": [
    "# word lemmatize is for grammatical errorcorrection"
   ]
  },
  {
   "cell_type": "code",
   "execution_count": 10,
   "metadata": {},
   "outputs": [],
   "source": [
    "from nltk.corpus import stopwords\n",
    "import string\n",
    "import re\n",
    "stop_words=stopwords.words('english')\n",
    "ss=WordNetLemmatizer()"
   ]
  },
  {
   "cell_type": "markdown",
   "metadata": {},
   "source": [
    "# clean data or text data"
   ]
  },
  {
   "cell_type": "code",
   "execution_count": 11,
   "metadata": {},
   "outputs": [],
   "source": [
    "\n",
    "def clean_data(text):\n",
    "    #it is used to replace this term re.sub(pattern,replace,string)\n",
    "    \n",
    "    text = re.sub('<[^>]*>', '', text)\n",
    "    #it is used to find all the matches and remove emoji\n",
    "    emoticons = re.findall('(?::|;|=)(?:-)',text)\n",
    "    #replace punctuation \n",
    "    text = (re.sub('[\\W]+', ' ', text.lower()) +\n",
    "            ' '.join(emoticons).replace('-', ''))\n",
    "    rm_words = [w for w in text.split() if w.lower() not in stop_words]\n",
    "    return ' '.join(rm_words)\n",
    "    return text"
   ]
  },
  {
   "cell_type": "code",
   "execution_count": 12,
   "metadata": {},
   "outputs": [],
   "source": [
    "data[\"text1\"]=data[\"text1\"].apply(clean_data)"
   ]
  },
  {
   "cell_type": "code",
   "execution_count": 13,
   "metadata": {},
   "outputs": [],
   "source": [
    "data[\"text2\"]=data[\"text2\"].apply(clean_data)"
   ]
  },
  {
   "cell_type": "code",
   "execution_count": 14,
   "metadata": {},
   "outputs": [
    {
     "data": {
      "text/html": [
       "<div>\n",
       "<style scoped>\n",
       "    .dataframe tbody tr th:only-of-type {\n",
       "        vertical-align: middle;\n",
       "    }\n",
       "\n",
       "    .dataframe tbody tr th {\n",
       "        vertical-align: top;\n",
       "    }\n",
       "\n",
       "    .dataframe thead th {\n",
       "        text-align: right;\n",
       "    }\n",
       "</style>\n",
       "<table border=\"1\" class=\"dataframe\">\n",
       "  <thead>\n",
       "    <tr style=\"text-align: right;\">\n",
       "      <th></th>\n",
       "      <th>Unique_ID</th>\n",
       "      <th>text1</th>\n",
       "      <th>text2</th>\n",
       "    </tr>\n",
       "  </thead>\n",
       "  <tbody>\n",
       "    <tr>\n",
       "      <td>0</td>\n",
       "      <td>0</td>\n",
       "      <td>savvy searchers fail spot ads internet search ...</td>\n",
       "      <td>newcastle 2 1 bolton kieron dyer smashed home ...</td>\n",
       "    </tr>\n",
       "    <tr>\n",
       "      <td>1</td>\n",
       "      <td>1</td>\n",
       "      <td>millions miss net 2025 40 uk population still ...</td>\n",
       "      <td>nasdaq planning 100m share sale owner technolo...</td>\n",
       "    </tr>\n",
       "    <tr>\n",
       "      <td>2</td>\n",
       "      <td>2</td>\n",
       "      <td>young debut cut short ginepri fifteen year old...</td>\n",
       "      <td>ruddock backs yapp credentials wales coach mik...</td>\n",
       "    </tr>\n",
       "    <tr>\n",
       "      <td>3</td>\n",
       "      <td>3</td>\n",
       "      <td>diageo buy us wine firm diageo world biggest s...</td>\n",
       "      <td>mci shares climb takeover bid shares us phone ...</td>\n",
       "    </tr>\n",
       "    <tr>\n",
       "      <td>4</td>\n",
       "      <td>4</td>\n",
       "      <td>careful code new european directive could put ...</td>\n",
       "      <td>media gadgets get moving pocket sized devices ...</td>\n",
       "    </tr>\n",
       "    <tr>\n",
       "      <td>...</td>\n",
       "      <td>...</td>\n",
       "      <td>...</td>\n",
       "      <td>...</td>\n",
       "    </tr>\n",
       "    <tr>\n",
       "      <td>4018</td>\n",
       "      <td>4018</td>\n",
       "      <td>labour plans maternity pay rise maternity pay ...</td>\n",
       "      <td>seasonal lift house market swathe figures prov...</td>\n",
       "    </tr>\n",
       "    <tr>\n",
       "      <td>4019</td>\n",
       "      <td>4019</td>\n",
       "      <td>high fuel costs hit us airlines two largest ai...</td>\n",
       "      <td>new media battle bafta awards bbc leads nomina...</td>\n",
       "    </tr>\n",
       "    <tr>\n",
       "      <td>4020</td>\n",
       "      <td>4020</td>\n",
       "      <td>britons growing digitally obese gadget lovers ...</td>\n",
       "      <td>film star fox behind theatre bid leading actor...</td>\n",
       "    </tr>\n",
       "    <tr>\n",
       "      <td>4021</td>\n",
       "      <td>4021</td>\n",
       "      <td>holmes hit hamstring injury kelly holmes force...</td>\n",
       "      <td>tsunami hit sri lanka banks sri lanka banks fa...</td>\n",
       "    </tr>\n",
       "    <tr>\n",
       "      <td>4022</td>\n",
       "      <td>4022</td>\n",
       "      <td>nuclear dumpsite plan attacked plans allow for...</td>\n",
       "      <td>x factor show gets second series tv talent sho...</td>\n",
       "    </tr>\n",
       "  </tbody>\n",
       "</table>\n",
       "<p>4023 rows × 3 columns</p>\n",
       "</div>"
      ],
      "text/plain": [
       "      Unique_ID                                              text1  \\\n",
       "0             0  savvy searchers fail spot ads internet search ...   \n",
       "1             1  millions miss net 2025 40 uk population still ...   \n",
       "2             2  young debut cut short ginepri fifteen year old...   \n",
       "3             3  diageo buy us wine firm diageo world biggest s...   \n",
       "4             4  careful code new european directive could put ...   \n",
       "...         ...                                                ...   \n",
       "4018       4018  labour plans maternity pay rise maternity pay ...   \n",
       "4019       4019  high fuel costs hit us airlines two largest ai...   \n",
       "4020       4020  britons growing digitally obese gadget lovers ...   \n",
       "4021       4021  holmes hit hamstring injury kelly holmes force...   \n",
       "4022       4022  nuclear dumpsite plan attacked plans allow for...   \n",
       "\n",
       "                                                  text2  \n",
       "0     newcastle 2 1 bolton kieron dyer smashed home ...  \n",
       "1     nasdaq planning 100m share sale owner technolo...  \n",
       "2     ruddock backs yapp credentials wales coach mik...  \n",
       "3     mci shares climb takeover bid shares us phone ...  \n",
       "4     media gadgets get moving pocket sized devices ...  \n",
       "...                                                 ...  \n",
       "4018  seasonal lift house market swathe figures prov...  \n",
       "4019  new media battle bafta awards bbc leads nomina...  \n",
       "4020  film star fox behind theatre bid leading actor...  \n",
       "4021  tsunami hit sri lanka banks sri lanka banks fa...  \n",
       "4022  x factor show gets second series tv talent sho...  \n",
       "\n",
       "[4023 rows x 3 columns]"
      ]
     },
     "execution_count": 14,
     "metadata": {},
     "output_type": "execute_result"
    }
   ],
   "source": [
    "data"
   ]
  },
  {
   "cell_type": "markdown",
   "metadata": {},
   "source": [
    "# vectorizer is for term frequency number of unique doc/text word occurs"
   ]
  },
  {
   "cell_type": "code",
   "execution_count": 15,
   "metadata": {},
   "outputs": [],
   "source": [
    "from sklearn.feature_extraction.text import TfidfVectorizer"
   ]
  },
  {
   "cell_type": "code",
   "execution_count": 16,
   "metadata": {},
   "outputs": [],
   "source": [
    "tf_vectorizer=TfidfVectorizer()"
   ]
  },
  {
   "cell_type": "markdown",
   "metadata": {},
   "source": [
    "# concat two text1 and text2"
   ]
  },
  {
   "cell_type": "code",
   "execution_count": 17,
   "metadata": {},
   "outputs": [],
   "source": [
    "data[\"summary\"]=data[\"text1\"]+data[\"text2\"]\n"
   ]
  },
  {
   "cell_type": "code",
   "execution_count": 18,
   "metadata": {},
   "outputs": [],
   "source": [
    "#fit_transform is for on merge text because we cant fit two text because different vocab ,we want one vocab so that's why we merge two text"
   ]
  },
  {
   "cell_type": "code",
   "execution_count": 19,
   "metadata": {},
   "outputs": [],
   "source": [
    "#here is to form document term matrix \n",
    "col1tf=tf_vectorizer.fit_transform(data[\"summary\"])"
   ]
  },
  {
   "cell_type": "markdown",
   "metadata": {},
   "source": [
    "# text1 for data"
   ]
  },
  {
   "cell_type": "code",
   "execution_count": 20,
   "metadata": {},
   "outputs": [],
   "source": [
    "colt1=tf_vectorizer.transform(data[\"text1\"]).toarray()"
   ]
  },
  {
   "cell_type": "code",
   "execution_count": 21,
   "metadata": {},
   "outputs": [
    {
     "data": {
      "text/plain": [
       "array([[0.        , 0.        , 0.        , ..., 0.        , 0.        ,\n",
       "        0.        ],\n",
       "       [0.        , 0.        , 0.        , ..., 0.        , 0.        ,\n",
       "        0.        ],\n",
       "       [0.        , 0.        , 0.        , ..., 0.        , 0.        ,\n",
       "        0.        ],\n",
       "       ...,\n",
       "       [0.        , 0.09942522, 0.        , ..., 0.        , 0.        ,\n",
       "        0.        ],\n",
       "       [0.        , 0.        , 0.        , ..., 0.        , 0.        ,\n",
       "        0.        ],\n",
       "       [0.        , 0.        , 0.        , ..., 0.        , 0.        ,\n",
       "        0.        ]])"
      ]
     },
     "execution_count": 21,
     "metadata": {},
     "output_type": "execute_result"
    }
   ],
   "source": [
    "colt1"
   ]
  },
  {
   "cell_type": "code",
   "execution_count": 22,
   "metadata": {},
   "outputs": [
    {
     "data": {
      "text/plain": [
       "(4023, 33251)"
      ]
     },
     "execution_count": 22,
     "metadata": {},
     "output_type": "execute_result"
    }
   ],
   "source": [
    "colt1.shape"
   ]
  },
  {
   "cell_type": "markdown",
   "metadata": {},
   "source": [
    "# text2 for data"
   ]
  },
  {
   "cell_type": "code",
   "execution_count": 23,
   "metadata": {},
   "outputs": [],
   "source": [
    "#col2tf=tf_vectorizer.fit(data[\"text2\"])"
   ]
  },
  {
   "cell_type": "code",
   "execution_count": 24,
   "metadata": {},
   "outputs": [],
   "source": [
    "#here is to form document term matrix text2\n",
    "colt2=tf_vectorizer.transform(data[\"text2\"]).toarray()"
   ]
  },
  {
   "cell_type": "code",
   "execution_count": 25,
   "metadata": {},
   "outputs": [
    {
     "data": {
      "text/plain": [
       "array([[0.       , 0.       , 0.       , ..., 0.       , 0.       ,\n",
       "        0.       ],\n",
       "       [0.       , 0.       , 0.       , ..., 0.       , 0.       ,\n",
       "        0.       ],\n",
       "       [0.       , 0.       , 0.       , ..., 0.       , 0.       ,\n",
       "        0.       ],\n",
       "       ...,\n",
       "       [0.       , 0.0635813, 0.       , ..., 0.       , 0.       ,\n",
       "        0.       ],\n",
       "       [0.       , 0.0299745, 0.       , ..., 0.       , 0.       ,\n",
       "        0.       ],\n",
       "       [0.       , 0.       , 0.       , ..., 0.       , 0.       ,\n",
       "        0.       ]])"
      ]
     },
     "execution_count": 25,
     "metadata": {},
     "output_type": "execute_result"
    }
   ],
   "source": [
    "colt2"
   ]
  },
  {
   "cell_type": "code",
   "execution_count": 26,
   "metadata": {},
   "outputs": [
    {
     "data": {
      "text/plain": [
       "array([0., 0., 0., ..., 0., 0., 0.])"
      ]
     },
     "execution_count": 26,
     "metadata": {},
     "output_type": "execute_result"
    }
   ],
   "source": [
    "colt2[0]"
   ]
  },
  {
   "cell_type": "markdown",
   "metadata": {},
   "source": [
    "# cosine similarity formula cosx=a.b/|a|.|b| will use this form in document term matrix of text1 and text2"
   ]
  },
  {
   "cell_type": "code",
   "execution_count": 27,
   "metadata": {},
   "outputs": [
    {
     "data": {
      "text/plain": [
       "array([[0.0175394]])"
      ]
     },
     "execution_count": 27,
     "metadata": {},
     "output_type": "execute_result"
    }
   ],
   "source": [
    "cosine_similarity(colt1[0].reshape(1,-1),colt2[0].reshape(1,-1))"
   ]
  },
  {
   "cell_type": "code",
   "execution_count": 28,
   "metadata": {},
   "outputs": [],
   "source": [
    "#here we are predicting cosine angle with iteration in document term matrix to get prediction how much it is similar our text is to another text"
   ]
  },
  {
   "cell_type": "markdown",
   "metadata": {},
   "source": [
    "# it will predict all element angle outer loop one text1 by every inner loop text2"
   ]
  },
  {
   "cell_type": "raw",
   "metadata": {},
   "source": [
    " def prediction(colt1,colt2):\n",
    "        \n",
    "       \n",
    "        for i  in range(len(colt1)):\n",
    "            print(\"text1 :=\",colt1[i])\n",
    "            for j in range(len(colt2)):\n",
    "                angle=(cosine_similarity(colt1[i].reshape(1,-1),colt2[j].reshape(1,-1)))\n",
    "                if (angle>0.5 or angle<=1):\n",
    "                    print(\"Similar\")\n",
    "                    print(\"Angle :=\",angle,\"text2 :=\",colt2[j])\n",
    "                else:\n",
    "                    print(\"Dissimilar\")\n",
    "                    print(\"Angle :=\",angle,\"text2 :=\",colt2[j])\n",
    "                    \n",
    "                    \n",
    "            \n",
    "               "
   ]
  },
  {
   "cell_type": "code",
   "execution_count": 29,
   "metadata": {},
   "outputs": [],
   "source": [
    "#one text of text1 compare with every text2 sentence iteration and store in dictionary \n",
    "#dictonary helps me to find the max possible similar text will occurs in dictionary"
   ]
  },
  {
   "cell_type": "raw",
   "metadata": {},
   "source": [
    "prediction(colt1,colt2)"
   ]
  },
  {
   "cell_type": "markdown",
   "metadata": {},
   "source": [
    "# here we are parallel getting cosine angle"
   ]
  },
  {
   "cell_type": "code",
   "execution_count": 30,
   "metadata": {},
   "outputs": [],
   "source": [
    "import itertools\n",
    "import numpy as np"
   ]
  },
  {
   "cell_type": "code",
   "execution_count": 31,
   "metadata": {},
   "outputs": [
    {
     "name": "stdout",
     "output_type": "stream",
     "text": [
      "[array([0.0175394]), array([0.0263173]), array([0.03195371]), array([0.02206092]), array([0.05347863]), array([0.02937796]), array([0.02167619]), array([0.11252247]), array([0.05984806]), array([0.08424955]), array([0.00252675]), array([0.01225498]), array([0.02101925]), array([0.05833605]), array([0.14059727]), array([0.01142845]), array([0.01549406]), array([0.02518752]), array([0.17843197]), array([0.03356065]), array([0.0215436]), array([0.02429947]), array([0.02181627]), array([0.01528766]), array([0.0180303]), array([0.03438521]), array([0.01726117]), array([0.17316463]), array([0.02549731]), array([0.01740658]), array([0.01817948]), array([0.00323317]), array([0.07093043]), array([0.02624376]), array([0.0135833]), array([0.01347777]), array([0.02822635]), array([0.02432018]), array([0.02869707]), array([0.03582797]), array([0.02444024]), array([0.01960815]), array([0.032047]), array([0.03875161]), array([0.01805162]), array([0.07371953]), array([0.02672544]), array([0.01176263]), array([0.01468546]), array([0.00201188]), array([0.03413575]), array([0.01625928]), array([0.0098268]), array([0.02249045]), array([0.02926071]), array([0.08007071]), array([0.01544702]), array([0.02975799]), array([0.0658089]), array([0.02308871]), array([0.04674055]), array([0.10888231]), array([0.0158656]), array([0.03687986]), array([0.00445359]), array([0.00792623]), array([0.01064759]), array([0.02939283]), array([0.05319024]), array([0.02763767]), array([0.01824838]), array([0.00798191]), array([0.00599167]), array([0.02936173]), array([0.00993933]), array([0.00631032]), array([0.00936765]), array([0.03326281]), array([0.02913162]), array([0.01534145]), array([0.02109766]), array([0.02113277]), array([0.03408329]), array([0.01745198]), array([0.0053427]), array([0.0012408]), array([0.02052298]), array([0.02170994]), array([0.02523072]), array([0.04696008]), array([0.0149603]), array([0.00640316]), array([0.01258975]), array([0.03136246]), array([0.06914382]), array([0.0158545]), array([0.00752241]), array([0.01057965]), array([0.01338048]), array([0.01494811]), array([0.00207516]), array([0.01326426]), array([0.02504719]), array([0.02715667]), array([0.01940327]), array([0.01815586]), array([0.00175073]), array([0.01788806]), array([0.00225422]), array([0.018012]), array([0.01334802]), array([0.01494369]), array([0.02883999]), array([0.00745332]), array([0.02669657]), array([0.05543063]), array([0.00305635]), array([0.01023116]), array([0.02523969]), array([0.05229271]), array([0.01460269]), array([0.02138338]), array([0.04634667]), array([0.02105302]), array([0.01461184]), array([0.01865883]), array([0.02566542]), array([0.00443711]), array([0.02612824]), array([0.02039016]), array([0.01315352]), array([0.01231696]), array([0.03718957]), array([0.01792847]), array([0.03354921]), array([0.01972078]), array([0.02493695]), array([0.00769553]), array([0.02353753]), array([0.01176519]), array([0.01443591]), array([0.02785456]), array([0.00234771]), array([0.01512292]), array([0.04650278]), array([0.05457248]), array([0.10128443]), array([0.04422246]), array([0.03790499]), array([0.0304927]), array([0.0418658]), array([0.01653848]), array([0.01740905]), array([0.00192472]), array([0.01882305]), array([0.02630662]), array([0.04748308]), array([0.03396138]), array([0.00491264]), array([0.11863445]), array([0.0120682]), array([0.12292483]), array([0.02494171]), array([0.02015329]), array([0.00795077]), array([0.09534793]), array([0.00403406]), array([0.01818798]), array([0.02281776]), array([0.02240059]), array([0.00384124]), array([0.02694074]), array([0.00772111]), array([0.01589918]), array([0.0087584]), array([0.03022798]), array([0.04766193]), array([0.01919253]), array([0.00689057]), array([0.05584769]), array([0.00601258]), array([0.10231585]), array([0.03550862]), array([0.02925247]), array([0.02334103]), array([0.06659907]), array([0.01882917]), array([0.01493784]), array([0.05082419]), array([0.04424023]), array([0.08996993]), array([0.0093813]), array([0.01375536]), array([0.01401678]), array([0.01096193]), array([0.01051886]), array([0.01529347]), array([0.0108216]), array([0.00814286]), array([0.03043775]), array([0.01864541]), array([0.00653348]), array([0.01730094]), array([0.01544547]), array([0.00320611]), array([0.01362966]), array([0.02610373]), array([0.08201729]), array([0.02605436]), array([0.01683486]), array([0.00302933]), array([0.01959148]), array([0.01652152]), array([0.00396045]), array([0.02015133]), array([0.00410387]), array([0.]), array([0.01356154]), array([0.04900515]), array([0.01444989]), array([0.00391583]), array([0.03716991]), array([0.01070276]), array([0.01413682]), array([0.00581035]), array([0.02762871]), array([0.01303626]), array([0.00759074]), array([0.04531848]), array([0.01019813]), array([0.00876785]), array([0.01346159]), array([0.01142963]), array([0.00418872]), array([0.03143828]), array([0.02288832]), array([0.05295038]), array([0.01365665]), array([0.08089704]), array([0.01310592]), array([0.03545662]), array([0.01859917]), array([0.01929633]), array([0.01705756]), array([0.02769495]), array([0.03765643]), array([0.01062134]), array([0.01769031]), array([0.00966448]), array([0.0107129]), array([0.05536242]), array([0.01199801]), array([0.008299]), array([0.00107326]), array([0.0542168]), array([0.0307956]), array([0.00928567]), array([0.01109453]), array([0.00153101]), array([0.01846104]), array([0.00351792]), array([0.04171135]), array([0.01802318]), array([0.00731715]), array([0.02983417]), array([0.01307011]), array([0.01303568]), array([0.01281011]), array([0.06074335]), array([0.01746527]), array([0.03263711]), array([0.00811102]), array([0.09712914]), array([0.00786496]), array([0.19300032]), array([0.09193911]), array([0.01445554]), array([0.00726078]), array([0.01358192]), array([0.02035579]), array([0.04424671]), array([0.03521816]), array([0.01332578]), array([0.01354648]), array([0.28424052]), array([0.01895449]), array([0.02080313]), array([0.02520243]), array([0.05126257]), array([0.01572693]), array([0.04735686]), array([0.03601225]), array([0.04031578]), array([0.00660812]), array([0.05721402]), array([0.02613888]), array([0.00560702]), array([0.04492911]), array([0.02297609]), array([0.02094104]), array([0.01176715]), array([0.0524411]), array([0.09578383]), array([0.01953653]), array([0.00452557]), array([0.01689868]), array([0.01987592]), array([0.0257284]), array([0.01335108]), array([0.01620605]), array([0.01429806]), array([0.0172112]), array([0.00803773]), array([0.02288436]), array([0.0210885]), array([0.00876422]), array([0.00887778]), array([0.00342311]), array([0.02580151]), array([0.09252077]), array([0.00683049]), array([0.04308833]), array([0.05306679]), array([0.02169075]), array([0.02446192]), array([0.01370934]), array([0.02514507]), array([0.06433759]), array([0.11185123]), array([0.14554549]), array([0.01482963]), array([0.0064496]), array([0.02303918]), array([0.05176755]), array([0.01039926]), array([0.0137617]), array([0.0052939]), array([0.01212641]), array([0.02112187]), array([0.01884923]), array([0.02364465]), array([0.01235178]), array([0.00333234]), array([0.01363479]), array([0.06890209]), array([0.01592611]), array([0.02910056]), array([0.02148097]), array([0.00580969]), array([0.01350152]), array([0.02072082]), array([0.04907782]), array([0.0440069]), array([0.01504241]), array([0.00927587]), array([0.01205471]), array([0.02504936]), array([0.00758813]), array([0.0123947]), array([0.01753454]), array([0.00678961]), array([0.10901299]), array([0.02078347]), array([0.02442983]), array([0.02764455]), array([0.03957158]), array([0.04020284]), array([0.00105389]), array([0.00837523]), array([0.01652629]), array([0.01292973]), array([0.02267226]), array([0.00802254]), array([0.02817929]), array([0.00422592]), array([0.01336797]), array([0.00253859]), array([0.19609802]), array([0.01286549]), array([0.03285285]), array([0.03492818]), array([0.02245095]), array([0.02441744]), array([0.00824732]), array([0.0193016]), array([0.06037987]), array([0.021419]), array([0.01128226]), array([0.01930079]), array([0.01289916]), array([0.03010597]), array([0.01887854]), array([0.03596002]), array([0.03539661]), array([0.01480183]), array([0.00982572]), array([0.00640802]), array([0.01661972]), array([0.05746545]), array([0.01527762]), array([0.02950332]), array([0.01105377]), array([0.03489509]), array([0.01041827]), array([0.0193521]), array([0.11477168]), array([0.00877696]), array([0.03076078]), array([0.00891269]), array([0.02564207]), array([0.01846761]), array([0.00720492]), array([0.0407722]), array([0.02476918]), array([0.01582382]), array([0.01629526]), array([0.01683004]), array([0.]), array([0.03148048]), array([0.03021474]), array([0.01516718]), array([0.00658066]), array([0.05879556]), array([0.16332748]), array([0.03216212]), array([0.00265711]), array([0.01194097]), array([0.01565671]), array([0.02638302]), array([0.14993081]), array([0.02606602]), array([0.00860594]), array([0.00506526]), array([0.05171377]), array([0.0499921]), array([0.00179847]), array([0.02574675]), array([0.01578804]), array([0.02178684]), array([0.00362943]), array([0.0157111]), array([0.01444366]), array([0.10195331]), array([0.03681573]), array([0.00441111]), array([0.00637577]), array([0.08442616]), array([0.01537565]), array([0.02212387]), array([0.06434087]), array([0.05747822]), array([0.08325844]), array([0.00719509]), array([0.15738926]), array([0.01503758]), array([0.01034535]), array([0.01174002]), array([0.02446002]), array([0.00795386]), array([0.02599705]), array([0.04266736]), array([0.02886759]), array([0.01654254]), array([0.0151904]), array([0.0704501]), array([0.00236532]), array([0.00597848]), array([0.00955686]), array([0.00899334]), array([0.03365518]), array([0.03061727]), array([0.02199689]), array([0.2909834]), array([0.02470579]), array([0.02184377]), array([0.03998393]), array([0.00782819]), array([0.05565015]), array([0.01435823]), array([0.00610533]), array([0.01123952]), array([0.00735447]), array([0.00388887]), array([0.03572774]), array([0.01008171]), array([0.03700415]), array([0.00495663]), array([0.01576984]), array([0.05625889]), array([0.02601787]), array([0.00702357]), array([0.018761]), array([0.00548636]), array([0.0095807]), array([0.02267566]), array([0.04487994]), array([0.01205549]), array([0.01150124]), array([0.00917419]), array([0.05970992]), array([0.02692779]), array([0.04790995]), array([0.02147267]), array([0.07163221]), array([0.01313604]), array([0.03885976]), array([0.00957585]), array([0.00981099]), array([0.04585487]), array([0.06189166]), array([0.01969277]), array([0.02765373]), array([0.06599493]), array([0.00410036]), array([0.03608108]), array([0.00472047]), array([0.04492793]), array([0.02654516]), array([0.02183295]), array([0.02309939]), array([0.00173964]), array([0.01490015]), array([0.05328622]), array([0.08099174]), array([0.02023878]), array([0.03783159]), array([0.00505969]), array([0.05816991]), array([0.02159533]), array([0.01966625]), array([0.00852342]), array([0.11141251]), array([0.01902197]), array([0.02187206]), array([0.073119]), array([0.12264349]), array([0.01485601]), array([0.02508604]), array([0.02759671]), array([0.03265563]), array([0.05165219]), array([0.01008542]), array([0.02049186]), array([0.00763837]), array([0.02215012]), array([0.03761984]), array([0.02513249]), array([0.03069858]), array([0.02447467]), array([0.1645456]), array([0.01369934]), array([0.18864551]), array([0.08322372]), array([0.02505535]), array([0.01659836]), array([0.04647208]), array([0.00831463]), array([0.03030983]), array([0.02552585]), array([0.0129027]), array([0.00838286]), array([0.00530409]), array([0.03702392]), array([0.0248393]), array([0.00630373]), array([0.00233076]), array([0.00793737]), array([0.04324496]), array([0.00637874]), array([0.01299034]), array([0.03562389]), array([0.04303477]), array([0.01150139]), array([0.00829035]), array([0.00534074]), array([0.07471584]), array([0.0268627]), array([0.00448383]), array([0.00765832]), array([0.00728601]), array([0.00369977]), array([0.04805577]), array([0.01446031]), array([0.06440235]), array([0.00538822]), array([0.02478624]), array([0.05825953]), array([0.01210044]), array([0.01524571]), array([0.06185347]), array([0.0287961]), array([0.01318603]), array([0.02888611]), array([0.02681224]), array([0.04479037]), array([0.02770996]), array([0.01891139]), array([0.0126548]), array([0.05294139]), array([0.02991821]), array([0.06791812]), array([0.01647236]), array([0.22432846]), array([0.04421746]), array([0.01397784]), array([0.01003193]), array([0.01328002]), array([0.03754837]), array([0.07030549]), array([0.03971484]), array([0.01369995]), array([0.00451431]), array([0.006321]), array([0.01346786]), array([0.10601313]), array([0.02572016]), array([0.01797174]), array([0.04642827]), array([0.0507697]), array([0.04241398]), array([0.0282941]), array([0.00663206]), array([0.09547771]), array([0.01154064]), array([0.00623027]), array([0.00434862]), array([0.00595041]), array([0.08487164]), array([0.05569315]), array([0.01084427]), array([0.01322245]), array([0.02038595]), array([0.04579733]), array([0.01056238]), array([0.0322483]), array([0.0065437]), array([0.01281213]), array([0.00491772]), array([0.02930715]), array([0.01128238]), array([0.03484629]), array([0.02082751]), array([0.03019729]), array([0.02565522]), array([0.00331293]), array([0.01386863]), array([0.00340179]), array([0.00956283]), array([0.00631434]), array([0.0125852]), array([0.01242731]), array([0.01676535]), array([0.00930473]), array([0.00959054]), array([0.01888112]), array([0.0398299]), array([0.01032663]), array([0.01123395]), array([0.01337054]), array([0.02700039]), array([0.01970528]), array([0.02764203]), array([0.01196087]), array([0.06590471]), array([0.01188105]), array([0.10691833]), array([0.01119695]), array([0.06503891]), array([0.00632366]), array([0.06872827]), array([0.02759969]), array([0.03319621]), array([0.01109144]), array([0.00733613]), array([0.02072373]), array([0.02445516]), array([0.01338548]), array([0.01521178]), array([0.02262022]), array([0.0280444]), array([0.13475932]), array([0.03322158]), array([0.11422241]), array([0.03080553]), array([0.02730962]), array([0.01617586]), array([0.00918077]), array([0.03080469]), array([0.01886498]), array([0.01964732]), array([0.00510105]), array([0.03898476]), array([0.01709861]), array([0.00421493]), array([0.06823624]), array([0.1078413]), array([0.02736725]), array([0.02381064]), array([0.02981367]), array([0.00690198]), array([0.0154402]), array([0.06439208]), array([0.01031086]), array([0.03499376]), array([0.0152135]), array([0.00706479]), array([0.00803996]), array([0.0213102]), array([0.02995496]), array([0.01337153]), array([0.0209795]), array([0.01793328]), array([0.00475691]), array([0.02227421]), array([0.02561258]), array([0.01155167]), array([0.02855273]), array([0.00750426]), array([0.03772193]), array([0.06164061]), array([0.00837574]), array([0.0362498]), array([0.01373765]), array([0.01295202]), array([0.02738322]), array([0.00283281]), array([0.00703698]), array([0.04137269]), array([0.02053274]), array([0.00843955]), array([0.04514522]), array([0.02003421]), array([0.04743163]), array([0.02207669]), array([0.01619747]), array([0.01500122]), array([0.01140336]), array([0.01434829]), array([0.04177994]), array([0.00959567]), array([0.04553516]), array([0.01042091]), array([0.00999797]), array([0.03128219]), array([0.02060041]), array([0.01147658]), array([0.0191731]), array([0.01103608]), array([0.03981725]), array([0.0257196]), array([0.08347929]), array([0.00643725]), array([0.00976849]), array([0.03822409]), array([0.01659446]), array([0.03764977]), array([0.00896268]), array([0.00466853]), array([0.01664385]), array([0.01100642]), array([0.03012923]), array([0.02017679]), array([0.02835689]), array([0.00387359]), array([0.01005191]), array([0.02948995]), array([0.02419421]), array([0.01438514]), array([0.03167422]), array([0.02214202]), array([0.01132309]), array([0.01238604]), array([0.02659716]), array([0.01672879]), array([0.01034398]), array([0.00789579]), array([0.0169695]), array([0.01166926]), array([0.00494977]), array([0.02246964]), array([0.00962974]), array([0.00649779]), array([0.02868411]), array([0.02594471]), array([0.01165172]), array([0.07555738]), array([0.11975013]), array([0.00795003]), array([0.0254074]), array([0.06203812]), array([0.02520894]), array([0.02987444]), array([0.00550416]), array([0.05484755]), array([0.02602836]), array([0.17927883]), array([0.02291491]), array([0.00277265]), array([0.01085358]), array([0.02321388]), array([0.00890305]), array([0.03256649]), array([0.00223694]), array([0.16792944]), array([0.03625095]), array([0.00323116]), array([0.02818554]), array([0.02397238]), array([0.02584652]), array([0.01656902]), array([0.05144619]), array([0.01814535]), array([0.01978845]), array([0.03070108]), array([0.01664574]), array([0.05336696]), array([0.02121607]), array([0.05126817]), array([0.04630507]), array([0.01861752]), array([0.02244267]), array([0.02631698]), array([0.03463106]), array([0.00091807]), array([0.01651429]), array([0.04346295]), array([0.02068696]), array([0.03472181]), array([0.01940394]), array([0.00814663]), array([0.00174648]), array([0.02000943]), array([0.00821545]), array([0.02178738]), array([0.01371015]), array([0.01010594]), array([0.05511169]), array([0.0097441]), array([0.01536377]), array([0.00944022]), array([0.01759487]), array([0.028912]), array([0.04517455]), array([0.02050348]), array([0.05468814]), array([0.03247395]), array([0.00951618]), array([0.02300435]), array([0.14471574]), array([0.01977836]), array([0.03806988]), array([0.02198618]), array([0.02015119]), array([0.01914452]), array([0.01106608]), array([0.01180916]), array([0.01626617]), array([0.00452101]), array([0.02160574]), array([0.01520866]), array([0.00750204]), array([0.01110369]), array([0.01629656]), array([0.12800432]), array([0.00844096]), array([0.03578417]), array([0.01744473]), array([0.10097728]), array([0.01813808]), array([0.06491114]), array([0.00939934]), array([0.0119089]), array([0.0632277]), array([0.10075254]), array([0.03613014]), array([0.00549113]), array([0.03306505]), array([0.00891274]), array([0.0062963]), array([0.03444531]), array([0.0505011]), array([0.01428013]), array([0.01331277]), array([0.01132056]), array([0.01296996]), array([0.08869831]), array([0.07766109]), array([0.00682269]), array([0.05159324]), array([0.01105065]), array([0.01419384]), array([0.01503212]), array([0.01073843]), array([0.01974731]), array([0.02919356]), array([0.05532891]), array([0.0125775]), array([0.02584873]), array([0.01019153]), array([0.0089582]), array([0.02530518]), array([0.10381715]), array([0.00944657]), array([0.00512526]), array([0.00510737]), array([0.01181521]), array([0.02010251]), array([0.02530489]), array([0.02874904]), array([0.01960658]), array([0.01185055]), array([0.01224781]), array([0.01263532]), array([0.00733155]), array([0.05752121]), array([0.01094837]), array([0.00657974]), array([0.05072022]), array([0.00883529]), array([0.00784999]), array([0.22323019]), array([0.02217664]), array([0.01517493]), array([0.06938318]), array([0.01108702]), array([0.01600197]), array([0.00621703]), array([0.03649982]), array([0.01811101]), array([0.03823907]), array([0.05294584]), array([0.03645849]), array([0.02071266]), array([0.02124462]), array([0.03717079]), array([0.01096056]), array([0.00568243]), array([0.05606139]), array([0.02242366]), array([0.00896799]), array([0.01429]), array([0.02217772]), array([0.04603807]), array([0.00988884]), array([0.03343105]), array([0.00256696]), array([0.0148877]), array([0.00719451]), array([0.01996947]), array([0.0162749]), array([0.03573173]), array([0.02855809]), array([0.00789365]), array([0.00685099]), array([0.00327147]), array([0.01785477]), array([0.02727224]), array([0.04189539]), array([0.01351656]), array([0.01409492]), array([0.01619494]), array([0.00226576]), array([0.02171402]), array([0.00830056]), array([0.02933869]), array([0.00850187]), array([0.01674071]), array([0.03099425]), array([0.02511163]), array([0.03750904]), array([0.03587662]), array([0.03413576]), array([0.01437109]), array([0.02235759]), array([0.01863347]), array([0.0350524]), array([0.01496892]), array([0.00364267]), array([0.01789575]), array([0.02360116]), array([0.01514363]), array([0.10832034]), array([0.01422576]), array([0.00318117]), array([0.00565029]), array([0.02451034]), array([0.07469173]), array([0.01782468]), array([0.01929967]), array([0.00863615]), array([0.00331587]), array([0.09583752]), array([0.18571364]), array([0.02361639]), array([0.01589259]), array([0.01551061]), array([0.00797071]), array([0.09205203]), array([0.00277216]), array([0.0209252]), array([0.05083034]), array([0.02154108]), array([0.017803]), array([0.01754543]), array([0.0261574]), array([0.02867399]), array([0.05090395]), array([0.02070882]), array([0.03979244]), array([0.06251168]), array([0.0138352]), array([0.02588144]), array([0.04640462]), array([0.04825449]), array([0.04266346]), array([0.02961891]), array([0.0177142]), array([0.00746026]), array([0.02128095]), array([0.02874112]), array([0.00879734]), array([0.06928855]), array([0.01318945]), array([0.01102851]), array([0.01107705]), array([0.01052547]), array([0.24011298]), array([0.00748482]), array([0.01189766]), array([0.0043206]), array([0.0274036]), array([0.01752733]), array([0.00659614]), array([0.02119988]), array([0.01000063]), array([0.00446207]), array([0.01333881]), array([0.08367212]), array([0.00212219]), array([0.01552738]), array([0.01431764]), array([0.02514818]), array([0.02413074]), array([0.01438316]), array([0.03960317]), array([0.00663712]), array([0.02927787]), array([0.02871561]), array([0.02733139]), array([0.03152254]), array([0.0113035]), array([0.01895417]), array([0.01729971]), array([0.01265458]), array([0.02372553]), array([0.13743183]), array([0.01388123]), array([0.06280264]), array([0.02722251]), array([0.02429191]), array([0.01103539]), array([0.01250866]), array([0.02869783]), array([0.04440686]), array([0.01317638]), array([0.00999319]), array([0.01437401]), array([0.01598494]), array([0.00514485]), array([0.10406905]), array([0.024206]), array([0.01550944]), array([0.01332866]), array([0.00330878]), array([0.0205128]), array([0.03819803]), array([0.02121625]), array([0.01556319]), array([0.01133228]), array([0.0303506]), array([0.00235167]), array([0.01465756]), array([0.01128291]), array([0.02232954]), array([0.03208436]), array([0.02838735]), array([0.02857504]), array([0.03750111]), array([0.01225382]), array([0.01929799]), array([0.01085585]), array([0.01370177]), array([0.02581975]), array([0.01628075]), array([0.06374312]), array([0.01489858]), array([0.01993947]), array([0.0109134]), array([0.02496213]), array([0.01286507]), array([0.02917527]), array([0.03543427]), array([0.01279516]), array([0.01790041]), array([0.01575065]), array([0.02353003]), array([0.03246788]), array([0.04203545]), array([0.01944678]), array([0.0347812]), array([0.00770182]), array([0.02824572]), array([0.03834003]), array([0.12272516]), array([0.14483881]), array([0.00813218]), array([0.02244568]), array([0.14558638]), array([0.28985174]), array([0.02076116]), array([0.00726629]), array([0.04256085]), array([0.02733739]), array([0.01945236]), array([0.03528828]), array([0.03404074]), array([0.01183867]), array([0.01340821]), array([0.01099509]), array([0.06051087]), array([0.03252524]), array([0.0260359]), array([0.29961685]), array([0.01713121]), array([0.02801577]), array([0.01226534]), array([0.01626152]), array([0.07792994]), array([0.0293969]), array([0.01966357]), array([0.0082931]), array([0.01620545]), array([0.03438913]), array([0.01978994]), array([0.01532824]), array([0.02824738]), array([0.0242798]), array([0.00930191]), array([0.00611642]), array([0.01778116]), array([0.09935813]), array([0.04015064]), array([0.00729427]), array([0.045501]), array([0.0063855]), array([0.02537397]), array([0.01907461]), array([0.06862023]), array([0.01288956]), array([0.00870276]), array([0.00885173]), array([0.00352491]), array([0.03645419]), array([0.02951381]), array([0.01231837]), array([0.01002864]), array([0.0162449]), array([0.02914676]), array([0.00892218]), array([0.01254168]), array([0.01367645]), array([0.0066624]), array([0.0148587]), array([0.0270969]), array([0.02049333]), array([0.01110956]), array([0.00959029]), array([0.00822995]), array([0.044813]), array([0.17161532]), array([0.04220806]), array([0.02833151]), array([0.00607862]), array([0.01664004]), array([0.03864143]), array([0.01346898]), array([0.03236238]), array([0.03765512]), array([0.01161534]), array([0.00403348]), array([0.0147206]), array([0.00280338]), array([0.02623308]), array([0.09985475]), array([0.03572886]), array([0.01497775]), array([0.01613636]), array([0.01766108]), array([0.00421802]), array([0.00970034]), array([0.08978319]), array([0.02150299]), array([0.00592937]), array([0.0130387]), array([0.0216492]), array([0.07700759]), array([0.00800337]), array([0.04057287]), array([0.00520211]), array([0.02845224]), array([0.01207053]), array([0.01926365]), array([0.0074681]), array([0.07775883]), array([0.01730734]), array([0.01212202]), array([0.00718681]), array([0.02797769]), array([0.01521547]), array([0.02938466]), array([0.03421826]), array([0.00946232]), array([0.01863815]), array([0.03660376]), array([0.01378424]), array([0.03953116]), array([0.01574611]), array([0.00521788]), array([0.01691175]), array([0.04943877]), array([0.0104465]), array([0.00743107]), array([0.01186753]), array([0.02315301]), array([0.02049953]), array([0.01185989]), array([0.02710255]), array([0.00341958]), array([0.01136786]), array([0.02763364]), array([0.00816004]), array([0.02399218]), array([0.09987996]), array([0.01517486]), array([0.0168806]), array([0.0069412]), array([0.06664297]), array([0.01989678]), array([0.02216991]), array([0.05391336]), array([0.0188803]), array([0.06535501]), array([0.21476354]), array([0.04241288]), array([0.01393142]), array([0.02569632]), array([0.02084801]), array([0.01319119]), array([0.01422345]), array([0.01552366]), array([0.04497332]), array([0.00382168]), array([0.09111297]), array([0.01764811]), array([0.007316]), array([0.01188696]), array([0.01621583]), array([0.01076464]), array([0.00338028]), array([0.09168764]), array([0.0158377]), array([0.03263294]), array([0.08469891]), array([0.01619572]), array([0.00907256]), array([0.02183482]), array([0.00944527]), array([0.01125305]), array([0.01772143]), array([0.01903639]), array([0.01755698]), array([0.0077202]), array([0.01096831]), array([0.01787745]), array([0.02714272]), array([0.00810979]), array([0.00922371]), array([0.0201776]), array([0.00955764]), array([0.03267027]), array([0.06740176]), array([0.00313398]), array([0.01462093]), array([0.01065619]), array([0.02233518]), array([0.02153282]), array([0.04978121]), array([0.01549602]), array([0.01086765]), array([0.01267221]), array([0.05755562]), array([0.01210349]), array([0.0394529]), array([0.01254622]), array([0.01971004]), array([0.02382834]), array([0.01225189]), array([0.03544107]), array([0.02147577]), array([0.01580872]), array([0.02553394]), array([0.07377962]), array([0.01106987]), array([0.1087155]), array([0.0238609]), array([0.03007842]), array([0.00851466]), array([0.00475731]), array([0.00828506]), array([0.0083407]), array([0.00813632]), array([0.02275621]), array([0.07189142]), array([0.01702634]), array([0.01848811]), array([0.01818068]), array([0.00943272]), array([0.00115868]), array([0.01224516]), array([0.08513593]), array([0.05069296]), array([0.02720822]), array([0.01058696]), array([0.01340496]), array([0.0050469]), array([0.01125795]), array([0.01125401]), array([0.04473673]), array([0.03386157]), array([0.03188712]), array([0.01926455]), array([0.02928882]), array([0.0167991]), array([0.00780103]), array([0.01722181]), array([0.01972356]), array([0.03526243]), array([0.03455402]), array([0.00339927]), array([0.]), array([0.10392683]), array([0.02464019]), array([0.02057096]), array([0.0157431]), array([0.04891852]), array([0.0043051]), array([0.01499786]), array([0.00181311]), array([0.01503669]), array([0.03442044]), array([0.03702299]), array([0.03678872]), array([0.00380364]), array([0.00975954]), array([0.02755163]), array([0.01886209]), array([0.02239865]), array([0.02211289]), array([0.00638949]), array([0.01111544]), array([0.03379773]), array([0.10407203]), array([0.01971688]), array([0.01956966]), array([0.0060235]), array([0.02841329]), array([0.02128024]), array([0.0154212]), array([0.06906346]), array([0.02631166]), array([0.07075795]), array([0.00856375]), array([0.01682674]), array([0.00903668]), array([0.01139207]), array([0.01511038]), array([0.01166296]), array([0.003279]), array([0.01987677]), array([0.00396288]), array([0.00371151]), array([0.12723522]), array([0.02995892]), array([0.03204846]), array([0.02147045]), array([0.06481963]), array([0.02323574]), array([0.07700524]), array([0.0542671]), array([0.00762131]), array([0.00954531]), array([0.02099487]), array([0.02409521]), array([0.02368901]), array([0.01004049]), array([0.0440868]), array([0.04552535]), array([0.017339]), array([0.00796598]), array([0.03116638]), array([0.00851035]), array([0.03409822]), array([0.04077196]), array([0.013132]), array([0.01732396]), array([0.04096412]), array([0.01865199]), array([0.01911239]), array([0.00504345]), array([0.00635472]), array([0.00873211]), array([0.00572772]), array([0.02124692]), array([0.04496352]), array([0.01161437]), array([0.00649562]), array([0.00754405]), array([0.02110187]), array([0.02378772]), array([0.00425376]), array([0.03349456]), array([0.00741199]), array([0.01258159]), array([0.01106231]), array([0.01664531]), array([0.00922144]), array([0.01930618]), array([0.04402845]), array([0.00244992]), array([0.01251965]), array([0.03892613]), array([0.04435422]), array([0.01332599]), array([0.07830862]), array([0.06610314]), array([0.03222615]), array([0.01795968]), array([0.02329862]), array([0.01147222]), array([0.00712112]), array([0.02262875]), array([0.0461809]), array([0.0134682]), array([0.02147203]), array([0.04101296]), array([0.00850953]), array([0.01577949]), array([0.02989742]), array([0.01247267]), array([0.14074166]), array([0.01203875]), array([0.01800998]), array([0.00699655]), array([0.01530011]), array([0.01697081]), array([0.00506391]), array([0.03915981]), array([0.0173078]), array([0.01533167]), array([0.0099232]), array([0.03073251]), array([0.03879523]), array([0.01902295]), array([0.03175727]), array([0.01117813]), array([0.05338053]), array([0.01757842]), array([0.01035962]), array([0.0078581]), array([0.01463616]), array([0.0457604]), array([0.04871721]), array([0.00984487]), array([0.03556186]), array([0.0307119]), array([0.06464377]), array([0.00623882]), array([0.00962665]), array([0.05064113]), array([0.03648663]), array([0.01298213]), array([0.00380958]), array([0.01782811]), array([0.01733383]), array([0.00593279]), array([0.02617206]), array([0.06896313]), array([0.00578406]), array([0.00902465]), array([0.01268481]), array([0.00529472]), array([0.00576241]), array([0.03665286]), array([0.00160993]), array([0.0376986]), array([0.01433294]), array([0.04181724]), array([0.02529356]), array([0.02140347]), array([0.00520192]), array([0.021686]), array([0.00809084]), array([0.06736744]), array([0.01019794]), array([0.00388134]), array([0.02730163]), array([0.0071843]), array([0.00187125]), array([0.00890403]), array([0.03098801]), array([0.05273288]), array([0.02459576]), array([0.09301855]), array([0.08691889]), array([0.04310665]), array([0.0117602]), array([0.10270136]), array([0.04896516]), array([0.00649788]), array([0.02324706]), array([0.02200856]), array([0.03815864]), array([0.0014671]), array([0.0034062]), array([0.01390145]), array([0.03112553]), array([0.04280997]), array([0.01612216]), array([0.03937661]), array([0.00605596]), array([0.01439718]), array([0.01439137]), array([0.01335453]), array([0.01437471]), array([0.01487037]), array([0.0356222]), array([0.015612]), array([0.01790814]), array([0.03289239]), array([0.08818284]), array([0.02436777]), array([0.00463787]), array([0.01654599]), array([0.01429358]), array([0.02608068]), array([0.04988986]), array([0.19806968]), array([0.03353444]), array([0.02029834]), array([0.01953656]), array([0.00276454]), array([0.01531954]), array([0.01033911]), array([0.02142756]), array([0.11110411]), array([0.04485248]), array([0.02731323]), array([0.00142948]), array([0.01408723]), array([0.01605564]), array([0.01308277]), array([0.03344618]), array([0.03132714]), array([0.03018346]), array([0.02200363]), array([0.0237652]), array([0.02363126]), array([0.00312493]), array([0.00943092]), array([0.09672395]), array([0.06278868]), array([0.01479514]), array([0.02534343]), array([0.01031003]), array([0.01913024]), array([0.00495836]), array([0.03539199]), array([0.03103434]), array([0.01888255]), array([0.05633818]), array([0.0296863]), array([0.00534609]), array([0.00666006]), array([0.03806612]), array([0.05300989]), array([0.01170497]), array([0.02626224]), array([0.02256363]), array([0.01866596]), array([0.01366846]), array([0.01113857]), array([0.01289403]), array([0.02530865]), array([0.0437056]), array([0.02458762]), array([0.05773643]), array([0.03048782]), array([0.00919533]), array([0.02289004]), array([0.01052069]), array([0.07853732]), array([0.01817472]), array([0.01847183]), array([0.21216109]), array([0.0828958]), array([0.00647002]), array([0.0148153]), array([0.0201068]), array([0.01056327]), array([0.01320495]), array([0.03544629]), array([0.02400918]), array([0.01632805]), array([0.02643248]), array([0.00731874]), array([0.0115939]), array([0.01548126]), array([0.01161964]), array([0.040867]), array([0.08569689]), array([0.01849916]), array([0.09315116]), array([0.02743334]), array([0.02010041]), array([0.01388597]), array([0.01613249]), array([0.02694513]), array([0.00653449]), array([0.03998601]), array([0.00940346]), array([0.06800792]), array([0.00633681]), array([0.02708128]), array([0.02160279]), array([0.02688454]), array([0.]), array([0.01010098]), array([0.01795253]), array([0.02061897]), array([0.03021655]), array([0.00798789]), array([0.05330351]), array([0.19231386]), array([0.01130092]), array([0.00729506]), array([0.02640278]), array([0.05425497]), array([0.03388693]), array([0.03869544]), array([0.01884624]), array([0.01671657]), array([0.00216364]), array([0.03953826]), array([0.00384061]), array([0.03231777]), array([0.00936937]), array([0.00197932]), array([0.13299927]), array([0.01797352]), array([0.02365182]), array([0.02047122]), array([0.00401361]), array([0.00531377]), array([0.02255597]), array([0.01555836]), array([0.00243321]), array([0.01613986]), array([0.03253558]), array([0.00426217]), array([0.02004288]), array([0.00817992]), array([0.00773585]), array([0.0117244]), array([0.1081092]), array([0.03347433]), array([0.00721946]), array([0.0383958]), array([0.05612592]), array([0.00654391]), array([0.01925724]), array([0.00484887]), array([0.00108692]), array([0.00165062]), array([0.00647002]), array([0.12165869]), array([0.00161721]), array([0.0178684]), array([0.09502119]), array([0.01428748]), array([0.01387453]), array([0.05905476]), array([0.00746984]), array([0.02974923]), array([0.08691958]), array([0.02468308]), array([0.00510508]), array([0.00737767]), array([0.02210996]), array([0.01038835]), array([0.01083076]), array([0.09366292]), array([0.0103703]), array([0.01941622]), array([0.02348207]), array([0.02299799]), array([0.03104562]), array([0.01084881]), array([0.01058846]), array([0.01125752]), array([0.02676221]), array([0.01298602]), array([0.03092344]), array([0.01957499]), array([0.02764623]), array([0.05714287]), array([0.00724879]), array([0.06625687]), array([0.02669462]), array([0.0293323]), array([0.01741397]), array([0.0122313]), array([0.01031007]), array([0.00536295]), array([0.01443212]), array([0.02457102]), array([0.01071628]), array([0.04609525]), array([0.04161246]), array([0.02291147]), array([0.02434002]), array([0.03844804]), array([0.02577225]), array([0.04673673]), array([0.01790291]), array([0.00419307]), array([0.01094677]), array([0.01341486]), array([0.02911389]), array([0.0249626]), array([0.01603108]), array([0.11313367]), array([0.02728291]), array([0.0294812]), array([0.03804173]), array([0.02861941]), array([0.01706584]), array([0.03191395]), array([0.02015612]), array([0.01020966]), array([0.0280875]), array([0.02391609]), array([0.01194068]), array([0.00604909]), array([0.02410774]), array([0.0088271]), array([0.01083644]), array([0.01393783]), array([0.02557658]), array([0.01776221]), array([0.00652395]), array([0.02373461]), array([0.01826579]), array([0.00175024]), array([0.01520095]), array([0.01642829]), array([0.09634451]), array([0.01152252]), array([0.0472569]), array([0.01078257]), array([0.01691736]), array([0.0182998]), array([0.00408223]), array([0.01300406]), array([0.0036901]), array([0.01316591]), array([0.01124508]), array([0.05085701]), array([0.0074021]), array([0.00883482]), array([0.01301953]), array([0.01570412]), array([0.01678357]), array([0.02643771]), array([0.12480152]), array([0.01122227]), array([0.00531687]), array([0.0110114]), array([0.01847892]), array([0.00212254]), array([0.02611307]), array([0.01706616]), array([0.01066727]), array([0.0060093]), array([0.00500024]), array([0.03236295]), array([0.0110847]), array([0.03064879]), array([0.01386188]), array([0.01646995]), array([0.00280066]), array([0.07843208]), array([0.01586491]), array([0.02696211]), array([0.01154227]), array([0.20096384]), array([0.00498991]), array([0.0051083]), array([0.00684803]), array([0.05201337]), array([0.04376829]), array([0.01932919]), array([0.0041194]), array([0.01036572]), array([0.0151274]), array([0.01405624]), array([0.00344641]), array([0.00733785]), array([0.03525668]), array([0.07425476]), array([0.01044934]), array([0.06890751]), array([0.02635934]), array([0.007962]), array([0.14345548]), array([0.01291122]), array([0.03259242]), array([0.02046105]), array([0.05444136]), array([0.03290014]), array([0.04008562]), array([0.13442657]), array([0.01613688]), array([0.08562989]), array([0.04750845]), array([0.00833241]), array([0.02552132]), array([0.01153439]), array([0.07046018]), array([0.01189373]), array([0.04779476]), array([0.04856185]), array([0.02501119]), array([0.01790295]), array([0.02674217]), array([0.01095816]), array([0.00945445]), array([0.01878644]), array([0.02099858]), array([0.05774774]), array([0.03232763]), array([0.01018447]), array([0.10493801]), array([0.02742067]), array([0.01048957]), array([0.05567062]), array([0.02572283]), array([0.01150872]), array([0.02956642]), array([0.02792826]), array([0.02354708]), array([0.00644241]), array([0.01728907]), array([0.01569044]), array([0.07246148]), array([0.00069937]), array([0.06130243]), array([0.07012727]), array([0.02174023]), array([0.04404576]), array([0.13053957]), array([0.04982409]), array([0.01351774]), array([0.08482964]), array([0.03065072]), array([0.08650863]), array([0.0231405]), array([0.1098153]), array([0.02613897]), array([0.01044865]), array([0.02546782]), array([0.00892583]), array([0.07020682]), array([0.02812423]), array([0.00628772]), array([0.01952913]), array([0.05720476]), array([0.05851347]), array([0.02919387]), array([0.01542864]), array([0.02153936]), array([0.01341793]), array([0.01096302]), array([0.04412913]), array([0.01751784]), array([0.02136899]), array([0.0135117]), array([0.00737975]), array([0.01160718]), array([0.00877183]), array([0.01689531]), array([0.01339517]), array([0.02698688]), array([0.04435375]), array([0.03357976]), array([0.01020969]), array([0.03281771]), array([0.01265871]), array([0.17224138]), array([0.04775116]), array([0.01214326]), array([0.01217483]), array([0.01897942]), array([0.01476358]), array([0.01761075]), array([0.01181737]), array([0.10091597]), array([0.03727752]), array([0.0140511]), array([0.01495345]), array([0.00408269]), array([0.03726729]), array([0.0945223]), array([0.01742242]), array([0.01031416]), array([0.00485948]), array([0.05446389]), array([0.01090404]), array([0.04691825]), array([0.02751613]), array([0.0154214]), array([0.07294136]), array([0.00366541]), array([0.01008044]), array([0.04482884]), array([0.09704314]), array([0.01052013]), array([0.05407178]), array([0.1272322]), array([0.0313319]), array([0.05914612]), array([0.01713713]), array([0.04904285]), array([0.01076139]), array([0.08360396]), array([0.05027992]), array([0.01871281]), array([0.00893561]), array([0.04120751]), array([0.02857921]), array([0.01727642]), array([0.02658189]), array([0.02667145]), array([0.00569236]), array([0.01591219]), array([0.02023238]), array([0.00478094]), array([0.01923242]), array([0.01178738]), array([0.01039354]), array([0.01341219]), array([0.01806757]), array([0.0095902]), array([0.00155979]), array([0.02094709]), array([0.04762073]), array([0.02025529]), array([0.01168365]), array([0.05137268]), array([0.01412876]), array([0.01182937]), array([0.01268387]), array([0.03535186]), array([0.01100906]), array([0.03557713]), array([0.01981157]), array([0.00947151]), array([0.00968352]), array([0.00572885]), array([0.01935354]), array([0.01190349]), array([0.01485722]), array([0.00406014]), array([0.02377761]), array([0.0280328]), array([0.01116764]), array([0.01022055]), array([0.08499993]), array([0.01514509]), array([0.04455624]), array([0.16654854]), array([0.00419785]), array([0.04645562]), array([0.00797283]), array([0.07013642]), array([0.02734038]), array([0.03752486]), array([0.03427042]), array([0.03163803]), array([0.01879936]), array([0.01517842]), array([0.02606756]), array([0.02516798]), array([0.07022423]), array([0.01792269]), array([0.02560196]), array([0.09158781]), array([0.02262459]), array([0.00820038]), array([0.00738244]), array([0.02130429]), array([0.0036347]), array([0.13414614]), array([0.02069904]), array([0.06891869]), array([0.016311]), array([0.07237243]), array([0.00743915]), array([0.10279399]), array([0.01160196]), array([0.03786383]), array([0.00869602]), array([0.06206121]), array([0.0169045]), array([0.03545367]), array([0.07164103]), array([0.05217873]), array([0.01084713]), array([0.00193853]), array([0.00608779]), array([0.00847118]), array([0.04569001]), array([0.01598607]), array([0.03637978]), array([0.00957714]), array([0.04426113]), array([0.03046238]), array([0.0217108]), array([0.03503441]), array([0.04178463]), array([0.08567301]), array([0.00407634]), array([0.01309936]), array([0.01133018]), array([0.05770348]), array([0.00359621]), array([0.00604887]), array([0.06512094]), array([0.0375887]), array([0.02137673]), array([0.02668956]), array([0.04562834]), array([0.00460482]), array([0.0085838]), array([0.03653461]), array([0.03473741]), array([0.03767833]), array([0.00870208]), array([0.01723817]), array([0.00456927]), array([0.01923666]), array([0.00271237]), array([0.01547473]), array([0.01034667]), array([0.00681937]), array([0.005561]), array([0.00450891]), array([0.02926005]), array([0.0089658]), array([0.02193016]), array([0.01264492]), array([0.0078552]), array([0.04695909]), array([0.01159654]), array([0.01005127]), array([0.08487443]), array([0.00977029]), array([0.02740382]), array([0.00134069]), array([0.01559978]), array([0.00791625]), array([0.0119381]), array([0.00476694]), array([0.03160458]), array([0.00294892]), array([0.01601085]), array([0.00644314]), array([0.02032594]), array([0.01599134]), array([0.04212696]), array([0.0133954]), array([0.02086926]), array([0.01274268]), array([0.03929157]), array([0.03206959]), array([0.01147838]), array([0.01752989]), array([0.00435266]), array([0.09479455]), array([0.02581537]), array([0.08754485]), array([0.01867423]), array([0.07423251]), array([0.02922979]), array([0.01618698]), array([0.03432159]), array([0.00996995]), array([0.02337414]), array([0.06528027]), array([0.0227452]), array([0.01022885]), array([0.09065281]), array([0.05662049]), array([0.02983213]), array([0.0028899]), array([0.01341547]), array([0.02947678]), array([0.01838538]), array([0.00616977]), array([0.02505785]), array([0.02223098]), array([0.02427337]), array([0.02478955]), array([0.03234581]), array([0.0189187]), array([0.00836996]), array([0.0140988]), array([0.0100507]), array([0.01191283]), array([0.02454166]), array([0.00670509]), array([0.04498404]), array([0.11709008]), array([0.00362972]), array([0.042899]), array([0.00926585]), array([0.0178883]), array([0.02245867]), array([0.02155188]), array([0.03556034]), array([0.0175892]), array([0.0211615]), array([0.01955047]), array([0.02352683]), array([0.06704851]), array([0.00801599]), array([0.04842563]), array([0.0339806]), array([0.03951714]), array([0.01454649]), array([0.01797311]), array([0.00880745]), array([0.01897391]), array([0.05072371]), array([0.0181912]), array([0.00924452]), array([0.01416337]), array([0.02919568]), array([0.02608611]), array([0.02863061]), array([0.02385]), array([0.01250428]), array([0.01461654]), array([0.09117449]), array([0.0142119]), array([0.00767723]), array([0.00796232]), array([0.01364102]), array([0.05792732]), array([0.00831084]), array([0.05746941]), array([0.0100834]), array([0.01253095]), array([0.03106432]), array([0.0158684]), array([0.0084144]), array([0.01741004]), array([0.00933612]), array([0.02278246]), array([0.01910558]), array([0.02031562]), array([0.00388068]), array([0.11497883]), array([0.0190643]), array([0.10547567]), array([0.01778431]), array([0.01057433]), array([0.02002206]), array([0.05933821]), array([0.01473782]), array([0.00367246]), array([0.00917122]), array([0.0475884]), array([0.01452954]), array([0.02245844]), array([0.07158761]), array([0.02044329]), array([0.03296646]), array([0.01582976]), array([0.06164132]), array([0.0193917]), array([0.01126027]), array([0.02958686]), array([0.02293747]), array([0.14067945]), array([0.0091241]), array([0.02212512]), array([0.01859904]), array([0.00364633]), array([0.01092863]), array([0.0080336]), array([0.03099248]), array([0.0122808]), array([0.03392443]), array([0.02644774]), array([0.0112398]), array([0.02736735]), array([0.02220387]), array([0.01504222]), array([0.01626723]), array([0.23311817]), array([0.14340313]), array([0.01254045]), array([0.02934431]), array([0.02010682]), array([0.01061979]), array([0.00795766]), array([0.00268152]), array([0.0241648]), array([0.01646963]), array([0.02754022]), array([0.02659225]), array([0.00086123]), array([0.06849015]), array([0.01119861]), array([0.01924574]), array([0.00873125]), array([0.01365566]), array([0.00997586]), array([0.01434884]), array([0.0181362]), array([0.10841061]), array([0.0172268]), array([0.03535976]), array([0.02761809]), array([0.01260465]), array([0.00905824]), array([0.02238125]), array([0.0258116]), array([0.02927578]), array([0.02383645]), array([0.01313974]), array([0.01116917]), array([0.11610558]), array([0.02115053]), array([0.01662088]), array([0.01972606]), array([0.00456565]), array([0.05096742]), array([0.03916281]), array([0.01184108]), array([0.03832759]), array([0.00520577]), array([0.02272112]), array([0.01875096]), array([0.0562604]), array([0.04583158]), array([0.08672971]), array([0.01158183]), array([0.00207254]), array([0.07187541]), array([0.02273162]), array([0.00862013]), array([0.10975075]), array([0.00757315]), array([0.96015876]), array([0.00989865]), array([0.03897942]), array([0.00610751]), array([0.00837505]), array([0.01628268]), array([0.02374507]), array([0.04831705]), array([0.0245303]), array([0.00797203]), array([0.00243691]), array([0.03123931]), array([0.0367022]), array([0.02392853]), array([0.0143263]), array([0.03908062]), array([0.01862533]), array([0.02579243]), array([0.01598732]), array([0.01874017]), array([0.05252604]), array([0.01780866]), array([0.01991529]), array([0.00726479]), array([0.07073819]), array([0.01447987]), array([0.01727972]), array([0.00610028]), array([0.02138772]), array([0.16094926]), array([0.03157824]), array([0.08108265]), array([0.02103444]), array([0.04732677]), array([0.01677783]), array([0.02285162]), array([0.01709362]), array([0.00486381]), array([0.02320584]), array([0.01225979]), array([0.03368122]), array([0.05334055]), array([0.0297216]), array([0.03055093]), array([0.00186632]), array([0.01846761]), array([0.04667469]), array([0.20344975]), array([0.00774062]), array([0.03975056]), array([0.04832227]), array([0.00997843]), array([0.01055864]), array([0.01273217]), array([0.00736685]), array([0.03558662]), array([0.01243937]), array([0.0140473]), array([0.02902818]), array([0.05388184]), array([0.01814283]), array([0.02749811]), array([0.03751688]), array([0.01941805]), array([0.16690242]), array([0.02766517]), array([0.00666382]), array([0.09786512]), array([0.0098046]), array([0.01645946]), array([0.00618079]), array([0.0235657]), array([0.06677349]), array([0.01335782]), array([0.00249225]), array([0.01506065]), array([0.02215584]), array([0.01354232]), array([0.01721594]), array([0.01102753]), array([0.04449039]), array([0.01580739]), array([0.01725996]), array([0.10965886]), array([0.08203974]), array([0.01065029]), array([0.0660768]), array([0.02276666]), array([0.02435918]), array([0.01610746]), array([0.02889559]), array([0.01394215]), array([0.03803323]), array([0.1632049]), array([0.01442326]), array([0.01051803]), array([0.02946211]), array([0.0093013]), array([0.07128729]), array([0.04152033]), array([0.01804353]), array([0.01218286]), array([0.00390477]), array([0.00402712]), array([0.00172377]), array([0.0171282]), array([0.02601899]), array([0.08675754]), array([0.01521736]), array([0.02256369]), array([0.09176463]), array([0.07933789]), array([0.0041124]), array([0.01845437]), array([0.02175274]), array([0.01536576]), array([0.01168599]), array([0.00439329]), array([0.01641111]), array([0.01711798]), array([0.01312684]), array([0.00414027]), array([0.00255091]), array([0.02445847]), array([0.00750651]), array([0.01212855]), array([0.29154786]), array([0.05217743]), array([0.03939429]), array([0.04463842]), array([0.05430831]), array([0.01395524]), array([0.00832572]), array([0.09443584]), array([0.01297608]), array([0.02447499]), array([0.01095189]), array([0.00872184]), array([0.0042885]), array([0.03799718]), array([0.04712508]), array([0.00856842]), array([0.00735076]), array([0.02365965]), array([0.02082386]), array([0.0185896]), array([0.01299393]), array([0.00423251]), array([0.0218033]), array([0.01213774]), array([0.06765495]), array([0.01365764]), array([0.00830962]), array([0.0140899]), array([0.02709538]), array([0.10844952]), array([0.05338277]), array([0.02707128]), array([0.11171049]), array([0.00955194]), array([0.01935504]), array([0.01568943]), array([0.00713126]), array([0.01486418]), array([0.04318811]), array([0.03591748]), array([0.0262132]), array([0.01354677]), array([0.00755051]), array([0.08569443]), array([0.0154887]), array([0.0124333]), array([0.02277807]), array([0.02054065]), array([0.01623769]), array([0.01389678]), array([0.01029372]), array([0.01893903]), array([0.01608826]), array([0.01090522]), array([0.01776439]), array([0.03038004]), array([0.04878979]), array([0.01616022]), array([0.03652423]), array([0.04379774]), array([0.0136492]), array([0.008521]), array([0.03011249]), array([0.03097969]), array([0.02751627]), array([0.03491568]), array([0.06274348]), array([0.03258595]), array([0.06526713]), array([0.01600736]), array([0.02473416]), array([0.01834233]), array([0.01960103]), array([0.00555017]), array([0.00510069]), array([0.05531648]), array([0.02195429]), array([0.0561286]), array([0.12462199]), array([0.00471564]), array([0.04728384]), array([0.03457896]), array([0.04291765]), array([0.03130481]), array([0.01346932]), array([0.00484672]), array([0.07161178]), array([0.03227176]), array([0.01747938]), array([0.00712975]), array([0.03290852]), array([0.0104432]), array([0.01908286]), array([0.02627702]), array([0.01177944]), array([0.03897952]), array([0.01690572]), array([0.01155086]), array([0.03194923]), array([0.01979793]), array([0.02961073]), array([0.01748654]), array([0.01839249]), array([0.00860788]), array([0.06309973]), array([0.01217151]), array([0.02656222]), array([0.01687894]), array([0.0144324]), array([0.02695219]), array([0.02367806]), array([0.01719983]), array([0.010291]), array([0.01826292]), array([0.02794279]), array([0.03562912]), array([0.01337014]), array([0.00807751]), array([0.01219131]), array([0.00734244]), array([0.02035788]), array([0.00924567]), array([0.03098785]), array([0.03122536]), array([0.04800342]), array([0.00891103]), array([0.02243325]), array([0.01436179]), array([0.01146031]), array([0.01656663]), array([0.01349048]), array([0.04019376]), array([0.02211612]), array([0.02685706]), array([0.06329851]), array([0.01882586]), array([0.23446734]), array([0.04382259]), array([0.00840726]), array([0.01594589]), array([0.02094078]), array([0.0068266]), array([0.02897337]), array([0.04049235]), array([0.0262936]), array([0.02062845]), array([0.0326566]), array([0.00583278]), array([0.01553851]), array([0.03220044]), array([0.0308119]), array([0.01634014]), array([0.02160524]), array([0.00182647]), array([0.01438405]), array([0.01018964]), array([0.01599337]), array([0.02075668]), array([0.01589565]), array([0.03725643]), array([0.01982465]), array([0.01215465]), array([0.01169667]), array([0.02889491]), array([0.00692399]), array([0.03284171]), array([0.01589369]), array([0.04283599]), array([0.01013939]), array([0.00325222]), array([0.00595742]), array([0.03730552]), array([0.00850684]), array([0.01493886]), array([0.01040402]), array([0.00827246]), array([0.03581903]), array([0.01129785]), array([0.02388787]), array([0.09078194]), array([0.01247064]), array([0.01482489]), array([0.03759662]), array([0.01820744]), array([0.01941076]), array([0.01557919]), array([0.01975958]), array([0.03271178]), array([0.00932938]), array([0.00920092]), array([0.0376084]), array([0.01582598]), array([0.01689254]), array([0.03079249]), array([0.02975911]), array([0.09796951]), array([0.0162084]), array([0.03086201]), array([0.00988839]), array([0.02258158]), array([0.01248211]), array([0.01956684]), array([0.03202506]), array([0.01640188]), array([0.00971328]), array([0.01433918]), array([0.0291644]), array([0.01301924]), array([0.01452761]), array([0.00931316]), array([0.00828912]), array([0.01187852]), array([0.00220705]), array([0.01063756]), array([0.00307716]), array([0.0149464]), array([0.01223013]), array([0.009588]), array([0.01069483]), array([0.01632805]), array([0.01436239]), array([0.02425294]), array([0.03105583]), array([0.01234313]), array([0.01229631]), array([0.02778895]), array([0.03413794]), array([0.02064793]), array([0.08576068]), array([0.00939113]), array([0.00262291]), array([0.02672674]), array([0.01027667]), array([0.03059547]), array([0.04423968]), array([0.03459944]), array([0.00576784]), array([0.02414384]), array([0.00260763]), array([0.0238097]), array([0.02973443]), array([0.04462015]), array([0.00657237]), array([0.01498562]), array([0.02557649]), array([0.00421633]), array([0.21523285]), array([0.02449927]), array([0.01015421]), array([0.04547157]), array([0.01117417]), array([0.00807504]), array([0.00273704]), array([0.01437673]), array([0.00660481]), array([0.03193521]), array([0.00747229]), array([0.03604791]), array([0.02320712]), array([0.02413619]), array([0.10119097]), array([0.01584399]), array([0.01771095]), array([0.01648122]), array([0.02106233]), array([0.00796641]), array([0.03378626]), array([0.0191836]), array([0.29784109]), array([0.02938009]), array([0.06795092]), array([0.01834162]), array([0.014347]), array([0.01199725]), array([0.09208825]), array([0.05117116]), array([0.01631457]), array([0.0190379]), array([0.03577651]), array([0.01435062]), array([0.02594446]), array([0.02181916]), array([0.00235395]), array([0.03975655]), array([0.0160104]), array([0.04928309]), array([0.00378541]), array([0.00064341]), array([0.14659652]), array([0.00344858]), array([0.02418227]), array([0.08797014]), array([0.10502035]), array([0.02221632]), array([0.00508602]), array([0.00108873]), array([0.03125112]), array([0.02203158]), array([0.0199396]), array([0.0112068]), array([0.03175255]), array([0.01446162]), array([0.11099004]), array([0.02488625]), array([0.01722846]), array([0.00813483]), array([0.00392368]), array([0.01483216]), array([0.02652001]), array([0.00420031]), array([0.0094921]), array([0.00802243]), array([0.00818173]), array([0.04926854]), array([0.00341852]), array([0.01054575]), array([0.01361558]), array([0.01175906]), array([0.01816503]), array([0.04351199]), array([0.08393692]), array([0.26683185]), array([0.01149822]), array([0.01819814]), array([0.01322359]), array([0.00503815]), array([0.05579198]), array([0.01551246]), array([0.05289292]), array([0.02681938]), array([0.06608848]), array([0.00163176]), array([0.02700955]), array([0.03256254]), array([0.05765728]), array([0.01017359]), array([0.01956587]), array([0.01705556]), array([0.0118245]), array([0.00782014]), array([0.0638508]), array([0.0512447]), array([0.03617836]), array([0.00408628]), array([0.02917847]), array([0.00106579]), array([0.01156316]), array([0.10627884]), array([0.03715335]), array([0.02575297]), array([0.01728075]), array([0.00189829]), array([0.00450955]), array([0.00975877]), array([0.02046277]), array([0.04729277]), array([0.00527712]), array([0.01927019]), array([0.01562274]), array([0.01140967]), array([0.06462584]), array([0.00877833]), array([0.05710264]), array([0.02322073]), array([0.0722953]), array([0.02257821]), array([0.02187022]), array([0.02543456]), array([0.01243087]), array([0.03130983]), array([0.00558973]), array([0.0113108]), array([0.00590741]), array([0.03486957]), array([0.00426924]), array([0.005539]), array([0.36538859]), array([0.02903079]), array([0.05874332]), array([0.03318347]), array([0.0192318]), array([0.02897355]), array([0.00684104]), array([0.01023196]), array([0.01966557]), array([0.02217892]), array([0.01045506]), array([0.01068161]), array([0.14976754]), array([0.06303683]), array([0.02379756]), array([0.01030369]), array([0.00391744]), array([0.05291183]), array([0.06194165]), array([0.00994559]), array([0.04550779]), array([0.00702198]), array([0.02425227]), array([0.01918448]), array([0.00732818]), array([0.01437814]), array([0.02172763]), array([0.01927212]), array([0.03066048]), array([0.00826615]), array([0.02114757]), array([0.01091877]), array([0.01747302]), array([0.00669937]), array([0.03402729]), array([0.01871061]), array([0.0145151]), array([0.04224567]), array([0.00665739]), array([0.15479942]), array([0.04178069]), array([0.01193321]), array([0.00916828]), array([0.01512985]), array([0.00523326]), array([0.00759253]), array([0.00576275]), array([0.04080975]), array([0.00955351]), array([0.01675166]), array([0.00957734]), array([0.01481811]), array([0.02068213]), array([0.06217501]), array([0.0389583]), array([0.1043738]), array([0.01016123]), array([0.03738175]), array([0.06458928]), array([0.03007893]), array([0.00784084]), array([0.00665895]), array([0.02235837]), array([0.01291171]), array([0.00276409]), array([0.01134595]), array([0.00811946]), array([0.01888295]), array([0.04034875]), array([0.00907681]), array([0.00233218]), array([0.01909841]), array([0.05325739]), array([0.02162714]), array([0.0127942]), array([0.01266939]), array([0.02708032]), array([0.01079688]), array([0.04551676]), array([0.02152706]), array([0.03894061]), array([0.01201549]), array([0.06025794]), array([0.01594356]), array([0.01028042]), array([0.04035444]), array([0.07531634]), array([0.02996494]), array([0.02642219]), array([0.04718327]), array([0.01093678]), array([0.0031704]), array([0.00676851]), array([0.01634265]), array([0.01532049]), array([0.00274049]), array([0.0102522]), array([0.02471991]), array([0.04763437]), array([0.00910496]), array([0.00961726]), array([0.00412604]), array([0.19591828]), array([0.04343967]), array([0.20017578]), array([0.01122015]), array([0.01835513]), array([0.00814131]), array([0.05705708]), array([0.0029143]), array([0.0356491]), array([0.07880488]), array([0.04200908]), array([0.00532854]), array([0.01777626]), array([0.01131225]), array([0.04637919]), array([0.01809824]), array([0.05014379]), array([0.01032462]), array([0.02594594]), array([0.04445786]), array([0.01187408]), array([0.00184843]), array([0.01408226]), array([0.05148079]), array([0.03478545]), array([0.0833313]), array([0.01301397]), array([0.00857815]), array([0.01296834]), array([0.01533719]), array([0.01351054]), array([0.00888371]), array([0.00639254]), array([0.01004509]), array([0.0282752]), array([0.0160862]), array([0.01499809]), array([0.0054095]), array([0.0260868]), array([0.01527455]), array([0.01471265]), array([0.00497425]), array([0.01274994]), array([0.05365159]), array([0.01003554]), array([0.04361619]), array([0.02078573]), array([0.05817759]), array([0.03817577]), array([0.03850382]), array([0.00245192]), array([0.02366136]), array([0.11941602]), array([0.20811038]), array([0.02714241]), array([0.02392512]), array([0.01681976]), array([0.00779121]), array([0.11496395]), array([0.01287535]), array([0.03574396]), array([0.00707019]), array([0.00868374]), array([0.02153413]), array([0.01546878]), array([0.00079024]), array([0.01805454]), array([0.04441894]), array([0.00628163]), array([0.06085425]), array([0.02368432]), array([0.01030899]), array([0.01361472]), array([0.01144575]), array([0.02695131]), array([0.0144197]), array([0.01240307]), array([0.01234938]), array([0.03234555]), array([0.01859653]), array([0.00559759]), array([0.02425588]), array([0.01641675]), array([0.]), array([0.03553413]), array([0.00317908]), array([0.07025965]), array([0.01925486]), array([0.0083386]), array([0.01467047]), array([0.02624097]), array([0.01558954]), array([0.01492257]), array([0.00755058]), array([0.16105794]), array([0.03348616]), array([0.01453481]), array([0.00403059]), array([0.01008401]), array([0.01280558]), array([0.02198973]), array([0.00502771]), array([0.1152232]), array([0.03316475]), array([0.01455209]), array([0.00740045]), array([0.03159181]), array([0.17391926]), array([0.04522558]), array([0.00140419]), array([0.01635567]), array([0.03753077]), array([0.0555998]), array([0.01630414]), array([0.00667866]), array([0.01391224]), array([0.00662597]), array([0.01326889]), array([0.01228898]), array([0.04396898]), array([0.00700713]), array([0.02947146]), array([0.01934257]), array([0.12591609]), array([0.00518952]), array([0.52113352]), array([0.02905921]), array([0.01084135]), array([0.00392271]), array([0.00917734]), array([0.00840782]), array([0.00736896]), array([0.03456678]), array([0.01788443]), array([0.01033551]), array([0.23608792]), array([0.04707907]), array([0.05115974]), array([0.12043858]), array([0.02073503]), array([0.07294821]), array([0.02066076]), array([0.01080721]), array([0.03128077]), array([0.07219967]), array([0.00871959]), array([0.01361376]), array([0.01150904]), array([0.02665221]), array([0.01850724]), array([0.03760997]), array([0.00885812]), array([0.01466513]), array([0.03231409]), array([0.01189701]), array([0.02684323]), array([0.02178786]), array([0.01265288]), array([0.04932574]), array([0.09438804]), array([0.01578702]), array([0.03342579]), array([0.02500365]), array([0.02463016]), array([0.01710705]), array([0.01698336]), array([0.01480791]), array([0.01612606]), array([0.45277549]), array([0.01215742]), array([0.00178169]), array([0.00572461]), array([0.06152173]), array([0.02575941]), array([0.00594306]), array([0.0255088]), array([0.03351661]), array([0.10155511]), array([0.01657141]), array([0.02053318]), array([0.01792325]), array([0.0022639]), array([0.00984393]), array([0.01267551]), array([0.01104743]), array([0.0266189]), array([0.01633634]), array([0.05708674]), array([0.01220477]), array([0.01465125]), array([0.03994016]), array([0.01910817]), array([0.01158844]), array([0.00515723]), array([0.01093057]), array([0.00581676]), array([0.03030648]), array([0.06216306]), array([0.00977661]), array([0.01041314]), array([0.04629337]), array([0.03081941]), array([0.00451826]), array([0.01786247]), array([0.0213979]), array([0.00472142]), array([0.02530784]), array([0.10565614]), array([0.01963872]), array([0.002575]), array([0.01072647]), array([0.01017182]), array([0.03542696]), array([0.05504412]), array([0.01486561]), array([0.0203982]), array([0.01639847]), array([0.0322874]), array([0.00954772]), array([0.00475831]), array([0.04132756]), array([0.01289469]), array([0.01949803]), array([0.02002833]), array([0.01822511]), array([0.02461012]), array([0.03721063]), array([0.0364387]), array([0.01395631]), array([0.01037697]), array([0.10119702]), array([0.02104078]), array([0.02791611]), array([0.05123648]), array([0.00335648]), array([0.01184629]), array([0.00862231]), array([0.04166448]), array([0.02062532]), array([0.06037497]), array([0.00798349]), array([0.03479534]), array([0.03438941]), array([0.09662417]), array([0.03815054]), array([0.0047569]), array([0.01748751]), array([0.01008389]), array([0.03575165]), array([0.01995344]), array([0.03109753]), array([0.0060389]), array([0.01791356]), array([0.02398549]), array([0.0419379]), array([0.00899807]), array([0.00858275]), array([0.00955531]), array([0.00474413]), array([0.03388324]), array([0.02182684]), array([0.13599644]), array([0.01664331]), array([0.0157306]), array([0.08283154]), array([0.07096193]), array([0.00879955]), array([0.01296614]), array([0.03253082]), array([0.0796992]), array([0.01253789]), array([0.06349981]), array([0.06833391]), array([0.04122795]), array([0.02015743]), array([0.0558412]), array([0.01017147]), array([0.01354998]), array([0.02372836]), array([0.02872887]), array([0.02335629]), array([0.00619174]), array([0.00441355]), array([0.02531469]), array([0.02650904]), array([0.04057294]), array([0.00804616]), array([0.01598513]), array([0.05629721]), array([0.02357918]), array([0.08543732]), array([0.02739676]), array([0.00218969]), array([0.02062262]), array([0.01117638]), array([0.07802822]), array([0.0138407]), array([0.00822042]), array([0.02189904]), array([0.01464498]), array([0.01356242]), array([0.01850434]), array([0.10439837]), array([0.005172]), array([0.01646297]), array([0.02499185]), array([0.06714637]), array([0.10101508]), array([0.01350023]), array([0.01273381]), array([0.00529901]), array([0.03841918]), array([0.00740919]), array([0.02810743]), array([0.05951308]), array([0.00492153]), array([0.01512944]), array([0.04761865]), array([0.03209178]), array([0.04147698]), array([0.01585869]), array([0.022083]), array([0.01399531]), array([0.02628572]), array([0.02088751]), array([0.02148711]), array([0.01771972]), array([0.01918451]), array([0.03186237]), array([0.01698845]), array([0.05528811]), array([0.03003245]), array([0.0070114]), array([0.02127686]), array([0.01546358]), array([0.0200871]), array([0.00838613]), array([0.00860288]), array([0.0152052]), array([0.01904856]), array([0.02315401]), array([0.04046357]), array([0.00758771]), array([0.04636991]), array([0.01179368]), array([0.03486585]), array([0.00955912]), array([0.04120597]), array([0.00837856]), array([0.01532863]), array([0.008786]), array([0.06137773]), array([0.00859356]), array([0.00885866]), array([0.071348]), array([0.03252099]), array([0.02305385]), array([0.02115786]), array([0.00929505]), array([0.0237502]), array([0.0648204]), array([0.03394288]), array([0.00507728]), array([0.01125093]), array([0.01905618]), array([0.01417713]), array([0.03217926]), array([0.02049137]), array([0.00974402]), array([0.01611053]), array([0.01948388]), array([0.0078194]), array([0.09984615]), array([0.04535214]), array([0.01349045]), array([0.00541421]), array([0.02531986]), array([0.00571761]), array([0.02829156]), array([0.0190916]), array([0.00461157]), array([0.01972835]), array([0.0324644]), array([0.01237938]), array([0.02820452]), array([0.01734124]), array([0.02529774]), array([0.02893281]), array([0.03125662]), array([0.0329004]), array([0.02281007]), array([0.0051946]), array([0.02350694]), array([0.14596971]), array([0.0224274]), array([0.01839378]), array([0.03593789]), array([0.0367386]), array([0.00491918]), array([0.01321168]), array([0.0382384]), array([0.15847849]), array([0.0193512]), array([0.01411531]), array([0.08054429]), array([0.00863166]), array([0.03624848]), array([0.01197782]), array([0.01077587]), array([0.23290271]), array([0.07033296]), array([0.01083514]), array([0.01509989]), array([0.02902186]), array([0.01333328]), array([0.00831772]), array([0.00428497]), array([0.01486442]), array([0.01998012]), array([0.01068063]), array([0.00864662]), array([0.05813929]), array([0.02026556]), array([0.02537731]), array([0.00650476]), array([0.02149978]), array([0.10793449]), array([0.02377737]), array([0.01932822]), array([0.00410243]), array([0.00437483]), array([0.00495457]), array([0.01926419]), array([0.04947406]), array([0.01168238]), array([0.00808165]), array([0.05308526]), array([0.0423805]), array([0.02875214]), array([0.04544117]), array([0.02208784]), array([0.02003149]), array([0.01457511]), array([0.00444043]), array([0.01858865]), array([0.01966548]), array([0.0126303]), array([0.02221488]), array([0.03611736]), array([0.00646639]), array([0.01368315]), array([0.02854686]), array([0.01455093]), array([0.0151603]), array([0.04146418]), array([0.03951347]), array([0.01200928]), array([0.01008799]), array([0.03591521]), array([0.12327572]), array([0.01521831]), array([0.00922584]), array([0.02784996]), array([0.00687197]), array([0.00980795]), array([0.02330355]), array([0.01357748]), array([0.01532529]), array([0.01433044]), array([0.01346873]), array([0.01279363]), array([0.03246572]), array([0.02041738]), array([0.05817989]), array([0.01878144]), array([0.0151914]), array([0.03795443]), array([0.02020558]), array([0.02248636]), array([0.03368071]), array([0.01106779]), array([0.06176735]), array([0.04086101]), array([0.0725895]), array([0.08835277]), array([0.01332193]), array([0.04024181]), array([0.02846994]), array([0.06964482]), array([0.0168406]), array([0.03533024]), array([0.01376394]), array([0.01799506]), array([0.00545914]), array([0.05206199]), array([0.02852744]), array([0.03824178]), array([0.02676223]), array([0.02000494]), array([0.00263491]), array([0.03497507]), array([0.0096686]), array([0.00254466]), array([0.02033057]), array([0.03828478]), array([0.0256437]), array([0.00275347]), array([0.0081377]), array([0.03738473]), array([0.16635778]), array([0.02235038]), array([0.01637171]), array([0.00726464]), array([0.02341016]), array([0.02480354]), array([1.]), array([0.06260697]), array([0.04123831]), array([0.01071422]), array([0.00408774]), array([0.10427924]), array([0.00724706]), array([0.0442597]), array([0.02364178]), array([0.01656059]), array([0.0071969]), array([0.01461145]), array([0.00606443]), array([0.00463764]), array([0.01601864]), array([0.02147949]), array([0.02868174]), array([0.01182239]), array([0.26091708]), array([0.01015142]), array([0.00643935]), array([0.0128318]), array([0.051607]), array([0.01177431]), array([0.01517811]), array([0.01403755]), array([0.04021021]), array([0.01069184]), array([0.0160309]), array([0.10010001]), array([0.01189992]), array([0.00474707]), array([0.02418619]), array([0.00918679]), array([0.02036567]), array([0.0095006]), array([0.00388653]), array([0.01271631]), array([0.01696782]), array([0.03098653]), array([0.0360786]), array([0.00418167]), array([0.00375906]), array([0.00098265]), array([0.01808412]), array([0.00559963]), array([0.00359754]), array([0.01904915]), array([0.0257906]), array([0.00769465]), array([0.0130108]), array([0.00513131]), array([0.01584619]), array([0.02382402]), array([0.02242176]), array([0.03319928]), array([0.15989674]), array([0.00231383]), array([0.04114041]), array([0.00332563]), array([0.0141537]), array([0.02472934]), array([0.02963225]), array([0.0291668]), array([0.09674122]), array([0.0190648]), array([0.01014134]), array([0.02140701]), array([0.01573346]), array([0.0282256]), array([0.20943411]), array([0.00739079]), array([0.03114156]), array([0.0078791]), array([0.01043703]), array([0.01700816]), array([0.01975658]), array([0.04278102]), array([0.0233821]), array([0.01313915]), array([0.01875768]), array([0.01283528]), array([0.04218855]), array([0.04168486]), array([0.0245463]), array([0.00922952]), array([0.00177171]), array([0.03551488]), array([0.01327962]), array([0.12576307]), array([0.0150718]), array([0.04010312]), array([0.02261353]), array([0.00378008]), array([0.01902187]), array([0.05956719]), array([0.01174732]), array([0.03665989]), array([0.01554169]), array([0.00474851]), array([0.00648653]), array([0.02828063]), array([0.02039517]), array([0.08852593]), array([0.05000679]), array([0.00965632]), array([0.01481162]), array([0.03198121]), array([0.02704861]), array([0.00501712]), array([0.01397776]), array([0.02257277]), array([0.01312308]), array([0.04438943]), array([0.01352059]), array([0.02277091]), array([0.01210199]), array([0.01817542]), array([0.04579616]), array([0.02876973]), array([0.03150821]), array([0.00781454]), array([0.07258433]), array([0.10712961]), array([0.03073697]), array([0.0141343]), array([0.01843674]), array([0.05649165]), array([0.0140077]), array([0.00578184]), array([0.0219155]), array([0.01554611]), array([0.01023771]), array([0.01776197]), array([0.07138156]), array([0.01018751]), array([0.02818198]), array([0.01421915]), array([0.01509212]), array([0.02020332]), array([0.09178681]), array([0.20038649]), array([0.03755251]), array([0.00562035]), array([0.0271056]), array([0.09090131]), array([0.01727763]), array([0.16606408]), array([0.00405888]), array([0.47723725]), array([0.03438873]), array([0.00485565]), array([0.00296942]), array([0.01710307]), array([0.02146861]), array([0.01762996]), array([0.01118851]), array([0.02090075]), array([0.00651918]), array([0.01770799]), array([0.0397412]), array([0.02001438]), array([0.00374902]), array([0.09516828]), array([0.05938303]), array([0.02302648]), array([0.00772923]), array([0.01202902]), array([0.02068222]), array([0.01105095]), array([0.03079318]), array([0.01558778]), array([0.00387188]), array([0.05435903]), array([0.03048928]), array([0.01597966]), array([0.0105541]), array([0.01143419]), array([0.01208115]), array([0.01909186]), array([0.03449762]), array([0.00727132]), array([0.0301713]), array([0.01440632]), array([0.15432857]), array([0.03473034]), array([0.02071144]), array([0.00668219]), array([0.12416362]), array([0.02464964]), array([0.07053709]), array([0.01282512]), array([0.02172642]), array([0.0237483]), array([0.01140098]), array([0.00859215]), array([0.02194112]), array([0.06077424]), array([0.02988516]), array([0.03126288]), array([0.06215607]), array([0.00479356]), array([0.05052471]), array([0.01425617]), array([0.03404322]), array([0.01361001]), array([0.02350877]), array([0.01219023]), array([0.04521816]), array([0.01886123]), array([0.0213232]), array([0.02501828]), array([0.02003266]), array([0.02341681]), array([0.00441955]), array([0.00517355]), array([0.05413479]), array([0.02059746]), array([0.01481944]), array([0.06193866]), array([0.02915239]), array([0.05784992]), array([0.01151087]), array([0.02581402]), array([0.01596191]), array([0.02937756]), array([0.01407361]), array([0.01338477]), array([0.01224708]), array([0.0128883]), array([0.01105193]), array([0.00175161]), array([0.02986819]), array([0.03190807]), array([0.01512746]), array([0.01676071]), array([0.01486218]), array([0.28675907]), array([0.0367951]), array([0.02082787]), array([0.01904562]), array([0.04858265]), array([0.00610429]), array([0.02589621]), array([0.01365246]), array([0.04037652]), array([0.00372936]), array([0.00532692]), array([0.01127956]), array([0.11822344]), array([0.0347752]), array([0.04804008]), array([0.01079354]), array([0.06400349]), array([0.02578295]), array([0.01335531]), array([0.03112982]), array([0.01156034]), array([0.01029431]), array([0.01020836]), array([0.014554]), array([0.01568623]), array([0.02871089]), array([0.07030896]), array([0.02284281]), array([0.05129149]), array([0.02952676]), array([0.10338229]), array([0.03747039]), array([0.05319476]), array([0.1526123]), array([0.05530486]), array([0.07765047]), array([0.01398218]), array([0.0178357]), array([0.022245]), array([0.0063467]), array([0.05149698]), array([0.01108712]), array([0.02368303]), array([0.00418512]), array([0.00403197]), array([0.00936982]), array([0.03332946]), array([0.00362298]), array([0.01596965]), array([0.00943029]), array([0.01288242]), array([0.01494593]), array([0.03033592]), array([0.03949927]), array([0.02529287]), array([0.0316524]), array([0.02916418]), array([0.03665989]), array([0.02046208]), array([0.01370481]), array([0.0148931]), array([0.05526494]), array([0.01057483]), array([0.03033294]), array([0.01580216]), array([0.01219424]), array([0.01326502]), array([0.05012523]), array([0.01755889]), array([0.02380413]), array([0.08608705]), array([0.12534306]), array([0.00508742]), array([0.0208342]), array([0.00251877]), array([0.03683574]), array([0.01463747]), array([0.02362341]), array([0.00401504]), array([0.00124992]), array([0.02884375]), array([0.02773313]), array([0.00268279]), array([0.00509292]), array([0.10496309]), array([0.05746689]), array([0.01600268]), array([0.05716916]), array([0.0384454]), array([0.00143512]), array([0.00476689]), array([0.04779367]), array([0.11091771]), array([0.04588795]), array([0.00572156]), array([0.01596974]), array([0.01181558]), array([0.03695464]), array([0.1756631]), array([0.03148145]), array([0.01513938]), array([0.00221464]), array([0.00464007]), array([0.01312041]), array([0.02162448]), array([0.01343527]), array([0.02446971]), array([0.02447802]), array([0.05866569]), array([0.02977603]), array([0.00453514]), array([0.02076093]), array([0.01995637]), array([0.13677219]), array([0.03078737]), array([0.02393459]), array([0.01133197]), array([0.01602323]), array([0.02572259]), array([0.05984554]), array([0.00850129]), array([0.00708792]), array([0.08202295]), array([0.18349921]), array([0.01047841]), array([0.04133233]), array([0.01986111]), array([0.01078368]), array([0.05294279]), array([0.07008271]), array([0.01350558]), array([0.0169372]), array([0.03594358]), array([0.03921214]), array([0.03717683]), array([0.06232404]), array([0.01658299]), array([0.01330487]), array([0.00602066]), array([0.03524069]), array([0.01453711]), array([0.02494945]), array([0.01353689]), array([0.00664295]), array([0.0116964]), array([0.01279535]), array([0.02209433]), array([0.0357216]), array([0.03783759]), array([0.02616914]), array([0.01575514]), array([0.03142884]), array([0.03996604]), array([0.06518931]), array([0.02096779]), array([0.06423024]), array([0.02109065]), array([0.0317804]), array([0.0398021]), array([0.04436289]), array([0.07245076]), array([0.02732201]), array([0.00507619]), array([0.00967085]), array([0.04283089]), array([0.0093716]), array([0.03628166]), array([0.01707847]), array([0.01934882]), array([0.02015052]), array([0.00395144]), array([0.02627088]), array([0.21009745]), array([0.30587734]), array([0.02398498]), array([0.08318455]), array([0.02079915]), array([0.00900409]), array([0.01429246]), array([0.02084634]), array([0.0391328]), array([0.05154479]), array([0.04238313]), array([0.01062146]), array([0.00753948]), array([0.02191778]), array([0.03298099]), array([0.07536676]), array([0.00396636]), array([0.01248689]), array([0.0145533]), array([0.01852708]), array([0.01576304]), array([0.09101758]), array([0.01913259]), array([0.03140978]), array([0.11195419]), array([0.01118322]), array([0.01813102]), array([0.02008529]), array([0.00994423]), array([0.01972389]), array([0.01518513]), array([0.01488957]), array([0.00874291]), array([0.01608455]), array([0.04292309]), array([0.04815517]), array([0.07049075]), array([0.01181507]), array([0.01047089]), array([0.02074194]), array([0.00519254]), array([0.02109102]), array([0.00570223]), array([0.01939245]), array([0.02242154]), array([0.00789705]), array([0.08493374]), array([0.57738666]), array([0.04384646]), array([0.02095977]), array([0.02431068]), array([0.00580757]), array([0.01751383]), array([0.02635407]), array([0.03035399]), array([0.01839948]), array([0.04474684]), array([0.01304533]), array([0.02459675]), array([0.06497783]), array([0.05832617]), array([0.00500802]), array([0.11383525]), array([0.0349495]), array([0.02269489]), array([0.01840124]), array([0.03445267]), array([0.08336076]), array([0.0311745]), array([0.05910701]), array([0.05712916]), array([0.00437733]), array([0.00681108]), array([0.01330164]), array([0.0491107]), array([0.00904331]), array([0.03137316]), array([0.01699152]), array([0.04172677]), array([0.0585431]), array([0.0179053]), array([0.0058562]), array([0.02293234]), array([0.01706424]), array([0.01308235]), array([0.02402548]), array([0.01005911]), array([0.01405201]), array([0.01188989]), array([0.04830201]), array([0.01331548]), array([0.03779311]), array([0.03264833]), array([0.02948552]), array([0.01066245]), array([0.02264857]), array([0.03285556]), array([0.00481504]), array([0.01495687]), array([0.03712808]), array([0.02414664]), array([0.01027398]), array([0.04491098]), array([0.01873807]), array([0.02333857]), array([0.0062695]), array([0.01330492]), array([0.01689321]), array([0.00311728]), array([0.02175948]), array([0.10826588]), array([0.01927203]), array([0.03625126]), array([0.01622963]), array([0.01646223]), array([0.03250688]), array([0.02174536]), array([0.01103773]), array([0.02661399]), array([0.09329161]), array([0.0139309]), array([0.01417386]), array([0.03409042]), array([0.01820001]), array([0.01145854]), array([0.33913309]), array([0.16831678]), array([0.04145384]), array([0.02943523]), array([0.01557453]), array([0.01090224]), array([0.00835645]), array([0.02575736]), array([0.06373422]), array([0.01838123]), array([0.01248109]), array([0.03325478]), array([0.02420436]), array([0.04923343]), array([0.01356644]), array([0.00816413]), array([0.0263999]), array([0.0209186]), array([0.00845017]), array([0.01180496]), array([0.01009863]), array([0.01898451]), array([0.03253985]), array([0.02006004]), array([0.01743637]), array([0.01499241]), array([0.02115817]), array([0.0308672]), array([0.00752343]), array([0.0172494]), array([0.05449798]), array([0.00950283]), array([0.01674492]), array([0.01596961]), array([0.02433448]), array([0.01116916]), array([0.01254508]), array([0.07080086]), array([0.0047424]), array([0.02041718]), array([0.00818978]), array([0.03576477]), array([0.01298732]), array([0.01307912]), array([0.00931881]), array([0.01090626]), array([0.01486725]), array([0.01481326]), array([0.05197777]), array([0.03969774]), array([0.01390216]), array([0.01130651]), array([0.02597558]), array([0.0444919]), array([0.00213897]), array([0.00366181]), array([0.01536231]), array([0.01278602]), array([0.01843754]), array([0.11678691]), array([0.00785317]), array([0.03523821]), array([0.00395374]), array([0.03201831]), array([0.00872484]), array([0.00714341]), array([0.0169965]), array([0.01580706]), array([0.0340039]), array([0.01858449]), array([0.01531811]), array([0.01227388]), array([0.00546845]), array([0.01881915]), array([0.03954026]), array([0.01202737]), array([0.02648907]), array([0.00373343]), array([0.01176868]), array([0.00853607]), array([0.00941795]), array([0.02193201]), array([0.02514242]), array([0.02927229]), array([0.00944248]), array([0.0072362])]\n"
     ]
    }
   ],
   "source": [
    "arr=[]\n",
    "for i in range(len(colt1)):\n",
    "    angle=cosine_similarity(colt1[i].reshape(1,-1),colt2[i].reshape(1,-1))\n",
    "    arr.append(angle[0])\n",
    "print(arr)\n",
    "        "
   ]
  },
  {
   "cell_type": "code",
   "execution_count": null,
   "metadata": {},
   "outputs": [],
   "source": []
  },
  {
   "cell_type": "code",
   "execution_count": 32,
   "metadata": {},
   "outputs": [],
   "source": [
    "similarity_score=pd.DataFrame(arr)"
   ]
  },
  {
   "cell_type": "code",
   "execution_count": 33,
   "metadata": {},
   "outputs": [
    {
     "data": {
      "text/html": [
       "<div>\n",
       "<style scoped>\n",
       "    .dataframe tbody tr th:only-of-type {\n",
       "        vertical-align: middle;\n",
       "    }\n",
       "\n",
       "    .dataframe tbody tr th {\n",
       "        vertical-align: top;\n",
       "    }\n",
       "\n",
       "    .dataframe thead th {\n",
       "        text-align: right;\n",
       "    }\n",
       "</style>\n",
       "<table border=\"1\" class=\"dataframe\">\n",
       "  <thead>\n",
       "    <tr style=\"text-align: right;\">\n",
       "      <th></th>\n",
       "      <th>0</th>\n",
       "    </tr>\n",
       "  </thead>\n",
       "  <tbody>\n",
       "    <tr>\n",
       "      <td>0</td>\n",
       "      <td>0.017539</td>\n",
       "    </tr>\n",
       "    <tr>\n",
       "      <td>1</td>\n",
       "      <td>0.026317</td>\n",
       "    </tr>\n",
       "    <tr>\n",
       "      <td>2</td>\n",
       "      <td>0.031954</td>\n",
       "    </tr>\n",
       "    <tr>\n",
       "      <td>3</td>\n",
       "      <td>0.022061</td>\n",
       "    </tr>\n",
       "    <tr>\n",
       "      <td>4</td>\n",
       "      <td>0.053479</td>\n",
       "    </tr>\n",
       "    <tr>\n",
       "      <td>...</td>\n",
       "      <td>...</td>\n",
       "    </tr>\n",
       "    <tr>\n",
       "      <td>4018</td>\n",
       "      <td>0.021932</td>\n",
       "    </tr>\n",
       "    <tr>\n",
       "      <td>4019</td>\n",
       "      <td>0.025142</td>\n",
       "    </tr>\n",
       "    <tr>\n",
       "      <td>4020</td>\n",
       "      <td>0.029272</td>\n",
       "    </tr>\n",
       "    <tr>\n",
       "      <td>4021</td>\n",
       "      <td>0.009442</td>\n",
       "    </tr>\n",
       "    <tr>\n",
       "      <td>4022</td>\n",
       "      <td>0.007236</td>\n",
       "    </tr>\n",
       "  </tbody>\n",
       "</table>\n",
       "<p>4023 rows × 1 columns</p>\n",
       "</div>"
      ],
      "text/plain": [
       "             0\n",
       "0     0.017539\n",
       "1     0.026317\n",
       "2     0.031954\n",
       "3     0.022061\n",
       "4     0.053479\n",
       "...        ...\n",
       "4018  0.021932\n",
       "4019  0.025142\n",
       "4020  0.029272\n",
       "4021  0.009442\n",
       "4022  0.007236\n",
       "\n",
       "[4023 rows x 1 columns]"
      ]
     },
     "execution_count": 33,
     "metadata": {},
     "output_type": "execute_result"
    }
   ],
   "source": [
    "similarity_score"
   ]
  },
  {
   "cell_type": "code",
   "execution_count": 34,
   "metadata": {},
   "outputs": [],
   "source": [
    "data[\"similarity_score\"]=similarity_score"
   ]
  },
  {
   "cell_type": "code",
   "execution_count": 35,
   "metadata": {},
   "outputs": [
    {
     "data": {
      "text/html": [
       "<div>\n",
       "<style scoped>\n",
       "    .dataframe tbody tr th:only-of-type {\n",
       "        vertical-align: middle;\n",
       "    }\n",
       "\n",
       "    .dataframe tbody tr th {\n",
       "        vertical-align: top;\n",
       "    }\n",
       "\n",
       "    .dataframe thead th {\n",
       "        text-align: right;\n",
       "    }\n",
       "</style>\n",
       "<table border=\"1\" class=\"dataframe\">\n",
       "  <thead>\n",
       "    <tr style=\"text-align: right;\">\n",
       "      <th></th>\n",
       "      <th>Unique_ID</th>\n",
       "      <th>text1</th>\n",
       "      <th>text2</th>\n",
       "      <th>summary</th>\n",
       "      <th>similarity_score</th>\n",
       "    </tr>\n",
       "  </thead>\n",
       "  <tbody>\n",
       "    <tr>\n",
       "      <td>0</td>\n",
       "      <td>0</td>\n",
       "      <td>savvy searchers fail spot ads internet search ...</td>\n",
       "      <td>newcastle 2 1 bolton kieron dyer smashed home ...</td>\n",
       "      <td>savvy searchers fail spot ads internet search ...</td>\n",
       "      <td>0.017539</td>\n",
       "    </tr>\n",
       "    <tr>\n",
       "      <td>1</td>\n",
       "      <td>1</td>\n",
       "      <td>millions miss net 2025 40 uk population still ...</td>\n",
       "      <td>nasdaq planning 100m share sale owner technolo...</td>\n",
       "      <td>millions miss net 2025 40 uk population still ...</td>\n",
       "      <td>0.026317</td>\n",
       "    </tr>\n",
       "    <tr>\n",
       "      <td>2</td>\n",
       "      <td>2</td>\n",
       "      <td>young debut cut short ginepri fifteen year old...</td>\n",
       "      <td>ruddock backs yapp credentials wales coach mik...</td>\n",
       "      <td>young debut cut short ginepri fifteen year old...</td>\n",
       "      <td>0.031954</td>\n",
       "    </tr>\n",
       "    <tr>\n",
       "      <td>3</td>\n",
       "      <td>3</td>\n",
       "      <td>diageo buy us wine firm diageo world biggest s...</td>\n",
       "      <td>mci shares climb takeover bid shares us phone ...</td>\n",
       "      <td>diageo buy us wine firm diageo world biggest s...</td>\n",
       "      <td>0.022061</td>\n",
       "    </tr>\n",
       "    <tr>\n",
       "      <td>4</td>\n",
       "      <td>4</td>\n",
       "      <td>careful code new european directive could put ...</td>\n",
       "      <td>media gadgets get moving pocket sized devices ...</td>\n",
       "      <td>careful code new european directive could put ...</td>\n",
       "      <td>0.053479</td>\n",
       "    </tr>\n",
       "    <tr>\n",
       "      <td>...</td>\n",
       "      <td>...</td>\n",
       "      <td>...</td>\n",
       "      <td>...</td>\n",
       "      <td>...</td>\n",
       "      <td>...</td>\n",
       "    </tr>\n",
       "    <tr>\n",
       "      <td>4018</td>\n",
       "      <td>4018</td>\n",
       "      <td>labour plans maternity pay rise maternity pay ...</td>\n",
       "      <td>seasonal lift house market swathe figures prov...</td>\n",
       "      <td>labour plans maternity pay rise maternity pay ...</td>\n",
       "      <td>0.021932</td>\n",
       "    </tr>\n",
       "    <tr>\n",
       "      <td>4019</td>\n",
       "      <td>4019</td>\n",
       "      <td>high fuel costs hit us airlines two largest ai...</td>\n",
       "      <td>new media battle bafta awards bbc leads nomina...</td>\n",
       "      <td>high fuel costs hit us airlines two largest ai...</td>\n",
       "      <td>0.025142</td>\n",
       "    </tr>\n",
       "    <tr>\n",
       "      <td>4020</td>\n",
       "      <td>4020</td>\n",
       "      <td>britons growing digitally obese gadget lovers ...</td>\n",
       "      <td>film star fox behind theatre bid leading actor...</td>\n",
       "      <td>britons growing digitally obese gadget lovers ...</td>\n",
       "      <td>0.029272</td>\n",
       "    </tr>\n",
       "    <tr>\n",
       "      <td>4021</td>\n",
       "      <td>4021</td>\n",
       "      <td>holmes hit hamstring injury kelly holmes force...</td>\n",
       "      <td>tsunami hit sri lanka banks sri lanka banks fa...</td>\n",
       "      <td>holmes hit hamstring injury kelly holmes force...</td>\n",
       "      <td>0.009442</td>\n",
       "    </tr>\n",
       "    <tr>\n",
       "      <td>4022</td>\n",
       "      <td>4022</td>\n",
       "      <td>nuclear dumpsite plan attacked plans allow for...</td>\n",
       "      <td>x factor show gets second series tv talent sho...</td>\n",
       "      <td>nuclear dumpsite plan attacked plans allow for...</td>\n",
       "      <td>0.007236</td>\n",
       "    </tr>\n",
       "  </tbody>\n",
       "</table>\n",
       "<p>4023 rows × 5 columns</p>\n",
       "</div>"
      ],
      "text/plain": [
       "      Unique_ID                                              text1  \\\n",
       "0             0  savvy searchers fail spot ads internet search ...   \n",
       "1             1  millions miss net 2025 40 uk population still ...   \n",
       "2             2  young debut cut short ginepri fifteen year old...   \n",
       "3             3  diageo buy us wine firm diageo world biggest s...   \n",
       "4             4  careful code new european directive could put ...   \n",
       "...         ...                                                ...   \n",
       "4018       4018  labour plans maternity pay rise maternity pay ...   \n",
       "4019       4019  high fuel costs hit us airlines two largest ai...   \n",
       "4020       4020  britons growing digitally obese gadget lovers ...   \n",
       "4021       4021  holmes hit hamstring injury kelly holmes force...   \n",
       "4022       4022  nuclear dumpsite plan attacked plans allow for...   \n",
       "\n",
       "                                                  text2  \\\n",
       "0     newcastle 2 1 bolton kieron dyer smashed home ...   \n",
       "1     nasdaq planning 100m share sale owner technolo...   \n",
       "2     ruddock backs yapp credentials wales coach mik...   \n",
       "3     mci shares climb takeover bid shares us phone ...   \n",
       "4     media gadgets get moving pocket sized devices ...   \n",
       "...                                                 ...   \n",
       "4018  seasonal lift house market swathe figures prov...   \n",
       "4019  new media battle bafta awards bbc leads nomina...   \n",
       "4020  film star fox behind theatre bid leading actor...   \n",
       "4021  tsunami hit sri lanka banks sri lanka banks fa...   \n",
       "4022  x factor show gets second series tv talent sho...   \n",
       "\n",
       "                                                summary  similarity_score  \n",
       "0     savvy searchers fail spot ads internet search ...          0.017539  \n",
       "1     millions miss net 2025 40 uk population still ...          0.026317  \n",
       "2     young debut cut short ginepri fifteen year old...          0.031954  \n",
       "3     diageo buy us wine firm diageo world biggest s...          0.022061  \n",
       "4     careful code new european directive could put ...          0.053479  \n",
       "...                                                 ...               ...  \n",
       "4018  labour plans maternity pay rise maternity pay ...          0.021932  \n",
       "4019  high fuel costs hit us airlines two largest ai...          0.025142  \n",
       "4020  britons growing digitally obese gadget lovers ...          0.029272  \n",
       "4021  holmes hit hamstring injury kelly holmes force...          0.009442  \n",
       "4022  nuclear dumpsite plan attacked plans allow for...          0.007236  \n",
       "\n",
       "[4023 rows x 5 columns]"
      ]
     },
     "execution_count": 35,
     "metadata": {},
     "output_type": "execute_result"
    }
   ],
   "source": [
    "data"
   ]
  },
  {
   "cell_type": "code",
   "execution_count": 36,
   "metadata": {},
   "outputs": [],
   "source": [
    "data.drop(\"summary\",axis=1,inplace=True)"
   ]
  },
  {
   "cell_type": "code",
   "execution_count": 37,
   "metadata": {},
   "outputs": [],
   "source": [
    "data.drop([\"text1\",\"text2\"],axis=1,inplace=True)"
   ]
  },
  {
   "cell_type": "code",
   "execution_count": 38,
   "metadata": {},
   "outputs": [
    {
     "data": {
      "text/html": [
       "<div>\n",
       "<style scoped>\n",
       "    .dataframe tbody tr th:only-of-type {\n",
       "        vertical-align: middle;\n",
       "    }\n",
       "\n",
       "    .dataframe tbody tr th {\n",
       "        vertical-align: top;\n",
       "    }\n",
       "\n",
       "    .dataframe thead th {\n",
       "        text-align: right;\n",
       "    }\n",
       "</style>\n",
       "<table border=\"1\" class=\"dataframe\">\n",
       "  <thead>\n",
       "    <tr style=\"text-align: right;\">\n",
       "      <th></th>\n",
       "      <th>Unique_ID</th>\n",
       "      <th>similarity_score</th>\n",
       "    </tr>\n",
       "  </thead>\n",
       "  <tbody>\n",
       "    <tr>\n",
       "      <td>0</td>\n",
       "      <td>0</td>\n",
       "      <td>0.017539</td>\n",
       "    </tr>\n",
       "    <tr>\n",
       "      <td>1</td>\n",
       "      <td>1</td>\n",
       "      <td>0.026317</td>\n",
       "    </tr>\n",
       "    <tr>\n",
       "      <td>2</td>\n",
       "      <td>2</td>\n",
       "      <td>0.031954</td>\n",
       "    </tr>\n",
       "    <tr>\n",
       "      <td>3</td>\n",
       "      <td>3</td>\n",
       "      <td>0.022061</td>\n",
       "    </tr>\n",
       "    <tr>\n",
       "      <td>4</td>\n",
       "      <td>4</td>\n",
       "      <td>0.053479</td>\n",
       "    </tr>\n",
       "    <tr>\n",
       "      <td>...</td>\n",
       "      <td>...</td>\n",
       "      <td>...</td>\n",
       "    </tr>\n",
       "    <tr>\n",
       "      <td>4018</td>\n",
       "      <td>4018</td>\n",
       "      <td>0.021932</td>\n",
       "    </tr>\n",
       "    <tr>\n",
       "      <td>4019</td>\n",
       "      <td>4019</td>\n",
       "      <td>0.025142</td>\n",
       "    </tr>\n",
       "    <tr>\n",
       "      <td>4020</td>\n",
       "      <td>4020</td>\n",
       "      <td>0.029272</td>\n",
       "    </tr>\n",
       "    <tr>\n",
       "      <td>4021</td>\n",
       "      <td>4021</td>\n",
       "      <td>0.009442</td>\n",
       "    </tr>\n",
       "    <tr>\n",
       "      <td>4022</td>\n",
       "      <td>4022</td>\n",
       "      <td>0.007236</td>\n",
       "    </tr>\n",
       "  </tbody>\n",
       "</table>\n",
       "<p>4023 rows × 2 columns</p>\n",
       "</div>"
      ],
      "text/plain": [
       "      Unique_ID  similarity_score\n",
       "0             0          0.017539\n",
       "1             1          0.026317\n",
       "2             2          0.031954\n",
       "3             3          0.022061\n",
       "4             4          0.053479\n",
       "...         ...               ...\n",
       "4018       4018          0.021932\n",
       "4019       4019          0.025142\n",
       "4020       4020          0.029272\n",
       "4021       4021          0.009442\n",
       "4022       4022          0.007236\n",
       "\n",
       "[4023 rows x 2 columns]"
      ]
     },
     "execution_count": 38,
     "metadata": {},
     "output_type": "execute_result"
    }
   ],
   "source": [
    "data"
   ]
  },
  {
   "cell_type": "code",
   "execution_count": null,
   "metadata": {},
   "outputs": [],
   "source": []
  },
  {
   "cell_type": "code",
   "execution_count": 39,
   "metadata": {},
   "outputs": [],
   "source": [
    "data.to_csv(\"Text_Similarityscore.csv\")"
   ]
  },
  {
   "cell_type": "code",
   "execution_count": null,
   "metadata": {},
   "outputs": [],
   "source": []
  },
  {
   "cell_type": "code",
   "execution_count": null,
   "metadata": {},
   "outputs": [],
   "source": []
  },
  {
   "cell_type": "code",
   "execution_count": null,
   "metadata": {},
   "outputs": [],
   "source": []
  }
 ],
 "metadata": {
  "kernelspec": {
   "display_name": "Python 3",
   "language": "python",
   "name": "python3"
  },
  "language_info": {
   "codemirror_mode": {
    "name": "ipython",
    "version": 3
   },
   "file_extension": ".py",
   "mimetype": "text/x-python",
   "name": "python",
   "nbconvert_exporter": "python",
   "pygments_lexer": "ipython3",
   "version": "3.7.4"
  }
 },
 "nbformat": 4,
 "nbformat_minor": 2
}
