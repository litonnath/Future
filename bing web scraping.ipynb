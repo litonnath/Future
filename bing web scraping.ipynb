{
 "cells": [
  {
   "cell_type": "code",
   "execution_count": 10,
   "metadata": {},
   "outputs": [],
   "source": [
    "from bs4 import BeautifulSoup as soup"
   ]
  },
  {
   "cell_type": "code",
   "execution_count": 13,
   "metadata": {},
   "outputs": [
    {
     "name": "stdout",
     "output_type": "stream",
     "text": [
      "enter what you want to searchliton\n"
     ]
    }
   ],
   "source": [
    "search=input('enter what you want to search')"
   ]
  },
  {
   "cell_type": "code",
   "execution_count": 14,
   "metadata": {},
   "outputs": [],
   "source": [
    "url=[\"https://www.bing.com/search?q=\"+str(search)+\"&qs=LS&pq=\"+str(search)+\"&sc=8-23&cvid=281E21FCC3804814A50C7DC2625597CF&sp=1&first=1&FORM=PERE\"]"
   ]
  },
  {
   "cell_type": "code",
   "execution_count": 15,
   "metadata": {},
   "outputs": [],
   "source": [
    "url6=\"https://www.bing.com/search?q=\"+str(search)+\"&qs=LS&pq=\"+str(search)+\"&sc=8-23&cvid=281E21FCC3804814A50C7DC2625597CF&sp=1&first=1&FORM=PERE\""
   ]
  },
  {
   "cell_type": "code",
   "execution_count": 16,
   "metadata": {},
   "outputs": [],
   "source": [
    "for i in range(0,210,10):\n",
    "    \n",
    "    \n",
    "    \n",
    "    url.append(url6.replace(\"first=1\",\"first=\"+str(int(7+i))))"
   ]
  },
  {
   "cell_type": "code",
   "execution_count": null,
   "metadata": {},
   "outputs": [],
   "source": []
  },
  {
   "cell_type": "code",
   "execution_count": 17,
   "metadata": {},
   "outputs": [
    {
     "data": {
      "text/plain": [
       "['https://www.bing.com/search?q=liton&qs=LS&pq=liton&sc=8-23&cvid=281E21FCC3804814A50C7DC2625597CF&sp=1&first=1&FORM=PERE',\n",
       " 'https://www.bing.com/search?q=liton&qs=LS&pq=liton&sc=8-23&cvid=281E21FCC3804814A50C7DC2625597CF&sp=1&first=7&FORM=PERE',\n",
       " 'https://www.bing.com/search?q=liton&qs=LS&pq=liton&sc=8-23&cvid=281E21FCC3804814A50C7DC2625597CF&sp=1&first=17&FORM=PERE',\n",
       " 'https://www.bing.com/search?q=liton&qs=LS&pq=liton&sc=8-23&cvid=281E21FCC3804814A50C7DC2625597CF&sp=1&first=27&FORM=PERE',\n",
       " 'https://www.bing.com/search?q=liton&qs=LS&pq=liton&sc=8-23&cvid=281E21FCC3804814A50C7DC2625597CF&sp=1&first=37&FORM=PERE',\n",
       " 'https://www.bing.com/search?q=liton&qs=LS&pq=liton&sc=8-23&cvid=281E21FCC3804814A50C7DC2625597CF&sp=1&first=47&FORM=PERE',\n",
       " 'https://www.bing.com/search?q=liton&qs=LS&pq=liton&sc=8-23&cvid=281E21FCC3804814A50C7DC2625597CF&sp=1&first=57&FORM=PERE',\n",
       " 'https://www.bing.com/search?q=liton&qs=LS&pq=liton&sc=8-23&cvid=281E21FCC3804814A50C7DC2625597CF&sp=1&first=67&FORM=PERE',\n",
       " 'https://www.bing.com/search?q=liton&qs=LS&pq=liton&sc=8-23&cvid=281E21FCC3804814A50C7DC2625597CF&sp=1&first=77&FORM=PERE',\n",
       " 'https://www.bing.com/search?q=liton&qs=LS&pq=liton&sc=8-23&cvid=281E21FCC3804814A50C7DC2625597CF&sp=1&first=87&FORM=PERE',\n",
       " 'https://www.bing.com/search?q=liton&qs=LS&pq=liton&sc=8-23&cvid=281E21FCC3804814A50C7DC2625597CF&sp=1&first=97&FORM=PERE',\n",
       " 'https://www.bing.com/search?q=liton&qs=LS&pq=liton&sc=8-23&cvid=281E21FCC3804814A50C7DC2625597CF&sp=1&first=107&FORM=PERE',\n",
       " 'https://www.bing.com/search?q=liton&qs=LS&pq=liton&sc=8-23&cvid=281E21FCC3804814A50C7DC2625597CF&sp=1&first=117&FORM=PERE',\n",
       " 'https://www.bing.com/search?q=liton&qs=LS&pq=liton&sc=8-23&cvid=281E21FCC3804814A50C7DC2625597CF&sp=1&first=127&FORM=PERE',\n",
       " 'https://www.bing.com/search?q=liton&qs=LS&pq=liton&sc=8-23&cvid=281E21FCC3804814A50C7DC2625597CF&sp=1&first=137&FORM=PERE',\n",
       " 'https://www.bing.com/search?q=liton&qs=LS&pq=liton&sc=8-23&cvid=281E21FCC3804814A50C7DC2625597CF&sp=1&first=147&FORM=PERE',\n",
       " 'https://www.bing.com/search?q=liton&qs=LS&pq=liton&sc=8-23&cvid=281E21FCC3804814A50C7DC2625597CF&sp=1&first=157&FORM=PERE',\n",
       " 'https://www.bing.com/search?q=liton&qs=LS&pq=liton&sc=8-23&cvid=281E21FCC3804814A50C7DC2625597CF&sp=1&first=167&FORM=PERE',\n",
       " 'https://www.bing.com/search?q=liton&qs=LS&pq=liton&sc=8-23&cvid=281E21FCC3804814A50C7DC2625597CF&sp=1&first=177&FORM=PERE',\n",
       " 'https://www.bing.com/search?q=liton&qs=LS&pq=liton&sc=8-23&cvid=281E21FCC3804814A50C7DC2625597CF&sp=1&first=187&FORM=PERE',\n",
       " 'https://www.bing.com/search?q=liton&qs=LS&pq=liton&sc=8-23&cvid=281E21FCC3804814A50C7DC2625597CF&sp=1&first=197&FORM=PERE',\n",
       " 'https://www.bing.com/search?q=liton&qs=LS&pq=liton&sc=8-23&cvid=281E21FCC3804814A50C7DC2625597CF&sp=1&first=207&FORM=PERE']"
      ]
     },
     "execution_count": 17,
     "metadata": {},
     "output_type": "execute_result"
    }
   ],
   "source": [
    "url"
   ]
  },
  {
   "cell_type": "code",
   "execution_count": 18,
   "metadata": {},
   "outputs": [],
   "source": [
    "from urllib.request import urlopen as ureq"
   ]
  },
  {
   "cell_type": "code",
   "execution_count": 20,
   "metadata": {},
   "outputs": [
    {
     "name": "stdout",
     "output_type": "stream",
     "text": [
      "https://www.firstpost.com/firstcricket/player-profile/liton-das-63206\n",
      "https://aajtak.intoday.in/live-score/cricket/liton-das-profile-63206\n",
      "https://sports.ndtv.com/cricket/players/63643-litton-kumar-das-playerprofile/stats\n",
      "https://www.hindustantimes.com/topic/liton-das\n",
      "https://en.m.wikipedia.org/wiki/Liton_Das\n",
      "https://biographybd.com/liton-das\n",
      "https://nameberry.com/babyname/Liton\n",
      "https://www.youtube.com/watch?v=TVDL_nt3AEY\n",
      "https://www.youtube.com/watch?v=JCykJ-gT46E\n",
      "litonpublication.com\n",
      "https://www.bcci.tv/videos/136467/ind-vs-ban-2019-2nd-t20i-liton-das-wicket\n",
      "https://www.shutterstock.com/g/liton+mree\n",
      "https://research.monash.edu/en/persons/liton-kamruzzaman\n",
      "https://litonpublication.com\n",
      "https://twitter.com/litongre\n",
      "https://liton2020.blogspot.com\n",
      "https://www.thedailystar.net/.../news/technique-irrelevant-long-you-perform-liton-1841221\n",
      "https://en-gb.facebook.com/public/Liton-Mondal\n",
      "https://www.electricsuppliesonline.com/liton-lighting.html\n",
      "https://twitter.com/litonice11\n",
      "https://bdnews24.com/bangladesh/2019/06/11/mp-liton-killing-ex-jp-mp-kader-khan-gets...\n",
      "https://www.bcci.tv/videos/136467/ind-vs-ban-2019-2nd-t20i-liton-das-wicket\n",
      "https://lens.monash.edu/@liton-kamruzzaman\n",
      "https://www.glassdoor.com/Salary/Liton-Lighting-Salaries-E279024.htm\n",
      "https://liton-litonrahman.blogspot.com\n",
      "https://liton2020.blogspot.com\n",
      "https://fi.linkedin.com/in/md-ferdhos-liton-khan-1b530a55\n",
      "https://www.behance.net/picxola\n",
      "nsptel.com\n",
      "www.littonengr.com\n",
      "https://litontelecome.blogspot.com\n",
      "https://dukeeyecenter.duke.edu/research/research-laboratories/liton-lab/liton-lab-images\n",
      "https://helloliton.blogspot.com\n",
      "https://ph.linkedin.com/in/jeff-liton-16b23512a\n",
      "https://independent.academia.edu/Litonucc\n",
      "independent.academia.edu/AbuLiton\n",
      "www.c.facebook.com/pages/Bangladeshi-Magician-Liton/101105703262982\n",
      "litonlaundry.co.uk\n",
      "www.liton.ge\n",
      "https://lintonoutdoors.com\n",
      "https://www.eventbrite.com/o/litoneventscom-4067114901\n",
      "https://model-badhon.blogspot.com\n",
      "https://www.mapquest.com/us/in/linton-282022123\n",
      "https://litonevents.blogspot.com\n",
      "https://www.bizapedia.com/ga/liton-enterprise-llc.html\n",
      "https://www.ebay.com/usr/liton-27\n",
      "iub-bd.academia.edu/LBiswas\n",
      "https://wordpress.org/plugins/ultimate-blocks-for-gutenberg\n",
      "www.littonsdirecttoyou.com/home.aspx\n",
      "www.eemagroup.com\n"
     ]
    }
   ],
   "source": [
    "count=0\n",
    "for i in range(0,len(url)):\n",
    "    page_open=ureq(url[i])\n",
    "    reading=page_open.read()\n",
    "    page_open.close()\n",
    "    page_soup=soup(reading,\"html.parser\")\n",
    "    \n",
    "    for link in page_soup.find_all('div',{'class':'b_attribution'}) :\n",
    "        if count<100:\n",
    "            print(link.text)\n",
    "    \n",
    "   \n",
    "    \n",
    "\n",
    "    "
   ]
  },
  {
   "cell_type": "code",
   "execution_count": null,
   "metadata": {},
   "outputs": [],
   "source": []
  },
  {
   "cell_type": "code",
   "execution_count": null,
   "metadata": {},
   "outputs": [],
   "source": []
  },
  {
   "cell_type": "code",
   "execution_count": null,
   "metadata": {},
   "outputs": [],
   "source": []
  },
  {
   "cell_type": "code",
   "execution_count": null,
   "metadata": {},
   "outputs": [],
   "source": []
  },
  {
   "cell_type": "code",
   "execution_count": null,
   "metadata": {},
   "outputs": [],
   "source": []
  },
  {
   "cell_type": "code",
   "execution_count": null,
   "metadata": {},
   "outputs": [],
   "source": []
  },
  {
   "cell_type": "code",
   "execution_count": null,
   "metadata": {},
   "outputs": [],
   "source": []
  },
  {
   "cell_type": "code",
   "execution_count": null,
   "metadata": {},
   "outputs": [],
   "source": []
  },
  {
   "cell_type": "code",
   "execution_count": null,
   "metadata": {},
   "outputs": [],
   "source": []
  },
  {
   "cell_type": "code",
   "execution_count": null,
   "metadata": {},
   "outputs": [],
   "source": [
    "\n",
    "    \n",
    "        "
   ]
  },
  {
   "cell_type": "code",
   "execution_count": null,
   "metadata": {},
   "outputs": [],
   "source": []
  },
  {
   "cell_type": "code",
   "execution_count": null,
   "metadata": {},
   "outputs": [],
   "source": []
  },
  {
   "cell_type": "code",
   "execution_count": null,
   "metadata": {},
   "outputs": [],
   "source": []
  }
 ],
 "metadata": {
  "kernelspec": {
   "display_name": "Python 3",
   "language": "python",
   "name": "python3"
  },
  "language_info": {
   "codemirror_mode": {
    "name": "ipython",
    "version": 3
   },
   "file_extension": ".py",
   "mimetype": "text/x-python",
   "name": "python",
   "nbconvert_exporter": "python",
   "pygments_lexer": "ipython3",
   "version": "3.7.4"
  }
 },
 "nbformat": 4,
 "nbformat_minor": 2
}
