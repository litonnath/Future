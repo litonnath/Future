{
 "cells": [
  {
   "cell_type": "code",
   "execution_count": 28,
   "metadata": {},
   "outputs": [],
   "source": [
    "from bs4 import BeautifulSoup as soup"
   ]
  },
  {
   "cell_type": "code",
   "execution_count": 29,
   "metadata": {},
   "outputs": [],
   "source": [
    "url=[\"https://www.bing.com/search?q=artificial+intelligence&qs=LS&pq=artificial+intelligence&sc=8-23&cvid=281E21FCC3804814A50C7DC2625597CF&sp=1&first=1&FORM=PERE\"]"
   ]
  },
  {
   "cell_type": "code",
   "execution_count": 30,
   "metadata": {},
   "outputs": [],
   "source": [
    "url6=\"https://www.bing.com/search?q=artificial+intelligence&qs=LS&pq=artificial+intelligence&sc=8-23&cvid=281E21FCC3804814A50C7DC2625597CF&sp=1&first=1&FORM=PERE\""
   ]
  },
  {
   "cell_type": "code",
   "execution_count": 31,
   "metadata": {},
   "outputs": [],
   "source": [
    "for i in range(0,110,10):\n",
    "    \n",
    "    \n",
    "    \n",
    "    url.append(url6.replace(\"first=1\",\"first=\"+str(int(7+i))))"
   ]
  },
  {
   "cell_type": "code",
   "execution_count": null,
   "metadata": {},
   "outputs": [],
   "source": []
  },
  {
   "cell_type": "code",
   "execution_count": 32,
   "metadata": {},
   "outputs": [
    {
     "data": {
      "text/plain": [
       "['https://www.bing.com/search?q=artificial+intelligence&qs=LS&pq=artificial+intelligence&sc=8-23&cvid=281E21FCC3804814A50C7DC2625597CF&sp=1&first=1&FORM=PERE',\n",
       " 'https://www.bing.com/search?q=artificial+intelligence&qs=LS&pq=artificial+intelligence&sc=8-23&cvid=281E21FCC3804814A50C7DC2625597CF&sp=1&first=7&FORM=PERE',\n",
       " 'https://www.bing.com/search?q=artificial+intelligence&qs=LS&pq=artificial+intelligence&sc=8-23&cvid=281E21FCC3804814A50C7DC2625597CF&sp=1&first=17&FORM=PERE',\n",
       " 'https://www.bing.com/search?q=artificial+intelligence&qs=LS&pq=artificial+intelligence&sc=8-23&cvid=281E21FCC3804814A50C7DC2625597CF&sp=1&first=27&FORM=PERE',\n",
       " 'https://www.bing.com/search?q=artificial+intelligence&qs=LS&pq=artificial+intelligence&sc=8-23&cvid=281E21FCC3804814A50C7DC2625597CF&sp=1&first=37&FORM=PERE',\n",
       " 'https://www.bing.com/search?q=artificial+intelligence&qs=LS&pq=artificial+intelligence&sc=8-23&cvid=281E21FCC3804814A50C7DC2625597CF&sp=1&first=47&FORM=PERE',\n",
       " 'https://www.bing.com/search?q=artificial+intelligence&qs=LS&pq=artificial+intelligence&sc=8-23&cvid=281E21FCC3804814A50C7DC2625597CF&sp=1&first=57&FORM=PERE',\n",
       " 'https://www.bing.com/search?q=artificial+intelligence&qs=LS&pq=artificial+intelligence&sc=8-23&cvid=281E21FCC3804814A50C7DC2625597CF&sp=1&first=67&FORM=PERE',\n",
       " 'https://www.bing.com/search?q=artificial+intelligence&qs=LS&pq=artificial+intelligence&sc=8-23&cvid=281E21FCC3804814A50C7DC2625597CF&sp=1&first=77&FORM=PERE',\n",
       " 'https://www.bing.com/search?q=artificial+intelligence&qs=LS&pq=artificial+intelligence&sc=8-23&cvid=281E21FCC3804814A50C7DC2625597CF&sp=1&first=87&FORM=PERE',\n",
       " 'https://www.bing.com/search?q=artificial+intelligence&qs=LS&pq=artificial+intelligence&sc=8-23&cvid=281E21FCC3804814A50C7DC2625597CF&sp=1&first=97&FORM=PERE',\n",
       " 'https://www.bing.com/search?q=artificial+intelligence&qs=LS&pq=artificial+intelligence&sc=8-23&cvid=281E21FCC3804814A50C7DC2625597CF&sp=1&first=107&FORM=PERE']"
      ]
     },
     "execution_count": 32,
     "metadata": {},
     "output_type": "execute_result"
    }
   ],
   "source": [
    "url"
   ]
  },
  {
   "cell_type": "code",
   "execution_count": 33,
   "metadata": {},
   "outputs": [],
   "source": [
    "from urllib.request import urlopen as ureq"
   ]
  },
  {
   "cell_type": "code",
   "execution_count": 34,
   "metadata": {},
   "outputs": [
    {
     "name": "stdout",
     "output_type": "stream",
     "text": [
      "https://searchenterpriseai.techtarget.com/definition/AI-Artificial-Intelligence\n",
      "https://www.naukri.com/artificial-intelligence-jobs\n",
      "https://www.webopedia.com/TERM/A/artificial_intelligence.htm\n",
      "https://www.edureka.co/blog/artificial-intelligence-applications\n",
      "https://en.wikipedia.org/wiki/A.I._Artificial_Intelligence\n",
      "https://www.sciencedaily.com/news/computers_math/artificial_intelligence\n",
      "https://analyticsindiamag.com/popular-presentations-on-artificial-intelligence-and...\n",
      "www.slidesfinder.com/bestpresentation/artificial-intelligence-powerpoint-presentation/...\n",
      "https://www.educba.com/artificial-intelligence-vs-human-intelligence\n",
      "https://www.slideshare.net/lpaviglianiti/artificial-intelligence-presentation-9383640\n",
      "end\n",
      "https://searchenterpriseai.techtarget.com/definition/AI-Artificial-Intelligence\n",
      "https://www.naukri.com/artificial-intelligence-jobs\n",
      "https://www.webopedia.com/TERM/A/artificial_intelligence.htm\n",
      "https://www.edureka.co/blog/artificial-intelligence-applications\n",
      "https://en.wikipedia.org/wiki/A.I._Artificial_Intelligence\n",
      "https://www.sciencedaily.com/news/computers_math/artificial_intelligence\n",
      "https://analyticsindiamag.com/popular-presentations-on-artificial-intelligence-and...\n",
      "www.slidesfinder.com/bestpresentation/artificial-intelligence-powerpoint-presentation/...\n",
      "https://www.educba.com/artificial-intelligence-vs-human-intelligence\n",
      "https://www.slideshare.net/lpaviglianiti/artificial-intelligence-presentation-9383640\n",
      "end\n",
      "https://searchenterpriseai.techtarget.com/definition/AI-Artificial-Intelligence\n",
      "https://www.naukri.com/artificial-intelligence-jobs\n",
      "https://www.webopedia.com/TERM/A/artificial_intelligence.htm\n",
      "https://www.edureka.co/blog/artificial-intelligence-applications\n",
      "https://en.wikipedia.org/wiki/A.I._Artificial_Intelligence\n",
      "https://www.sciencedaily.com/news/computers_math/artificial_intelligence\n",
      "https://analyticsindiamag.com/popular-presentations-on-artificial-intelligence-and...\n",
      "www.slidesfinder.com/bestpresentation/artificial-intelligence-powerpoint-presentation/...\n",
      "https://www.educba.com/artificial-intelligence-vs-human-intelligence\n",
      "https://www.slideshare.net/lpaviglianiti/artificial-intelligence-presentation-9383640\n",
      "end\n",
      "https://searchenterpriseai.techtarget.com/definition/AI-Artificial-Intelligence\n",
      "https://www.naukri.com/artificial-intelligence-jobs\n",
      "https://www.webopedia.com/TERM/A/artificial_intelligence.htm\n",
      "https://www.edureka.co/blog/artificial-intelligence-applications\n",
      "https://en.wikipedia.org/wiki/A.I._Artificial_Intelligence\n",
      "https://www.sciencedaily.com/news/computers_math/artificial_intelligence\n",
      "https://analyticsindiamag.com/popular-presentations-on-artificial-intelligence-and...\n",
      "www.slidesfinder.com/bestpresentation/artificial-intelligence-powerpoint-presentation/...\n",
      "https://www.educba.com/artificial-intelligence-vs-human-intelligence\n",
      "https://www.slideshare.net/lpaviglianiti/artificial-intelligence-presentation-9383640\n",
      "end\n",
      "https://searchenterpriseai.techtarget.com/definition/AI-Artificial-Intelligence\n",
      "https://www.naukri.com/artificial-intelligence-jobs\n",
      "https://www.webopedia.com/TERM/A/artificial_intelligence.htm\n",
      "https://www.edureka.co/blog/artificial-intelligence-applications\n",
      "https://en.wikipedia.org/wiki/A.I._Artificial_Intelligence\n",
      "https://www.sciencedaily.com/news/computers_math/artificial_intelligence\n",
      "https://analyticsindiamag.com/popular-presentations-on-artificial-intelligence-and...\n",
      "www.slidesfinder.com/bestpresentation/artificial-intelligence-powerpoint-presentation/...\n",
      "https://www.educba.com/artificial-intelligence-vs-human-intelligence\n",
      "https://www.slideshare.net/lpaviglianiti/artificial-intelligence-presentation-9383640\n",
      "end\n",
      "https://searchenterpriseai.techtarget.com/definition/AI-Artificial-Intelligence\n",
      "https://www.naukri.com/artificial-intelligence-jobs\n",
      "https://www.webopedia.com/TERM/A/artificial_intelligence.htm\n",
      "https://www.edureka.co/blog/artificial-intelligence-applications\n",
      "https://en.wikipedia.org/wiki/A.I._Artificial_Intelligence\n",
      "https://www.sciencedaily.com/news/computers_math/artificial_intelligence\n",
      "https://analyticsindiamag.com/popular-presentations-on-artificial-intelligence-and...\n",
      "www.slidesfinder.com/bestpresentation/artificial-intelligence-powerpoint-presentation/...\n",
      "https://www.educba.com/artificial-intelligence-vs-human-intelligence\n",
      "https://www.slideshare.net/lpaviglianiti/artificial-intelligence-presentation-9383640\n",
      "end\n",
      "https://searchenterpriseai.techtarget.com/definition/AI-Artificial-Intelligence\n",
      "https://www.naukri.com/artificial-intelligence-jobs\n",
      "https://www.webopedia.com/TERM/A/artificial_intelligence.htm\n",
      "https://www.edureka.co/blog/artificial-intelligence-applications\n",
      "https://en.wikipedia.org/wiki/A.I._Artificial_Intelligence\n",
      "https://www.sciencedaily.com/news/computers_math/artificial_intelligence\n",
      "https://analyticsindiamag.com/popular-presentations-on-artificial-intelligence-and...\n",
      "www.slidesfinder.com/bestpresentation/artificial-intelligence-powerpoint-presentation/...\n",
      "https://www.educba.com/artificial-intelligence-vs-human-intelligence\n",
      "https://www.slideshare.net/lpaviglianiti/artificial-intelligence-presentation-9383640\n",
      "end\n",
      "https://searchenterpriseai.techtarget.com/definition/AI-Artificial-Intelligence\n",
      "https://www.naukri.com/artificial-intelligence-jobs\n",
      "https://www.webopedia.com/TERM/A/artificial_intelligence.htm\n",
      "https://www.edureka.co/blog/artificial-intelligence-applications\n",
      "https://en.wikipedia.org/wiki/A.I._Artificial_Intelligence\n",
      "https://www.sciencedaily.com/news/computers_math/artificial_intelligence\n",
      "https://analyticsindiamag.com/popular-presentations-on-artificial-intelligence-and...\n",
      "www.slidesfinder.com/bestpresentation/artificial-intelligence-powerpoint-presentation/...\n",
      "https://www.educba.com/artificial-intelligence-vs-human-intelligence\n",
      "https://www.slideshare.net/lpaviglianiti/artificial-intelligence-presentation-9383640\n",
      "end\n",
      "https://searchenterpriseai.techtarget.com/definition/AI-Artificial-Intelligence\n",
      "https://www.naukri.com/artificial-intelligence-jobs\n",
      "https://www.webopedia.com/TERM/A/artificial_intelligence.htm\n",
      "https://www.edureka.co/blog/artificial-intelligence-applications\n",
      "https://en.wikipedia.org/wiki/A.I._Artificial_Intelligence\n",
      "https://www.sciencedaily.com/news/computers_math/artificial_intelligence\n",
      "https://analyticsindiamag.com/popular-presentations-on-artificial-intelligence-and...\n",
      "www.slidesfinder.com/bestpresentation/artificial-intelligence-powerpoint-presentation/...\n",
      "https://www.educba.com/artificial-intelligence-vs-human-intelligence\n",
      "https://www.slideshare.net/lpaviglianiti/artificial-intelligence-presentation-9383640\n",
      "end\n",
      "https://searchenterpriseai.techtarget.com/definition/AI-Artificial-Intelligence\n",
      "https://www.naukri.com/artificial-intelligence-jobs\n",
      "https://www.webopedia.com/TERM/A/artificial_intelligence.htm\n",
      "https://www.edureka.co/blog/artificial-intelligence-applications\n",
      "https://en.wikipedia.org/wiki/A.I._Artificial_Intelligence\n",
      "https://www.sciencedaily.com/news/computers_math/artificial_intelligence\n",
      "https://analyticsindiamag.com/popular-presentations-on-artificial-intelligence-and...\n",
      "www.slidesfinder.com/bestpresentation/artificial-intelligence-powerpoint-presentation/...\n",
      "https://www.educba.com/artificial-intelligence-vs-human-intelligence\n",
      "https://www.slideshare.net/lpaviglianiti/artificial-intelligence-presentation-9383640\n",
      "end\n",
      "https://searchenterpriseai.techtarget.com/definition/AI-Artificial-Intelligence\n",
      "https://www.naukri.com/artificial-intelligence-jobs\n",
      "https://www.webopedia.com/TERM/A/artificial_intelligence.htm\n",
      "https://www.edureka.co/blog/artificial-intelligence-applications\n",
      "https://en.wikipedia.org/wiki/A.I._Artificial_Intelligence\n",
      "https://www.sciencedaily.com/news/computers_math/artificial_intelligence\n",
      "https://analyticsindiamag.com/popular-presentations-on-artificial-intelligence-and...\n",
      "www.slidesfinder.com/bestpresentation/artificial-intelligence-powerpoint-presentation/...\n",
      "https://www.educba.com/artificial-intelligence-vs-human-intelligence\n",
      "https://www.slideshare.net/lpaviglianiti/artificial-intelligence-presentation-9383640\n",
      "end\n",
      "https://searchenterpriseai.techtarget.com/definition/AI-Artificial-Intelligence\n",
      "https://www.naukri.com/artificial-intelligence-jobs\n",
      "https://www.webopedia.com/TERM/A/artificial_intelligence.htm\n",
      "https://www.edureka.co/blog/artificial-intelligence-applications\n",
      "https://en.wikipedia.org/wiki/A.I._Artificial_Intelligence\n",
      "https://www.sciencedaily.com/news/computers_math/artificial_intelligence\n",
      "https://analyticsindiamag.com/popular-presentations-on-artificial-intelligence-and...\n",
      "www.slidesfinder.com/bestpresentation/artificial-intelligence-powerpoint-presentation/...\n",
      "https://www.educba.com/artificial-intelligence-vs-human-intelligence\n",
      "https://www.slideshare.net/lpaviglianiti/artificial-intelligence-presentation-9383640\n",
      "end\n"
     ]
    }
   ],
   "source": [
    "for i in range(0,len(url)):\n",
    "    page_open=ureq(url[i])\n",
    "    reading=page_open.read()\n",
    "    page_open.close()\n",
    "    page_soup=soup(reading,\"html.parser\")\n",
    "    \n",
    "    for link in page_soup.find_all('div',attrs={'class':'b_attribution'}) :\n",
    "        print(link.text)\n",
    "    print(\"end\")\n",
    "   \n",
    "    \n",
    "\n",
    "    "
   ]
  },
  {
   "cell_type": "code",
   "execution_count": null,
   "metadata": {},
   "outputs": [],
   "source": []
  },
  {
   "cell_type": "code",
   "execution_count": null,
   "metadata": {},
   "outputs": [],
   "source": []
  },
  {
   "cell_type": "code",
   "execution_count": null,
   "metadata": {},
   "outputs": [],
   "source": []
  },
  {
   "cell_type": "code",
   "execution_count": null,
   "metadata": {},
   "outputs": [],
   "source": []
  },
  {
   "cell_type": "code",
   "execution_count": 37,
   "metadata": {},
   "outputs": [],
   "source": [
    "import re"
   ]
  },
  {
   "cell_type": "code",
   "execution_count": null,
   "metadata": {},
   "outputs": [],
   "source": []
  },
  {
   "cell_type": "code",
   "execution_count": null,
   "metadata": {},
   "outputs": [],
   "source": []
  },
  {
   "cell_type": "code",
   "execution_count": 14,
   "metadata": {},
   "outputs": [],
   "source": [
    "a=page_soup.find('div',attrs={'class':'b_attribution'}).find('cite')\n"
   ]
  },
  {
   "cell_type": "code",
   "execution_count": 15,
   "metadata": {},
   "outputs": [
    {
     "data": {
      "text/plain": [
       "<cite>https://learn.pluralsight.com/2025</cite>"
      ]
     },
     "execution_count": 15,
     "metadata": {},
     "output_type": "execute_result"
    }
   ],
   "source": [
    "a"
   ]
  },
  {
   "cell_type": "code",
   "execution_count": 31,
   "metadata": {},
   "outputs": [],
   "source": [
    "\n",
    "    \n",
    "        "
   ]
  },
  {
   "cell_type": "code",
   "execution_count": 32,
   "metadata": {},
   "outputs": [
    {
     "data": {
      "text/plain": [
       "['https://learn.pluralsight.com/2025',\n",
       " 'https://www.izito.co.in/Top_10/Artifical Intelligence']"
      ]
     },
     "execution_count": 32,
     "metadata": {},
     "output_type": "execute_result"
    }
   ],
   "source": [
    "arr"
   ]
  },
  {
   "cell_type": "code",
   "execution_count": null,
   "metadata": {},
   "outputs": [],
   "source": []
  },
  {
   "cell_type": "code",
   "execution_count": null,
   "metadata": {},
   "outputs": [],
   "source": []
  }
 ],
 "metadata": {
  "kernelspec": {
   "display_name": "Python 3",
   "language": "python",
   "name": "python3"
  },
  "language_info": {
   "codemirror_mode": {
    "name": "ipython",
    "version": 3
   },
   "file_extension": ".py",
   "mimetype": "text/x-python",
   "name": "python",
   "nbconvert_exporter": "python",
   "pygments_lexer": "ipython3",
   "version": "3.7.4"
  }
 },
 "nbformat": 4,
 "nbformat_minor": 2
}
