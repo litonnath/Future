{
 "cells": [
  {
   "cell_type": "code",
   "execution_count": 1,
   "metadata": {},
   "outputs": [],
   "source": [
    "import pandas as pd"
   ]
  },
  {
   "cell_type": "code",
   "execution_count": 2,
   "metadata": {},
   "outputs": [],
   "source": [
    "data = pd.read_csv('WHO.csv')"
   ]
  },
  {
   "cell_type": "code",
   "execution_count": 3,
   "metadata": {},
   "outputs": [
    {
     "data": {
      "text/html": [
       "<div>\n",
       "<style scoped>\n",
       "    .dataframe tbody tr th:only-of-type {\n",
       "        vertical-align: middle;\n",
       "    }\n",
       "\n",
       "    .dataframe tbody tr th {\n",
       "        vertical-align: top;\n",
       "    }\n",
       "\n",
       "    .dataframe thead th {\n",
       "        text-align: right;\n",
       "    }\n",
       "</style>\n",
       "<table border=\"1\" class=\"dataframe\">\n",
       "  <thead>\n",
       "    <tr style=\"text-align: right;\">\n",
       "      <th></th>\n",
       "      <th>Country</th>\n",
       "      <th>Region</th>\n",
       "      <th>Population</th>\n",
       "      <th>Under15</th>\n",
       "      <th>Over60</th>\n",
       "      <th>FertilityRate</th>\n",
       "      <th>LifeExpectancy</th>\n",
       "      <th>ChildMortality</th>\n",
       "      <th>CellularSubscribers</th>\n",
       "      <th>LiteracyRate</th>\n",
       "      <th>GNI</th>\n",
       "      <th>PrimarySchoolEnrollmentMale</th>\n",
       "      <th>PrimarySchoolEnrollmentFemale</th>\n",
       "    </tr>\n",
       "  </thead>\n",
       "  <tbody>\n",
       "    <tr>\n",
       "      <td>0</td>\n",
       "      <td>Afghanistan</td>\n",
       "      <td>Eastern Mediterranean</td>\n",
       "      <td>29825</td>\n",
       "      <td>47.42</td>\n",
       "      <td>3.82</td>\n",
       "      <td>5.40</td>\n",
       "      <td>60</td>\n",
       "      <td>98.5</td>\n",
       "      <td>54.26</td>\n",
       "      <td>0.0</td>\n",
       "      <td>1140</td>\n",
       "      <td>0.0</td>\n",
       "      <td>0.0</td>\n",
       "    </tr>\n",
       "    <tr>\n",
       "      <td>1</td>\n",
       "      <td>Albania</td>\n",
       "      <td>Europe</td>\n",
       "      <td>3162</td>\n",
       "      <td>21.33</td>\n",
       "      <td>14.93</td>\n",
       "      <td>1.75</td>\n",
       "      <td>74</td>\n",
       "      <td>16.7</td>\n",
       "      <td>96.39</td>\n",
       "      <td>0.0</td>\n",
       "      <td>8820</td>\n",
       "      <td>0.0</td>\n",
       "      <td>0.0</td>\n",
       "    </tr>\n",
       "    <tr>\n",
       "      <td>2</td>\n",
       "      <td>Algeria</td>\n",
       "      <td>Africa</td>\n",
       "      <td>38482</td>\n",
       "      <td>27.42</td>\n",
       "      <td>7.17</td>\n",
       "      <td>2.83</td>\n",
       "      <td>73</td>\n",
       "      <td>20.0</td>\n",
       "      <td>98.99</td>\n",
       "      <td>0.0</td>\n",
       "      <td>8310</td>\n",
       "      <td>98.2</td>\n",
       "      <td>96.4</td>\n",
       "    </tr>\n",
       "    <tr>\n",
       "      <td>3</td>\n",
       "      <td>Andorra</td>\n",
       "      <td>Europe</td>\n",
       "      <td>78</td>\n",
       "      <td>15.20</td>\n",
       "      <td>22.86</td>\n",
       "      <td>0.00</td>\n",
       "      <td>82</td>\n",
       "      <td>3.2</td>\n",
       "      <td>75.49</td>\n",
       "      <td>0.0</td>\n",
       "      <td>0</td>\n",
       "      <td>78.4</td>\n",
       "      <td>79.4</td>\n",
       "    </tr>\n",
       "    <tr>\n",
       "      <td>4</td>\n",
       "      <td>Angola</td>\n",
       "      <td>Africa</td>\n",
       "      <td>20821</td>\n",
       "      <td>47.58</td>\n",
       "      <td>3.84</td>\n",
       "      <td>6.10</td>\n",
       "      <td>51</td>\n",
       "      <td>163.5</td>\n",
       "      <td>48.38</td>\n",
       "      <td>70.1</td>\n",
       "      <td>5230</td>\n",
       "      <td>93.1</td>\n",
       "      <td>78.2</td>\n",
       "    </tr>\n",
       "  </tbody>\n",
       "</table>\n",
       "</div>"
      ],
      "text/plain": [
       "       Country                 Region  Population  Under15  Over60  \\\n",
       "0  Afghanistan  Eastern Mediterranean       29825    47.42    3.82   \n",
       "1      Albania                 Europe        3162    21.33   14.93   \n",
       "2      Algeria                 Africa       38482    27.42    7.17   \n",
       "3      Andorra                 Europe          78    15.20   22.86   \n",
       "4       Angola                 Africa       20821    47.58    3.84   \n",
       "\n",
       "   FertilityRate  LifeExpectancy  ChildMortality  CellularSubscribers  \\\n",
       "0           5.40              60            98.5                54.26   \n",
       "1           1.75              74            16.7                96.39   \n",
       "2           2.83              73            20.0                98.99   \n",
       "3           0.00              82             3.2                75.49   \n",
       "4           6.10              51           163.5                48.38   \n",
       "\n",
       "   LiteracyRate   GNI  PrimarySchoolEnrollmentMale  \\\n",
       "0           0.0  1140                          0.0   \n",
       "1           0.0  8820                          0.0   \n",
       "2           0.0  8310                         98.2   \n",
       "3           0.0     0                         78.4   \n",
       "4          70.1  5230                         93.1   \n",
       "\n",
       "   PrimarySchoolEnrollmentFemale  \n",
       "0                            0.0  \n",
       "1                            0.0  \n",
       "2                           96.4  \n",
       "3                           79.4  \n",
       "4                           78.2  "
      ]
     },
     "execution_count": 3,
     "metadata": {},
     "output_type": "execute_result"
    }
   ],
   "source": [
    "data.head()"
   ]
  },
  {
   "cell_type": "code",
   "execution_count": 4,
   "metadata": {},
   "outputs": [
    {
     "data": {
      "text/plain": [
       "(194, 13)"
      ]
     },
     "execution_count": 4,
     "metadata": {},
     "output_type": "execute_result"
    }
   ],
   "source": [
    "data.shape"
   ]
  },
  {
   "cell_type": "code",
   "execution_count": 5,
   "metadata": {},
   "outputs": [
    {
     "data": {
      "text/plain": [
       "Country                           0\n",
       "Region                            0\n",
       "Population                        0\n",
       "Under15                           0\n",
       "Over60                            0\n",
       "FertilityRate                    11\n",
       "LifeExpectancy                    0\n",
       "ChildMortality                    0\n",
       "CellularSubscribers              10\n",
       "LiteracyRate                     91\n",
       "GNI                              32\n",
       "PrimarySchoolEnrollmentMale      93\n",
       "PrimarySchoolEnrollmentFemale    93\n",
       "dtype: int64"
      ]
     },
     "execution_count": 5,
     "metadata": {},
     "output_type": "execute_result"
    }
   ],
   "source": [
    "data[data == 0].count()"
   ]
  },
  {
   "cell_type": "code",
   "execution_count": 6,
   "metadata": {},
   "outputs": [
    {
     "data": {
      "text/plain": [
       "Index(['Country', 'Region', 'Population', 'Under15', 'Over60', 'FertilityRate',\n",
       "       'LifeExpectancy', 'ChildMortality', 'CellularSubscribers',\n",
       "       'LiteracyRate', 'GNI', 'PrimarySchoolEnrollmentMale',\n",
       "       'PrimarySchoolEnrollmentFemale'],\n",
       "      dtype='object')"
      ]
     },
     "execution_count": 6,
     "metadata": {},
     "output_type": "execute_result"
    }
   ],
   "source": [
    "data.columns"
   ]
  },
  {
   "cell_type": "code",
   "execution_count": 7,
   "metadata": {},
   "outputs": [
    {
     "data": {
      "text/plain": [
       "array(['Eastern Mediterranean', 'Europe', 'Africa', 'Americas',\n",
       "       'Western Pacific', 'South-East Asia'], dtype=object)"
      ]
     },
     "execution_count": 7,
     "metadata": {},
     "output_type": "execute_result"
    }
   ],
   "source": [
    "data['Region'].unique()"
   ]
  },
  {
   "cell_type": "code",
   "execution_count": 10,
   "metadata": {
    "scrolled": false
   },
   "outputs": [],
   "source": [
    "for i in data['Region'].unique():\n",
    "    li = list(data[(data['FertilityRate'] == 0.0) & (data['Region'] == i)].index)\n",
    "    data['FertilityRate'][li] = data['FertilityRate'][data['Region'] == i].mean()\n",
    "    \n",
    "for i in data['Region'].unique():\n",
    "    li = list(data[(data['CellularSubscribers'] == 0.0) & (data['Region'] == i)].index)\n",
    "    data['CellularSubscribers'][li] = data['CellularSubscribers'][data['Region'] == i].mean()\n",
    "\n",
    "for i in data['Region'].unique():\n",
    "    li = list(data[(data['LiteracyRate'] == 0.0) & (data['Region'] == i)].index)\n",
    "    data['LiteracyRate'][li] = data['LiteracyRate'][data['LiteracyRate']!=0][data['Region'] == i].mean()\n",
    "    \n",
    "for i in data['Region'].unique():\n",
    "    li = list(data[(data['GNI'] == 0.0) & (data['Region'] == i)].index)\n",
    "    data['GNI'][li] = data['GNI'][data['Region'] == i].mean()"
   ]
  },
  {
   "cell_type": "code",
   "execution_count": 11,
   "metadata": {},
   "outputs": [
    {
     "data": {
      "text/plain": [
       "[]"
      ]
     },
     "execution_count": 11,
     "metadata": {},
     "output_type": "execute_result"
    }
   ],
   "source": [
    "li"
   ]
  },
  {
   "cell_type": "code",
   "execution_count": null,
   "metadata": {},
   "outputs": [],
   "source": []
  },
  {
   "cell_type": "code",
   "execution_count": 9,
   "metadata": {},
   "outputs": [
    {
     "data": {
      "text/plain": [
       "[35, 77]"
      ]
     },
     "execution_count": 9,
     "metadata": {},
     "output_type": "execute_result"
    }
   ],
   "source": [
    "from scipy import stats\n",
    "import numpy as np\n",
    "li = list(data['Population'][np.abs(stats.zscore(data['Population'])) > 3].index)\n",
    "li"
   ]
  },
  {
   "cell_type": "code",
   "execution_count": 10,
   "metadata": {},
   "outputs": [],
   "source": [
    "import matplotlib.pyplot as plt"
   ]
  },
  {
   "cell_type": "code",
   "execution_count": 11,
   "metadata": {},
   "outputs": [
    {
     "data": {
      "text/plain": [
       "<matplotlib.collections.PathCollection at 0x225178cb288>"
      ]
     },
     "execution_count": 11,
     "metadata": {},
     "output_type": "execute_result"
    },
    {
     "data": {
      "image/png": "[encoded data removed]",
      "text/plain": [
       "<Figure size 432x288 with 1 Axes>"
      ]
     },
     "metadata": {
      "needs_background": "light"
     },
     "output_type": "display_data"
    }
   ],
   "source": [
    "plt.scatter(data['Population'].index, data['Population'])"
   ]
  },
  {
   "cell_type": "code",
   "execution_count": 12,
   "metadata": {},
   "outputs": [],
   "source": [
    "## "
   ]
  },
  {
   "cell_type": "code",
   "execution_count": 13,
   "metadata": {},
   "outputs": [
    {
     "name": "stderr",
     "output_type": "stream",
     "text": [
      "C:\\Users\\welcome\\Anaconda3\\lib\\site-packages\\ipykernel_launcher.py:1: SettingWithCopyWarning: \n",
      "A value is trying to be set on a copy of a slice from a DataFrame\n",
      "\n",
      "See the caveats in the documentation: http://pandas.pydata.org/pandas-docs/stable/user_guide/indexing.html#returning-a-view-versus-a-copy\n",
      "  \"\"\"Entry point for launching an IPython kernel.\n"
     ]
    }
   ],
   "source": [
    "\n",
    "data['Population'][li] = data.drop(li)['Population'].mean()"
   ]
  },
  {
   "cell_type": "code",
   "execution_count": 14,
   "metadata": {},
   "outputs": [
    {
     "data": {
      "text/plain": [
       "<matplotlib.collections.PathCollection at 0x22518ae9408>"
      ]
     },
     "execution_count": 14,
     "metadata": {},
     "output_type": "execute_result"
    },
    {
     "data": {
      "image/png": "[encoded data removed]",
      "text/plain": [
       "<Figure size 432x288 with 1 Axes>"
      ]
     },
     "metadata": {
      "needs_background": "light"
     },
     "output_type": "display_data"
    }
   ],
   "source": [
    "plt.scatter(data['Under15'].index, data['Under15'])"
   ]
  },
  {
   "cell_type": "code",
   "execution_count": 15,
   "metadata": {},
   "outputs": [
    {
     "data": {
      "text/plain": [
       "<matplotlib.collections.PathCollection at 0x22518b5efc8>"
      ]
     },
     "execution_count": 15,
     "metadata": {},
     "output_type": "execute_result"
    },
    {
     "data": {
      "image/png": "[encoded data removed]",
      "text/plain": [
       "<Figure size 432x288 with 1 Axes>"
      ]
     },
     "metadata": {
      "needs_background": "light"
     },
     "output_type": "display_data"
    }
   ],
   "source": [
    "plt.scatter(data['Over60'].index, data['Over60'])"
   ]
  },
  {
   "cell_type": "code",
   "execution_count": 16,
   "metadata": {},
   "outputs": [
    {
     "data": {
      "text/plain": [
       "[137]"
      ]
     },
     "execution_count": 16,
     "metadata": {},
     "output_type": "execute_result"
    }
   ],
   "source": [
    "li = list(data['GNI'][np.abs(stats.zscore(data['GNI'])) > 4].index)\n",
    "li"
   ]
  },
  {
   "cell_type": "code",
   "execution_count": 17,
   "metadata": {},
   "outputs": [
    {
     "data": {
      "text/plain": [
       "<matplotlib.collections.PathCollection at 0x22518bd6648>"
      ]
     },
     "execution_count": 17,
     "metadata": {},
     "output_type": "execute_result"
    },
    {
     "data": {
      "image/png": "[encoded data removed]",
      "text/plain": [
       "<Figure size 432x288 with 1 Axes>"
      ]
     },
     "metadata": {
      "needs_background": "light"
     },
     "output_type": "display_data"
    }
   ],
   "source": [
    "plt.scatter(data['GNI'].index, data['GNI'])"
   ]
  },
  {
   "cell_type": "code",
   "execution_count": 18,
   "metadata": {},
   "outputs": [
    {
     "name": "stderr",
     "output_type": "stream",
     "text": [
      "C:\\Users\\welcome\\Anaconda3\\lib\\site-packages\\ipykernel_launcher.py:1: SettingWithCopyWarning: \n",
      "A value is trying to be set on a copy of a slice from a DataFrame\n",
      "\n",
      "See the caveats in the documentation: http://pandas.pydata.org/pandas-docs/stable/user_guide/indexing.html#returning-a-view-versus-a-copy\n",
      "  \"\"\"Entry point for launching an IPython kernel.\n"
     ]
    }
   ],
   "source": [
    "data['GNI'][li] = data['GNI'].sort_values().iloc[-2]"
   ]
  },
  {
   "cell_type": "code",
   "execution_count": 19,
   "metadata": {},
   "outputs": [
    {
     "data": {
      "text/plain": [
       "<matplotlib.collections.PathCollection at 0x22518c41848>"
      ]
     },
     "execution_count": 19,
     "metadata": {},
     "output_type": "execute_result"
    },
    {
     "data": {
      "image/png": "[encoded data removed]",
      "text/plain": [
       "<Figure size 432x288 with 1 Axes>"
      ]
     },
     "metadata": {
      "needs_background": "light"
     },
     "output_type": "display_data"
    }
   ],
   "source": [
    "plt.scatter(data['CellularSubscribers'].index, data['CellularSubscribers'])"
   ]
  },
  {
   "cell_type": "code",
   "execution_count": 20,
   "metadata": {},
   "outputs": [],
   "source": [
    "data.drop('Country', axis=1, inplace=True)"
   ]
  },
  {
   "cell_type": "code",
   "execution_count": 21,
   "metadata": {},
   "outputs": [
    {
     "data": {
      "text/html": [
       "<div>\n",
       "<style scoped>\n",
       "    .dataframe tbody tr th:only-of-type {\n",
       "        vertical-align: middle;\n",
       "    }\n",
       "\n",
       "    .dataframe tbody tr th {\n",
       "        vertical-align: top;\n",
       "    }\n",
       "\n",
       "    .dataframe thead th {\n",
       "        text-align: right;\n",
       "    }\n",
       "</style>\n",
       "<table border=\"1\" class=\"dataframe\">\n",
       "  <thead>\n",
       "    <tr style=\"text-align: right;\">\n",
       "      <th></th>\n",
       "      <th>Region</th>\n",
       "      <th>Population</th>\n",
       "      <th>Under15</th>\n",
       "      <th>Over60</th>\n",
       "      <th>FertilityRate</th>\n",
       "      <th>LifeExpectancy</th>\n",
       "      <th>ChildMortality</th>\n",
       "      <th>CellularSubscribers</th>\n",
       "      <th>LiteracyRate</th>\n",
       "      <th>GNI</th>\n",
       "      <th>PrimarySchoolEnrollmentMale</th>\n",
       "      <th>PrimarySchoolEnrollmentFemale</th>\n",
       "    </tr>\n",
       "  </thead>\n",
       "  <tbody>\n",
       "    <tr>\n",
       "      <td>0</td>\n",
       "      <td>Eastern Mediterranean</td>\n",
       "      <td>29825.0</td>\n",
       "      <td>47.42</td>\n",
       "      <td>3.82</td>\n",
       "      <td>5.400000</td>\n",
       "      <td>60</td>\n",
       "      <td>98.5</td>\n",
       "      <td>54.26</td>\n",
       "      <td>82.520000</td>\n",
       "      <td>1140.000000</td>\n",
       "      <td>0.0</td>\n",
       "      <td>0.0</td>\n",
       "    </tr>\n",
       "    <tr>\n",
       "      <td>1</td>\n",
       "      <td>Europe</td>\n",
       "      <td>3162.0</td>\n",
       "      <td>21.33</td>\n",
       "      <td>14.93</td>\n",
       "      <td>1.750000</td>\n",
       "      <td>74</td>\n",
       "      <td>16.7</td>\n",
       "      <td>96.39</td>\n",
       "      <td>98.780769</td>\n",
       "      <td>8820.000000</td>\n",
       "      <td>0.0</td>\n",
       "      <td>0.0</td>\n",
       "    </tr>\n",
       "    <tr>\n",
       "      <td>2</td>\n",
       "      <td>Africa</td>\n",
       "      <td>38482.0</td>\n",
       "      <td>27.42</td>\n",
       "      <td>7.17</td>\n",
       "      <td>2.830000</td>\n",
       "      <td>73</td>\n",
       "      <td>20.0</td>\n",
       "      <td>98.99</td>\n",
       "      <td>69.091667</td>\n",
       "      <td>8310.000000</td>\n",
       "      <td>98.2</td>\n",
       "      <td>96.4</td>\n",
       "    </tr>\n",
       "    <tr>\n",
       "      <td>3</td>\n",
       "      <td>Europe</td>\n",
       "      <td>78.0</td>\n",
       "      <td>15.20</td>\n",
       "      <td>22.86</td>\n",
       "      <td>1.661509</td>\n",
       "      <td>82</td>\n",
       "      <td>3.2</td>\n",
       "      <td>75.49</td>\n",
       "      <td>98.780769</td>\n",
       "      <td>21272.641509</td>\n",
       "      <td>78.4</td>\n",
       "      <td>79.4</td>\n",
       "    </tr>\n",
       "    <tr>\n",
       "      <td>4</td>\n",
       "      <td>Africa</td>\n",
       "      <td>20821.0</td>\n",
       "      <td>47.58</td>\n",
       "      <td>3.84</td>\n",
       "      <td>6.100000</td>\n",
       "      <td>51</td>\n",
       "      <td>163.5</td>\n",
       "      <td>48.38</td>\n",
       "      <td>70.100000</td>\n",
       "      <td>5230.000000</td>\n",
       "      <td>93.1</td>\n",
       "      <td>78.2</td>\n",
       "    </tr>\n",
       "  </tbody>\n",
       "</table>\n",
       "</div>"
      ],
      "text/plain": [
       "                  Region  Population  Under15  Over60  FertilityRate  \\\n",
       "0  Eastern Mediterranean     29825.0    47.42    3.82       5.400000   \n",
       "1                 Europe      3162.0    21.33   14.93       1.750000   \n",
       "2                 Africa     38482.0    27.42    7.17       2.830000   \n",
       "3                 Europe        78.0    15.20   22.86       1.661509   \n",
       "4                 Africa     20821.0    47.58    3.84       6.100000   \n",
       "\n",
       "   LifeExpectancy  ChildMortality  CellularSubscribers  LiteracyRate  \\\n",
       "0              60            98.5                54.26     82.520000   \n",
       "1              74            16.7                96.39     98.780769   \n",
       "2              73            20.0                98.99     69.091667   \n",
       "3              82             3.2                75.49     98.780769   \n",
       "4              51           163.5                48.38     70.100000   \n",
       "\n",
       "            GNI  PrimarySchoolEnrollmentMale  PrimarySchoolEnrollmentFemale  \n",
       "0   1140.000000                          0.0                            0.0  \n",
       "1   8820.000000                          0.0                            0.0  \n",
       "2   8310.000000                         98.2                           96.4  \n",
       "3  21272.641509                         78.4                           79.4  \n",
       "4   5230.000000                         93.1                           78.2  "
      ]
     },
     "execution_count": 21,
     "metadata": {},
     "output_type": "execute_result"
    }
   ],
   "source": [
    "data.head()"
   ]
  },
  {
   "cell_type": "code",
   "execution_count": 22,
   "metadata": {},
   "outputs": [
    {
     "data": {
      "text/plain": [
       "['Africa',\n",
       " 'Americas',\n",
       " 'Eastern Mediterranean',\n",
       " 'Europe',\n",
       " 'South-East Asia',\n",
       " 'Western Pacific']"
      ]
     },
     "execution_count": 22,
     "metadata": {},
     "output_type": "execute_result"
    }
   ],
   "source": [
    "sorted(data.Region.unique())"
   ]
  },
  {
   "cell_type": "code",
   "execution_count": 23,
   "metadata": {},
   "outputs": [],
   "source": [
    "from sklearn import preprocessing\n",
    "\n",
    "encoder = preprocessing.LabelEncoder()\n",
    "\n",
    "for i in data.columns:\n",
    "    if isinstance(data[i][0], str):\n",
    "            data[i] = encoder.fit_transform(data[i])"
   ]
  },
  {
   "cell_type": "code",
   "execution_count": 24,
   "metadata": {},
   "outputs": [
    {
     "data": {
      "text/html": [
       "<div>\n",
       "<style scoped>\n",
       "    .dataframe tbody tr th:only-of-type {\n",
       "        vertical-align: middle;\n",
       "    }\n",
       "\n",
       "    .dataframe tbody tr th {\n",
       "        vertical-align: top;\n",
       "    }\n",
       "\n",
       "    .dataframe thead th {\n",
       "        text-align: right;\n",
       "    }\n",
       "</style>\n",
       "<table border=\"1\" class=\"dataframe\">\n",
       "  <thead>\n",
       "    <tr style=\"text-align: right;\">\n",
       "      <th></th>\n",
       "      <th>Region</th>\n",
       "      <th>Population</th>\n",
       "      <th>Under15</th>\n",
       "      <th>Over60</th>\n",
       "      <th>FertilityRate</th>\n",
       "      <th>LifeExpectancy</th>\n",
       "      <th>ChildMortality</th>\n",
       "      <th>CellularSubscribers</th>\n",
       "      <th>LiteracyRate</th>\n",
       "      <th>GNI</th>\n",
       "      <th>PrimarySchoolEnrollmentMale</th>\n",
       "      <th>PrimarySchoolEnrollmentFemale</th>\n",
       "    </tr>\n",
       "  </thead>\n",
       "  <tbody>\n",
       "    <tr>\n",
       "      <td>0</td>\n",
       "      <td>2</td>\n",
       "      <td>29825.0</td>\n",
       "      <td>47.42</td>\n",
       "      <td>3.82</td>\n",
       "      <td>5.400000</td>\n",
       "      <td>60</td>\n",
       "      <td>98.5</td>\n",
       "      <td>54.26</td>\n",
       "      <td>82.520000</td>\n",
       "      <td>1140.000000</td>\n",
       "      <td>0.0</td>\n",
       "      <td>0.0</td>\n",
       "    </tr>\n",
       "    <tr>\n",
       "      <td>1</td>\n",
       "      <td>3</td>\n",
       "      <td>3162.0</td>\n",
       "      <td>21.33</td>\n",
       "      <td>14.93</td>\n",
       "      <td>1.750000</td>\n",
       "      <td>74</td>\n",
       "      <td>16.7</td>\n",
       "      <td>96.39</td>\n",
       "      <td>98.780769</td>\n",
       "      <td>8820.000000</td>\n",
       "      <td>0.0</td>\n",
       "      <td>0.0</td>\n",
       "    </tr>\n",
       "    <tr>\n",
       "      <td>2</td>\n",
       "      <td>0</td>\n",
       "      <td>38482.0</td>\n",
       "      <td>27.42</td>\n",
       "      <td>7.17</td>\n",
       "      <td>2.830000</td>\n",
       "      <td>73</td>\n",
       "      <td>20.0</td>\n",
       "      <td>98.99</td>\n",
       "      <td>69.091667</td>\n",
       "      <td>8310.000000</td>\n",
       "      <td>98.2</td>\n",
       "      <td>96.4</td>\n",
       "    </tr>\n",
       "    <tr>\n",
       "      <td>3</td>\n",
       "      <td>3</td>\n",
       "      <td>78.0</td>\n",
       "      <td>15.20</td>\n",
       "      <td>22.86</td>\n",
       "      <td>1.661509</td>\n",
       "      <td>82</td>\n",
       "      <td>3.2</td>\n",
       "      <td>75.49</td>\n",
       "      <td>98.780769</td>\n",
       "      <td>21272.641509</td>\n",
       "      <td>78.4</td>\n",
       "      <td>79.4</td>\n",
       "    </tr>\n",
       "    <tr>\n",
       "      <td>4</td>\n",
       "      <td>0</td>\n",
       "      <td>20821.0</td>\n",
       "      <td>47.58</td>\n",
       "      <td>3.84</td>\n",
       "      <td>6.100000</td>\n",
       "      <td>51</td>\n",
       "      <td>163.5</td>\n",
       "      <td>48.38</td>\n",
       "      <td>70.100000</td>\n",
       "      <td>5230.000000</td>\n",
       "      <td>93.1</td>\n",
       "      <td>78.2</td>\n",
       "    </tr>\n",
       "  </tbody>\n",
       "</table>\n",
       "</div>"
      ],
      "text/plain": [
       "   Region  Population  Under15  Over60  FertilityRate  LifeExpectancy  \\\n",
       "0       2     29825.0    47.42    3.82       5.400000              60   \n",
       "1       3      3162.0    21.33   14.93       1.750000              74   \n",
       "2       0     38482.0    27.42    7.17       2.830000              73   \n",
       "3       3        78.0    15.20   22.86       1.661509              82   \n",
       "4       0     20821.0    47.58    3.84       6.100000              51   \n",
       "\n",
       "   ChildMortality  CellularSubscribers  LiteracyRate           GNI  \\\n",
       "0            98.5                54.26     82.520000   1140.000000   \n",
       "1            16.7                96.39     98.780769   8820.000000   \n",
       "2            20.0                98.99     69.091667   8310.000000   \n",
       "3             3.2                75.49     98.780769  21272.641509   \n",
       "4           163.5                48.38     70.100000   5230.000000   \n",
       "\n",
       "   PrimarySchoolEnrollmentMale  PrimarySchoolEnrollmentFemale  \n",
       "0                          0.0                            0.0  \n",
       "1                          0.0                            0.0  \n",
       "2                         98.2                           96.4  \n",
       "3                         78.4                           79.4  \n",
       "4                         93.1                           78.2  "
      ]
     },
     "execution_count": 24,
     "metadata": {},
     "output_type": "execute_result"
    }
   ],
   "source": [
    "data.head()"
   ]
  },
  {
   "cell_type": "code",
   "execution_count": 25,
   "metadata": {},
   "outputs": [],
   "source": [
    "X = data.drop(['LifeExpectancy','PrimarySchoolEnrollmentMale','PrimarySchoolEnrollmentFemale'], axis=1)"
   ]
  },
  {
   "cell_type": "code",
   "execution_count": 26,
   "metadata": {},
   "outputs": [],
   "source": [
    "y = data['LifeExpectancy']"
   ]
  },
  {
   "cell_type": "code",
   "execution_count": 27,
   "metadata": {},
   "outputs": [
    {
     "data": {
      "text/plain": [
       "Index(['Region', 'Population', 'Under15', 'Over60', 'FertilityRate',\n",
       "       'ChildMortality', 'CellularSubscribers', 'LiteracyRate', 'GNI'],\n",
       "      dtype='object')"
      ]
     },
     "execution_count": 27,
     "metadata": {},
     "output_type": "execute_result"
    }
   ],
   "source": [
    "X.columns"
   ]
  },
  {
   "cell_type": "code",
   "execution_count": 28,
   "metadata": {},
   "outputs": [],
   "source": [
    "from sklearn.model_selection import train_test_split\n",
    "trainX, testX, trainy, testy = train_test_split(X,y, test_size=0.5)"
   ]
  },
  {
   "cell_type": "code",
   "execution_count": 29,
   "metadata": {},
   "outputs": [],
   "source": [
    "from sklearn.linear_model import LinearRegression"
   ]
  },
  {
   "cell_type": "code",
   "execution_count": 30,
   "metadata": {},
   "outputs": [],
   "source": [
    "mlrm = LinearRegression()"
   ]
  },
  {
   "cell_type": "code",
   "execution_count": 31,
   "metadata": {},
   "outputs": [
    {
     "data": {
      "text/plain": [
       "LinearRegression(copy_X=True, fit_intercept=True, n_jobs=None, normalize=False)"
      ]
     },
     "execution_count": 31,
     "metadata": {},
     "output_type": "execute_result"
    }
   ],
   "source": [
    "mlrm.fit(trainX,trainy)"
   ]
  },
  {
   "cell_type": "code",
   "execution_count": 32,
   "metadata": {},
   "outputs": [
    {
     "data": {
      "text/plain": [
       "90.68916491284902"
      ]
     },
     "execution_count": 32,
     "metadata": {},
     "output_type": "execute_result"
    }
   ],
   "source": [
    "mlrm.score(trainX,trainy)*100"
   ]
  },
  {
   "cell_type": "code",
   "execution_count": 33,
   "metadata": {},
   "outputs": [
    {
     "data": {
      "text/plain": [
       "86.28491243856404"
      ]
     },
     "execution_count": 33,
     "metadata": {},
     "output_type": "execute_result"
    }
   ],
   "source": [
    "mlrm.score(testX,testy)*100"
   ]
  },
  {
   "cell_type": "code",
   "execution_count": 34,
   "metadata": {},
   "outputs": [
    {
     "name": "stderr",
     "output_type": "stream",
     "text": [
      "C:\\Users\\welcome\\Anaconda3\\lib\\site-packages\\numpy\\core\\fromnumeric.py:2389: FutureWarning: Method .ptp is deprecated and will be removed in a future version. Use numpy.ptp instead.\n",
      "  return ptp(axis=axis, out=out, **kwargs)\n"
     ]
    },
    {
     "data": {
      "text/plain": [
       "const                  235.297366\n",
       "Region                   1.490369\n",
       "Population               1.044612\n",
       "Under15                 17.166265\n",
       "Over60                   3.944646\n",
       "FertilityRate           12.885726\n",
       "ChildMortality           4.793951\n",
       "CellularSubscribers      1.962234\n",
       "LiteracyRate             2.581484\n",
       "GNI                      2.215388\n",
       "dtype: float64"
      ]
     },
     "execution_count": 34,
     "metadata": {},
     "output_type": "execute_result"
    }
   ],
   "source": [
    "from statsmodels.stats.outliers_influence import variance_inflation_factor\n",
    "from statsmodels.tools.tools import add_constant\n",
    "\n",
    "X_vif = add_constant(X)\n",
    "\n",
    "pd.Series([variance_inflation_factor(X_vif.values, i) for i in range(X_vif.shape[1])], \n",
    "              index=X_vif.columns)"
   ]
  },
  {
   "cell_type": "code",
   "execution_count": 50,
   "metadata": {},
   "outputs": [
    {
     "data": {
      "text/plain": [
       "F_onewayResult(statistic=10082.885411564352, pvalue=9.706078097650169e-279)"
      ]
     },
     "execution_count": 50,
     "metadata": {},
     "output_type": "execute_result"
    }
   ],
   "source": [
    "import scipy.stats as stats\n",
    "stats.f_oneway(X[\"Region\"],y)"
   ]
  },
  {
   "cell_type": "code",
   "execution_count": 36,
   "metadata": {},
   "outputs": [
    {
     "name": "stdout",
     "output_type": "stream",
     "text": [
      "['Population', 'Under15', 'Over60', 'FertilityRate', 'ChildMortality', 'CellularSubscribers', 'LiteracyRate', 'GNI']\n"
     ]
    },
    {
     "data": {
      "text/plain": [
       "Population             0.025057\n",
       "Under15                0.836467\n",
       "Over60                 0.688129\n",
       "FertilityRate          0.831073\n",
       "ChildMortality         0.924564\n",
       "CellularSubscribers    0.613010\n",
       "LiteracyRate           0.704487\n",
       "GNI                    0.643510\n",
       "dtype: float64"
      ]
     },
     "execution_count": 36,
     "metadata": {},
     "output_type": "execute_result"
    }
   ],
   "source": [
    "columns = list(X.columns)\n",
    "columns.remove('Region')\n",
    "print(columns)\n",
    "\n",
    "correlation = pd.Series([np.abs(np.corrcoef(X[i],y)[0,1]) \n",
    "                         for i in columns], index=columns)\n",
    "correlation"
   ]
  },
  {
   "cell_type": "code",
   "execution_count": 37,
   "metadata": {},
   "outputs": [],
   "source": [
    "X.drop('Population', axis=1, inplace=True)"
   ]
  },
  {
   "cell_type": "code",
   "execution_count": 38,
   "metadata": {},
   "outputs": [
    {
     "name": "stdout",
     "output_type": "stream",
     "text": [
      "90.88713104407266\n",
      "85.12592760549545\n"
     ]
    }
   ],
   "source": [
    "from sklearn.model_selection import train_test_split\n",
    "trainX, testX, trainy, testy = train_test_split(X,y, test_size=0.5)\n",
    "\n",
    "from sklearn.linear_model import LinearRegression\n",
    "\n",
    "mlrm = LinearRegression()\n",
    "\n",
    "mlrm.fit(trainX,trainy)\n",
    "\n",
    "print(mlrm.score(trainX,trainy)*100)\n",
    "print(mlrm.score(testX,testy)*100)"
   ]
  },
  {
   "cell_type": "code",
   "execution_count": 39,
   "metadata": {},
   "outputs": [
    {
     "data": {
      "text/plain": [
       "<matplotlib.legend.Legend at 0x22519c52288>"
      ]
     },
     "execution_count": 39,
     "metadata": {},
     "output_type": "execute_result"
    },
    {
     "data": {
      "image/png": "[encoded data removed]",
      "text/plain": [
       "<Figure size 1152x576 with 1 Axes>"
      ]
     },
     "metadata": {
      "needs_background": "light"
     },
     "output_type": "display_data"
    }
   ],
   "source": [
    "import matplotlib.pyplot as plt\n",
    "plt.figure(figsize=(16,8))\n",
    "# plt.subplot(211)\n",
    "plt.plot(testy.reset_index(drop=True), label='Actual', color='g')\n",
    "# plt.subplot(212)\n",
    "plt.plot(mlrm.predict(testX), label='Predicted', color='r')\n",
    "plt.legend(loc='upper right')"
   ]
  },
  {
   "cell_type": "code",
   "execution_count": 40,
   "metadata": {},
   "outputs": [
    {
     "data": {
      "text/plain": [
       "(194, 13)"
      ]
     },
     "execution_count": 40,
     "metadata": {},
     "output_type": "execute_result"
    }
   ],
   "source": [
    "data = pd.read_csv('WHO.csv')\n",
    "data.shape"
   ]
  },
  {
   "cell_type": "code",
   "execution_count": 41,
   "metadata": {},
   "outputs": [],
   "source": [
    "encoder = preprocessing.LabelEncoder()\n",
    "\n",
    "for i in data.columns:\n",
    "    if isinstance(data[i][0], str):\n",
    "            data[i] = encoder.fit_transform(data[i])"
   ]
  },
  {
   "cell_type": "code",
   "execution_count": 42,
   "metadata": {},
   "outputs": [],
   "source": [
    "X = data.drop('LifeExpectancy', axis=1)\n",
    "\n",
    "y = data['LifeExpectancy']"
   ]
  },
  {
   "cell_type": "code",
   "execution_count": 43,
   "metadata": {},
   "outputs": [
    {
     "name": "stdout",
     "output_type": "stream",
     "text": [
      "[36.9 16.8  9.6  8.9  8.2  6.8  4.8  3.6  2.6  1.3  0.5  0. ]\n",
      "[ 36.9  53.7  63.3  72.2  80.4  87.2  92.   95.6  98.2  99.5 100.  100. ]\n"
     ]
    }
   ],
   "source": [
    "from sklearn.preprocessing import StandardScaler \n",
    "  \n",
    "scalar = StandardScaler() \n",
    "  \n",
    "scalar.fit(X) \n",
    "scaled_data = scalar.transform(X) \n",
    "\n",
    "# Importing PCA \n",
    "from sklearn.decomposition import PCA \n",
    "  \n",
    "# Let's say, components = 2 \n",
    "pca = PCA() \n",
    "pca.fit(scaled_data) \n",
    "\n",
    "\n",
    "variance = pca.explained_variance_ratio_ #calculate variance ratios\n",
    "print(np.round(pca.explained_variance_ratio_, decimals=3)*100)\n",
    "\n",
    "var=np.cumsum(np.round(pca.explained_variance_ratio_, decimals=3)*100)\n",
    "print(var)\n",
    "\n"
   ]
  },
  {
   "cell_type": "code",
   "execution_count": 44,
   "metadata": {},
   "outputs": [
    {
     "data": {
      "text/plain": [
       "(194, 8)"
      ]
     },
     "execution_count": 44,
     "metadata": {},
     "output_type": "execute_result"
    }
   ],
   "source": [
    "pca = PCA(n_components=8) \n",
    "X_transformed = pca.fit_transform(X) \n",
    "\n",
    "X_transformed.shape"
   ]
  },
  {
   "cell_type": "code",
   "execution_count": 45,
   "metadata": {},
   "outputs": [
    {
     "name": "stdout",
     "output_type": "stream",
     "text": [
      "91.19113620610402\n",
      "86.39112109776259\n"
     ]
    }
   ],
   "source": [
    "from sklearn.model_selection import train_test_split\n",
    "trainX, testX, trainy, testy = train_test_split(X_transformed,y, test_size=0.5, random_state=1)\n",
    "\n",
    "from sklearn.linear_model import LinearRegression\n",
    "\n",
    "mlrm = LinearRegression()\n",
    "\n",
    "mlrm.fit(trainX,trainy)\n",
    "\n",
    "print(mlrm.score(trainX,trainy)*100)\n",
    "print(mlrm.score(testX,testy)*100)"
   ]
  },
  {
   "cell_type": "code",
   "execution_count": 46,
   "metadata": {},
   "outputs": [
    {
     "data": {
      "text/plain": [
       "Country                            int32\n",
       "Region                             int32\n",
       "Population                         int64\n",
       "Under15                          float64\n",
       "Over60                           float64\n",
       "FertilityRate                    float64\n",
       "LifeExpectancy                     int64\n",
       "ChildMortality                   float64\n",
       "CellularSubscribers              float64\n",
       "LiteracyRate                     float64\n",
       "GNI                                int64\n",
       "PrimarySchoolEnrollmentMale      float64\n",
       "PrimarySchoolEnrollmentFemale    float64\n",
       "dtype: object"
      ]
     },
     "execution_count": 46,
     "metadata": {},
     "output_type": "execute_result"
    }
   ],
   "source": [
    "data.dtypes"
   ]
  },
  {
   "cell_type": "code",
   "execution_count": null,
   "metadata": {},
   "outputs": [],
   "source": []
  }
 ],
 "metadata": {
  "kernelspec": {
   "display_name": "Python 3",
   "language": "python",
   "name": "python3"
  },
  "language_info": {
   "codemirror_mode": {
    "name": "ipython",
    "version": 3
   },
   "file_extension": ".py",
   "mimetype": "text/x-python",
   "name": "python",
   "nbconvert_exporter": "python",
   "pygments_lexer": "ipython3",
   "version": "3.7.4"
  }
 },
 "nbformat": 4,
 "nbformat_minor": 2
}
