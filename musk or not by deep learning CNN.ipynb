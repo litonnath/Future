{
 "cells": [
  {
   "cell_type": "code",
   "execution_count": 38,
   "metadata": {},
   "outputs": [],
   "source": [
    "import pandas as pd"
   ]
  },
  {
   "cell_type": "code",
   "execution_count": 39,
   "metadata": {},
   "outputs": [],
   "source": [
    "data=pd.read_csv(\"C:\\\\Users\\\\welcome\\\\company task\\\\company task\\\\musk_csv.csv\")"
   ]
  },
  {
   "cell_type": "code",
   "execution_count": 40,
   "metadata": {},
   "outputs": [
    {
     "data": {
      "text/html": [
       "<div>\n",
       "<style scoped>\n",
       "    .dataframe tbody tr th:only-of-type {\n",
       "        vertical-align: middle;\n",
       "    }\n",
       "\n",
       "    .dataframe tbody tr th {\n",
       "        vertical-align: top;\n",
       "    }\n",
       "\n",
       "    .dataframe thead th {\n",
       "        text-align: right;\n",
       "    }\n",
       "</style>\n",
       "<table border=\"1\" class=\"dataframe\">\n",
       "  <thead>\n",
       "    <tr style=\"text-align: right;\">\n",
       "      <th></th>\n",
       "      <th>ID</th>\n",
       "      <th>molecule_name</th>\n",
       "      <th>conformation_name</th>\n",
       "      <th>f1</th>\n",
       "      <th>f2</th>\n",
       "      <th>f3</th>\n",
       "      <th>f4</th>\n",
       "      <th>f5</th>\n",
       "      <th>f6</th>\n",
       "      <th>f7</th>\n",
       "      <th>...</th>\n",
       "      <th>f158</th>\n",
       "      <th>f159</th>\n",
       "      <th>f160</th>\n",
       "      <th>f161</th>\n",
       "      <th>f162</th>\n",
       "      <th>f163</th>\n",
       "      <th>f164</th>\n",
       "      <th>f165</th>\n",
       "      <th>f166</th>\n",
       "      <th>class</th>\n",
       "    </tr>\n",
       "  </thead>\n",
       "  <tbody>\n",
       "    <tr>\n",
       "      <td>0</td>\n",
       "      <td>1</td>\n",
       "      <td>MUSK-211</td>\n",
       "      <td>211_1+1</td>\n",
       "      <td>46</td>\n",
       "      <td>-108</td>\n",
       "      <td>-60</td>\n",
       "      <td>-69</td>\n",
       "      <td>-117</td>\n",
       "      <td>49</td>\n",
       "      <td>38</td>\n",
       "      <td>...</td>\n",
       "      <td>-308</td>\n",
       "      <td>52</td>\n",
       "      <td>-7</td>\n",
       "      <td>39</td>\n",
       "      <td>126</td>\n",
       "      <td>156</td>\n",
       "      <td>-50</td>\n",
       "      <td>-112</td>\n",
       "      <td>96</td>\n",
       "      <td>1</td>\n",
       "    </tr>\n",
       "    <tr>\n",
       "      <td>1</td>\n",
       "      <td>2</td>\n",
       "      <td>MUSK-211</td>\n",
       "      <td>211_1+10</td>\n",
       "      <td>41</td>\n",
       "      <td>-188</td>\n",
       "      <td>-145</td>\n",
       "      <td>22</td>\n",
       "      <td>-117</td>\n",
       "      <td>-6</td>\n",
       "      <td>57</td>\n",
       "      <td>...</td>\n",
       "      <td>-59</td>\n",
       "      <td>-2</td>\n",
       "      <td>52</td>\n",
       "      <td>103</td>\n",
       "      <td>136</td>\n",
       "      <td>169</td>\n",
       "      <td>-61</td>\n",
       "      <td>-136</td>\n",
       "      <td>79</td>\n",
       "      <td>1</td>\n",
       "    </tr>\n",
       "    <tr>\n",
       "      <td>2</td>\n",
       "      <td>3</td>\n",
       "      <td>MUSK-211</td>\n",
       "      <td>211_1+11</td>\n",
       "      <td>46</td>\n",
       "      <td>-194</td>\n",
       "      <td>-145</td>\n",
       "      <td>28</td>\n",
       "      <td>-117</td>\n",
       "      <td>73</td>\n",
       "      <td>57</td>\n",
       "      <td>...</td>\n",
       "      <td>-134</td>\n",
       "      <td>-154</td>\n",
       "      <td>57</td>\n",
       "      <td>143</td>\n",
       "      <td>142</td>\n",
       "      <td>165</td>\n",
       "      <td>-67</td>\n",
       "      <td>-145</td>\n",
       "      <td>39</td>\n",
       "      <td>1</td>\n",
       "    </tr>\n",
       "    <tr>\n",
       "      <td>3</td>\n",
       "      <td>4</td>\n",
       "      <td>MUSK-211</td>\n",
       "      <td>211_1+12</td>\n",
       "      <td>41</td>\n",
       "      <td>-188</td>\n",
       "      <td>-145</td>\n",
       "      <td>22</td>\n",
       "      <td>-117</td>\n",
       "      <td>-7</td>\n",
       "      <td>57</td>\n",
       "      <td>...</td>\n",
       "      <td>-60</td>\n",
       "      <td>-4</td>\n",
       "      <td>52</td>\n",
       "      <td>104</td>\n",
       "      <td>136</td>\n",
       "      <td>168</td>\n",
       "      <td>-60</td>\n",
       "      <td>-135</td>\n",
       "      <td>80</td>\n",
       "      <td>1</td>\n",
       "    </tr>\n",
       "    <tr>\n",
       "      <td>4</td>\n",
       "      <td>5</td>\n",
       "      <td>MUSK-211</td>\n",
       "      <td>211_1+13</td>\n",
       "      <td>41</td>\n",
       "      <td>-188</td>\n",
       "      <td>-145</td>\n",
       "      <td>22</td>\n",
       "      <td>-117</td>\n",
       "      <td>-7</td>\n",
       "      <td>57</td>\n",
       "      <td>...</td>\n",
       "      <td>-60</td>\n",
       "      <td>-4</td>\n",
       "      <td>52</td>\n",
       "      <td>104</td>\n",
       "      <td>137</td>\n",
       "      <td>168</td>\n",
       "      <td>-60</td>\n",
       "      <td>-135</td>\n",
       "      <td>80</td>\n",
       "      <td>1</td>\n",
       "    </tr>\n",
       "    <tr>\n",
       "      <td>...</td>\n",
       "      <td>...</td>\n",
       "      <td>...</td>\n",
       "      <td>...</td>\n",
       "      <td>...</td>\n",
       "      <td>...</td>\n",
       "      <td>...</td>\n",
       "      <td>...</td>\n",
       "      <td>...</td>\n",
       "      <td>...</td>\n",
       "      <td>...</td>\n",
       "      <td>...</td>\n",
       "      <td>...</td>\n",
       "      <td>...</td>\n",
       "      <td>...</td>\n",
       "      <td>...</td>\n",
       "      <td>...</td>\n",
       "      <td>...</td>\n",
       "      <td>...</td>\n",
       "      <td>...</td>\n",
       "      <td>...</td>\n",
       "      <td>...</td>\n",
       "    </tr>\n",
       "    <tr>\n",
       "      <td>6593</td>\n",
       "      <td>6594</td>\n",
       "      <td>NON-MUSK-jp13</td>\n",
       "      <td>jp13_2+5</td>\n",
       "      <td>51</td>\n",
       "      <td>-123</td>\n",
       "      <td>-23</td>\n",
       "      <td>-108</td>\n",
       "      <td>-117</td>\n",
       "      <td>134</td>\n",
       "      <td>-160</td>\n",
       "      <td>...</td>\n",
       "      <td>-66</td>\n",
       "      <td>164</td>\n",
       "      <td>-14</td>\n",
       "      <td>-29</td>\n",
       "      <td>107</td>\n",
       "      <td>171</td>\n",
       "      <td>-44</td>\n",
       "      <td>-115</td>\n",
       "      <td>118</td>\n",
       "      <td>0</td>\n",
       "    </tr>\n",
       "    <tr>\n",
       "      <td>6594</td>\n",
       "      <td>6595</td>\n",
       "      <td>NON-MUSK-jp13</td>\n",
       "      <td>jp13_2+6</td>\n",
       "      <td>44</td>\n",
       "      <td>-104</td>\n",
       "      <td>-19</td>\n",
       "      <td>-105</td>\n",
       "      <td>-117</td>\n",
       "      <td>142</td>\n",
       "      <td>-165</td>\n",
       "      <td>...</td>\n",
       "      <td>-51</td>\n",
       "      <td>166</td>\n",
       "      <td>-9</td>\n",
       "      <td>150</td>\n",
       "      <td>129</td>\n",
       "      <td>158</td>\n",
       "      <td>-66</td>\n",
       "      <td>-144</td>\n",
       "      <td>-5</td>\n",
       "      <td>0</td>\n",
       "    </tr>\n",
       "    <tr>\n",
       "      <td>6595</td>\n",
       "      <td>6596</td>\n",
       "      <td>NON-MUSK-jp13</td>\n",
       "      <td>jp13_2+7</td>\n",
       "      <td>44</td>\n",
       "      <td>-102</td>\n",
       "      <td>-19</td>\n",
       "      <td>-104</td>\n",
       "      <td>-117</td>\n",
       "      <td>72</td>\n",
       "      <td>-165</td>\n",
       "      <td>...</td>\n",
       "      <td>90</td>\n",
       "      <td>117</td>\n",
       "      <td>-8</td>\n",
       "      <td>150</td>\n",
       "      <td>130</td>\n",
       "      <td>159</td>\n",
       "      <td>-66</td>\n",
       "      <td>-144</td>\n",
       "      <td>-6</td>\n",
       "      <td>0</td>\n",
       "    </tr>\n",
       "    <tr>\n",
       "      <td>6596</td>\n",
       "      <td>6597</td>\n",
       "      <td>NON-MUSK-jp13</td>\n",
       "      <td>jp13_2+8</td>\n",
       "      <td>51</td>\n",
       "      <td>-121</td>\n",
       "      <td>-23</td>\n",
       "      <td>-106</td>\n",
       "      <td>-117</td>\n",
       "      <td>63</td>\n",
       "      <td>-161</td>\n",
       "      <td>...</td>\n",
       "      <td>86</td>\n",
       "      <td>99</td>\n",
       "      <td>-14</td>\n",
       "      <td>-31</td>\n",
       "      <td>106</td>\n",
       "      <td>171</td>\n",
       "      <td>-44</td>\n",
       "      <td>-116</td>\n",
       "      <td>117</td>\n",
       "      <td>0</td>\n",
       "    </tr>\n",
       "    <tr>\n",
       "      <td>6597</td>\n",
       "      <td>6598</td>\n",
       "      <td>NON-MUSK-jp13</td>\n",
       "      <td>jp13_2+9</td>\n",
       "      <td>51</td>\n",
       "      <td>-122</td>\n",
       "      <td>-23</td>\n",
       "      <td>-106</td>\n",
       "      <td>-117</td>\n",
       "      <td>190</td>\n",
       "      <td>-161</td>\n",
       "      <td>...</td>\n",
       "      <td>40</td>\n",
       "      <td>124</td>\n",
       "      <td>-14</td>\n",
       "      <td>-30</td>\n",
       "      <td>107</td>\n",
       "      <td>171</td>\n",
       "      <td>-44</td>\n",
       "      <td>-115</td>\n",
       "      <td>118</td>\n",
       "      <td>0</td>\n",
       "    </tr>\n",
       "  </tbody>\n",
       "</table>\n",
       "<p>6598 rows × 170 columns</p>\n",
       "</div>"
      ],
      "text/plain": [
       "        ID  molecule_name conformation_name  f1   f2   f3   f4   f5   f6   f7  \\\n",
       "0        1       MUSK-211           211_1+1  46 -108  -60  -69 -117   49   38   \n",
       "1        2       MUSK-211          211_1+10  41 -188 -145   22 -117   -6   57   \n",
       "2        3       MUSK-211          211_1+11  46 -194 -145   28 -117   73   57   \n",
       "3        4       MUSK-211          211_1+12  41 -188 -145   22 -117   -7   57   \n",
       "4        5       MUSK-211          211_1+13  41 -188 -145   22 -117   -7   57   \n",
       "...    ...            ...               ...  ..  ...  ...  ...  ...  ...  ...   \n",
       "6593  6594  NON-MUSK-jp13          jp13_2+5  51 -123  -23 -108 -117  134 -160   \n",
       "6594  6595  NON-MUSK-jp13          jp13_2+6  44 -104  -19 -105 -117  142 -165   \n",
       "6595  6596  NON-MUSK-jp13          jp13_2+7  44 -102  -19 -104 -117   72 -165   \n",
       "6596  6597  NON-MUSK-jp13          jp13_2+8  51 -121  -23 -106 -117   63 -161   \n",
       "6597  6598  NON-MUSK-jp13          jp13_2+9  51 -122  -23 -106 -117  190 -161   \n",
       "\n",
       "      ...  f158  f159  f160  f161  f162  f163  f164  f165  f166  class  \n",
       "0     ...  -308    52    -7    39   126   156   -50  -112    96      1  \n",
       "1     ...   -59    -2    52   103   136   169   -61  -136    79      1  \n",
       "2     ...  -134  -154    57   143   142   165   -67  -145    39      1  \n",
       "3     ...   -60    -4    52   104   136   168   -60  -135    80      1  \n",
       "4     ...   -60    -4    52   104   137   168   -60  -135    80      1  \n",
       "...   ...   ...   ...   ...   ...   ...   ...   ...   ...   ...    ...  \n",
       "6593  ...   -66   164   -14   -29   107   171   -44  -115   118      0  \n",
       "6594  ...   -51   166    -9   150   129   158   -66  -144    -5      0  \n",
       "6595  ...    90   117    -8   150   130   159   -66  -144    -6      0  \n",
       "6596  ...    86    99   -14   -31   106   171   -44  -116   117      0  \n",
       "6597  ...    40   124   -14   -30   107   171   -44  -115   118      0  \n",
       "\n",
       "[6598 rows x 170 columns]"
      ]
     },
     "execution_count": 40,
     "metadata": {},
     "output_type": "execute_result"
    }
   ],
   "source": [
    "data"
   ]
  },
  {
   "cell_type": "code",
   "execution_count": 41,
   "metadata": {},
   "outputs": [
    {
     "data": {
      "text/plain": [
       "ID                      0\n",
       "molecule_name           0\n",
       "conformation_name       0\n",
       "f1                      2\n",
       "f2                      0\n",
       "                     ... \n",
       "f163                    0\n",
       "f164                    1\n",
       "f165                    0\n",
       "f166                   17\n",
       "class                5581\n",
       "Length: 170, dtype: int64"
      ]
     },
     "execution_count": 41,
     "metadata": {},
     "output_type": "execute_result"
    }
   ],
   "source": [
    "data[data==0].count()"
   ]
  },
  {
   "cell_type": "code",
   "execution_count": 42,
   "metadata": {},
   "outputs": [
    {
     "data": {
      "text/plain": [
       "ID                   0\n",
       "molecule_name        0\n",
       "conformation_name    0\n",
       "f1                   0\n",
       "f2                   0\n",
       "                    ..\n",
       "f163                 0\n",
       "f164                 0\n",
       "f165                 0\n",
       "f166                 0\n",
       "class                0\n",
       "Length: 170, dtype: int64"
      ]
     },
     "execution_count": 42,
     "metadata": {},
     "output_type": "execute_result"
    }
   ],
   "source": [
    "data.isna().sum()"
   ]
  },
  {
   "cell_type": "code",
   "execution_count": 43,
   "metadata": {},
   "outputs": [
    {
     "data": {
      "text/plain": [
       "0    5581\n",
       "1    1017\n",
       "Name: class, dtype: int64"
      ]
     },
     "execution_count": 43,
     "metadata": {},
     "output_type": "execute_result"
    }
   ],
   "source": [
    "data[\"class\"].value_counts()"
   ]
  },
  {
   "cell_type": "code",
   "execution_count": 44,
   "metadata": {},
   "outputs": [],
   "source": [
    "li=list(data[data[\"class\"]==0].sample(n=4500).index)"
   ]
  },
  {
   "cell_type": "code",
   "execution_count": 45,
   "metadata": {},
   "outputs": [],
   "source": [
    "data.drop(li,inplace=True)"
   ]
  },
  {
   "cell_type": "code",
   "execution_count": 46,
   "metadata": {},
   "outputs": [
    {
     "data": {
      "text/plain": [
       "0    1081\n",
       "1    1017\n",
       "Name: class, dtype: int64"
      ]
     },
     "execution_count": 46,
     "metadata": {},
     "output_type": "execute_result"
    }
   ],
   "source": [
    "data[\"class\"].value_counts()"
   ]
  },
  {
   "cell_type": "code",
   "execution_count": 47,
   "metadata": {},
   "outputs": [
    {
     "data": {
      "text/plain": [
       "Index(['ID', 'molecule_name', 'conformation_name', 'f1', 'f2', 'f3', 'f4',\n",
       "       'f5', 'f6', 'f7',\n",
       "       ...\n",
       "       'f158', 'f159', 'f160', 'f161', 'f162', 'f163', 'f164', 'f165', 'f166',\n",
       "       'class'],\n",
       "      dtype='object', length=170)"
      ]
     },
     "execution_count": 47,
     "metadata": {},
     "output_type": "execute_result"
    }
   ],
   "source": [
    "data.columns"
   ]
  },
  {
   "cell_type": "code",
   "execution_count": 48,
   "metadata": {},
   "outputs": [],
   "source": [
    "data.drop(\"ID\",axis=1,inplace=True)"
   ]
  },
  {
   "cell_type": "code",
   "execution_count": 49,
   "metadata": {},
   "outputs": [],
   "source": [
    "from sklearn import preprocessing\n",
    "encoder = preprocessing.LabelEncoder()\n",
    "\n",
    "for i in data.columns:\n",
    "    if isinstance(data[i][0], str):\n",
    "            data[i] = encoder.fit_transform(data[i])"
   ]
  },
  {
   "cell_type": "code",
   "execution_count": 50,
   "metadata": {},
   "outputs": [],
   "source": [
    "import pandas as pd\n",
    "x=data.drop(\"class\",axis=1)\n",
    "y=pd.get_dummies(data['class']).values"
   ]
  },
  {
   "cell_type": "code",
   "execution_count": null,
   "metadata": {},
   "outputs": [],
   "source": []
  },
  {
   "cell_type": "code",
   "execution_count": 51,
   "metadata": {},
   "outputs": [
    {
     "data": {
      "text/html": [
       "<div>\n",
       "<style scoped>\n",
       "    .dataframe tbody tr th:only-of-type {\n",
       "        vertical-align: middle;\n",
       "    }\n",
       "\n",
       "    .dataframe tbody tr th {\n",
       "        vertical-align: top;\n",
       "    }\n",
       "\n",
       "    .dataframe thead th {\n",
       "        text-align: right;\n",
       "    }\n",
       "</style>\n",
       "<table border=\"1\" class=\"dataframe\">\n",
       "  <thead>\n",
       "    <tr style=\"text-align: right;\">\n",
       "      <th></th>\n",
       "      <th>molecule_name</th>\n",
       "      <th>conformation_name</th>\n",
       "      <th>f1</th>\n",
       "      <th>f2</th>\n",
       "      <th>f3</th>\n",
       "      <th>f4</th>\n",
       "      <th>f5</th>\n",
       "      <th>f6</th>\n",
       "      <th>f7</th>\n",
       "      <th>f8</th>\n",
       "      <th>...</th>\n",
       "      <th>f157</th>\n",
       "      <th>f158</th>\n",
       "      <th>f159</th>\n",
       "      <th>f160</th>\n",
       "      <th>f161</th>\n",
       "      <th>f162</th>\n",
       "      <th>f163</th>\n",
       "      <th>f164</th>\n",
       "      <th>f165</th>\n",
       "      <th>f166</th>\n",
       "    </tr>\n",
       "  </thead>\n",
       "  <tbody>\n",
       "    <tr>\n",
       "      <td>0</td>\n",
       "      <td>0</td>\n",
       "      <td>133</td>\n",
       "      <td>46</td>\n",
       "      <td>-108</td>\n",
       "      <td>-60</td>\n",
       "      <td>-69</td>\n",
       "      <td>-117</td>\n",
       "      <td>49</td>\n",
       "      <td>38</td>\n",
       "      <td>-161</td>\n",
       "      <td>...</td>\n",
       "      <td>-244</td>\n",
       "      <td>-308</td>\n",
       "      <td>52</td>\n",
       "      <td>-7</td>\n",
       "      <td>39</td>\n",
       "      <td>126</td>\n",
       "      <td>156</td>\n",
       "      <td>-50</td>\n",
       "      <td>-112</td>\n",
       "      <td>96</td>\n",
       "    </tr>\n",
       "    <tr>\n",
       "      <td>1</td>\n",
       "      <td>0</td>\n",
       "      <td>134</td>\n",
       "      <td>41</td>\n",
       "      <td>-188</td>\n",
       "      <td>-145</td>\n",
       "      <td>22</td>\n",
       "      <td>-117</td>\n",
       "      <td>-6</td>\n",
       "      <td>57</td>\n",
       "      <td>-171</td>\n",
       "      <td>...</td>\n",
       "      <td>-235</td>\n",
       "      <td>-59</td>\n",
       "      <td>-2</td>\n",
       "      <td>52</td>\n",
       "      <td>103</td>\n",
       "      <td>136</td>\n",
       "      <td>169</td>\n",
       "      <td>-61</td>\n",
       "      <td>-136</td>\n",
       "      <td>79</td>\n",
       "    </tr>\n",
       "    <tr>\n",
       "      <td>2</td>\n",
       "      <td>0</td>\n",
       "      <td>135</td>\n",
       "      <td>46</td>\n",
       "      <td>-194</td>\n",
       "      <td>-145</td>\n",
       "      <td>28</td>\n",
       "      <td>-117</td>\n",
       "      <td>73</td>\n",
       "      <td>57</td>\n",
       "      <td>-168</td>\n",
       "      <td>...</td>\n",
       "      <td>-238</td>\n",
       "      <td>-134</td>\n",
       "      <td>-154</td>\n",
       "      <td>57</td>\n",
       "      <td>143</td>\n",
       "      <td>142</td>\n",
       "      <td>165</td>\n",
       "      <td>-67</td>\n",
       "      <td>-145</td>\n",
       "      <td>39</td>\n",
       "    </tr>\n",
       "    <tr>\n",
       "      <td>3</td>\n",
       "      <td>0</td>\n",
       "      <td>136</td>\n",
       "      <td>41</td>\n",
       "      <td>-188</td>\n",
       "      <td>-145</td>\n",
       "      <td>22</td>\n",
       "      <td>-117</td>\n",
       "      <td>-7</td>\n",
       "      <td>57</td>\n",
       "      <td>-170</td>\n",
       "      <td>...</td>\n",
       "      <td>-236</td>\n",
       "      <td>-60</td>\n",
       "      <td>-4</td>\n",
       "      <td>52</td>\n",
       "      <td>104</td>\n",
       "      <td>136</td>\n",
       "      <td>168</td>\n",
       "      <td>-60</td>\n",
       "      <td>-135</td>\n",
       "      <td>80</td>\n",
       "    </tr>\n",
       "    <tr>\n",
       "      <td>4</td>\n",
       "      <td>0</td>\n",
       "      <td>137</td>\n",
       "      <td>41</td>\n",
       "      <td>-188</td>\n",
       "      <td>-145</td>\n",
       "      <td>22</td>\n",
       "      <td>-117</td>\n",
       "      <td>-7</td>\n",
       "      <td>57</td>\n",
       "      <td>-170</td>\n",
       "      <td>...</td>\n",
       "      <td>-236</td>\n",
       "      <td>-60</td>\n",
       "      <td>-4</td>\n",
       "      <td>52</td>\n",
       "      <td>104</td>\n",
       "      <td>137</td>\n",
       "      <td>168</td>\n",
       "      <td>-60</td>\n",
       "      <td>-135</td>\n",
       "      <td>80</td>\n",
       "    </tr>\n",
       "    <tr>\n",
       "      <td>...</td>\n",
       "      <td>...</td>\n",
       "      <td>...</td>\n",
       "      <td>...</td>\n",
       "      <td>...</td>\n",
       "      <td>...</td>\n",
       "      <td>...</td>\n",
       "      <td>...</td>\n",
       "      <td>...</td>\n",
       "      <td>...</td>\n",
       "      <td>...</td>\n",
       "      <td>...</td>\n",
       "      <td>...</td>\n",
       "      <td>...</td>\n",
       "      <td>...</td>\n",
       "      <td>...</td>\n",
       "      <td>...</td>\n",
       "      <td>...</td>\n",
       "      <td>...</td>\n",
       "      <td>...</td>\n",
       "      <td>...</td>\n",
       "      <td>...</td>\n",
       "    </tr>\n",
       "    <tr>\n",
       "      <td>6580</td>\n",
       "      <td>89</td>\n",
       "      <td>2093</td>\n",
       "      <td>37</td>\n",
       "      <td>-68</td>\n",
       "      <td>15</td>\n",
       "      <td>34</td>\n",
       "      <td>-117</td>\n",
       "      <td>-100</td>\n",
       "      <td>91</td>\n",
       "      <td>12</td>\n",
       "      <td>...</td>\n",
       "      <td>-228</td>\n",
       "      <td>-227</td>\n",
       "      <td>-203</td>\n",
       "      <td>-4</td>\n",
       "      <td>28</td>\n",
       "      <td>113</td>\n",
       "      <td>195</td>\n",
       "      <td>-55</td>\n",
       "      <td>-149</td>\n",
       "      <td>113</td>\n",
       "    </tr>\n",
       "    <tr>\n",
       "      <td>6581</td>\n",
       "      <td>89</td>\n",
       "      <td>2094</td>\n",
       "      <td>48</td>\n",
       "      <td>-153</td>\n",
       "      <td>15</td>\n",
       "      <td>30</td>\n",
       "      <td>-117</td>\n",
       "      <td>-87</td>\n",
       "      <td>91</td>\n",
       "      <td>18</td>\n",
       "      <td>...</td>\n",
       "      <td>-233</td>\n",
       "      <td>-241</td>\n",
       "      <td>-207</td>\n",
       "      <td>17</td>\n",
       "      <td>155</td>\n",
       "      <td>132</td>\n",
       "      <td>187</td>\n",
       "      <td>-72</td>\n",
       "      <td>-172</td>\n",
       "      <td>14</td>\n",
       "    </tr>\n",
       "    <tr>\n",
       "      <td>6588</td>\n",
       "      <td>89</td>\n",
       "      <td>2095</td>\n",
       "      <td>37</td>\n",
       "      <td>-134</td>\n",
       "      <td>-28</td>\n",
       "      <td>33</td>\n",
       "      <td>-117</td>\n",
       "      <td>-97</td>\n",
       "      <td>208</td>\n",
       "      <td>3</td>\n",
       "      <td>...</td>\n",
       "      <td>-231</td>\n",
       "      <td>-242</td>\n",
       "      <td>-205</td>\n",
       "      <td>-10</td>\n",
       "      <td>22</td>\n",
       "      <td>111</td>\n",
       "      <td>195</td>\n",
       "      <td>-55</td>\n",
       "      <td>-150</td>\n",
       "      <td>113</td>\n",
       "    </tr>\n",
       "    <tr>\n",
       "      <td>6593</td>\n",
       "      <td>89</td>\n",
       "      <td>2096</td>\n",
       "      <td>51</td>\n",
       "      <td>-123</td>\n",
       "      <td>-23</td>\n",
       "      <td>-108</td>\n",
       "      <td>-117</td>\n",
       "      <td>134</td>\n",
       "      <td>-160</td>\n",
       "      <td>82</td>\n",
       "      <td>...</td>\n",
       "      <td>62</td>\n",
       "      <td>-66</td>\n",
       "      <td>164</td>\n",
       "      <td>-14</td>\n",
       "      <td>-29</td>\n",
       "      <td>107</td>\n",
       "      <td>171</td>\n",
       "      <td>-44</td>\n",
       "      <td>-115</td>\n",
       "      <td>118</td>\n",
       "    </tr>\n",
       "    <tr>\n",
       "      <td>6595</td>\n",
       "      <td>89</td>\n",
       "      <td>2097</td>\n",
       "      <td>44</td>\n",
       "      <td>-102</td>\n",
       "      <td>-19</td>\n",
       "      <td>-104</td>\n",
       "      <td>-117</td>\n",
       "      <td>72</td>\n",
       "      <td>-165</td>\n",
       "      <td>65</td>\n",
       "      <td>...</td>\n",
       "      <td>-226</td>\n",
       "      <td>90</td>\n",
       "      <td>117</td>\n",
       "      <td>-8</td>\n",
       "      <td>150</td>\n",
       "      <td>130</td>\n",
       "      <td>159</td>\n",
       "      <td>-66</td>\n",
       "      <td>-144</td>\n",
       "      <td>-6</td>\n",
       "    </tr>\n",
       "  </tbody>\n",
       "</table>\n",
       "<p>2098 rows × 168 columns</p>\n",
       "</div>"
      ],
      "text/plain": [
       "      molecule_name  conformation_name  f1   f2   f3   f4   f5   f6   f7   f8  \\\n",
       "0                 0                133  46 -108  -60  -69 -117   49   38 -161   \n",
       "1                 0                134  41 -188 -145   22 -117   -6   57 -171   \n",
       "2                 0                135  46 -194 -145   28 -117   73   57 -168   \n",
       "3                 0                136  41 -188 -145   22 -117   -7   57 -170   \n",
       "4                 0                137  41 -188 -145   22 -117   -7   57 -170   \n",
       "...             ...                ...  ..  ...  ...  ...  ...  ...  ...  ...   \n",
       "6580             89               2093  37  -68   15   34 -117 -100   91   12   \n",
       "6581             89               2094  48 -153   15   30 -117  -87   91   18   \n",
       "6588             89               2095  37 -134  -28   33 -117  -97  208    3   \n",
       "6593             89               2096  51 -123  -23 -108 -117  134 -160   82   \n",
       "6595             89               2097  44 -102  -19 -104 -117   72 -165   65   \n",
       "\n",
       "      ...  f157  f158  f159  f160  f161  f162  f163  f164  f165  f166  \n",
       "0     ...  -244  -308    52    -7    39   126   156   -50  -112    96  \n",
       "1     ...  -235   -59    -2    52   103   136   169   -61  -136    79  \n",
       "2     ...  -238  -134  -154    57   143   142   165   -67  -145    39  \n",
       "3     ...  -236   -60    -4    52   104   136   168   -60  -135    80  \n",
       "4     ...  -236   -60    -4    52   104   137   168   -60  -135    80  \n",
       "...   ...   ...   ...   ...   ...   ...   ...   ...   ...   ...   ...  \n",
       "6580  ...  -228  -227  -203    -4    28   113   195   -55  -149   113  \n",
       "6581  ...  -233  -241  -207    17   155   132   187   -72  -172    14  \n",
       "6588  ...  -231  -242  -205   -10    22   111   195   -55  -150   113  \n",
       "6593  ...    62   -66   164   -14   -29   107   171   -44  -115   118  \n",
       "6595  ...  -226    90   117    -8   150   130   159   -66  -144    -6  \n",
       "\n",
       "[2098 rows x 168 columns]"
      ]
     },
     "execution_count": 51,
     "metadata": {},
     "output_type": "execute_result"
    }
   ],
   "source": [
    "x"
   ]
  },
  {
   "cell_type": "code",
   "execution_count": 52,
   "metadata": {},
   "outputs": [
    {
     "data": {
      "text/plain": [
       "array([[0, 1],\n",
       "       [0, 1],\n",
       "       [0, 1],\n",
       "       ...,\n",
       "       [1, 0],\n",
       "       [1, 0],\n",
       "       [1, 0]], dtype=uint8)"
      ]
     },
     "execution_count": 52,
     "metadata": {},
     "output_type": "execute_result"
    }
   ],
   "source": [
    "y"
   ]
  },
  {
   "cell_type": "code",
   "execution_count": null,
   "metadata": {},
   "outputs": [],
   "source": []
  },
  {
   "cell_type": "code",
   "execution_count": 53,
   "metadata": {},
   "outputs": [],
   "source": [
    "from sklearn.model_selection import train_test_split"
   ]
  },
  {
   "cell_type": "code",
   "execution_count": 54,
   "metadata": {},
   "outputs": [],
   "source": [
    "train_x,test_x,train_y,test_y=train_test_split(x,y,train_size=0.8,random_state=1)"
   ]
  },
  {
   "cell_type": "code",
   "execution_count": 55,
   "metadata": {},
   "outputs": [
    {
     "data": {
      "text/plain": [
       "(1678, 168)"
      ]
     },
     "execution_count": 55,
     "metadata": {},
     "output_type": "execute_result"
    }
   ],
   "source": [
    "train_x.shape"
   ]
  },
  {
   "cell_type": "code",
   "execution_count": 56,
   "metadata": {},
   "outputs": [
    {
     "data": {
      "text/plain": [
       "(1678, 2)"
      ]
     },
     "execution_count": 56,
     "metadata": {},
     "output_type": "execute_result"
    }
   ],
   "source": [
    "train_y.shape"
   ]
  },
  {
   "cell_type": "code",
   "execution_count": 57,
   "metadata": {},
   "outputs": [],
   "source": [
    "import tensorflow as tf"
   ]
  },
  {
   "cell_type": "code",
   "execution_count": 58,
   "metadata": {},
   "outputs": [],
   "source": [
    "graph=tf.Graph()"
   ]
  },
  {
   "cell_type": "code",
   "execution_count": 106,
   "metadata": {},
   "outputs": [],
   "source": [
    "with graph.as_default():\n",
    "     \n",
    "    x_input  = tf.compat.v1.placeholder(tf.float32, shape=[None, 168])\n",
    "    y_output = tf.compat.v1.placeholder(tf.float32, shape=[None, 2])\n",
    "    \n",
    "    weights1 = tf.Variable(tf.compat.v1.random_normal([168,70],\n",
    "                                           mean=0,\n",
    "                                           stddev=0.01,\n",
    "                                           name=\"weights1\"))\n",
    "\n",
    "    bias1 = tf.Variable(tf.compat.v1.random_normal([1,70],\n",
    "                                        mean=0,\n",
    "                                        stddev=0.01,\n",
    "                                        name=\"bias1\"))\n",
    "    weights2 = tf.Variable(tf.compat.v1.random_normal([70,30],\n",
    "                                           mean=0,\n",
    "                                           stddev=0.01,\n",
    "                                           name=\"weights2\"))\n",
    "\n",
    "    bias2 = tf.Variable(tf.compat.v1.random_normal([1,30],\n",
    "                                        mean=0,\n",
    "                                        stddev=0.01,\n",
    "                                        name=\"bias2\"))\n",
    "    weights3 = tf.Variable(tf.compat.v1.random_normal([30,2],\n",
    "                                           mean=0,\n",
    "                                           stddev=0.01,\n",
    "                                           name=\"weights3\"))\n",
    "\n",
    "    bias3 = tf.Variable(tf.compat.v1.random_normal([1,2],\n",
    "                                        mean=0,\n",
    "                                        stddev=0.01,\n",
    "                                        name=\"bias3\"))\n",
    "    \n",
    " \n",
    "  \n",
    "    apply_weights_OP1 = tf.matmul(x_input, weights1, name=\"apply_weights1\")\n",
    "    add_bias_OP1 = tf.add(apply_weights_OP1, bias1, name=\"add_bias1\") \n",
    "    activation_OP1 = tf.nn.sigmoid(add_bias_OP1, name=\"activation1\")\n",
    "    \n",
    "    apply_weights_OP2 = tf.matmul(activation_OP1, weights2, name=\"apply_weights2\")\n",
    "    add_bias_OP2 = tf.add(apply_weights_OP2, bias2, name=\"add_bias2\") \n",
    "    activation_OP2 = tf.nn.sigmoid(add_bias_OP2, name=\"activation2\")\n",
    "    \n",
    "    \n",
    "    #output  layer\n",
    "    add_bias_OP3=tf.matmul(activation_OP2, weights3) + bias3\n",
    "    activation_OP5 = tf.nn.softmax(add_bias_OP3)\n",
    "    #cross entropy  it is a classification model \n",
    "    #entropy=-plogp-qlogq\n",
    "    cross_entropy=tf.reduce_mean(-tf.reduce_sum(y_output*tf.compat.v1.log(activation_OP5),axis=1))\n",
    "    \n",
    "    train_step=tf.compat.v1.train.AdamOptimizer(0.01).minimize(cross_entropy)\n",
    "    correct_pred=tf.equal(tf.argmax(activation_OP5,1),tf.argmax(y_output,1))\n",
    "    accuracy=tf.reduce_mean(tf.cast(correct_pred,float))\n",
    "    init=tf.compat.v1.global_variables_initializer()\n",
    "    \n",
    "    \n",
    "    "
   ]
  },
  {
   "cell_type": "code",
   "execution_count": null,
   "metadata": {},
   "outputs": [],
   "source": []
  },
  {
   "cell_type": "code",
   "execution_count": 107,
   "metadata": {},
   "outputs": [],
   "source": [
    "sess = tf.compat.v1.Session(graph=graph)\n",
    "sess.run(init)"
   ]
  },
  {
   "cell_type": "code",
   "execution_count": 108,
   "metadata": {},
   "outputs": [
    {
     "name": "stdout",
     "output_type": "stream",
     "text": [
      "step 0, training accuracy 0.513707, cost 0.701821, change in cost 0.701821\n",
      "step 1, training accuracy 0.513707, cost 0.691974, change in cost 0.00984687\n",
      "step 2, training accuracy 0.486293, cost 0.692198, change in cost 0.000223577\n",
      "step 3, training accuracy 0.486293, cost 0.692685, change in cost 0.000487387\n",
      "step 4, training accuracy 0.486293, cost 0.688906, change in cost 0.00377947\n",
      "step 5, training accuracy 0.706198, cost 0.6825, change in cost 0.00640607\n",
      "step 6, training accuracy 0.670441, cost 0.67507, change in cost 0.00742936\n",
      "step 7, training accuracy 0.672825, cost 0.665712, change in cost 0.00935882\n",
      "step 8, training accuracy 0.672229, cost 0.654118, change in cost 0.0115931\n",
      "step 9, training accuracy 0.670441, cost 0.639309, change in cost 0.0148091\n",
      "step 10, training accuracy 0.672825, cost 0.618922, change in cost 0.0203876\n",
      "step 11, training accuracy 0.716925, cost 0.598506, change in cost 0.0204155\n",
      "step 12, training accuracy 0.744934, cost 0.579344, change in cost 0.0191622\n",
      "step 13, training accuracy 0.755066, cost 0.554959, change in cost 0.0243846\n",
      "step 14, training accuracy 0.759237, cost 0.534419, change in cost 0.0205405\n",
      "step 15, training accuracy 0.759833, cost 0.513955, change in cost 0.0204639\n",
      "step 16, training accuracy 0.740167, cost 0.493495, change in cost 0.0204604\n",
      "step 17, training accuracy 0.747318, cost 0.469393, change in cost 0.0241019\n",
      "step 18, training accuracy 0.756257, cost 0.450816, change in cost 0.0185771\n",
      "step 19, training accuracy 0.759833, cost 0.445549, change in cost 0.00526673\n",
      "step 20, training accuracy 0.76758, cost 0.41582, change in cost 0.0297289\n",
      "step 21, training accuracy 0.794398, cost 0.403794, change in cost 0.0120261\n",
      "step 22, training accuracy 0.812872, cost 0.380909, change in cost 0.022885\n",
      "step 23, training accuracy 0.841478, cost 0.353478, change in cost 0.0274305\n",
      "step 24, training accuracy 0.83969, cost 0.358533, change in cost 0.00505495\n",
      "step 25, training accuracy 0.852801, cost 0.336061, change in cost 0.022472\n",
      "step 26, training accuracy 0.867104, cost 0.323641, change in cost 0.0124205\n",
      "step 27, training accuracy 0.86174, cost 0.307808, change in cost 0.0158329\n",
      "step 28, training accuracy 0.876639, cost 0.29654, change in cost 0.0112683\n",
      "step 29, training accuracy 0.895113, cost 0.273588, change in cost 0.0229516\n",
      "step 30, training accuracy 0.892729, cost 0.26041, change in cost 0.013178\n",
      "step 31, training accuracy 0.896901, cost 0.252588, change in cost 0.00782186\n",
      "step 32, training accuracy 0.890942, cost 0.255291, change in cost 0.00270325\n",
      "step 33, training accuracy 0.910608, cost 0.234193, change in cost 0.0210989\n",
      "step 34, training accuracy 0.911204, cost 0.239196, change in cost 0.0050039\n",
      "step 35, training accuracy 0.911204, cost 0.226924, change in cost 0.0122726\n",
      "step 36, training accuracy 0.920739, cost 0.206769, change in cost 0.0201548\n",
      "step 37, training accuracy 0.920143, cost 0.208229, change in cost 0.00146036\n",
      "step 38, training accuracy 0.918951, cost 0.208226, change in cost 3.24845e-06\n",
      "change in cost 3.24845e-06; convergence.\n",
      "final accuracy on test set: 0.91895115\n"
     ]
    }
   ],
   "source": [
    "numEpochs = 10000\n",
    "cost = 0\n",
    "diff = 1\n",
    "epoch_values = []\n",
    "accuracy_values = []\n",
    "cost_values = []\n",
    "\n",
    "\n",
    "# Training epochs\n",
    "for i in range(numEpochs):\n",
    "    if i > 1 and diff < .0001:\n",
    "        print(\"change in cost %g; convergence.\"%diff)\n",
    "        break\n",
    "    else:\n",
    "        # Run training step\n",
    "        step = sess.run(train_step, feed_dict={x_input:train_x, y_output: train_y})\n",
    "        # Report occasional stats\n",
    "        if i % 1 == 0:\n",
    "            # Add epoch to epoch_values\n",
    "            epoch_values.append(i)\n",
    "            # Generate accuracy stats on test data\n",
    "            train_accuracy, newCost = sess.run([accuracy, cross_entropy], feed_dict={x_input:train_x, y_output: train_y})\n",
    "            # Add accuracy to live graphing variable\n",
    "            accuracy_values.append(train_accuracy)\n",
    "            cost_values.append(newCost)\n",
    "#             #error for test \n",
    "#             test_accuracy, newCost2 = sess.run([accuracy, cross_entropy], feed_dict={x_input:test_x, y_output: test_y})\n",
    "#             test_acc_val.append(test_accuracy)\n",
    "#             test_cost.append(newCost2)\n",
    "\n",
    "            # Re-assign values for variables\n",
    "            diff = abs(newCost - cost)\n",
    "            cost = newCost\n",
    "\n",
    "            #generate print statements\n",
    "            print(\"step %d, training accuracy %g, cost %g, change in cost %g\"%(i, train_accuracy, newCost, diff))\n",
    "\n",
    "\n",
    "# How well do we perform on held-out test data?\n",
    "print(\"final accuracy on test set: %s\" %str(sess.run(accuracy, \n",
    "                                                     feed_dict={x_input:train_x, y_output: train_y})))"
   ]
  },
  {
   "cell_type": "code",
   "execution_count": 109,
   "metadata": {},
   "outputs": [],
   "source": [
    "import numpy as np\n",
    "epoch_vl=np.array(epoch_values)\n",
    "accuracy_values=np.array(accuracy_values)\n"
   ]
  },
  {
   "cell_type": "code",
   "execution_count": null,
   "metadata": {},
   "outputs": [],
   "source": []
  },
  {
   "cell_type": "code",
   "execution_count": null,
   "metadata": {},
   "outputs": [],
   "source": []
  },
  {
   "cell_type": "code",
   "execution_count": 110,
   "metadata": {},
   "outputs": [
    {
     "data": {
      "text/plain": [
       "Text(0, 0.5, 'accuracy_values')"
      ]
     },
     "execution_count": 110,
     "metadata": {},
     "output_type": "execute_result"
    },
    {
     "data": {
      "image/png": "[encoded data removed]",
      "text/plain": [
       "<Figure size 432x288 with 1 Axes>"
      ]
     },
     "metadata": {
      "needs_background": "light"
     },
     "output_type": "display_data"
    }
   ],
   "source": [
    "plt.plot(epoch_vl,accuracy_values)\n",
    "plt.xlabel(\"epoch\")\n",
    "plt.ylabel(\"accuracy_values\")"
   ]
  },
  {
   "cell_type": "code",
   "execution_count": 81,
   "metadata": {},
   "outputs": [],
   "source": [
    "import matplotlib.pyplot as plt"
   ]
  },
  {
   "cell_type": "code",
   "execution_count": 112,
   "metadata": {},
   "outputs": [
    {
     "name": "stdout",
     "output_type": "stream",
     "text": [
      "step 0, testing accuracy 0.888095, cost 0.229095, change in cost 0.229095\n",
      "step 10, testing accuracy 0.909524, cost 0.209342, change in cost 0.0197527\n",
      "step 20, testing accuracy 0.921429, cost 0.234399, change in cost 0.0250567\n",
      "step 30, testing accuracy 0.909524, cost 0.230584, change in cost 0.00381505\n",
      "step 40, testing accuracy 0.895238, cost 0.268084, change in cost 0.037501\n",
      "step 50, testing accuracy 0.919048, cost 0.208896, change in cost 0.0591887\n",
      "step 60, testing accuracy 0.857143, cost 0.296097, change in cost 0.0872016\n",
      "step 70, testing accuracy 0.878571, cost 0.260467, change in cost 0.0356301\n",
      "step 80, testing accuracy 0.845238, cost 0.264116, change in cost 0.00364876\n",
      "step 90, testing accuracy 0.895238, cost 0.23627, change in cost 0.0278461\n",
      "step 100, testing accuracy 0.897619, cost 0.222825, change in cost 0.0134449\n",
      "step 110, testing accuracy 0.864286, cost 0.245187, change in cost 0.0223619\n",
      "step 120, testing accuracy 0.92381, cost 0.207974, change in cost 0.0372129\n",
      "step 130, testing accuracy 0.930952, cost 0.184741, change in cost 0.0232333\n",
      "step 140, testing accuracy 0.933333, cost 0.178084, change in cost 0.006657\n",
      "step 150, testing accuracy 0.919048, cost 0.185703, change in cost 0.00761896\n",
      "step 160, testing accuracy 0.921429, cost 0.165054, change in cost 0.0206483\n",
      "step 170, testing accuracy 0.957143, cost 0.133289, change in cost 0.0317658\n",
      "step 180, testing accuracy 0.878571, cost 0.249925, change in cost 0.116636\n",
      "step 190, testing accuracy 0.890476, cost 0.230643, change in cost 0.019282\n",
      "step 200, testing accuracy 0.888095, cost 0.232044, change in cost 0.00140139\n",
      "step 210, testing accuracy 0.911905, cost 0.231856, change in cost 0.000188693\n",
      "step 220, testing accuracy 0.880952, cost 0.244333, change in cost 0.0124777\n",
      "step 230, testing accuracy 0.885714, cost 0.245048, change in cost 0.000714839\n",
      "step 240, testing accuracy 0.888095, cost 0.226067, change in cost 0.0189812\n",
      "step 250, testing accuracy 0.888095, cost 0.216111, change in cost 0.0099557\n",
      "step 260, testing accuracy 0.942857, cost 0.178506, change in cost 0.0376055\n",
      "step 270, testing accuracy 0.942857, cost 0.180905, change in cost 0.00239961\n",
      "step 280, testing accuracy 0.888095, cost 0.209864, change in cost 0.0289583\n",
      "step 290, testing accuracy 0.92381, cost 0.189592, change in cost 0.0202717\n",
      "step 300, testing accuracy 0.916667, cost 0.221369, change in cost 0.0317766\n",
      "step 310, testing accuracy 0.945238, cost 0.176484, change in cost 0.0448848\n",
      "step 320, testing accuracy 0.921429, cost 0.196701, change in cost 0.0202172\n",
      "step 330, testing accuracy 0.942857, cost 0.17255, change in cost 0.024151\n",
      "step 340, testing accuracy 0.942857, cost 0.173929, change in cost 0.00137897\n",
      "step 350, testing accuracy 0.933333, cost 0.169647, change in cost 0.00428233\n",
      "step 360, testing accuracy 0.938095, cost 0.174944, change in cost 0.00529753\n",
      "step 370, testing accuracy 0.942857, cost 0.169238, change in cost 0.00570628\n",
      "step 380, testing accuracy 0.852381, cost 0.254845, change in cost 0.0856068\n",
      "step 390, testing accuracy 0.878571, cost 0.250245, change in cost 0.00459954\n",
      "step 400, testing accuracy 0.883333, cost 0.252589, change in cost 0.0023436\n",
      "step 410, testing accuracy 0.880952, cost 0.248812, change in cost 0.0037767\n",
      "step 420, testing accuracy 0.880952, cost 0.24838, change in cost 0.00043194\n",
      "step 430, testing accuracy 0.880952, cost 0.247618, change in cost 0.000761926\n",
      "step 440, testing accuracy 0.880952, cost 0.247076, change in cost 0.000542447\n",
      "step 450, testing accuracy 0.885714, cost 0.242882, change in cost 0.00419359\n",
      "step 460, testing accuracy 0.880952, cost 0.310094, change in cost 0.0672118\n",
      "step 470, testing accuracy 0.847619, cost 0.294313, change in cost 0.0157807\n",
      "step 480, testing accuracy 0.869048, cost 0.269974, change in cost 0.0243397\n",
      "step 490, testing accuracy 0.871429, cost 0.263584, change in cost 0.00638974\n",
      "step 500, testing accuracy 0.87381, cost 0.260859, change in cost 0.00272521\n",
      "step 510, testing accuracy 0.87381, cost 0.260069, change in cost 0.000789583\n",
      "step 520, testing accuracy 0.87381, cost 0.259571, change in cost 0.000497878\n",
      "step 530, testing accuracy 0.87381, cost 0.259311, change in cost 0.000259817\n",
      "step 540, testing accuracy 0.87381, cost 0.259053, change in cost 0.000258654\n",
      "step 550, testing accuracy 0.87381, cost 0.258813, change in cost 0.000239372\n",
      "step 560, testing accuracy 0.87381, cost 0.258588, change in cost 0.000225127\n",
      "step 570, testing accuracy 0.87381, cost 0.258377, change in cost 0.000210941\n",
      "step 580, testing accuracy 0.87381, cost 0.258179, change in cost 0.000198692\n",
      "step 590, testing accuracy 0.87381, cost 0.25799, change in cost 0.0001885\n",
      "step 600, testing accuracy 0.87381, cost 0.257811, change in cost 0.00017938\n",
      "step 610, testing accuracy 0.87619, cost 0.25764, change in cost 0.000170946\n",
      "step 620, testing accuracy 0.87619, cost 0.257476, change in cost 0.000163257\n",
      "step 630, testing accuracy 0.87619, cost 0.257321, change in cost 0.000155628\n",
      "step 640, testing accuracy 0.87619, cost 0.257172, change in cost 0.000148594\n",
      "step 650, testing accuracy 0.87619, cost 0.25703, change in cost 0.000141889\n",
      "step 660, testing accuracy 0.87619, cost 0.256895, change in cost 0.000135452\n",
      "step 670, testing accuracy 0.87619, cost 0.256765, change in cost 0.00012958\n",
      "step 680, testing accuracy 0.87619, cost 0.256642, change in cost 0.000123709\n",
      "step 690, testing accuracy 0.87619, cost 0.256523, change in cost 0.000118315\n",
      "step 700, testing accuracy 0.87619, cost 0.25641, change in cost 0.000113279\n",
      "step 710, testing accuracy 0.87619, cost 0.256302, change in cost 0.000108421\n",
      "step 720, testing accuracy 0.87619, cost 0.256198, change in cost 0.00010401\n",
      "step 730, testing accuracy 0.87619, cost 0.256098, change in cost 9.9659e-05\n",
      "change in cost 9.9659e-05; convergence.\n",
      "final accuracy on test set: 0.8761905\n"
     ]
    }
   ],
   "source": [
    "numEpochs = 10000\n",
    "cost = 0\n",
    "diff = 1\n",
    "epoch_values = []\n",
    "\n",
    "test_acc_val=[]\n",
    "test_cost=[]\n",
    "\n",
    "# Training epochs\n",
    "for i in range(numEpochs):\n",
    "    if i > 1 and diff < .0001:\n",
    "        print(\"change in cost %g; convergence.\"%diff)\n",
    "        break\n",
    "    else:\n",
    "        # Run training step\n",
    "        step = sess.run(train_step, feed_dict={x_input:test_x, y_output: test_y})\n",
    "        # Report occasional stats\n",
    "        if i % 10 == 0:\n",
    "            # Add epoch to epoch_values\n",
    "            epoch_values.append(i)\n",
    "            # Generate accuracy stats on test data\n",
    "            test_accuracy, newCost = sess.run([accuracy, cross_entropy], feed_dict={x_input:test_x, y_output: test_y})\n",
    "            # Add accuracy to live graphing variable\n",
    "            test_acc_val.append(test_accuracy)\n",
    "            test_cost.append(newCost)\n",
    "#             #error for test \n",
    "#             test_accuracy, newCost2 = sess.run([accuracy, cross_entropy], feed_dict={x_input:test_x, y_output: test_y})\n",
    "#             test_acc_val.append(test_accuracy)\n",
    "#             test_cost.append(newCost2)\n",
    "            # Re-assign values for variables\n",
    "            diff = abs(newCost - cost)\n",
    "            cost = newCost\n",
    "\n",
    "            #generate print statements\n",
    "            print(\"step %d, testing accuracy %g, cost %g, change in cost %g\"%(i, test_accuracy, newCost, diff))\n",
    "\n",
    "\n",
    "# How well do we perform on held-out test data?\n",
    "print(\"final accuracy on test set: %s\" %str(sess.run(accuracy, \n",
    "                                                     feed_dict={x_input:test_x, y_output: test_y})))"
   ]
  },
  {
   "cell_type": "code",
   "execution_count": 113,
   "metadata": {},
   "outputs": [
    {
     "data": {
      "text/plain": [
       "Text(0, 0.5, 'test accuracy')"
      ]
     },
     "execution_count": 113,
     "metadata": {},
     "output_type": "execute_result"
    },
    {
     "data": {
      "image/png": "[encoded data removed]",
      "text/plain": [
       "<Figure size 432x288 with 1 Axes>"
      ]
     },
     "metadata": {
      "needs_background": "light"
     },
     "output_type": "display_data"
    }
   ],
   "source": [
    "#  accuracy of testing \n",
    "plt.plot(epoch_values,test_acc_val)\n",
    "plt.xlabel(\"epoch\")\n",
    "plt.ylabel(\"test accuracy\")"
   ]
  },
  {
   "cell_type": "code",
   "execution_count": 114,
   "metadata": {},
   "outputs": [
    {
     "data": {
      "text/plain": [
       "Text(0, 0.5, 'test cost')"
      ]
     },
     "execution_count": 114,
     "metadata": {},
     "output_type": "execute_result"
    },
    {
     "data": {
      "image/png": "[encoded data removed]",
      "text/plain": [
       "<Figure size 432x288 with 1 Axes>"
      ]
     },
     "metadata": {
      "needs_background": "light"
     },
     "output_type": "display_data"
    }
   ],
   "source": [
    "#cost error\n",
    "plt.plot(epoch_values,test_cost)\n",
    "plt.xlabel(\"epoch\")\n",
    "plt.ylabel(\"test cost\")"
   ]
  },
  {
   "cell_type": "code",
   "execution_count": 97,
   "metadata": {},
   "outputs": [],
   "source": []
  },
  {
   "cell_type": "code",
   "execution_count": 115,
   "metadata": {},
   "outputs": [
    {
     "data": {
      "text/plain": [
       "[<matplotlib.lines.Line2D at 0x2bce18b42c8>]"
      ]
     },
     "execution_count": 115,
     "metadata": {},
     "output_type": "execute_result"
    },
    {
     "data": {
      "image/png": "[encoded data removed]",
      "text/plain": [
       "<Figure size 432x288 with 1 Axes>"
      ]
     },
     "metadata": {
      "needs_background": "light"
     },
     "output_type": "display_data"
    }
   ],
   "source": [
    "plt.plot(epoch_vl,accuracy_values,\"g\")\n",
    "plt.plot(epoch_values,test_acc_val)"
   ]
  },
  {
   "cell_type": "code",
   "execution_count": null,
   "metadata": {},
   "outputs": [],
   "source": []
  },
  {
   "cell_type": "code",
   "execution_count": null,
   "metadata": {},
   "outputs": [],
   "source": []
  },
  {
   "cell_type": "code",
   "execution_count": null,
   "metadata": {},
   "outputs": [],
   "source": []
  },
  {
   "cell_type": "code",
   "execution_count": null,
   "metadata": {},
   "outputs": [],
   "source": []
  }
 ],
 "metadata": {
  "kernelspec": {
   "display_name": "Python 3",
   "language": "python",
   "name": "python3"
  },
  "language_info": {
   "codemirror_mode": {
    "name": "ipython",
    "version": 3
   },
   "file_extension": ".py",
   "mimetype": "text/x-python",
   "name": "python",
   "nbconvert_exporter": "python",
   "pygments_lexer": "ipython3",
   "version": "3.7.4"
  }
 },
 "nbformat": 4,
 "nbformat_minor": 2
}
