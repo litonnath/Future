{
 "cells": [
  {
   "cell_type": "code",
   "execution_count": 16,
   "metadata": {},
   "outputs": [],
   "source": [
    "from bs4 import BeautifulSoup as soup"
   ]
  },
  {
   "cell_type": "code",
   "execution_count": 17,
   "metadata": {},
   "outputs": [],
   "source": [
    "from urllib.request import urlopen as ureq\n"
   ]
  },
  {
   "cell_type": "code",
   "execution_count": 19,
   "metadata": {},
   "outputs": [
    {
     "name": "stdout",
     "output_type": "stream",
     "text": [
      "Enter what you want to searchliton\n"
     ]
    }
   ],
   "source": [
    "search=input(\"Enter what you want to search\")"
   ]
  },
  {
   "cell_type": "code",
   "execution_count": 20,
   "metadata": {},
   "outputs": [],
   "source": [
    "url=[\"https://in.search.yahoo.com/search;_ylt=AwrPg3WbkCBeEh8A4B.7HAx.;_ylu=X3oDMTEzZzNnZms4BGNvbG8Dc2czBHBvcwMxBHZ0aWQDBHNlYwNwYWdpbmF0aW9u?p=\"+str(search)+\"&ei=UTF-8&fr=yfp-t&fp=1&b=11&pz=10&pstart=13\"]"
   ]
  },
  {
   "cell_type": "code",
   "execution_count": 21,
   "metadata": {},
   "outputs": [],
   "source": [
    "url1=\"https://in.search.yahoo.com/search;_ylt=AwrPg3WbkCBeEh8A4B.7HAx.;_ylu=X3oDMTEzZzNnZms4BGNvbG8Dc2czBHBvcwMxBHZ0aWQDBHNlYwNwYWdpbmF0aW9u?p=\"+str(search)+\"&ei=UTF-8&fr=yfp-t&fp=1&b=11&pz=10&pstart=13\""
   ]
  },
  {
   "cell_type": "code",
   "execution_count": 22,
   "metadata": {},
   "outputs": [],
   "source": [
    "#here is b=11 value which is used to move page\n",
    "    "
   ]
  },
  {
   "cell_type": "code",
   "execution_count": 23,
   "metadata": {},
   "outputs": [],
   "source": [
    "import re"
   ]
  },
  {
   "cell_type": "code",
   "execution_count": null,
   "metadata": {},
   "outputs": [],
   "source": []
  },
  {
   "cell_type": "code",
   "execution_count": 24,
   "metadata": {},
   "outputs": [],
   "source": [
    "for k in range(10,110,10):\n",
    "    url.append(url1.replace(\"b=11\",\"b=\"+str(int(11+k))))"
   ]
  },
  {
   "cell_type": "code",
   "execution_count": 25,
   "metadata": {},
   "outputs": [
    {
     "data": {
      "text/plain": [
       "['https://in.search.yahoo.com/search;_ylt=AwrPg3WbkCBeEh8A4B.7HAx.;_ylu=X3oDMTEzZzNnZms4BGNvbG8Dc2czBHBvcwMxBHZ0aWQDBHNlYwNwYWdpbmF0aW9u?p=liton&ei=UTF-8&fr=yfp-t&fp=1&b=11&pz=10&pstart=13',\n",
       " 'https://in.search.yahoo.com/search;_ylt=AwrPg3WbkCBeEh8A4B.7HAx.;_ylu=X3oDMTEzZzNnZms4BGNvbG8Dc2czBHBvcwMxBHZ0aWQDBHNlYwNwYWdpbmF0aW9u?p=liton&ei=UTF-8&fr=yfp-t&fp=1&b=21&pz=10&pstart=13',\n",
       " 'https://in.search.yahoo.com/search;_ylt=AwrPg3WbkCBeEh8A4B.7HAx.;_ylu=X3oDMTEzZzNnZms4BGNvbG8Dc2czBHBvcwMxBHZ0aWQDBHNlYwNwYWdpbmF0aW9u?p=liton&ei=UTF-8&fr=yfp-t&fp=1&b=31&pz=10&pstart=13',\n",
       " 'https://in.search.yahoo.com/search;_ylt=AwrPg3WbkCBeEh8A4B.7HAx.;_ylu=X3oDMTEzZzNnZms4BGNvbG8Dc2czBHBvcwMxBHZ0aWQDBHNlYwNwYWdpbmF0aW9u?p=liton&ei=UTF-8&fr=yfp-t&fp=1&b=41&pz=10&pstart=13',\n",
       " 'https://in.search.yahoo.com/search;_ylt=AwrPg3WbkCBeEh8A4B.7HAx.;_ylu=X3oDMTEzZzNnZms4BGNvbG8Dc2czBHBvcwMxBHZ0aWQDBHNlYwNwYWdpbmF0aW9u?p=liton&ei=UTF-8&fr=yfp-t&fp=1&b=51&pz=10&pstart=13',\n",
       " 'https://in.search.yahoo.com/search;_ylt=AwrPg3WbkCBeEh8A4B.7HAx.;_ylu=X3oDMTEzZzNnZms4BGNvbG8Dc2czBHBvcwMxBHZ0aWQDBHNlYwNwYWdpbmF0aW9u?p=liton&ei=UTF-8&fr=yfp-t&fp=1&b=61&pz=10&pstart=13',\n",
       " 'https://in.search.yahoo.com/search;_ylt=AwrPg3WbkCBeEh8A4B.7HAx.;_ylu=X3oDMTEzZzNnZms4BGNvbG8Dc2czBHBvcwMxBHZ0aWQDBHNlYwNwYWdpbmF0aW9u?p=liton&ei=UTF-8&fr=yfp-t&fp=1&b=71&pz=10&pstart=13',\n",
       " 'https://in.search.yahoo.com/search;_ylt=AwrPg3WbkCBeEh8A4B.7HAx.;_ylu=X3oDMTEzZzNnZms4BGNvbG8Dc2czBHBvcwMxBHZ0aWQDBHNlYwNwYWdpbmF0aW9u?p=liton&ei=UTF-8&fr=yfp-t&fp=1&b=81&pz=10&pstart=13',\n",
       " 'https://in.search.yahoo.com/search;_ylt=AwrPg3WbkCBeEh8A4B.7HAx.;_ylu=X3oDMTEzZzNnZms4BGNvbG8Dc2czBHBvcwMxBHZ0aWQDBHNlYwNwYWdpbmF0aW9u?p=liton&ei=UTF-8&fr=yfp-t&fp=1&b=91&pz=10&pstart=13',\n",
       " 'https://in.search.yahoo.com/search;_ylt=AwrPg3WbkCBeEh8A4B.7HAx.;_ylu=X3oDMTEzZzNnZms4BGNvbG8Dc2czBHBvcwMxBHZ0aWQDBHNlYwNwYWdpbmF0aW9u?p=liton&ei=UTF-8&fr=yfp-t&fp=1&b=101&pz=10&pstart=13',\n",
       " 'https://in.search.yahoo.com/search;_ylt=AwrPg3WbkCBeEh8A4B.7HAx.;_ylu=X3oDMTEzZzNnZms4BGNvbG8Dc2czBHBvcwMxBHZ0aWQDBHNlYwNwYWdpbmF0aW9u?p=liton&ei=UTF-8&fr=yfp-t&fp=1&b=111&pz=10&pstart=13']"
      ]
     },
     "execution_count": 25,
     "metadata": {},
     "output_type": "execute_result"
    }
   ],
   "source": [
    "url"
   ]
  },
  {
   "cell_type": "code",
   "execution_count": 26,
   "metadata": {},
   "outputs": [],
   "source": [
    "import re"
   ]
  },
  {
   "cell_type": "code",
   "execution_count": null,
   "metadata": {},
   "outputs": [],
   "source": []
  },
  {
   "cell_type": "code",
   "execution_count": null,
   "metadata": {},
   "outputs": [],
   "source": []
  },
  {
   "cell_type": "code",
   "execution_count": 27,
   "metadata": {},
   "outputs": [],
   "source": [
    "#page_read=uclient.read()"
   ]
  },
  {
   "cell_type": "code",
   "execution_count": null,
   "metadata": {},
   "outputs": [],
   "source": []
  },
  {
   "cell_type": "code",
   "execution_count": 28,
   "metadata": {},
   "outputs": [],
   "source": [
    "#client.close()"
   ]
  },
  {
   "cell_type": "code",
   "execution_count": 29,
   "metadata": {},
   "outputs": [],
   "source": [
    "#page_soup=soup(page_read,\"html.parser\")"
   ]
  },
  {
   "cell_type": "code",
   "execution_count": 30,
   "metadata": {},
   "outputs": [],
   "source": [
    "#for link in page_soup.findAll(\"a\"):\n",
    "    #print(link.text)\n",
    "    "
   ]
  },
  {
   "cell_type": "code",
   "execution_count": 31,
   "metadata": {},
   "outputs": [
    {
     "name": "stdout",
     "output_type": "stream",
     "text": [
      "https://www.niser.ac.in/users/liton\n",
      "https://www.sportskeeda.com/player/liton-das\n",
      "https://www.cricbuzz.com/cricket-news/110936/liton-nayeem-replaced-with-concussion-substitutes-after-blows-to-helmet\n",
      "https://www.espncricinfo.com/story/_/id/26998713/liton-das-battle-nerves-pressure\n",
      "https://timesofindia.indiatimes.com/topic/Liton-Das\n",
      "https://in.linkedin.com/in/liton-bala-089713101\n",
      "https://www.liton.be/\n",
      "https://www.facebook.com/mdliton.ali.75054\n",
      "https://www.liteonit.com/\n",
      "https://optoelectronics.liteon.com/en-global/Home/index\n",
      "https://livesportworld.com/liton-das-cricketer-family-biography-age/\n",
      "https://www.prokerala.com/downloads/ringtones/download.php?id=48555\n",
      "https://zeenews.india.com/blogs/liton-das-s-act-protection-or-statement-2244054.html\n",
      "https://www.firstpost.com/firstcricket/player-profile/liton-das-63206\n",
      "https://www.names.org/n/liton/about\n",
      "https://in.linkedin.com/in/dr-liton-479450197\n",
      "https://www.hindustantimes.com/topic/liton-das\n",
      "https://litonpublication.com/\n",
      "https://www.facebook.com/mdliton.ali.75054\n",
      "https://www.youtube.com/watch?v=JCykJ-gT46E\n",
      "https://aajtak.intoday.in/live-score/cricket/liton-das-profile-63206/\n",
      "https://sports.ndtv.com/cricket/players/63643-litton-kumar-das-playerprofile/stats\n",
      "https://en.m.wikipedia.org/wiki/Liton_Das\n",
      "https://www.youtube.com/watch?v=JCykJ-gT46E\n",
      "https://www.liton.biz/\n",
      "https://www.youtube.com/watch?v=TVDL_nt3AEY\n",
      "https://stackoverflow.com/users/189636/liton\n",
      "https://bd.linkedin.com/in/shadat-hossain-liton-46137198\n",
      "https://en.m.wikipedia.org/wiki/Robert_Bulwer-Lytton,_1st_Earl_of_Lytton\n",
      "https://us.liteon.com/\n",
      "https://www.indiatvnews.com/profile/liton-das\n",
      "https://nameberry.com/babyname/Liton\n",
      "https://biographybd.com/liton-das/\n",
      "https://sg.linkedin.com/in/molla-liton-4b3a5058\n",
      "https://bn-in.facebook.com/people/Liton-Khan/60000010101531\n",
      "https://www.amazon.com/LITON/s?k=LITON\n",
      "https://stackoverflow.com/users/189636/liton\n",
      "https://stackoverflow.com/users/1300194/awlad-liton\n",
      "https://litonpublication.com/\n",
      "https://en.m.wikipedia.org/wiki/Robert_Bulwer-Lytton,_1st_Earl_of_Lytton\n",
      "https://www.indiatvnews.com/profile/liton-das\n",
      "https://www.xvideos.com/?k=liton\n",
      "https://www.hindustantimes.com/cricket/india-vs-bangladesh-liton-das-survives-stumping-despite-falling-short-of-crease-watch/story-aetvzlNLgy788VPQdts0iN.html\n",
      "https://www.dhakatribune.com/bangladesh/court/2019/11/28/7-to-die-for-mp-liton-s-murder/\n",
      "https://moduled.io/rep-locator\n",
      "https://www.thedailystar.net/country/gaibandha-mp-liton-murder-case-verdict-7-to-die-1832986\n",
      "https://www.electricsuppliesonline.com/liton-recessed-lighting.html\n",
      "https://stackoverflow.com/users/1300194/awlad-liton\n",
      "https://www.litonagency.com/\n",
      "https://www.liteonodd.com/en/\n",
      "https://en.wiktionary.org/wiki/liton\n",
      "https://www.researchgate.net/profile/Paloma_Liton\n",
      "https://www.electricsuppliesonline.com/liton-lt825n.html\n",
      "https://ae.linkedin.com/in/mohammed-liton-shah-61138a108\n",
      "https://milaap.org/fundraisers/support-liton-dey\n",
      "https://www.netindian.in/news/sports/dn-test-liton-taken-ct-scan-after-concussion-scare\n",
      "https://www.houseblinging.com/d-year/liton-lighting-track-lighting.aspx\n",
      "https://dhakamobile.com/showthread.php?t=104915\n",
      "https://uk.linkedin.com/in/habibul-liton-4a5924102\n",
      "https://www.attheraces.com/form/horse/Gascogne-De-Liton/FR/3162080\n",
      "https://sportstar.thehindu.com/cricket/india-vs-bangladesh-t20is-new-delhi-air-pollution-masks-liton-das/article29844257.ece\n",
      "https://www.indiamart.com/proddetail/400w-liton-hpsv-mh-ballast-20625169988.html\n",
      "https://sports.ndtv.com/india-vs-bangladesh-2019-20/bangladesh-prime-minister-sheikh-hasina-enquires-about-liton-das-nayeem-hasans-condition-after-head-2137160\n",
      "https://www.whoisly.com/site/liton.com\n",
      "https://www.dhakatribune.com/sport/cricket/2019/12/23/russell-liton-star-as-royals-coast-to-victory\n",
      "https://twitter.com/nzzamanliton\n",
      "https://www.litonecotour.com/\n",
      "https://www.blogger.com/profile/18162358699549740717\n",
      "https://ae.linkedin.com/in/mohammed-liton-shah-61138a108\n",
      "https://www.liteon-semi.com/\n",
      "https://www.freepressjournal.in/sports/cricket/explained-why-rishabh-pants-stumping-of-liton-das-was-called-not-out\n",
      "https://indianexpress.com/article/sports/cricket/india-vs-bangladesh-rohit-sharma-new-delhi-air-no-problem-liton-das-mask-6096559/\n",
      "https://timesofindia.indiatimes.com/sports/cricket/bangladesh-in-india/india-vs-bangladesh-liton-das-concussed-mehidy-hasan-comes-in-as-substitute/articleshow/72184823.cms\n",
      "https://www.wisden.com/players/liton-das\n",
      "https://m.facebook.com/AHMKhairuzzamanLitonofficial/\n",
      "https://www.icc-cricket.com/news/1248858\n",
      "https://www.indiatoday.in/sports/cricket/story/icc-liton-das-dismissal-bangladesh-fans-foul-cry-asia-cup-2018-india-vs-bangladesh-1352272-2018-09-29\n",
      "https://web.facebook.com/litondebjoy?fref=nf\n",
      "https://sa.linkedin.com/in/liton-mollah-52901691\n",
      "https://www.liteon-semi.com/\n",
      "https://timesofindia.indiatimes.com/sports/cricket/bangladesh-in-india/india-vs-bangladesh-liton-das-concussed-mehidy-hasan-comes-in-as-substitute/articleshow/72184823.cms\n",
      "https://www.wisden.com/players/liton-das\n",
      "https://www.indiamart.com/proddetail/250w-liton-hpsv-mh-ballast-20625118773.html\n",
      "https://www.icc-cricket.com/news/1248858\n",
      "https://m.facebook.com/Liton-Nandi-1272609396197523/\n",
      "https://www.liton-online.com/\n",
      "https://www.archlighting.com/projects/liton_o\n",
      "https://www.instagram.com/litton_kumer_das/\n",
      "https://mol.hu/images/content/LUB_repo/TDS_MOL%20Liton%2000_GB.pdf\n",
      "https://issuu.com/efgraphics/docs/liton_led_downlight_portfolio\n",
      "https://www.liton-online.com/\n",
      "https://en-gb.facebook.com/public/Liton-Miah\n",
      "https://www.forexfactory.com/liton-\n",
      "https://en-gb.facebook.com/public/Liton-Baroi\n",
      "https://research.monash.edu/en/persons/liton-kamruzzaman\n",
      "https://www.flickr.com/photos/angelo_liton/\n",
      "https://sa.linkedin.com/in/mohammed-liton-787453185\n",
      "https://www.amazon.com/Liton-Recessed-Airtight-Standard-Housing/dp/B00IB2UJTG\n",
      "https://liton.eemagroup.com/media/files/brochures/LumenBlast_catalog.pdf\n"
     ]
    }
   ],
   "source": [
    "count=0\n",
    "for i in range(0,len(url)):\n",
    "    uclient=ureq(url[i])\n",
    "    page_read=uclient.read()\n",
    "    uclient.close()\n",
    "    page_soup=soup(page_read,\"html.parser\")\n",
    "    for link in page_soup.findAll('a',{\"class\":\"ac-algo fz-l ac-21th lh-24\"},href=True):\n",
    "        count+=1\n",
    "        if count<100:\n",
    "            print(link['href'])\n",
    "    \n"
   ]
  },
  {
   "cell_type": "code",
   "execution_count": null,
   "metadata": {},
   "outputs": [],
   "source": [
    "\n",
    "\n"
   ]
  },
  {
   "cell_type": "code",
   "execution_count": null,
   "metadata": {},
   "outputs": [],
   "source": [
    "\n"
   ]
  },
  {
   "cell_type": "code",
   "execution_count": null,
   "metadata": {},
   "outputs": [],
   "source": []
  },
  {
   "cell_type": "code",
   "execution_count": null,
   "metadata": {},
   "outputs": [],
   "source": []
  },
  {
   "cell_type": "code",
   "execution_count": null,
   "metadata": {},
   "outputs": [],
   "source": []
  },
  {
   "cell_type": "code",
   "execution_count": null,
   "metadata": {},
   "outputs": [],
   "source": []
  },
  {
   "cell_type": "code",
   "execution_count": null,
   "metadata": {},
   "outputs": [],
   "source": []
  },
  {
   "cell_type": "raw",
   "metadata": {},
   "source": [
    "\n"
   ]
  },
  {
   "cell_type": "code",
   "execution_count": null,
   "metadata": {},
   "outputs": [],
   "source": []
  },
  {
   "cell_type": "code",
   "execution_count": null,
   "metadata": {},
   "outputs": [],
   "source": []
  },
  {
   "cell_type": "code",
   "execution_count": null,
   "metadata": {},
   "outputs": [],
   "source": []
  },
  {
   "cell_type": "code",
   "execution_count": null,
   "metadata": {},
   "outputs": [],
   "source": []
  },
  {
   "cell_type": "code",
   "execution_count": null,
   "metadata": {},
   "outputs": [],
   "source": []
  },
  {
   "cell_type": "code",
   "execution_count": null,
   "metadata": {},
   "outputs": [],
   "source": []
  },
  {
   "cell_type": "code",
   "execution_count": null,
   "metadata": {},
   "outputs": [],
   "source": []
  }
 ],
 "metadata": {
  "kernelspec": {
   "display_name": "Python 3",
   "language": "python",
   "name": "python3"
  },
  "language_info": {
   "codemirror_mode": {
    "name": "ipython",
    "version": 3
   },
   "file_extension": ".py",
   "mimetype": "text/x-python",
   "name": "python",
   "nbconvert_exporter": "python",
   "pygments_lexer": "ipython3",
   "version": "3.7.4"
  }
 },
 "nbformat": 4,
 "nbformat_minor": 2
}
