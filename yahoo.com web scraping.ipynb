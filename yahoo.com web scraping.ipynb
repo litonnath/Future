{
 "cells": [
  {
   "cell_type": "code",
   "execution_count": 2,
   "metadata": {},
   "outputs": [],
   "source": [
    "from bs4 import BeautifulSoup as soup"
   ]
  },
  {
   "cell_type": "code",
   "execution_count": 3,
   "metadata": {},
   "outputs": [],
   "source": [
    "from urllib.request import urlopen as ureq"
   ]
  },
  {
   "cell_type": "code",
   "execution_count": 26,
   "metadata": {},
   "outputs": [],
   "source": [
    "url=[\"https://in.search.yahoo.com/search;_ylt=AwrPg3WbkCBeEh8A4B.7HAx.;_ylu=X3oDMTEzZzNnZms4BGNvbG8Dc2czBHBvcwMxBHZ0aWQDBHNlYwNwYWdpbmF0aW9u?p=artificial+intelligence&ei=UTF-8&fr=yfp-t&fp=1&b=11&pz=10&pstart=13\"]"
   ]
  },
  {
   "cell_type": "code",
   "execution_count": 27,
   "metadata": {},
   "outputs": [],
   "source": [
    "url1=\"https://in.search.yahoo.com/search;_ylt=AwrPg3WbkCBeEh8A4B.7HAx.;_ylu=X3oDMTEzZzNnZms4BGNvbG8Dc2czBHBvcwMxBHZ0aWQDBHNlYwNwYWdpbmF0aW9u?p=artificial+intelligence&ei=UTF-8&fr=yfp-t&fp=1&b=11&pz=10&pstart=13\""
   ]
  },
  {
   "cell_type": "code",
   "execution_count": null,
   "metadata": {},
   "outputs": [],
   "source": [
    "#here is b=11 value which is used to move page\n",
    "    "
   ]
  },
  {
   "cell_type": "code",
   "execution_count": 28,
   "metadata": {},
   "outputs": [],
   "source": [
    "import re"
   ]
  },
  {
   "cell_type": "code",
   "execution_count": null,
   "metadata": {},
   "outputs": [],
   "source": []
  },
  {
   "cell_type": "code",
   "execution_count": 29,
   "metadata": {},
   "outputs": [],
   "source": [
    "for k in range(10,110,10):\n",
    "    url.append(url1.replace(\"b=11\",\"b=\"+str(int(11+k))))"
   ]
  },
  {
   "cell_type": "code",
   "execution_count": 30,
   "metadata": {},
   "outputs": [
    {
     "data": {
      "text/plain": [
       "['https://in.search.yahoo.com/search;_ylt=AwrPg3WbkCBeEh8A4B.7HAx.;_ylu=X3oDMTEzZzNnZms4BGNvbG8Dc2czBHBvcwMxBHZ0aWQDBHNlYwNwYWdpbmF0aW9u?p=artificial+intelligence&ei=UTF-8&fr=yfp-t&fp=1&b=11&pz=10&pstart=13',\n",
       " 'https://in.search.yahoo.com/search;_ylt=AwrPg3WbkCBeEh8A4B.7HAx.;_ylu=X3oDMTEzZzNnZms4BGNvbG8Dc2czBHBvcwMxBHZ0aWQDBHNlYwNwYWdpbmF0aW9u?p=artificial+intelligence&ei=UTF-8&fr=yfp-t&fp=1&b=21&pz=10&pstart=13',\n",
       " 'https://in.search.yahoo.com/search;_ylt=AwrPg3WbkCBeEh8A4B.7HAx.;_ylu=X3oDMTEzZzNnZms4BGNvbG8Dc2czBHBvcwMxBHZ0aWQDBHNlYwNwYWdpbmF0aW9u?p=artificial+intelligence&ei=UTF-8&fr=yfp-t&fp=1&b=31&pz=10&pstart=13',\n",
       " 'https://in.search.yahoo.com/search;_ylt=AwrPg3WbkCBeEh8A4B.7HAx.;_ylu=X3oDMTEzZzNnZms4BGNvbG8Dc2czBHBvcwMxBHZ0aWQDBHNlYwNwYWdpbmF0aW9u?p=artificial+intelligence&ei=UTF-8&fr=yfp-t&fp=1&b=41&pz=10&pstart=13',\n",
       " 'https://in.search.yahoo.com/search;_ylt=AwrPg3WbkCBeEh8A4B.7HAx.;_ylu=X3oDMTEzZzNnZms4BGNvbG8Dc2czBHBvcwMxBHZ0aWQDBHNlYwNwYWdpbmF0aW9u?p=artificial+intelligence&ei=UTF-8&fr=yfp-t&fp=1&b=51&pz=10&pstart=13',\n",
       " 'https://in.search.yahoo.com/search;_ylt=AwrPg3WbkCBeEh8A4B.7HAx.;_ylu=X3oDMTEzZzNnZms4BGNvbG8Dc2czBHBvcwMxBHZ0aWQDBHNlYwNwYWdpbmF0aW9u?p=artificial+intelligence&ei=UTF-8&fr=yfp-t&fp=1&b=61&pz=10&pstart=13',\n",
       " 'https://in.search.yahoo.com/search;_ylt=AwrPg3WbkCBeEh8A4B.7HAx.;_ylu=X3oDMTEzZzNnZms4BGNvbG8Dc2czBHBvcwMxBHZ0aWQDBHNlYwNwYWdpbmF0aW9u?p=artificial+intelligence&ei=UTF-8&fr=yfp-t&fp=1&b=71&pz=10&pstart=13',\n",
       " 'https://in.search.yahoo.com/search;_ylt=AwrPg3WbkCBeEh8A4B.7HAx.;_ylu=X3oDMTEzZzNnZms4BGNvbG8Dc2czBHBvcwMxBHZ0aWQDBHNlYwNwYWdpbmF0aW9u?p=artificial+intelligence&ei=UTF-8&fr=yfp-t&fp=1&b=81&pz=10&pstart=13',\n",
       " 'https://in.search.yahoo.com/search;_ylt=AwrPg3WbkCBeEh8A4B.7HAx.;_ylu=X3oDMTEzZzNnZms4BGNvbG8Dc2czBHBvcwMxBHZ0aWQDBHNlYwNwYWdpbmF0aW9u?p=artificial+intelligence&ei=UTF-8&fr=yfp-t&fp=1&b=91&pz=10&pstart=13',\n",
       " 'https://in.search.yahoo.com/search;_ylt=AwrPg3WbkCBeEh8A4B.7HAx.;_ylu=X3oDMTEzZzNnZms4BGNvbG8Dc2czBHBvcwMxBHZ0aWQDBHNlYwNwYWdpbmF0aW9u?p=artificial+intelligence&ei=UTF-8&fr=yfp-t&fp=1&b=101&pz=10&pstart=13',\n",
       " 'https://in.search.yahoo.com/search;_ylt=AwrPg3WbkCBeEh8A4B.7HAx.;_ylu=X3oDMTEzZzNnZms4BGNvbG8Dc2czBHBvcwMxBHZ0aWQDBHNlYwNwYWdpbmF0aW9u?p=artificial+intelligence&ei=UTF-8&fr=yfp-t&fp=1&b=111&pz=10&pstart=13']"
      ]
     },
     "execution_count": 30,
     "metadata": {},
     "output_type": "execute_result"
    }
   ],
   "source": [
    "url"
   ]
  },
  {
   "cell_type": "code",
   "execution_count": 7,
   "metadata": {},
   "outputs": [],
   "source": [
    "import re"
   ]
  },
  {
   "cell_type": "code",
   "execution_count": null,
   "metadata": {},
   "outputs": [],
   "source": []
  },
  {
   "cell_type": "code",
   "execution_count": null,
   "metadata": {},
   "outputs": [],
   "source": []
  },
  {
   "cell_type": "code",
   "execution_count": 8,
   "metadata": {},
   "outputs": [],
   "source": [
    "#page_read=uclient.read()"
   ]
  },
  {
   "cell_type": "code",
   "execution_count": null,
   "metadata": {},
   "outputs": [],
   "source": []
  },
  {
   "cell_type": "code",
   "execution_count": 9,
   "metadata": {},
   "outputs": [],
   "source": [
    "#client.close()"
   ]
  },
  {
   "cell_type": "code",
   "execution_count": 10,
   "metadata": {},
   "outputs": [],
   "source": [
    "#page_soup=soup(page_read,\"html.parser\")"
   ]
  },
  {
   "cell_type": "code",
   "execution_count": 11,
   "metadata": {},
   "outputs": [],
   "source": [
    "#for link in page_soup.findAll(\"a\"):\n",
    "    #print(link.text)\n",
    "    "
   ]
  },
  {
   "cell_type": "code",
   "execution_count": 32,
   "metadata": {},
   "outputs": [
    {
     "name": "stdout",
     "output_type": "stream",
     "text": [
      "www.tutorialspoint.com/artificial_intelligence/...\n",
      "www.naukri.com/artificial-intelligence-jobs\n",
      "www.edx.org/learn/artificial-intelligence\n",
      "www.webopedia.com/TERM/A/artificial_intelligence.htm\n",
      "www.esds.co.in/artificial-intelligence\n",
      "www.imdb.com/title/tt0212720\n",
      "www.sciencedaily.com/.../artificial_intelligence\n",
      "www.slideshare.net/lpaviglianiti/artificial...\n",
      "www.journals.elsevier.com/artificial...\n",
      "en.wikipedia.org/wiki/A.I._Artificial_Intelligence\n",
      "www.javatpoint.com/artificial-intelligence-tutorial\n",
      "www.coursera.org/courses?query=artificial...\n",
      "www.educba.com/artificial-intelligence-vs-human...\n",
      "www.researchgate.net/publication/323498156...\n",
      "www.softwaretestinghelp.com/artificial...\n",
      "www.edx.org/.../columbiax-artificial-intelligence\n",
      "builtin.com/artificial-intelligence/artificial...\n",
      "www.geeksforgeeks.org/artificial-intelligence-an...\n",
      "en.wikipedia.org/wiki/AI_Nanny\n",
      "beebom.com/examples-of-artificial-intelligence\n",
      "www.happiestminds.com/.../artificial-intelligence\n",
      "lecturenotes.in/.../128/artificial-intelligence-ai\n",
      "www.edureka.co/blog/artificial-intelligence...\n",
      "marketbusinessnews.com/.../artificial-intelligence\n",
      "searchenterpriseai.techtarget.com/definition/AI...\n",
      "www.guru99.com/artificial-intelligence-tutorial.html\n",
      "www.oracle.com/artificial-intelligence\n",
      "www.slidesfinder.com/.../artificial-intelligence.../476.aspx\n",
      "www.geeksforgeeks.org/difference-between-machine...\n",
      "ocw.mit.edu/courses/electrical-engineering-and...\n",
      "lecturenotes.in/.../128/artificial-intelligence-ai\n",
      "intellipaat.com/blog/what-is-artificial-intelligence\n",
      "www.thefreedictionary.com/artificial+intelligence\n",
      "simple.wikipedia.org/wiki/Artificial_intelligence\n",
      "dzone.com/.../future-of-artificial-intelligence-1\n",
      "www.123seminarsonly.com/.../013/Artificial-Intelligence.html\n",
      "www.sciencedirect.com/.../artificial-intelligence\n",
      "www.accenture.com/.../artificial-intelligence-index\n",
      "www.sciencedaily.com/.../artificial_intelligence.htm\n",
      "analyticsindiamag.com/popular-presentations-on...\n",
      "www.accenture.com/.../artificial-intelligence-index\n",
      "www.slideshare.net/AnushkaGhosh5/power-point...\n",
      "www.theguardian.com/.../artificialintelligenceai\n",
      "www.ted.com/playlists/310/talks_on_artificial...\n",
      "news.mit.edu/topic/artificial-intelligence2\n",
      "www.nist.gov/topics/artificial-intelligence\n",
      "www.udacity.com/course/intro-to-artificial...\n",
      "content.wisestep.com/advantages-disadvantages...\n",
      "en.wikipedia.org/wiki/Automated_planning_and...\n",
      "www.forbes.com/sites/bernardmarr/2016/12/06/what...\n",
      "www.123seminarsonly.com/CS/001/Artificial-Intelligence.html\n",
      "beebom.com/best-artificial-intelligence-courses...\n",
      "medium.com/topic/artificial-intelligence\n",
      "www.edureka.co/blog/become-artificial...\n",
      "blog.technavio.com/blog/top-10-artificial...\n",
      "www.simplilearn.com/what-is-artificial...\n",
      "www.smartzworld.com/notes/artificial...\n",
      "www.educba.com/careers-in-artificial-intelligence\n",
      "sourceforge.net/directory/science-engineering/ai/...\n",
      "career.guru99.com/top-50-interview-questions-on...\n",
      "beebom.com/best-artificial-intelligence-courses...\n",
      "www.shiprocket.in/blog/artificial-intelligence...\n",
      "www.cognizant.com/ai\n",
      "www.hcltech.com/.../what-is-artificial-intelligence\n",
      "blog.technavio.com/blog/top-10-artificial...\n",
      "aws.amazon.com/machine-learning/what-is-ai\n",
      "www.zdnet.com/article/what-is-ai-everything-you...\n",
      "career.guru99.com/top-50-interview-questions-on...\n",
      "en.wikipedia.org/wiki/Artificial_Intelligence...\n",
      "www.brainasoft.com/braina\n",
      "www.techrepublic.com/article/artificial...\n",
      "www.technologyreview.com/artificial-intelligence\n",
      "www.ft.com/artificial-intelligence\n",
      "blog.adext.com/applications-of-artificial...\n",
      "economictimes.indiatimes.com/topic/Artificial...\n",
      "artificialintelligence-news.com\n",
      "www.masterstudies.com/MSc/Artificial-Intelligence\n",
      "www.e-booksdirectory.com/listing.php?category=28\n",
      "www.iqvis.com/blog/9-powerful-examples-of...\n",
      "www.alliedmarketresearch.com/artificial...\n",
      "artificial-intelligence.financesonline.com\n",
      "www.manipalprolearn.com/data-science/post...\n",
      "intellipaat.com/blog/tutorial/arti\n",
      "bookboon.com/en/artificial-intelligence-ebooks\n",
      "www-formal.stanford.edu/jmc/whatisai\n",
      "aima.cs.berkeley.edu\n",
      "www.forbes.com/sites/vishalmarria/2019/01/11/the...\n",
      "www.livemint.com/AI/v0Nd6Xkv0nINDG4wQ2JOvK/...\n",
      "www.pwc.in/assets/pdfs/publications/2017/...\n",
      "workology.com/artificial-intelligence-recruiting...\n",
      "www.springboard.com/blog/5-careers-in-artificial...\n",
      "www.electronicsteacher.com/.../artificial-intelligence.php\n",
      "www.microsoft.com/.../artificial-intelligence\n",
      "www.quora.com/What-is-artificial-intelligence-15\n",
      "internetofthingsagenda.techtarget.com/blog/IoT...\n",
      "en.wikipedia.org/wiki/Industrial_AI\n",
      "www.greatvaluecolleges.net/artificial...\n",
      "en.wikipedia.org/wiki/Alchemy_and_Artificial...\n",
      "workology.com/artificial-intelligence-recruiting...\n"
     ]
    }
   ],
   "source": [
    "count=0\n",
    "for i in range(0,len(url)):\n",
    "    uclient=ureq(url[i])\n",
    "    page_read=uclient.read()\n",
    "    uclient.close()\n",
    "    page_soup=soup(page_read,\"html.parser\")\n",
    "    for link in page_soup.findAll(\"span\",{\"class\":\"fz-ms fw-m fc-12th wr-bw lh-17\"}):\n",
    "        count+=1\n",
    "        if count<100:\n",
    "            print(link.text)\n",
    "    \n"
   ]
  },
  {
   "cell_type": "code",
   "execution_count": null,
   "metadata": {},
   "outputs": [],
   "source": [
    "\n",
    "\n"
   ]
  },
  {
   "cell_type": "code",
   "execution_count": null,
   "metadata": {},
   "outputs": [],
   "source": [
    "\n"
   ]
  },
  {
   "cell_type": "code",
   "execution_count": null,
   "metadata": {},
   "outputs": [],
   "source": []
  },
  {
   "cell_type": "code",
   "execution_count": null,
   "metadata": {},
   "outputs": [],
   "source": []
  },
  {
   "cell_type": "code",
   "execution_count": null,
   "metadata": {},
   "outputs": [],
   "source": []
  },
  {
   "cell_type": "code",
   "execution_count": null,
   "metadata": {},
   "outputs": [],
   "source": []
  },
  {
   "cell_type": "code",
   "execution_count": null,
   "metadata": {},
   "outputs": [],
   "source": []
  },
  {
   "cell_type": "raw",
   "metadata": {},
   "source": [
    "\n"
   ]
  },
  {
   "cell_type": "code",
   "execution_count": null,
   "metadata": {},
   "outputs": [],
   "source": []
  },
  {
   "cell_type": "code",
   "execution_count": null,
   "metadata": {},
   "outputs": [],
   "source": []
  },
  {
   "cell_type": "code",
   "execution_count": null,
   "metadata": {},
   "outputs": [],
   "source": []
  },
  {
   "cell_type": "code",
   "execution_count": null,
   "metadata": {},
   "outputs": [],
   "source": []
  },
  {
   "cell_type": "code",
   "execution_count": null,
   "metadata": {},
   "outputs": [],
   "source": []
  },
  {
   "cell_type": "code",
   "execution_count": null,
   "metadata": {},
   "outputs": [],
   "source": []
  },
  {
   "cell_type": "code",
   "execution_count": null,
   "metadata": {},
   "outputs": [],
   "source": []
  }
 ],
 "metadata": {
  "kernelspec": {
   "display_name": "Python 3",
   "language": "python",
   "name": "python3"
  },
  "language_info": {
   "codemirror_mode": {
    "name": "ipython",
    "version": 3
   },
   "file_extension": ".py",
   "mimetype": "text/x-python",
   "name": "python",
   "nbconvert_exporter": "python",
   "pygments_lexer": "ipython3",
   "version": "3.7.4"
  }
 },
 "nbformat": 4,
 "nbformat_minor": 2
}
